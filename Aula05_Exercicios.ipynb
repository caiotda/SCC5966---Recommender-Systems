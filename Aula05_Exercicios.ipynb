{
 "cells": [
  {
   "cell_type": "markdown",
   "id": "bb8764ef",
   "metadata": {},
   "source": [
    "# Aula 05 - Avaliação de Sistemas de Recomendação - Exercícios"
   ]
  },
  {
   "cell_type": "code",
   "execution_count": 1,
   "id": "397a5f1d",
   "metadata": {},
   "outputs": [],
   "source": [
    "import pandas as pd\n",
    "import numpy as np"
   ]
  },
  {
   "cell_type": "markdown",
   "id": "29ac21fe",
   "metadata": {},
   "source": [
    "### Importar base de dados"
   ]
  },
  {
   "cell_type": "code",
   "execution_count": 2,
   "id": "59c840c6",
   "metadata": {},
   "outputs": [
    {
     "name": "stdout",
     "output_type": "stream",
     "text": [
      "100% [....................................................] 65019041 / 65019041\n",
      "Saved under ml-20m-compact.tar.gz\n",
      "dataset/\n",
      "dataset/tags_sample.csv\n",
      "dataset/._.DS_Store\n",
      "dataset/.DS_Store\n",
      "dataset/movies_sample.csv\n",
      "dataset/._genome-tags.csv\n",
      "dataset/genome-tags.csv\n",
      "dataset/._ml-youtube.csv\n",
      "dataset/ml-youtube.csv\n",
      "dataset/._genome-scores.csv\n",
      "dataset/genome-scores.csv\n",
      "dataset/ratings_sample.csv\n"
     ]
    }
   ],
   "source": [
    "import wget\n",
    "!python3 -m wget https://github.com/mmanzato/MBABigData/raw/master/ml-20m-compact.tar.gz\n",
    "!tar -xvzf ml-20m-compact.tar.gz"
   ]
  },
  {
   "cell_type": "code",
   "execution_count": 3,
   "id": "629b525d",
   "metadata": {},
   "outputs": [
    {
     "data": {
      "text/html": [
       "<div>\n",
       "<style scoped>\n",
       "    .dataframe tbody tr th:only-of-type {\n",
       "        vertical-align: middle;\n",
       "    }\n",
       "\n",
       "    .dataframe tbody tr th {\n",
       "        vertical-align: top;\n",
       "    }\n",
       "\n",
       "    .dataframe thead th {\n",
       "        text-align: right;\n",
       "    }\n",
       "</style>\n",
       "<table border=\"1\" class=\"dataframe\">\n",
       "  <thead>\n",
       "    <tr style=\"text-align: right;\">\n",
       "      <th></th>\n",
       "      <th>userId</th>\n",
       "      <th>movieId</th>\n",
       "      <th>rating</th>\n",
       "      <th>title</th>\n",
       "    </tr>\n",
       "  </thead>\n",
       "  <tbody>\n",
       "    <tr>\n",
       "      <th>0</th>\n",
       "      <td>11</td>\n",
       "      <td>7481</td>\n",
       "      <td>5.0</td>\n",
       "      <td>Enemy Mine (1985)</td>\n",
       "    </tr>\n",
       "    <tr>\n",
       "      <th>1</th>\n",
       "      <td>11</td>\n",
       "      <td>1046</td>\n",
       "      <td>4.5</td>\n",
       "      <td>Beautiful Thing (1996)</td>\n",
       "    </tr>\n",
       "    <tr>\n",
       "      <th>2</th>\n",
       "      <td>11</td>\n",
       "      <td>616</td>\n",
       "      <td>4.0</td>\n",
       "      <td>Aristocats, The (1970)</td>\n",
       "    </tr>\n",
       "    <tr>\n",
       "      <th>3</th>\n",
       "      <td>11</td>\n",
       "      <td>3535</td>\n",
       "      <td>2.0</td>\n",
       "      <td>American Psycho (2000)</td>\n",
       "    </tr>\n",
       "    <tr>\n",
       "      <th>4</th>\n",
       "      <td>11</td>\n",
       "      <td>5669</td>\n",
       "      <td>5.0</td>\n",
       "      <td>Bowling for Columbine (2002)</td>\n",
       "    </tr>\n",
       "    <tr>\n",
       "      <th>...</th>\n",
       "      <td>...</td>\n",
       "      <td>...</td>\n",
       "      <td>...</td>\n",
       "      <td>...</td>\n",
       "    </tr>\n",
       "    <tr>\n",
       "      <th>190616</th>\n",
       "      <td>138493</td>\n",
       "      <td>288</td>\n",
       "      <td>5.0</td>\n",
       "      <td>Natural Born Killers (1994)</td>\n",
       "    </tr>\n",
       "    <tr>\n",
       "      <th>190617</th>\n",
       "      <td>138493</td>\n",
       "      <td>1748</td>\n",
       "      <td>5.0</td>\n",
       "      <td>Dark City (1998)</td>\n",
       "    </tr>\n",
       "    <tr>\n",
       "      <th>190618</th>\n",
       "      <td>138493</td>\n",
       "      <td>616</td>\n",
       "      <td>4.0</td>\n",
       "      <td>Aristocats, The (1970)</td>\n",
       "    </tr>\n",
       "    <tr>\n",
       "      <th>190619</th>\n",
       "      <td>138493</td>\n",
       "      <td>1597</td>\n",
       "      <td>4.5</td>\n",
       "      <td>Conspiracy Theory (1997)</td>\n",
       "    </tr>\n",
       "    <tr>\n",
       "      <th>190620</th>\n",
       "      <td>138493</td>\n",
       "      <td>7371</td>\n",
       "      <td>5.0</td>\n",
       "      <td>Dogville (2003)</td>\n",
       "    </tr>\n",
       "  </tbody>\n",
       "</table>\n",
       "<p>190621 rows × 4 columns</p>\n",
       "</div>"
      ],
      "text/plain": [
       "        userId  movieId  rating                         title\n",
       "0           11     7481     5.0             Enemy Mine (1985)\n",
       "1           11     1046     4.5        Beautiful Thing (1996)\n",
       "2           11      616     4.0        Aristocats, The (1970)\n",
       "3           11     3535     2.0        American Psycho (2000)\n",
       "4           11     5669     5.0  Bowling for Columbine (2002)\n",
       "...        ...      ...     ...                           ...\n",
       "190616  138493      288     5.0   Natural Born Killers (1994)\n",
       "190617  138493     1748     5.0              Dark City (1998)\n",
       "190618  138493      616     4.0        Aristocats, The (1970)\n",
       "190619  138493     1597     4.5      Conspiracy Theory (1997)\n",
       "190620  138493     7371     5.0               Dogville (2003)\n",
       "\n",
       "[190621 rows x 4 columns]"
      ]
     },
     "execution_count": 3,
     "metadata": {},
     "output_type": "execute_result"
    }
   ],
   "source": [
    "movies = pd.read_csv('./dataset/movies_sample.csv')\n",
    "ratings = pd.read_csv('./dataset/ratings_sample.csv')\n",
    "df = ratings[['userId', 'movieId', 'rating']]\n",
    "df = df.merge(movies[['movieId', 'title']])\n",
    "df"
   ]
  },
  {
   "cell_type": "code",
   "execution_count": 4,
   "id": "5cb5c6d2",
   "metadata": {},
   "outputs": [
    {
     "data": {
      "text/html": [
       "<div>\n",
       "<style scoped>\n",
       "    .dataframe tbody tr th:only-of-type {\n",
       "        vertical-align: middle;\n",
       "    }\n",
       "\n",
       "    .dataframe tbody tr th {\n",
       "        vertical-align: top;\n",
       "    }\n",
       "\n",
       "    .dataframe thead th {\n",
       "        text-align: right;\n",
       "    }\n",
       "</style>\n",
       "<table border=\"1\" class=\"dataframe\">\n",
       "  <thead>\n",
       "    <tr style=\"text-align: right;\">\n",
       "      <th></th>\n",
       "      <th>movieId</th>\n",
       "      <th>title</th>\n",
       "      <th>genre</th>\n",
       "    </tr>\n",
       "  </thead>\n",
       "  <tbody>\n",
       "    <tr>\n",
       "      <th>0</th>\n",
       "      <td>30</td>\n",
       "      <td>Shanghai Triad (Yao a yao yao dao waipo qiao) ...</td>\n",
       "      <td>Crime</td>\n",
       "    </tr>\n",
       "    <tr>\n",
       "      <th>0</th>\n",
       "      <td>30</td>\n",
       "      <td>Shanghai Triad (Yao a yao yao dao waipo qiao) ...</td>\n",
       "      <td>Drama</td>\n",
       "    </tr>\n",
       "    <tr>\n",
       "      <th>1</th>\n",
       "      <td>31</td>\n",
       "      <td>Dangerous Minds (1995)</td>\n",
       "      <td>Drama</td>\n",
       "    </tr>\n",
       "    <tr>\n",
       "      <th>2</th>\n",
       "      <td>37</td>\n",
       "      <td>Across the Sea of Time (1995)</td>\n",
       "      <td>Documentary</td>\n",
       "    </tr>\n",
       "    <tr>\n",
       "      <th>2</th>\n",
       "      <td>37</td>\n",
       "      <td>Across the Sea of Time (1995)</td>\n",
       "      <td>IMAX</td>\n",
       "    </tr>\n",
       "  </tbody>\n",
       "</table>\n",
       "</div>"
      ],
      "text/plain": [
       "   movieId                                              title        genre\n",
       "0       30  Shanghai Triad (Yao a yao yao dao waipo qiao) ...        Crime\n",
       "0       30  Shanghai Triad (Yao a yao yao dao waipo qiao) ...        Drama\n",
       "1       31                             Dangerous Minds (1995)        Drama\n",
       "2       37                      Across the Sea of Time (1995)  Documentary\n",
       "2       37                      Across the Sea of Time (1995)         IMAX"
      ]
     },
     "execution_count": 4,
     "metadata": {},
     "output_type": "execute_result"
    }
   ],
   "source": [
    "movies_genres = movies.drop('genres', axis=1).join(movies.genres.str.split('|', expand=True)\n",
    "             .stack().reset_index(drop=True, level=1).rename('genre'))\n",
    "movies_genres.head()"
   ]
  },
  {
   "cell_type": "code",
   "execution_count": 5,
   "id": "d1a785c3",
   "metadata": {},
   "outputs": [
    {
     "data": {
      "text/html": [
       "<div>\n",
       "<style scoped>\n",
       "    .dataframe tbody tr th:only-of-type {\n",
       "        vertical-align: middle;\n",
       "    }\n",
       "\n",
       "    .dataframe tbody tr th {\n",
       "        vertical-align: top;\n",
       "    }\n",
       "\n",
       "    .dataframe thead th {\n",
       "        text-align: right;\n",
       "    }\n",
       "</style>\n",
       "<table border=\"1\" class=\"dataframe\">\n",
       "  <thead>\n",
       "    <tr style=\"text-align: right;\">\n",
       "      <th></th>\n",
       "      <th>userId</th>\n",
       "      <th>movieId</th>\n",
       "      <th>tag</th>\n",
       "      <th>timestamp_y</th>\n",
       "    </tr>\n",
       "  </thead>\n",
       "  <tbody>\n",
       "    <tr>\n",
       "      <th>0</th>\n",
       "      <td>279</td>\n",
       "      <td>916</td>\n",
       "      <td>Gregory Peck</td>\n",
       "      <td>1329962459</td>\n",
       "    </tr>\n",
       "    <tr>\n",
       "      <th>1</th>\n",
       "      <td>279</td>\n",
       "      <td>916</td>\n",
       "      <td>need to own</td>\n",
       "      <td>1329962471</td>\n",
       "    </tr>\n",
       "    <tr>\n",
       "      <th>2</th>\n",
       "      <td>279</td>\n",
       "      <td>916</td>\n",
       "      <td>romantic comedy</td>\n",
       "      <td>1329962476</td>\n",
       "    </tr>\n",
       "    <tr>\n",
       "      <th>3</th>\n",
       "      <td>279</td>\n",
       "      <td>916</td>\n",
       "      <td>Rome</td>\n",
       "      <td>1329962490</td>\n",
       "    </tr>\n",
       "    <tr>\n",
       "      <th>4</th>\n",
       "      <td>279</td>\n",
       "      <td>916</td>\n",
       "      <td>royalty</td>\n",
       "      <td>1329962474</td>\n",
       "    </tr>\n",
       "  </tbody>\n",
       "</table>\n",
       "</div>"
      ],
      "text/plain": [
       "   userId  movieId              tag  timestamp_y\n",
       "0     279      916     Gregory Peck   1329962459\n",
       "1     279      916      need to own   1329962471\n",
       "2     279      916  romantic comedy   1329962476\n",
       "3     279      916             Rome   1329962490\n",
       "4     279      916          royalty   1329962474"
      ]
     },
     "execution_count": 5,
     "metadata": {},
     "output_type": "execute_result"
    }
   ],
   "source": [
    "movies_tags = pd.read_csv('./dataset/tags_sample.csv')\n",
    "movies_tags.head()"
   ]
  },
  {
   "cell_type": "code",
   "execution_count": 6,
   "id": "626bcde9",
   "metadata": {},
   "outputs": [],
   "source": [
    "map_users = {user: idx for idx, user in enumerate(df.userId.unique())}\n",
    "map_items = {item: idx for idx, item in enumerate(df.movieId.unique())}\n",
    "\n",
    "df['userId'] = df['userId'].map(map_users)\n",
    "df['movieId'] = df['movieId'].map(map_items)\n",
    "\n",
    "movies_tags['userId'] = movies_tags['userId'].map(map_users)\n",
    "movies_tags['movieId'] = movies_tags['movieId'].map(map_items)\n",
    "movies_tags.dropna(inplace=True)\n",
    "movies_tags['movieId'] = movies_tags.movieId.astype(int)\n",
    "movies_tags['userId'] = movies_tags.userId.astype(int)\n",
    "\n",
    "movies_genres['movieId'] = movies_genres['movieId'].map(map_items)\n",
    "movies_genres.dropna(inplace=True)\n",
    "movies_genres['movieId'] = movies_genres.movieId.astype(int)\n",
    "\n",
    "map_title = {}\n",
    "for _, row in df.iterrows():\n",
    "    map_title[row.movieId] = row.title\n"
   ]
  },
  {
   "cell_type": "code",
   "execution_count": 7,
   "id": "282a2cfe",
   "metadata": {},
   "outputs": [],
   "source": [
    "movies_genres[['movieId', 'genre']].to_csv('items_genres.dat', index=False, sep='\\t', header=False)\n",
    "movies_tags[['movieId', 'tag']].to_csv('items_tags.dat', index=False, sep='\\t', header=False)"
   ]
  },
  {
   "cell_type": "markdown",
   "id": "3a67cae4",
   "metadata": {},
   "source": [
    "### Divisão da base em treino e teste"
   ]
  },
  {
   "cell_type": "code",
   "execution_count": 8,
   "id": "22f77461",
   "metadata": {},
   "outputs": [],
   "source": [
    "from sklearn.model_selection import train_test_split\n",
    "train, test = train_test_split(df, test_size=.2, random_state=2)\n",
    "train.to_csv('train.dat', index=False, header=False, sep='\\t')\n",
    "test.to_csv('test.dat', index=False, header=False, sep='\\t')"
   ]
  },
  {
   "cell_type": "markdown",
   "id": "580a1494",
   "metadata": {},
   "source": [
    "### Exemplos de utilização do CaseRecommender"
   ]
  },
  {
   "cell_type": "code",
   "execution_count": 10,
   "id": "75bbbd2d",
   "metadata": {},
   "outputs": [
    {
     "name": "stdout",
     "output_type": "stream",
     "text": [
      "[Case Recommender: Rating Prediction > Item Attribute KNN Algorithm]\n",
      "\n",
      "train data:: 11090 users and 405 items (152496 interactions) | sparsity:: 96.60%\n",
      "test data:: 10571 users and 331 items (38125 interactions) | sparsity:: 98.91%\n",
      "\n",
      "training_time:: 4.716349 sec\n",
      ">> metadata:: 417 items and 20 metadata (890 interactions) | sparsity:: 89.33%\n",
      "prediction_time:: 0.531304 sec\n",
      "Eval:: MAE: 0.73347 RMSE: 0.964352 \n",
      "[Case Recommender: Rating Prediction > Item Attribute KNN Algorithm]\n",
      "\n",
      "train data:: 11090 users and 405 items (152496 interactions) | sparsity:: 96.60%\n",
      "test data:: 10571 users and 331 items (38125 interactions) | sparsity:: 98.91%\n",
      "\n",
      "training_time:: 4.732800 sec\n",
      ">> metadata:: 231 items and 1979 metadata (6274 interactions) | sparsity:: 98.63%\n",
      "prediction_time:: 0.722296 sec\n",
      "Eval:: MAE: 0.765116 RMSE: 1.006911 \n"
     ]
    }
   ],
   "source": [
    "from caserec.recommenders.rating_prediction.item_attribute_knn import ItemAttributeKNN\n",
    "\n",
    "ItemAttributeKNN('train.dat', 'test.dat', metadata_file='items_genres.dat', k_neighbors=10, as_similar_first=True).compute()\n",
    "ItemAttributeKNN('train.dat', 'test.dat', metadata_file='items_tags.dat', k_neighbors=10, as_similar_first=True).compute()"
   ]
  },
  {
   "cell_type": "markdown",
   "id": "92d5c385",
   "metadata": {},
   "source": [
    "***Exercício 01:*** Verifique o efeito no RSME ao aumentar o número de vizinhos do algoritmo ItemAttributeKNN com usando gêneros. Explique."
   ]
  },
  {
   "cell_type": "code",
   "execution_count": 11,
   "id": "0baae030",
   "metadata": {},
   "outputs": [
    {
     "name": "stdout",
     "output_type": "stream",
     "text": [
      "[Case Recommender: Rating Prediction > Item Attribute KNN Algorithm]\n",
      "\n",
      "train data:: 11090 users and 405 items (152496 interactions) | sparsity:: 96.60%\n",
      "test data:: 10571 users and 331 items (38125 interactions) | sparsity:: 98.91%\n",
      "\n",
      "training_time:: 4.831352 sec\n",
      ">> metadata:: 417 items and 20 metadata (890 interactions) | sparsity:: 89.33%\n",
      "prediction_time:: 0.563956 sec\n",
      "Eval:: MAE: 0.73347 RMSE: 0.964352 \n"
     ]
    }
   ],
   "source": [
    "ItemAttributeKNN('train.dat', 'test.dat', metadata_file='items_genres.dat', k_neighbors=10, as_similar_first=True).compute()"
   ]
  },
  {
   "cell_type": "code",
   "execution_count": 16,
   "id": "839fa390-31c5-4490-bee7-52e20c069143",
   "metadata": {},
   "outputs": [
    {
     "name": "stdout",
     "output_type": "stream",
     "text": [
      "[Case Recommender: Rating Prediction > Item Attribute KNN Algorithm]\n",
      "\n",
      "train data:: 11090 users and 405 items (152496 interactions) | sparsity:: 96.60%\n",
      "test data:: 10571 users and 331 items (38125 interactions) | sparsity:: 98.91%\n",
      "\n",
      "training_time:: 4.816736 sec\n",
      ">> metadata:: 417 items and 20 metadata (890 interactions) | sparsity:: 89.33%\n",
      "prediction_time:: 2.165663 sec\n",
      "Eval:: MAE: 0.717937 RMSE: 0.945425 \n"
     ]
    }
   ],
   "source": [
    "ItemAttributeKNN('train.dat', 'test.dat', metadata_file='items_genres.dat', k_neighbors=100, as_similar_first=True).compute()"
   ]
  },
  {
   "cell_type": "code",
   "execution_count": 17,
   "id": "c7eaf5a3-d1e0-4cc4-a9ef-c92d2c75ca6f",
   "metadata": {},
   "outputs": [
    {
     "name": "stdout",
     "output_type": "stream",
     "text": [
      "[Case Recommender: Rating Prediction > Item Attribute KNN Algorithm]\n",
      "\n",
      "train data:: 11090 users and 405 items (152496 interactions) | sparsity:: 96.60%\n",
      "test data:: 10571 users and 331 items (38125 interactions) | sparsity:: 98.91%\n",
      "\n",
      "training_time:: 4.599906 sec\n",
      ">> metadata:: 417 items and 20 metadata (890 interactions) | sparsity:: 89.33%\n",
      "prediction_time:: 3.845947 sec\n",
      "Eval:: MAE: 0.695346 RMSE: 0.916212 \n"
     ]
    }
   ],
   "source": [
    "ItemAttributeKNN('train.dat', 'test.dat', metadata_file='items_genres.dat', k_neighbors=1000, as_similar_first=True).compute()"
   ]
  },
  {
   "cell_type": "code",
   "execution_count": 18,
   "id": "91b2a687-d5f1-4ead-881b-89b041ad6bbf",
   "metadata": {},
   "outputs": [
    {
     "name": "stdout",
     "output_type": "stream",
     "text": [
      "[Case Recommender: Rating Prediction > Item Attribute KNN Algorithm]\n",
      "\n",
      "train data:: 11090 users and 405 items (152496 interactions) | sparsity:: 96.60%\n",
      "test data:: 10571 users and 331 items (38125 interactions) | sparsity:: 98.91%\n",
      "\n",
      "training_time:: 4.567529 sec\n",
      ">> metadata:: 417 items and 20 metadata (890 interactions) | sparsity:: 89.33%\n",
      "prediction_time:: 3.760998 sec\n",
      "Eval:: MAE: 0.695346 RMSE: 0.916212 \n"
     ]
    }
   ],
   "source": [
    "ItemAttributeKNN('train.dat', 'test.dat', metadata_file='items_genres.dat', k_neighbors=10571O , as_similar_first=True).compute()"
   ]
  },
  {
   "cell_type": "markdown",
   "id": "9304a09c-6f69-4350-8e80-44e065541254",
   "metadata": {},
   "source": [
    "O RMSE reduz, o que faz sentido para uma recomendação item-based: ao avaliarmos a recomendação de um item i a um usuário u, conforme aumentamos o K, aumentamos os itens que podem ser considerados para fazer o cálculo. Porém, todos os itens considerados (vizinhos) já foram avaliados por u. Então supondo que o usuário é consistente em suas avaliações, considerar mais filmes, ou seja, aumentar o K, pode ser benéfico para reduzir o erro da predição de um usuário, ao custo de um aumento no tempo de predição.\n",
    "\n"
   ]
  },
  {
   "cell_type": "markdown",
   "id": "a0894ca4",
   "metadata": {},
   "source": [
    "***Exercício 02:*** Verifique o efeito na métrica MAP@1 ao aumentar o número de fatores do algoritmo BPRMF. Explique."
   ]
  },
  {
   "cell_type": "markdown",
   "id": "7e336c69-e649-4f7f-b956-a8b7da56735a",
   "metadata": {},
   "source": [
    "**Resposta**: Olhando os resultados, podemos observar uma queda no MAP@1 conforme aumentamos os fatores, mas essa queda se suaviza a partir de um certo ponto e volta a subir, até estagnar.\n",
    "\n",
    "É dificil explicar a influência do número de fatores na qualidade da recomendação porque isso é dependente de quão variável são as notas no conjunto de treino/teste, já que um fator representa uma covariância de notas entre usuários. Aumentar o número de fatores pode ajudar a capturar padrões mais sútis nas notas, mas se as notas tiverem um comportamento muito simples de modelar, um número elevado de fatores pode trazer pouquíssimo retorno em qualidade. Ademais, um número muito elevado de fatores pode gerar matrizes de fatores altamente esparsas, o que contraria a principal vantagem de métodos de fatorização de matrizes, que é a redução de dimensionalidade. No exemplo observado, parece que os ganhos estagnaram a partir de quarenta fatores."
   ]
  },
  {
   "cell_type": "code",
   "execution_count": 19,
   "id": "0bac60ac-1557-457d-8e48-a92974b76110",
   "metadata": {},
   "outputs": [],
   "source": [
    "from caserec.recommenders.item_recommendation.bprmf import BprMF"
   ]
  },
  {
   "cell_type": "code",
   "execution_count": 24,
   "id": "f3d64bda-0b71-4172-9201-b5bc75753e57",
   "metadata": {},
   "outputs": [
    {
     "name": "stdout",
     "output_type": "stream",
     "text": [
      "[Case Recommender: Item Recommendation > BPRMF]\n",
      "\n",
      "train data:: 11090 users and 405 items (152496 interactions) | sparsity:: 96.60%\n",
      "test data:: 10571 users and 331 items (38125 interactions) | sparsity:: 98.91%\n",
      "\n",
      "training_time:: 131.600548 sec\n",
      "prediction_time:: 2.330587 sec\n",
      "\n",
      "\n",
      "Eval:: PREC@1: 0.382651 PREC@3: 0.269133 PREC@5: 0.229326 PREC@10: 0.17479 RECALL@1: 0.123045 RECALL@3: 0.247465 RECALL@5: 0.34519 RECALL@10: 0.5141 MAP@1: 0.382651 MAP@3: 0.46812 MAP@5: 0.475743 MAP@10: 0.451012 NDCG@1: 0.382651 NDCG@3: 0.549101 NDCG@5: 0.57668 NDCG@10: 0.575779 \n"
     ]
    }
   ],
   "source": [
    "BprMF('train.dat', 'test.dat', 'ir_bprmf.dat', factors=1).compute()"
   ]
  },
  {
   "cell_type": "code",
   "execution_count": 20,
   "id": "a08b1b36-628c-476e-8bf2-d0121e8aa18f",
   "metadata": {},
   "outputs": [
    {
     "name": "stdout",
     "output_type": "stream",
     "text": [
      "[Case Recommender: Item Recommendation > BPRMF]\n",
      "\n",
      "train data:: 11090 users and 405 items (152496 interactions) | sparsity:: 96.60%\n",
      "test data:: 10571 users and 331 items (38125 interactions) | sparsity:: 98.91%\n",
      "\n",
      "training_time:: 109.972873 sec\n",
      "prediction_time:: 2.304375 sec\n",
      "\n",
      "\n",
      "Eval:: PREC@1: 0.385016 PREC@3: 0.277268 PREC@5: 0.233034 PREC@10: 0.174695 RECALL@1: 0.125738 RECALL@3: 0.256478 RECALL@5: 0.35331 RECALL@10: 0.514036 MAP@1: 0.385016 MAP@3: 0.475578 MAP@5: 0.482271 MAP@10: 0.458216 NDCG@1: 0.385016 NDCG@3: 0.562114 NDCG@5: 0.585653 NDCG@10: 0.58307 \n"
     ]
    }
   ],
   "source": [
    "BprMF('train.dat', 'test.dat', 'ir_bprmf.dat', factors=3).compute()"
   ]
  },
  {
   "cell_type": "markdown",
   "id": "fb7a1e82-50a4-49f4-8eb3-d24f9d62c977",
   "metadata": {},
   "source": [
    "MAP@1 com factors = 3: 0.38"
   ]
  },
  {
   "cell_type": "code",
   "execution_count": 21,
   "id": "a791a67c-0ee8-4dfd-8920-e01b4a6fac8c",
   "metadata": {
    "scrolled": true
   },
   "outputs": [
    {
     "name": "stdout",
     "output_type": "stream",
     "text": [
      "[Case Recommender: Item Recommendation > BPRMF]\n",
      "\n",
      "train data:: 11090 users and 405 items (152496 interactions) | sparsity:: 96.60%\n",
      "test data:: 10571 users and 331 items (38125 interactions) | sparsity:: 98.91%\n",
      "\n",
      "training_time:: 108.232088 sec\n",
      "prediction_time:: 2.397865 sec\n",
      "\n",
      "\n",
      "Eval:: PREC@1: 0.368272 PREC@3: 0.269448 PREC@5: 0.230007 PREC@10: 0.176937 RECALL@1: 0.11883 RECALL@3: 0.24959 RECALL@5: 0.347935 RECALL@10: 0.521914 MAP@1: 0.368272 MAP@3: 0.461948 MAP@5: 0.471427 MAP@10: 0.446572 NDCG@1: 0.368272 NDCG@3: 0.550435 NDCG@5: 0.577983 NDCG@10: 0.576309 \n"
     ]
    }
   ],
   "source": [
    "BprMF('train.dat', 'test.dat', 'ir_bprmf.dat', factors=6).compute()"
   ]
  },
  {
   "cell_type": "markdown",
   "id": "03156f26-f201-4c94-b2ff-73d1e364c711",
   "metadata": {},
   "source": [
    "MAP@1 com factors = 6: 0.36"
   ]
  },
  {
   "cell_type": "code",
   "execution_count": 22,
   "id": "9d36a099-b7cd-4656-b795-030a713672cc",
   "metadata": {},
   "outputs": [
    {
     "name": "stdout",
     "output_type": "stream",
     "text": [
      "[Case Recommender: Item Recommendation > BPRMF]\n",
      "\n",
      "train data:: 11090 users and 405 items (152496 interactions) | sparsity:: 96.60%\n",
      "test data:: 10571 users and 331 items (38125 interactions) | sparsity:: 98.91%\n",
      "\n",
      "training_time:: 110.029202 sec\n",
      "prediction_time:: 2.440248 sec\n",
      "\n",
      "\n",
      "Eval:: PREC@1: 0.36988 PREC@3: 0.27834 PREC@5: 0.235474 PREC@10: 0.178678 RECALL@1: 0.120998 RECALL@3: 0.259004 RECALL@5: 0.357146 RECALL@10: 0.528201 MAP@1: 0.36988 MAP@3: 0.466977 MAP@5: 0.476679 MAP@10: 0.45351 NDCG@1: 0.36988 NDCG@3: 0.558307 NDCG@5: 0.585103 NDCG@10: 0.584165 \n"
     ]
    }
   ],
   "source": [
    "BprMF('train.dat', 'test.dat', 'ir_bprmf.dat', factors=9).compute()"
   ]
  },
  {
   "cell_type": "markdown",
   "id": "fa85ac66-7733-43af-bbfb-6ebe8a162aab",
   "metadata": {},
   "source": [
    "MAP@1 com factors = 9: 0.36"
   ]
  },
  {
   "cell_type": "code",
   "execution_count": 23,
   "id": "e89e2105-1c36-4e21-a94a-1a6d2bae40dc",
   "metadata": {},
   "outputs": [
    {
     "name": "stdout",
     "output_type": "stream",
     "text": [
      "[Case Recommender: Item Recommendation > BPRMF]\n",
      "\n",
      "train data:: 11090 users and 405 items (152496 interactions) | sparsity:: 96.60%\n",
      "test data:: 10571 users and 331 items (38125 interactions) | sparsity:: 98.91%\n",
      "\n",
      "training_time:: 123.558928 sec\n",
      "prediction_time:: 2.429651 sec\n",
      "\n",
      "\n",
      "Eval:: PREC@1: 0.370164 PREC@3: 0.275408 PREC@5: 0.234037 PREC@10: 0.177845 RECALL@1: 0.121659 RECALL@3: 0.255428 RECALL@5: 0.354117 RECALL@10: 0.52563 MAP@1: 0.370164 MAP@3: 0.468278 MAP@5: 0.476966 MAP@10: 0.453784 NDCG@1: 0.370164 NDCG@3: 0.5613 NDCG@5: 0.586181 NDCG@10: 0.583835 \n"
     ]
    }
   ],
   "source": [
    "BprMF('train.dat', 'test.dat', 'ir_bprmf.dat', factors=12).compute()"
   ]
  },
  {
   "cell_type": "markdown",
   "id": "14b9f064-34a5-4ec0-840c-4855813f20f7",
   "metadata": {},
   "source": [
    "MAP@1 com factors = 12; 0.37"
   ]
  },
  {
   "cell_type": "code",
   "execution_count": 25,
   "id": "ca6b79aa-0c4c-4d81-a52c-950053620994",
   "metadata": {},
   "outputs": [
    {
     "name": "stdout",
     "output_type": "stream",
     "text": [
      "[Case Recommender: Item Recommendation > BPRMF]\n",
      "\n",
      "train data:: 11090 users and 405 items (152496 interactions) | sparsity:: 96.60%\n",
      "test data:: 10571 users and 331 items (38125 interactions) | sparsity:: 98.91%\n",
      "\n",
      "training_time:: 112.878119 sec\n",
      "prediction_time:: 2.342254 sec\n",
      "\n",
      "\n",
      "Eval:: PREC@1: 0.41226 PREC@3: 0.300287 PREC@5: 0.251783 PREC@10: 0.184949 RECALL@1: 0.133796 RECALL@3: 0.27982 RECALL@5: 0.382319 RECALL@10: 0.544795 MAP@1: 0.41226 MAP@3: 0.505518 MAP@5: 0.510662 MAP@10: 0.482288 NDCG@1: 0.41226 NDCG@3: 0.594712 NDCG@5: 0.616462 NDCG@10: 0.607938 \n"
     ]
    }
   ],
   "source": [
    "BprMF('train.dat', 'test.dat', 'ir_bprmf.dat', factors=40).compute()"
   ]
  },
  {
   "cell_type": "code",
   "execution_count": 26,
   "id": "910a612d-e0a6-4b60-899d-1c98273bc98b",
   "metadata": {},
   "outputs": [
    {
     "name": "stdout",
     "output_type": "stream",
     "text": [
      "[Case Recommender: Item Recommendation > BPRMF]\n",
      "\n",
      "train data:: 11090 users and 405 items (152496 interactions) | sparsity:: 96.60%\n",
      "test data:: 10571 users and 331 items (38125 interactions) | sparsity:: 98.91%\n",
      "\n",
      "training_time:: 112.520154 sec\n",
      "prediction_time:: 2.316647 sec\n",
      "\n",
      "\n",
      "Eval:: PREC@1: 0.418314 PREC@3: 0.305143 PREC@5: 0.253126 PREC@10: 0.185195 RECALL@1: 0.136555 RECALL@3: 0.283024 RECALL@5: 0.383296 RECALL@10: 0.544919 MAP@1: 0.418314 MAP@3: 0.510863 MAP@5: 0.514627 MAP@10: 0.486789 NDCG@1: 0.418314 NDCG@3: 0.598977 NDCG@5: 0.618991 NDCG@10: 0.612612 \n"
     ]
    }
   ],
   "source": [
    "BprMF('train.dat', 'test.dat', 'ir_bprmf.dat', factors=100).compute()"
   ]
  },
  {
   "cell_type": "markdown",
   "id": "00c91bd5",
   "metadata": {},
   "source": [
    "***Exercício 03:*** Implemente a métrica Average Precision para um único usuário. Utilize as recomendações geradas pelo algoritmo BPRMF (consulte notebook Aula04_Exemplo como base)."
   ]
  },
  {
   "cell_type": "code",
   "execution_count": 27,
   "id": "06321956-764d-4bfe-aeca-176802f19809",
   "metadata": {},
   "outputs": [
    {
     "name": "stdout",
     "output_type": "stream",
     "text": [
      "[19, 14, 10, 20, 33, 4, 28, 61, 56, 8]\n"
     ]
    }
   ],
   "source": [
    "recs = pd.read_csv('./ir_bprmf.dat', sep='\\t', names=['userId', 'movieId', 'score'])\n",
    "recs_user = recs.loc[(recs.userId==1), 'movieId'].tolist()\n",
    "print(recs_user)"
   ]
  },
  {
   "cell_type": "code",
   "execution_count": 29,
   "id": "241c4eb1-58ec-4169-81b8-3a8bf7dda0ac",
   "metadata": {},
   "outputs": [],
   "source": [
    "ground_truth = test.loc[(test.userId==1), 'movieId'].tolist()"
   ]
  },
  {
   "cell_type": "code",
   "execution_count": 37,
   "id": "dde37251-ff91-4107-86e0-7b27d7baaaff",
   "metadata": {},
   "outputs": [
    {
     "data": {
      "text/plain": [
       "[19, 14, 10]"
      ]
     },
     "execution_count": 37,
     "metadata": {},
     "output_type": "execute_result"
    }
   ],
   "source": [
    "recs_user[:3]"
   ]
  },
  {
   "cell_type": "code",
   "execution_count": 36,
   "id": "2f6422b8-e0d2-40dc-83a2-18f2aa419194",
   "metadata": {},
   "outputs": [
    {
     "data": {
      "text/plain": [
       "[13, 16, 14, 19, 24, 20]"
      ]
     },
     "execution_count": 36,
     "metadata": {},
     "output_type": "execute_result"
    }
   ],
   "source": [
    "ground_truth"
   ]
  },
  {
   "cell_type": "code",
   "execution_count": 48,
   "id": "964a2890-42ed-4aea-9209-5146f4b0773e",
   "metadata": {},
   "outputs": [
    {
     "name": "stdout",
     "output_type": "stream",
     "text": [
      "[1, 1, 0]\n"
     ]
    },
    {
     "data": {
      "text/plain": [
       "0.5"
      ]
     },
     "execution_count": 48,
     "metadata": {},
     "output_type": "execute_result"
    }
   ],
   "source": [
    "precision_at_k(3, recs_user, ground_truth)"
   ]
  },
  {
   "cell_type": "code",
   "execution_count": 53,
   "id": "615bd3e2-c8c4-42ea-b397-3eabee20275b",
   "metadata": {},
   "outputs": [],
   "source": [
    "def average_precision(user_id, recs_df, test_df):\n",
    "    recs_user = recs_df.loc[(recs_df.userId==user_id), 'movieId'].tolist()\n",
    "    ground_truth = test_df.loc[(test_df.userId==user_id), 'movieId'].tolist()\n",
    "\n",
    "    precisions = 0\n",
    "    for k in range(1, len(recs_user)):\n",
    "        precisions += precision_at_k(k, recs_user, ground_truth)\n",
    "    return precisions/k"
   ]
  },
  {
   "cell_type": "code",
   "execution_count": 52,
   "id": "2de05595-aa87-456a-bd05-ce60f269862c",
   "metadata": {},
   "outputs": [],
   "source": [
    "def precision_at_k(k, rec_list, ground_truth):\n",
    "    focus_list = rec_list[:k]\n",
    "    relevant_list = [1 if item in ground_truth else 0 for item in focus_list]\n",
    "    n_relevants = 0\n",
    "    for idx, label in enumerate(relevant_list):\n",
    "        n_relevants += label / (idx + 1)\n",
    "    return n_relevants / len(focus_list)"
   ]
  },
  {
   "cell_type": "code",
   "execution_count": 54,
   "id": "a1870eb3-f204-4f34-877b-497d07b0aa0b",
   "metadata": {},
   "outputs": [
    {
     "data": {
      "text/plain": [
       "0.4435956790123457"
      ]
     },
     "execution_count": 54,
     "metadata": {},
     "output_type": "execute_result"
    }
   ],
   "source": [
    "average_precision(1, recs, test)"
   ]
  },
  {
   "cell_type": "markdown",
   "id": "916be3ec",
   "metadata": {},
   "source": [
    "***Exercício 04:*** Um importante aspecto que pode ser avaliado em Sistemas de Recomendação é a diversidade da lista de recomendações. A métrica Intra-List Similarity (ILS) aplica uma função de similaridade (e.g. Cosseno, Jaccard, Pearson, etc.) entre todos os pares de itens da lista de recomendação, usando seus metadados como gêneros, tags, etc. Mais detalhes sobre essa métrica podem ser encontrados em: https://grouplens.org/site-content/uploads/Improving-WWW-20051.pdf"
   ]
  },
  {
   "cell_type": "markdown",
   "id": "80e440b3",
   "metadata": {},
   "source": [
    "***a)*** Implemente uma função que calcula a ILS de uma lista de recomendação para um único usuário. Utilize os gêneros de filmes."
   ]
  },
  {
   "cell_type": "code",
   "execution_count": null,
   "id": "60350f04",
   "metadata": {},
   "outputs": [],
   "source": [
    "# TODO"
   ]
  },
  {
   "cell_type": "markdown",
   "id": "def098f0",
   "metadata": {},
   "source": [
    "***b)*** Utilize a função que implementou no item (a) para calcular a ILS de todos os usuários da base de dados. Utilize as recomendações geradas pelo algoritmo BPR MF do CaseRecommender."
   ]
  },
  {
   "cell_type": "code",
   "execution_count": null,
   "id": "e7880c83",
   "metadata": {
    "scrolled": true
   },
   "outputs": [],
   "source": [
    "# TODO"
   ]
  },
  {
   "cell_type": "markdown",
   "id": "76cf2e0d",
   "metadata": {},
   "source": [
    "***c)*** Aplique a função que implementou no item (b) para calcular a ILS das recomendações geradas pelos algoritmos ItemKNN e ItemAttributeKNN. Compare os resultados de todos os algoritmos, verificando inclusive o que acontece com a acurácia (precisão, MAP ou NDCG) quando a diversidade aumenta ou diminui."
   ]
  },
  {
   "cell_type": "code",
   "execution_count": null,
   "id": "bf5bea2c",
   "metadata": {},
   "outputs": [],
   "source": [
    "# TODO"
   ]
  }
 ],
 "metadata": {
  "kernelspec": {
   "display_name": "Python 3 (ipykernel)",
   "language": "python",
   "name": "python3"
  },
  "language_info": {
   "codemirror_mode": {
    "name": "ipython",
    "version": 3
   },
   "file_extension": ".py",
   "mimetype": "text/x-python",
   "name": "python",
   "nbconvert_exporter": "python",
   "pygments_lexer": "ipython3",
   "version": "3.10.12"
  }
 },
 "nbformat": 4,
 "nbformat_minor": 5
}
