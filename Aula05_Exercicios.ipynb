{
 "cells": [
  {
   "cell_type": "markdown",
   "id": "bb8764ef",
   "metadata": {},
   "source": [
    "# Aula 05 - Avaliação de Sistemas de Recomendação - Exercícios"
   ]
  },
  {
   "cell_type": "code",
   "execution_count": 1,
   "id": "397a5f1d",
   "metadata": {},
   "outputs": [],
   "source": [
    "import pandas as pd\n",
    "import numpy as np"
   ]
  },
  {
   "cell_type": "markdown",
   "id": "29ac21fe",
   "metadata": {},
   "source": [
    "### Importar base de dados"
   ]
  },
  {
   "cell_type": "code",
   "execution_count": 2,
   "id": "59c840c6",
   "metadata": {},
   "outputs": [
    {
     "name": "stdout",
     "output_type": "stream",
     "text": [
      "100% [....................................................] 65019041 / 65019041\n",
      "Saved under ml-20m-compact.tar.gz\n",
      "dataset/\n",
      "dataset/tags_sample.csv\n",
      "dataset/._.DS_Store\n",
      "dataset/.DS_Store\n",
      "dataset/movies_sample.csv\n",
      "dataset/._genome-tags.csv\n",
      "dataset/genome-tags.csv\n",
      "dataset/._ml-youtube.csv\n",
      "dataset/ml-youtube.csv\n",
      "dataset/._genome-scores.csv\n",
      "dataset/genome-scores.csv\n",
      "dataset/ratings_sample.csv\n"
     ]
    }
   ],
   "source": [
    "import wget\n",
    "!python3 -m wget https://github.com/mmanzato/MBABigData/raw/master/ml-20m-compact.tar.gz\n",
    "!tar -xvzf ml-20m-compact.tar.gz"
   ]
  },
  {
   "cell_type": "code",
   "execution_count": 3,
   "id": "629b525d",
   "metadata": {},
   "outputs": [
    {
     "data": {
      "text/html": [
       "<div>\n",
       "<style scoped>\n",
       "    .dataframe tbody tr th:only-of-type {\n",
       "        vertical-align: middle;\n",
       "    }\n",
       "\n",
       "    .dataframe tbody tr th {\n",
       "        vertical-align: top;\n",
       "    }\n",
       "\n",
       "    .dataframe thead th {\n",
       "        text-align: right;\n",
       "    }\n",
       "</style>\n",
       "<table border=\"1\" class=\"dataframe\">\n",
       "  <thead>\n",
       "    <tr style=\"text-align: right;\">\n",
       "      <th></th>\n",
       "      <th>userId</th>\n",
       "      <th>movieId</th>\n",
       "      <th>rating</th>\n",
       "      <th>title</th>\n",
       "    </tr>\n",
       "  </thead>\n",
       "  <tbody>\n",
       "    <tr>\n",
       "      <th>0</th>\n",
       "      <td>11</td>\n",
       "      <td>7481</td>\n",
       "      <td>5.0</td>\n",
       "      <td>Enemy Mine (1985)</td>\n",
       "    </tr>\n",
       "    <tr>\n",
       "      <th>1</th>\n",
       "      <td>11</td>\n",
       "      <td>1046</td>\n",
       "      <td>4.5</td>\n",
       "      <td>Beautiful Thing (1996)</td>\n",
       "    </tr>\n",
       "    <tr>\n",
       "      <th>2</th>\n",
       "      <td>11</td>\n",
       "      <td>616</td>\n",
       "      <td>4.0</td>\n",
       "      <td>Aristocats, The (1970)</td>\n",
       "    </tr>\n",
       "    <tr>\n",
       "      <th>3</th>\n",
       "      <td>11</td>\n",
       "      <td>3535</td>\n",
       "      <td>2.0</td>\n",
       "      <td>American Psycho (2000)</td>\n",
       "    </tr>\n",
       "    <tr>\n",
       "      <th>4</th>\n",
       "      <td>11</td>\n",
       "      <td>5669</td>\n",
       "      <td>5.0</td>\n",
       "      <td>Bowling for Columbine (2002)</td>\n",
       "    </tr>\n",
       "    <tr>\n",
       "      <th>...</th>\n",
       "      <td>...</td>\n",
       "      <td>...</td>\n",
       "      <td>...</td>\n",
       "      <td>...</td>\n",
       "    </tr>\n",
       "    <tr>\n",
       "      <th>190616</th>\n",
       "      <td>138493</td>\n",
       "      <td>288</td>\n",
       "      <td>5.0</td>\n",
       "      <td>Natural Born Killers (1994)</td>\n",
       "    </tr>\n",
       "    <tr>\n",
       "      <th>190617</th>\n",
       "      <td>138493</td>\n",
       "      <td>1748</td>\n",
       "      <td>5.0</td>\n",
       "      <td>Dark City (1998)</td>\n",
       "    </tr>\n",
       "    <tr>\n",
       "      <th>190618</th>\n",
       "      <td>138493</td>\n",
       "      <td>616</td>\n",
       "      <td>4.0</td>\n",
       "      <td>Aristocats, The (1970)</td>\n",
       "    </tr>\n",
       "    <tr>\n",
       "      <th>190619</th>\n",
       "      <td>138493</td>\n",
       "      <td>1597</td>\n",
       "      <td>4.5</td>\n",
       "      <td>Conspiracy Theory (1997)</td>\n",
       "    </tr>\n",
       "    <tr>\n",
       "      <th>190620</th>\n",
       "      <td>138493</td>\n",
       "      <td>7371</td>\n",
       "      <td>5.0</td>\n",
       "      <td>Dogville (2003)</td>\n",
       "    </tr>\n",
       "  </tbody>\n",
       "</table>\n",
       "<p>190621 rows × 4 columns</p>\n",
       "</div>"
      ],
      "text/plain": [
       "        userId  movieId  rating                         title\n",
       "0           11     7481     5.0             Enemy Mine (1985)\n",
       "1           11     1046     4.5        Beautiful Thing (1996)\n",
       "2           11      616     4.0        Aristocats, The (1970)\n",
       "3           11     3535     2.0        American Psycho (2000)\n",
       "4           11     5669     5.0  Bowling for Columbine (2002)\n",
       "...        ...      ...     ...                           ...\n",
       "190616  138493      288     5.0   Natural Born Killers (1994)\n",
       "190617  138493     1748     5.0              Dark City (1998)\n",
       "190618  138493      616     4.0        Aristocats, The (1970)\n",
       "190619  138493     1597     4.5      Conspiracy Theory (1997)\n",
       "190620  138493     7371     5.0               Dogville (2003)\n",
       "\n",
       "[190621 rows x 4 columns]"
      ]
     },
     "execution_count": 3,
     "metadata": {},
     "output_type": "execute_result"
    }
   ],
   "source": [
    "movies = pd.read_csv('./dataset/movies_sample.csv')\n",
    "ratings = pd.read_csv('./dataset/ratings_sample.csv')\n",
    "df = ratings[['userId', 'movieId', 'rating']]\n",
    "df = df.merge(movies[['movieId', 'title']])\n",
    "df"
   ]
  },
  {
   "cell_type": "code",
   "execution_count": 4,
   "id": "5cb5c6d2",
   "metadata": {},
   "outputs": [
    {
     "data": {
      "text/html": [
       "<div>\n",
       "<style scoped>\n",
       "    .dataframe tbody tr th:only-of-type {\n",
       "        vertical-align: middle;\n",
       "    }\n",
       "\n",
       "    .dataframe tbody tr th {\n",
       "        vertical-align: top;\n",
       "    }\n",
       "\n",
       "    .dataframe thead th {\n",
       "        text-align: right;\n",
       "    }\n",
       "</style>\n",
       "<table border=\"1\" class=\"dataframe\">\n",
       "  <thead>\n",
       "    <tr style=\"text-align: right;\">\n",
       "      <th></th>\n",
       "      <th>movieId</th>\n",
       "      <th>title</th>\n",
       "      <th>genre</th>\n",
       "    </tr>\n",
       "  </thead>\n",
       "  <tbody>\n",
       "    <tr>\n",
       "      <th>0</th>\n",
       "      <td>30</td>\n",
       "      <td>Shanghai Triad (Yao a yao yao dao waipo qiao) ...</td>\n",
       "      <td>Crime</td>\n",
       "    </tr>\n",
       "    <tr>\n",
       "      <th>0</th>\n",
       "      <td>30</td>\n",
       "      <td>Shanghai Triad (Yao a yao yao dao waipo qiao) ...</td>\n",
       "      <td>Drama</td>\n",
       "    </tr>\n",
       "    <tr>\n",
       "      <th>1</th>\n",
       "      <td>31</td>\n",
       "      <td>Dangerous Minds (1995)</td>\n",
       "      <td>Drama</td>\n",
       "    </tr>\n",
       "    <tr>\n",
       "      <th>2</th>\n",
       "      <td>37</td>\n",
       "      <td>Across the Sea of Time (1995)</td>\n",
       "      <td>Documentary</td>\n",
       "    </tr>\n",
       "    <tr>\n",
       "      <th>2</th>\n",
       "      <td>37</td>\n",
       "      <td>Across the Sea of Time (1995)</td>\n",
       "      <td>IMAX</td>\n",
       "    </tr>\n",
       "  </tbody>\n",
       "</table>\n",
       "</div>"
      ],
      "text/plain": [
       "   movieId                                              title        genre\n",
       "0       30  Shanghai Triad (Yao a yao yao dao waipo qiao) ...        Crime\n",
       "0       30  Shanghai Triad (Yao a yao yao dao waipo qiao) ...        Drama\n",
       "1       31                             Dangerous Minds (1995)        Drama\n",
       "2       37                      Across the Sea of Time (1995)  Documentary\n",
       "2       37                      Across the Sea of Time (1995)         IMAX"
      ]
     },
     "execution_count": 4,
     "metadata": {},
     "output_type": "execute_result"
    }
   ],
   "source": [
    "movies_genres = movies.drop('genres', axis=1).join(movies.genres.str.split('|', expand=True)\n",
    "             .stack().reset_index(drop=True, level=1).rename('genre'))\n",
    "movies_genres.head()"
   ]
  },
  {
   "cell_type": "code",
   "execution_count": 5,
   "id": "d1a785c3",
   "metadata": {},
   "outputs": [
    {
     "data": {
      "text/html": [
       "<div>\n",
       "<style scoped>\n",
       "    .dataframe tbody tr th:only-of-type {\n",
       "        vertical-align: middle;\n",
       "    }\n",
       "\n",
       "    .dataframe tbody tr th {\n",
       "        vertical-align: top;\n",
       "    }\n",
       "\n",
       "    .dataframe thead th {\n",
       "        text-align: right;\n",
       "    }\n",
       "</style>\n",
       "<table border=\"1\" class=\"dataframe\">\n",
       "  <thead>\n",
       "    <tr style=\"text-align: right;\">\n",
       "      <th></th>\n",
       "      <th>userId</th>\n",
       "      <th>movieId</th>\n",
       "      <th>tag</th>\n",
       "      <th>timestamp_y</th>\n",
       "    </tr>\n",
       "  </thead>\n",
       "  <tbody>\n",
       "    <tr>\n",
       "      <th>0</th>\n",
       "      <td>279</td>\n",
       "      <td>916</td>\n",
       "      <td>Gregory Peck</td>\n",
       "      <td>1329962459</td>\n",
       "    </tr>\n",
       "    <tr>\n",
       "      <th>1</th>\n",
       "      <td>279</td>\n",
       "      <td>916</td>\n",
       "      <td>need to own</td>\n",
       "      <td>1329962471</td>\n",
       "    </tr>\n",
       "    <tr>\n",
       "      <th>2</th>\n",
       "      <td>279</td>\n",
       "      <td>916</td>\n",
       "      <td>romantic comedy</td>\n",
       "      <td>1329962476</td>\n",
       "    </tr>\n",
       "    <tr>\n",
       "      <th>3</th>\n",
       "      <td>279</td>\n",
       "      <td>916</td>\n",
       "      <td>Rome</td>\n",
       "      <td>1329962490</td>\n",
       "    </tr>\n",
       "    <tr>\n",
       "      <th>4</th>\n",
       "      <td>279</td>\n",
       "      <td>916</td>\n",
       "      <td>royalty</td>\n",
       "      <td>1329962474</td>\n",
       "    </tr>\n",
       "  </tbody>\n",
       "</table>\n",
       "</div>"
      ],
      "text/plain": [
       "   userId  movieId              tag  timestamp_y\n",
       "0     279      916     Gregory Peck   1329962459\n",
       "1     279      916      need to own   1329962471\n",
       "2     279      916  romantic comedy   1329962476\n",
       "3     279      916             Rome   1329962490\n",
       "4     279      916          royalty   1329962474"
      ]
     },
     "execution_count": 5,
     "metadata": {},
     "output_type": "execute_result"
    }
   ],
   "source": [
    "movies_tags = pd.read_csv('./dataset/tags_sample.csv')\n",
    "movies_tags.head()"
   ]
  },
  {
   "cell_type": "code",
   "execution_count": 6,
   "id": "626bcde9",
   "metadata": {},
   "outputs": [],
   "source": [
    "map_users = {user: idx for idx, user in enumerate(df.userId.unique())}\n",
    "map_items = {item: idx for idx, item in enumerate(df.movieId.unique())}\n",
    "\n",
    "df['userId'] = df['userId'].map(map_users)\n",
    "df['movieId'] = df['movieId'].map(map_items)\n",
    "\n",
    "movies_tags['userId'] = movies_tags['userId'].map(map_users)\n",
    "movies_tags['movieId'] = movies_tags['movieId'].map(map_items)\n",
    "movies_tags.dropna(inplace=True)\n",
    "movies_tags['movieId'] = movies_tags.movieId.astype(int)\n",
    "movies_tags['userId'] = movies_tags.userId.astype(int)\n",
    "\n",
    "movies_genres['movieId'] = movies_genres['movieId'].map(map_items)\n",
    "movies_genres.dropna(inplace=True)\n",
    "movies_genres['movieId'] = movies_genres.movieId.astype(int)\n",
    "\n",
    "map_title = {}\n",
    "for _, row in df.iterrows():\n",
    "    map_title[row.movieId] = row.title\n"
   ]
  },
  {
   "cell_type": "code",
   "execution_count": 7,
   "id": "282a2cfe",
   "metadata": {},
   "outputs": [],
   "source": [
    "movies_genres[['movieId', 'genre']].to_csv('items_genres.dat', index=False, sep='\\t', header=False)\n",
    "movies_tags[['movieId', 'tag']].to_csv('items_tags.dat', index=False, sep='\\t', header=False)"
   ]
  },
  {
   "cell_type": "markdown",
   "id": "3a67cae4",
   "metadata": {},
   "source": [
    "### Divisão da base em treino e teste"
   ]
  },
  {
   "cell_type": "code",
   "execution_count": 8,
   "id": "22f77461",
   "metadata": {},
   "outputs": [],
   "source": [
    "from sklearn.model_selection import train_test_split\n",
    "train, test = train_test_split(df, test_size=.2, random_state=2)\n",
    "train.to_csv('train.dat', index=False, header=False, sep='\\t')\n",
    "test.to_csv('test.dat', index=False, header=False, sep='\\t')"
   ]
  },
  {
   "cell_type": "markdown",
   "id": "580a1494",
   "metadata": {
    "jp-MarkdownHeadingCollapsed": true
   },
   "source": [
    "### Exemplos de utilização do CaseRecommender"
   ]
  },
  {
   "cell_type": "code",
   "execution_count": 9,
   "id": "75bbbd2d",
   "metadata": {
    "scrolled": true
   },
   "outputs": [
    {
     "name": "stdout",
     "output_type": "stream",
     "text": [
      "[Case Recommender: Rating Prediction > Item Attribute KNN Algorithm]\n",
      "\n",
      "train data:: 11090 users and 405 items (152496 interactions) | sparsity:: 96.60%\n",
      "test data:: 10571 users and 331 items (38125 interactions) | sparsity:: 98.91%\n",
      "\n",
      "training_time:: 4.340796 sec\n",
      ">> metadata:: 417 items and 20 metadata (890 interactions) | sparsity:: 89.33%\n",
      "prediction_time:: 0.494514 sec\n",
      "Eval:: MAE: 0.73347 RMSE: 0.964352 \n",
      "[Case Recommender: Rating Prediction > Item Attribute KNN Algorithm]\n",
      "\n",
      "train data:: 11090 users and 405 items (152496 interactions) | sparsity:: 96.60%\n",
      "test data:: 10571 users and 331 items (38125 interactions) | sparsity:: 98.91%\n",
      "\n",
      "training_time:: 4.353146 sec\n",
      ">> metadata:: 231 items and 1979 metadata (6274 interactions) | sparsity:: 98.63%\n",
      "prediction_time:: 0.631172 sec\n",
      "Eval:: MAE: 0.765116 RMSE: 1.006911 \n"
     ]
    }
   ],
   "source": [
    "from caserec.recommenders.rating_prediction.item_attribute_knn import ItemAttributeKNN\n",
    "\n",
    "ItemAttributeKNN('train.dat', 'test.dat', metadata_file='items_genres.dat', k_neighbors=10, as_similar_first=True).compute()\n",
    "ItemAttributeKNN('train.dat', 'test.dat', metadata_file='items_tags.dat', k_neighbors=10, as_similar_first=True).compute()"
   ]
  },
  {
   "cell_type": "markdown",
   "id": "92d5c385",
   "metadata": {
    "jp-MarkdownHeadingCollapsed": true
   },
   "source": [
    "### ***Exercício 01:*** Verifique o efeito no RSME ao aumentar o número de vizinhos do algoritmo ItemAttributeKNN com usando gêneros. Explique."
   ]
  },
  {
   "cell_type": "code",
   "execution_count": 10,
   "id": "0baae030",
   "metadata": {},
   "outputs": [
    {
     "name": "stdout",
     "output_type": "stream",
     "text": [
      "[Case Recommender: Rating Prediction > Item Attribute KNN Algorithm]\n",
      "\n",
      "train data:: 11090 users and 405 items (152496 interactions) | sparsity:: 96.60%\n",
      "test data:: 10571 users and 331 items (38125 interactions) | sparsity:: 98.91%\n",
      "\n",
      "training_time:: 4.441872 sec\n",
      ">> metadata:: 417 items and 20 metadata (890 interactions) | sparsity:: 89.33%\n",
      "prediction_time:: 0.587597 sec\n",
      "Eval:: MAE: 0.73347 RMSE: 0.964352 \n"
     ]
    }
   ],
   "source": [
    "ItemAttributeKNN('train.dat', 'test.dat', metadata_file='items_genres.dat', k_neighbors=10, as_similar_first=True).compute()"
   ]
  },
  {
   "cell_type": "code",
   "execution_count": 11,
   "id": "839fa390-31c5-4490-bee7-52e20c069143",
   "metadata": {},
   "outputs": [
    {
     "name": "stdout",
     "output_type": "stream",
     "text": [
      "[Case Recommender: Rating Prediction > Item Attribute KNN Algorithm]\n",
      "\n",
      "train data:: 11090 users and 405 items (152496 interactions) | sparsity:: 96.60%\n",
      "test data:: 10571 users and 331 items (38125 interactions) | sparsity:: 98.91%\n",
      "\n",
      "training_time:: 4.456527 sec\n",
      ">> metadata:: 417 items and 20 metadata (890 interactions) | sparsity:: 89.33%\n",
      "prediction_time:: 1.742719 sec\n",
      "Eval:: MAE: 0.717937 RMSE: 0.945425 \n"
     ]
    }
   ],
   "source": [
    "ItemAttributeKNN('train.dat', 'test.dat', metadata_file='items_genres.dat', k_neighbors=100, as_similar_first=True).compute()"
   ]
  },
  {
   "cell_type": "code",
   "execution_count": 12,
   "id": "c7eaf5a3-d1e0-4cc4-a9ef-c92d2c75ca6f",
   "metadata": {},
   "outputs": [
    {
     "name": "stdout",
     "output_type": "stream",
     "text": [
      "[Case Recommender: Rating Prediction > Item Attribute KNN Algorithm]\n",
      "\n",
      "train data:: 11090 users and 405 items (152496 interactions) | sparsity:: 96.60%\n",
      "test data:: 10571 users and 331 items (38125 interactions) | sparsity:: 98.91%\n",
      "\n",
      "training_time:: 4.462729 sec\n",
      ">> metadata:: 417 items and 20 metadata (890 interactions) | sparsity:: 89.33%\n",
      "prediction_time:: 3.796674 sec\n",
      "Eval:: MAE: 0.695346 RMSE: 0.916212 \n"
     ]
    }
   ],
   "source": [
    "ItemAttributeKNN('train.dat', 'test.dat', metadata_file='items_genres.dat', k_neighbors=1000, as_similar_first=True).compute()"
   ]
  },
  {
   "cell_type": "code",
   "execution_count": 13,
   "id": "91b2a687-d5f1-4ead-881b-89b041ad6bbf",
   "metadata": {},
   "outputs": [
    {
     "name": "stdout",
     "output_type": "stream",
     "text": [
      "[Case Recommender: Rating Prediction > Item Attribute KNN Algorithm]\n",
      "\n",
      "train data:: 11090 users and 405 items (152496 interactions) | sparsity:: 96.60%\n",
      "test data:: 10571 users and 331 items (38125 interactions) | sparsity:: 98.91%\n",
      "\n",
      "training_time:: 4.452284 sec\n",
      ">> metadata:: 417 items and 20 metadata (890 interactions) | sparsity:: 89.33%\n",
      "prediction_time:: 3.474633 sec\n",
      "Eval:: MAE: 0.695346 RMSE: 0.916212 \n"
     ]
    }
   ],
   "source": [
    "ItemAttributeKNN('train.dat', 'test.dat', metadata_file='items_genres.dat', k_neighbors=10571 , as_similar_first=True).compute()"
   ]
  },
  {
   "cell_type": "markdown",
   "id": "9304a09c-6f69-4350-8e80-44e065541254",
   "metadata": {},
   "source": [
    "O RMSE reduz, o que faz sentido para uma recomendação item-based: ao avaliarmos a recomendação de um item i a um usuário u, conforme aumentamos o K, aumentamos os itens que podem ser considerados para fazer o cálculo. Porém, todos os itens considerados (vizinhos) já foram avaliados por u. Então supondo que o usuário é consistente em suas avaliações, considerar mais filmes, ou seja, aumentar o K, pode ser benéfico para reduzir o erro da predição de um usuário, ao custo de um aumento no tempo de predição.\n",
    "\n"
   ]
  },
  {
   "cell_type": "markdown",
   "id": "a0894ca4",
   "metadata": {},
   "source": [
    "### ***Exercício 02:*** Verifique o efeito na métrica MAP@1 ao aumentar o número de fatores do algoritmo BPRMF. Explique."
   ]
  },
  {
   "cell_type": "markdown",
   "id": "7e336c69-e649-4f7f-b956-a8b7da56735a",
   "metadata": {},
   "source": [
    "**Resposta**: Olhando os resultados, podemos observar uma queda no MAP@1 conforme aumentamos os fatores, mas essa queda se suaviza a partir de um certo ponto e volta a subir, até estagnar.\n",
    "\n",
    "É dificil explicar a influência do número de fatores na qualidade da recomendação porque isso é dependente de quão variável são as notas no conjunto de treino/teste, já que um fator representa uma covariância de notas entre usuários. Aumentar o número de fatores pode ajudar a capturar padrões mais sútis nas notas, mas se as notas tiverem um comportamento muito simples de modelar, um número elevado de fatores pode trazer pouquíssimo retorno em qualidade. Ademais, um número muito elevado de fatores pode gerar matrizes de fatores altamente esparsas, o que contraria a principal vantagem de métodos de fatorização de matrizes, que é a redução de dimensionalidade. No exemplo observado, parece que os ganhos estagnaram a partir de quarenta fatores."
   ]
  },
  {
   "cell_type": "code",
   "execution_count": 14,
   "id": "0bac60ac-1557-457d-8e48-a92974b76110",
   "metadata": {},
   "outputs": [],
   "source": [
    "from caserec.recommenders.item_recommendation.bprmf import BprMF"
   ]
  },
  {
   "cell_type": "code",
   "execution_count": 15,
   "id": "f3d64bda-0b71-4172-9201-b5bc75753e57",
   "metadata": {},
   "outputs": [
    {
     "name": "stdout",
     "output_type": "stream",
     "text": [
      "[Case Recommender: Item Recommendation > BPRMF]\n",
      "\n",
      "train data:: 11090 users and 405 items (152496 interactions) | sparsity:: 96.60%\n",
      "test data:: 10571 users and 331 items (38125 interactions) | sparsity:: 98.91%\n",
      "\n",
      "training_time:: 129.622397 sec\n",
      "prediction_time:: 2.357229 sec\n",
      "\n",
      "\n",
      "Eval:: PREC@1: 0.378299 PREC@3: 0.262984 PREC@5: 0.224596 PREC@10: 0.173342 RECALL@1: 0.122623 RECALL@3: 0.241238 RECALL@5: 0.338066 RECALL@10: 0.509165 MAP@1: 0.378299 MAP@3: 0.460671 MAP@5: 0.469675 MAP@10: 0.444201 NDCG@1: 0.378299 NDCG@3: 0.539016 NDCG@5: 0.567817 NDCG@10: 0.56839 \n"
     ]
    }
   ],
   "source": [
    "BprMF('train.dat', 'test.dat', 'ir_bprmf.dat', factors=1).compute()"
   ]
  },
  {
   "cell_type": "code",
   "execution_count": 16,
   "id": "a08b1b36-628c-476e-8bf2-d0121e8aa18f",
   "metadata": {},
   "outputs": [
    {
     "name": "stdout",
     "output_type": "stream",
     "text": [
      "[Case Recommender: Item Recommendation > BPRMF]\n",
      "\n",
      "train data:: 11090 users and 405 items (152496 interactions) | sparsity:: 96.60%\n",
      "test data:: 10571 users and 331 items (38125 interactions) | sparsity:: 98.91%\n",
      "\n",
      "training_time:: 111.169672 sec\n",
      "prediction_time:: 2.411239 sec\n",
      "\n",
      "\n",
      "Eval:: PREC@1: 0.3415 PREC@3: 0.243339 PREC@5: 0.206698 PREC@10: 0.162151 RECALL@1: 0.109704 RECALL@3: 0.223397 RECALL@5: 0.309068 RECALL@10: 0.475166 MAP@1: 0.3415 MAP@3: 0.426481 MAP@5: 0.436458 MAP@10: 0.417545 NDCG@1: 0.3415 NDCG@3: 0.508592 NDCG@5: 0.536576 NDCG@10: 0.544092 \n"
     ]
    }
   ],
   "source": [
    "BprMF('train.dat', 'test.dat', 'ir_bprmf.dat', factors=3).compute()"
   ]
  },
  {
   "cell_type": "markdown",
   "id": "fb7a1e82-50a4-49f4-8eb3-d24f9d62c977",
   "metadata": {},
   "source": [
    "MAP@1 com factors = 3: 0.38"
   ]
  },
  {
   "cell_type": "code",
   "execution_count": 17,
   "id": "a791a67c-0ee8-4dfd-8920-e01b4a6fac8c",
   "metadata": {
    "scrolled": true
   },
   "outputs": [
    {
     "name": "stdout",
     "output_type": "stream",
     "text": [
      "[Case Recommender: Item Recommendation > BPRMF]\n",
      "\n",
      "train data:: 11090 users and 405 items (152496 interactions) | sparsity:: 96.60%\n",
      "test data:: 10571 users and 331 items (38125 interactions) | sparsity:: 98.91%\n",
      "\n",
      "training_time:: 124.409299 sec\n",
      "prediction_time:: 2.472227 sec\n",
      "\n",
      "\n",
      "Eval:: PREC@1: 0.352568 PREC@3: 0.268376 PREC@5: 0.229269 PREC@10: 0.174969 RECALL@1: 0.112611 RECALL@3: 0.247581 RECALL@5: 0.344466 RECALL@10: 0.515203 MAP@1: 0.352568 MAP@3: 0.449319 MAP@5: 0.459303 MAP@10: 0.438788 NDCG@1: 0.352568 NDCG@3: 0.540055 NDCG@5: 0.567672 NDCG@10: 0.569914 \n"
     ]
    }
   ],
   "source": [
    "BprMF('train.dat', 'test.dat', 'ir_bprmf.dat', factors=6).compute()"
   ]
  },
  {
   "cell_type": "markdown",
   "id": "03156f26-f201-4c94-b2ff-73d1e364c711",
   "metadata": {},
   "source": [
    "MAP@1 com factors = 6: 0.36"
   ]
  },
  {
   "cell_type": "code",
   "execution_count": 18,
   "id": "9d36a099-b7cd-4656-b795-030a713672cc",
   "metadata": {},
   "outputs": [
    {
     "name": "stdout",
     "output_type": "stream",
     "text": [
      "[Case Recommender: Item Recommendation > BPRMF]\n",
      "\n",
      "train data:: 11090 users and 405 items (152496 interactions) | sparsity:: 96.60%\n",
      "test data:: 10571 users and 331 items (38125 interactions) | sparsity:: 98.91%\n",
      "\n",
      "training_time:: 119.841654 sec\n",
      "prediction_time:: 2.501003 sec\n",
      "\n",
      "\n",
      "Eval:: PREC@1: 0.36638 PREC@3: 0.277773 PREC@5: 0.235247 PREC@10: 0.178072 RECALL@1: 0.118773 RECALL@3: 0.257758 RECALL@5: 0.3584 RECALL@10: 0.526481 MAP@1: 0.36638 MAP@3: 0.465188 MAP@5: 0.473681 MAP@10: 0.451205 NDCG@1: 0.36638 NDCG@3: 0.559132 NDCG@5: 0.584128 NDCG@10: 0.582907 \n"
     ]
    }
   ],
   "source": [
    "BprMF('train.dat', 'test.dat', 'ir_bprmf.dat', factors=9).compute()"
   ]
  },
  {
   "cell_type": "markdown",
   "id": "fa85ac66-7733-43af-bbfb-6ebe8a162aab",
   "metadata": {},
   "source": [
    "MAP@1 com factors = 9: 0.36"
   ]
  },
  {
   "cell_type": "code",
   "execution_count": 19,
   "id": "e89e2105-1c36-4e21-a94a-1a6d2bae40dc",
   "metadata": {},
   "outputs": [
    {
     "name": "stdout",
     "output_type": "stream",
     "text": [
      "[Case Recommender: Item Recommendation > BPRMF]\n",
      "\n",
      "train data:: 11090 users and 405 items (152496 interactions) | sparsity:: 96.60%\n",
      "test data:: 10571 users and 331 items (38125 interactions) | sparsity:: 98.91%\n",
      "\n",
      "training_time:: 131.616514 sec\n",
      "prediction_time:: 2.803990 sec\n",
      "\n",
      "\n",
      "Eval:: PREC@1: 0.359096 PREC@3: 0.274399 PREC@5: 0.232012 PREC@10: 0.176464 RECALL@1: 0.117339 RECALL@3: 0.254323 RECALL@5: 0.352463 RECALL@10: 0.521236 MAP@1: 0.359096 MAP@3: 0.459717 MAP@5: 0.469299 MAP@10: 0.447181 NDCG@1: 0.359096 NDCG@3: 0.5542 NDCG@5: 0.578914 NDCG@10: 0.579301 \n"
     ]
    }
   ],
   "source": [
    "BprMF('train.dat', 'test.dat', 'ir_bprmf.dat', factors=12).compute()"
   ]
  },
  {
   "cell_type": "markdown",
   "id": "14b9f064-34a5-4ec0-840c-4855813f20f7",
   "metadata": {},
   "source": [
    "MAP@1 com factors = 12; 0.37"
   ]
  },
  {
   "cell_type": "code",
   "execution_count": 20,
   "id": "ca6b79aa-0c4c-4d81-a52c-950053620994",
   "metadata": {},
   "outputs": [
    {
     "name": "stdout",
     "output_type": "stream",
     "text": [
      "[Case Recommender: Item Recommendation > BPRMF]\n",
      "\n",
      "train data:: 11090 users and 405 items (152496 interactions) | sparsity:: 96.60%\n",
      "test data:: 10571 users and 331 items (38125 interactions) | sparsity:: 98.91%\n",
      "\n",
      "training_time:: 127.352182 sec\n",
      "prediction_time:: 2.457931 sec\n",
      "\n",
      "\n",
      "Eval:: PREC@1: 0.404124 PREC@3: 0.299436 PREC@5: 0.248926 PREC@10: 0.184268 RECALL@1: 0.132319 RECALL@3: 0.278078 RECALL@5: 0.376083 RECALL@10: 0.543107 MAP@1: 0.404124 MAP@3: 0.499787 MAP@5: 0.503791 MAP@10: 0.477929 NDCG@1: 0.404124 NDCG@3: 0.589823 NDCG@5: 0.609593 NDCG@10: 0.606013 \n"
     ]
    }
   ],
   "source": [
    "BprMF('train.dat', 'test.dat', 'ir_bprmf.dat', factors=40).compute()"
   ]
  },
  {
   "cell_type": "code",
   "execution_count": 21,
   "id": "910a612d-e0a6-4b60-899d-1c98273bc98b",
   "metadata": {},
   "outputs": [
    {
     "name": "stdout",
     "output_type": "stream",
     "text": [
      "[Case Recommender: Item Recommendation > BPRMF]\n",
      "\n",
      "train data:: 11090 users and 405 items (152496 interactions) | sparsity:: 96.60%\n",
      "test data:: 10571 users and 331 items (38125 interactions) | sparsity:: 98.91%\n",
      "\n",
      "training_time:: 124.837064 sec\n",
      "prediction_time:: 2.480818 sec\n",
      "\n",
      "\n",
      "Eval:: PREC@1: 0.426071 PREC@3: 0.305238 PREC@5: 0.253126 PREC@10: 0.18494 RECALL@1: 0.138031 RECALL@3: 0.281742 RECALL@5: 0.380121 RECALL@10: 0.541875 MAP@1: 0.426071 MAP@3: 0.515081 MAP@5: 0.517264 MAP@10: 0.490061 NDCG@1: 0.426071 NDCG@3: 0.601202 NDCG@5: 0.617874 NDCG@10: 0.613137 \n"
     ]
    }
   ],
   "source": [
    "BprMF('train.dat', 'test.dat', 'ir_bprmf.dat', factors=100).compute()"
   ]
  },
  {
   "cell_type": "markdown",
   "id": "00c91bd5",
   "metadata": {},
   "source": [
    "### ***Exercício 03:*** Implemente a métrica Average Precision para um único usuário. Utilize as recomendações geradas pelo algoritmo BPRMF (consulte notebook Aula04_Exemplo como base)."
   ]
  },
  {
   "cell_type": "code",
   "execution_count": 22,
   "id": "06321956-764d-4bfe-aeca-176802f19809",
   "metadata": {},
   "outputs": [
    {
     "name": "stdout",
     "output_type": "stream",
     "text": [
      "[19, 10, 14, 8, 4, 50, 5, 28, 56, 57]\n"
     ]
    }
   ],
   "source": [
    "recs = pd.read_csv('./ir_bprmf.dat', sep='\\t', names=['userId', 'movieId', 'score'])\n",
    "recs_user = recs.loc[(recs.userId==1), 'movieId'].tolist()\n",
    "print(recs_user)"
   ]
  },
  {
   "cell_type": "code",
   "execution_count": 23,
   "id": "c760f2c9-819d-472c-aed8-af7c0bbd2c11",
   "metadata": {},
   "outputs": [],
   "source": [
    "label = test.loc[(test.userId==3), 'movieId'].tolist()"
   ]
  },
  {
   "cell_type": "code",
   "execution_count": 24,
   "id": "97dab34c-b861-4bdb-aad4-12c2063bab07",
   "metadata": {},
   "outputs": [],
   "source": [
    "rec_list_test = recs.loc[(recs.userId==3), 'movieId'].tolist()"
   ]
  },
  {
   "cell_type": "code",
   "execution_count": 25,
   "id": "2de05595-aa87-456a-bd05-ce60f269862c",
   "metadata": {},
   "outputs": [],
   "source": [
    "def precision_at_k(rec_list, ground_truth, k):\n",
    "    focus_list = rec_list[:k]\n",
    "    relevant_list = [1 if item in ground_truth else 0 for item in focus_list]\n",
    "    n_relevants = sum(relevant_list)\n",
    "    return n_relevants / k\n"
   ]
  },
  {
   "cell_type": "code",
   "execution_count": 26,
   "id": "615bd3e2-c8c4-42ea-b397-3eabee20275b",
   "metadata": {},
   "outputs": [],
   "source": [
    "def average_precision(user_id, recs_df, test_df, verbose=False):\n",
    "    recs_user = recs_df.loc[(recs_df.userId==user_id), 'movieId'].tolist()\n",
    "    ground_truth = test_df.loc[(test_df.userId==user_id), 'movieId'].tolist()\n",
    "\n",
    "    precisions = 0\n",
    "    relevant_list = [1 if item in ground_truth else 0 for item in recs_user]\n",
    "    n_relevants = sum(relevant_list)\n",
    "    \n",
    "    if (n_relevants == 0):\n",
    "        return 0\n",
    "\n",
    "    num_recs = len(recs_user)\n",
    "    for i in range(num_recs):\n",
    "        if (relevant_list[i] == 1):\n",
    "            # only consider relevant documents\n",
    "            k=i+1\n",
    "            precision = precision_at_k(recs_user, ground_truth,k=k)\n",
    "            precisions += precision\n",
    "            if (verbose):\n",
    "                print(f\"iter {i}; k={i+1}, list@k: {recs_user[:k]}, precision@k: {precision}; AP so far: {precisions/n_relevants}\")\n",
    "    return precisions/(n_relevants)\n"
   ]
  },
  {
   "cell_type": "code",
   "execution_count": 27,
   "id": "a1870eb3-f204-4f34-877b-497d07b0aa0b",
   "metadata": {},
   "outputs": [
    {
     "name": "stdout",
     "output_type": "stream",
     "text": [
      "iter 1; k=2, list@k: [12, 33], precision@k: 0.5; AP so far: 0.16666666666666666\n",
      "iter 3; k=4, list@k: [12, 33, 18, 22], precision@k: 0.5; AP so far: 0.3333333333333333\n",
      "iter 8; k=9, list@k: [12, 33, 18, 22, 13, 4, 28, 14, 23], precision@k: 0.3333333333333333; AP so far: 0.4444444444444444\n"
     ]
    },
    {
     "data": {
      "text/plain": [
       "0.4444444444444444"
      ]
     },
     "execution_count": 27,
     "metadata": {},
     "output_type": "execute_result"
    }
   ],
   "source": [
    "average_precision(3, recs, test, verbose=True)"
   ]
  },
  {
   "cell_type": "markdown",
   "id": "916be3ec",
   "metadata": {},
   "source": [
    "### ***Exercício 04:*** Um importante aspecto que pode ser avaliado em Sistemas de Recomendação é a diversidade da lista de recomendações. A métrica Intra-List Similarity (ILS) aplica uma função de similaridade (e.g. Cosseno, Jaccard, Pearson, etc.) entre todos os pares de itens da lista de recomendação, usando seus metadados como gêneros, tags, etc. Mais detalhes sobre essa métrica podem ser encontrados em: https://grouplens.org/site-content/uploads/Improving-WWW-20051.pdf"
   ]
  },
  {
   "cell_type": "markdown",
   "id": "80e440b3",
   "metadata": {},
   "source": [
    "***a)*** Implemente uma função que calcula a ILS de uma lista de recomendação para um único usuário. Utilize os gêneros de filmes."
   ]
  },
  {
   "cell_type": "code",
   "execution_count": 29,
   "id": "49be6431-a1f4-46b3-bbaa-3ab9d7925c6c",
   "metadata": {},
   "outputs": [],
   "source": [
    "from itertools import combinations"
   ]
  },
  {
   "cell_type": "code",
   "execution_count": 30,
   "id": "61d29eee-2d57-4f43-be0b-3509e0555b14",
   "metadata": {},
   "outputs": [],
   "source": [
    "def jaccard(list_a, list_b):\n",
    "    set_a = set(list_a)\n",
    "    set_b = set(list_b)\n",
    "    inter_size = len(set_a.intersection(set_b))\n",
    "    union_size = len(set_a.union(set_b))\n",
    "    return inter_size / union_size\n"
   ]
  },
  {
   "cell_type": "code",
   "execution_count": 31,
   "id": "2b201a67-25dd-4007-87a6-ee00d83e4883",
   "metadata": {},
   "outputs": [],
   "source": [
    "def get_genres_recommended_per_user(recs_df):\n",
    "    genres_grouped = movies_genres.groupby([\"movieId\", \"title\"]).agg({\"genre\": list}).reset_index()\n",
    "    recommendations_with_genres = recs_df.join(genres_grouped[[\"movieId\", \"genre\"]], on=\"movieId\", lsuffix='_left', rsuffix='_right').drop(columns=[\"movieId_right\", \"movieId_left\"])\n",
    "    return recommendations_with_genres.groupby(\"userId\").agg({\"genre\": list}).reset_index()"
   ]
  },
  {
   "cell_type": "code",
   "execution_count": 32,
   "id": "dcb48bce-8d52-44d9-b0fc-f9a03480edca",
   "metadata": {},
   "outputs": [],
   "source": [
    "genres_per_user = get_genres_recommended_per_user(recs)"
   ]
  },
  {
   "cell_type": "code",
   "execution_count": 33,
   "id": "f600bf5e-7788-4164-adfb-f4d506f48ff7",
   "metadata": {},
   "outputs": [],
   "source": [
    "def get_genres_recommended_for_user(userId, genres_per_user):\n",
    "    return genres_per_user[genres_per_user[\"userId\"] == userId].genre.item()"
   ]
  },
  {
   "cell_type": "code",
   "execution_count": 34,
   "id": "8cf36a87-d402-4982-97d1-d31e08b15cbb",
   "metadata": {},
   "outputs": [],
   "source": [
    "def ils(userId):\n",
    "    genres_list = get_genres_recommended_for_user(userId, genres_per_user)\n",
    "    sims = []\n",
    "    for pair1, pair2 in combinations(genres_list, 2):\n",
    "        sims.append(jaccard(pair1, pair2))\n",
    "    return np.mean(sims)"
   ]
  },
  {
   "cell_type": "code",
   "execution_count": 35,
   "id": "37de7a83-7483-4188-998f-e4d6d94b4f69",
   "metadata": {},
   "outputs": [
    {
     "data": {
      "text/plain": [
       "0.1987301587301587"
      ]
     },
     "execution_count": 35,
     "metadata": {},
     "output_type": "execute_result"
    }
   ],
   "source": [
    "ils(0)"
   ]
  },
  {
   "cell_type": "markdown",
   "id": "def098f0",
   "metadata": {},
   "source": [
    "***b)*** Utilize a função que implementou no item (a) para calcular a ILS de todos os usuários da base de dados. Utilize as recomendações geradas pelo algoritmo BPR MF do CaseRecommender."
   ]
  },
  {
   "cell_type": "code",
   "execution_count": 36,
   "id": "b4897bd6-81e7-4081-8001-0a31fe03d6fc",
   "metadata": {},
   "outputs": [],
   "source": [
    "def get_ils_metric(target_df):\n",
    "    df_copy = target_df.copy()\n",
    "    df_copy[\"ILS\"] = df_copy.apply(lambda r: ils(r.userId), axis=1)\n",
    "    return df_copy"
   ]
  },
  {
   "cell_type": "code",
   "execution_count": 37,
   "id": "a1600147-891a-4756-89f2-34308c9d5631",
   "metadata": {},
   "outputs": [],
   "source": [
    "user_recs_with_ils = get_ils_metric(genres_per_user)"
   ]
  },
  {
   "cell_type": "code",
   "execution_count": 38,
   "id": "66679582-5b11-4157-83ab-e214189a76d9",
   "metadata": {},
   "outputs": [
    {
     "data": {
      "text/html": [
       "<div>\n",
       "<style scoped>\n",
       "    .dataframe tbody tr th:only-of-type {\n",
       "        vertical-align: middle;\n",
       "    }\n",
       "\n",
       "    .dataframe tbody tr th {\n",
       "        vertical-align: top;\n",
       "    }\n",
       "\n",
       "    .dataframe thead th {\n",
       "        text-align: right;\n",
       "    }\n",
       "</style>\n",
       "<table border=\"1\" class=\"dataframe\">\n",
       "  <thead>\n",
       "    <tr style=\"text-align: right;\">\n",
       "      <th></th>\n",
       "      <th>userId</th>\n",
       "      <th>genre</th>\n",
       "      <th>ILS</th>\n",
       "    </tr>\n",
       "  </thead>\n",
       "  <tbody>\n",
       "    <tr>\n",
       "      <th>0</th>\n",
       "      <td>0</td>\n",
       "      <td>[[Crime, Mystery, Thriller], [Action, Crime, T...</td>\n",
       "      <td>0.198730</td>\n",
       "    </tr>\n",
       "    <tr>\n",
       "      <th>1</th>\n",
       "      <td>1</td>\n",
       "      <td>[[Crime, Mystery, Thriller], [Adventure, Film-...</td>\n",
       "      <td>0.093704</td>\n",
       "    </tr>\n",
       "    <tr>\n",
       "      <th>2</th>\n",
       "      <td>2</td>\n",
       "      <td>[[Action, Adventure, Mystery, Romance, Thrille...</td>\n",
       "      <td>0.085926</td>\n",
       "    </tr>\n",
       "    <tr>\n",
       "      <th>3</th>\n",
       "      <td>3</td>\n",
       "      <td>[[Action, Adventure, Sci-Fi], [Action, Adventu...</td>\n",
       "      <td>0.125212</td>\n",
       "    </tr>\n",
       "    <tr>\n",
       "      <th>4</th>\n",
       "      <td>4</td>\n",
       "      <td>[[Action, Adventure, Mystery, Romance, Thrille...</td>\n",
       "      <td>0.158466</td>\n",
       "    </tr>\n",
       "    <tr>\n",
       "      <th>...</th>\n",
       "      <td>...</td>\n",
       "      <td>...</td>\n",
       "      <td>...</td>\n",
       "    </tr>\n",
       "    <tr>\n",
       "      <th>11085</th>\n",
       "      <td>11085</td>\n",
       "      <td>[[Action, Adventure, Sci-Fi], [Crime, Mystery,...</td>\n",
       "      <td>0.157249</td>\n",
       "    </tr>\n",
       "    <tr>\n",
       "      <th>11086</th>\n",
       "      <td>11086</td>\n",
       "      <td>[[Action, Adventure, Sci-Fi], [Crime, Mystery,...</td>\n",
       "      <td>0.158889</td>\n",
       "    </tr>\n",
       "    <tr>\n",
       "      <th>11087</th>\n",
       "      <td>11087</td>\n",
       "      <td>[[Documentary], [Action, Crime, Thriller], [Co...</td>\n",
       "      <td>0.148757</td>\n",
       "    </tr>\n",
       "    <tr>\n",
       "      <th>11088</th>\n",
       "      <td>11088</td>\n",
       "      <td>[[Crime, Mystery, Thriller], [Comedy, Drama, R...</td>\n",
       "      <td>0.142884</td>\n",
       "    </tr>\n",
       "    <tr>\n",
       "      <th>11089</th>\n",
       "      <td>11089</td>\n",
       "      <td>[[Action, Adventure, Sci-Fi], [Crime, Mystery,...</td>\n",
       "      <td>0.160423</td>\n",
       "    </tr>\n",
       "  </tbody>\n",
       "</table>\n",
       "<p>11090 rows × 3 columns</p>\n",
       "</div>"
      ],
      "text/plain": [
       "       userId                                              genre       ILS\n",
       "0           0  [[Crime, Mystery, Thriller], [Action, Crime, T...  0.198730\n",
       "1           1  [[Crime, Mystery, Thriller], [Adventure, Film-...  0.093704\n",
       "2           2  [[Action, Adventure, Mystery, Romance, Thrille...  0.085926\n",
       "3           3  [[Action, Adventure, Sci-Fi], [Action, Adventu...  0.125212\n",
       "4           4  [[Action, Adventure, Mystery, Romance, Thrille...  0.158466\n",
       "...       ...                                                ...       ...\n",
       "11085   11085  [[Action, Adventure, Sci-Fi], [Crime, Mystery,...  0.157249\n",
       "11086   11086  [[Action, Adventure, Sci-Fi], [Crime, Mystery,...  0.158889\n",
       "11087   11087  [[Documentary], [Action, Crime, Thriller], [Co...  0.148757\n",
       "11088   11088  [[Crime, Mystery, Thriller], [Comedy, Drama, R...  0.142884\n",
       "11089   11089  [[Action, Adventure, Sci-Fi], [Crime, Mystery,...  0.160423\n",
       "\n",
       "[11090 rows x 3 columns]"
      ]
     },
     "execution_count": 38,
     "metadata": {},
     "output_type": "execute_result"
    }
   ],
   "source": [
    "user_recs_with_ils"
   ]
  },
  {
   "cell_type": "markdown",
   "id": "76cf2e0d",
   "metadata": {},
   "source": [
    "***c)*** Aplique a função que implementou no item (b) para calcular a ILS das recomendações geradas pelos algoritmos ItemKNN e ItemAttributeKNN. Compare os resultados de todos os algoritmos, verificando inclusive o que acontece com a acurácia (precisão, MAP ou NDCG) quando a diversidade aumenta ou diminui."
   ]
  },
  {
   "cell_type": "markdown",
   "id": "69e6b805-8815-44dd-9b97-54d34cf326d4",
   "metadata": {},
   "source": [
    "**Resposta**: estranhamente, não observei diferença no ILS entre os métodos, mesmo o MAP sendo menor para o método BPR.\n",
    "\n",
    "Em teoria, faz sentido existir um certo tradeoff entre ILS e metrica de acuracia, já que introduzir diversidade pode trazer a tona itens inesperados para o usuário, que não acha o item relevante. Calculando a correlação entre ILS e AP para BPR, observamos uma correlação ligeiramente negativa, o que faz sentido, mas é uma correlação basicamente espúria.\n",
    "\n",
    "Como observado usuario a usuario, ou globalmente para cada metodo, não parece ter sido observado um comportamento claro de tradeoff entre ILS e AP ou ILS mediano e MAP.\n",
    "\n",
    "Essa invariância de diversidade perante a métrica de precisão poderia ser explicada por não existir muita diversidade de gêneros na base de treino.\n",
    "\n"
   ]
  },
  {
   "cell_type": "code",
   "execution_count": 39,
   "id": "55912ddc-a79f-412e-838e-07142b5ded06",
   "metadata": {},
   "outputs": [],
   "source": [
    "def create_AP_col(metrics_df, recs_df):\n",
    "    df_copy = metrics_df.copy()\n",
    "    df_copy['AP'] = metrics_df.apply(lambda r: average_precision(r.userId, recs_df=recs_df, test_df=test), axis=1)\n",
    "    return df_copy"
   ]
  },
  {
   "cell_type": "code",
   "execution_count": 40,
   "id": "52059a74-868a-43c8-ad5f-d5bc533159ee",
   "metadata": {},
   "outputs": [],
   "source": [
    "def MAP(metrics_df):\n",
    "    return np.mean(metrics_df['AP'])"
   ]
  },
  {
   "cell_type": "code",
   "execution_count": 41,
   "id": "daf01d42-bfbd-42de-a377-9ca17be2c245",
   "metadata": {},
   "outputs": [],
   "source": [
    "def median_ILS(metrics_df):\n",
    "    return np.median(metrics_df['ILS'])"
   ]
  },
  {
   "cell_type": "code",
   "execution_count": 42,
   "id": "07e239d9-5362-4cc8-8e81-5c65dd2af33a",
   "metadata": {},
   "outputs": [],
   "source": [
    "from caserec.recommenders.rating_prediction.itemknn import ItemKNN"
   ]
  },
  {
   "cell_type": "markdown",
   "id": "98766fbb-3aca-4ae7-88f6-f3b715dfa357",
   "metadata": {},
   "source": [
    "Gerando dados"
   ]
  },
  {
   "cell_type": "code",
   "execution_count": 43,
   "id": "f6fa1ee5-abe4-4efc-894a-3a64237e5b62",
   "metadata": {},
   "outputs": [
    {
     "name": "stdout",
     "output_type": "stream",
     "text": [
      "[Case Recommender: Item Recommendation > BPRMF]\n",
      "\n",
      "train data:: 11090 users and 405 items (152496 interactions) | sparsity:: 96.60%\n",
      "test data:: 10571 users and 331 items (38125 interactions) | sparsity:: 98.91%\n",
      "\n",
      "training_time:: 110.837018 sec\n",
      "prediction_time:: 2.617985 sec\n",
      "\n",
      "\n",
      "Eval:: PREC@1: 0.381421 PREC@3: 0.272349 PREC@5: 0.231123 PREC@10: 0.176133 RECALL@1: 0.124257 RECALL@3: 0.250707 RECALL@5: 0.348083 RECALL@10: 0.516215 MAP@1: 0.381421 MAP@3: 0.466441 MAP@5: 0.474827 MAP@10: 0.451298 NDCG@1: 0.381421 NDCG@3: 0.547925 NDCG@5: 0.57522 NDCG@10: 0.576019 \n"
     ]
    }
   ],
   "source": [
    "BprMF('train.dat', 'test.dat', 'ir_bprmf.dat', factors=3).compute()"
   ]
  },
  {
   "cell_type": "code",
   "execution_count": 44,
   "id": "d831fbb4-9980-491d-9e0d-6382686b4a2c",
   "metadata": {},
   "outputs": [
    {
     "name": "stdout",
     "output_type": "stream",
     "text": [
      "[Case Recommender: Rating Prediction > Item Attribute KNN Algorithm]\n",
      "\n",
      "train data:: 11090 users and 405 items (152496 interactions) | sparsity:: 96.60%\n",
      "test data:: 10571 users and 331 items (38125 interactions) | sparsity:: 98.91%\n",
      "\n",
      "training_time:: 4.685502 sec\n",
      ">> metadata:: 417 items and 20 metadata (890 interactions) | sparsity:: 89.33%\n",
      "prediction_time:: 0.335413 sec\n",
      "Eval:: MAE: 0.716087 RMSE: 0.94166 \n"
     ]
    }
   ],
   "source": [
    "ItemAttributeKNN('train.dat', 'test.dat', metadata_file='items_genres.dat', output_file='item_attribute_knn.dat', k_neighbors=3, as_similar_first=True).compute()"
   ]
  },
  {
   "cell_type": "code",
   "execution_count": 45,
   "id": "46dee9f6-2aac-46ac-9faf-8d58ee3d0edd",
   "metadata": {},
   "outputs": [
    {
     "name": "stdout",
     "output_type": "stream",
     "text": [
      "[Case Recommender: Rating Prediction > ItemKNN Algorithm]\n",
      "\n",
      "train data:: 11090 users and 405 items (152496 interactions) | sparsity:: 96.60%\n",
      "test data:: 10571 users and 331 items (38125 interactions) | sparsity:: 98.91%\n",
      "\n",
      "training_time:: 4.191296 sec\n",
      "prediction_time:: 0.630935 sec\n",
      "Eval:: MAE: 0.742235 RMSE: 0.982043 \n"
     ]
    }
   ],
   "source": [
    "ItemKNN('train.dat', 'test.dat', output_file='item_knn.dat', k_neighbors=3, as_similar_first=True).compute()"
   ]
  },
  {
   "cell_type": "markdown",
   "id": "c75156ce-e6c6-4116-9ae4-d18e9ca9f517",
   "metadata": {},
   "source": [
    "Leitura"
   ]
  },
  {
   "cell_type": "code",
   "execution_count": 46,
   "id": "67189b6a-de27-44b7-aeaf-de6a7c3c3230",
   "metadata": {},
   "outputs": [],
   "source": [
    "recs_item_attribute = pd.read_csv('./item_attribute_knn.dat', sep='\\t', names=['userId', 'movieId', 'score'])"
   ]
  },
  {
   "cell_type": "code",
   "execution_count": 47,
   "id": "22d8e2c1-3b3a-44f3-a749-2c0dd9a2e044",
   "metadata": {},
   "outputs": [
    {
     "data": {
      "text/html": [
       "<div>\n",
       "<style scoped>\n",
       "    .dataframe tbody tr th:only-of-type {\n",
       "        vertical-align: middle;\n",
       "    }\n",
       "\n",
       "    .dataframe tbody tr th {\n",
       "        vertical-align: top;\n",
       "    }\n",
       "\n",
       "    .dataframe thead th {\n",
       "        text-align: right;\n",
       "    }\n",
       "</style>\n",
       "<table border=\"1\" class=\"dataframe\">\n",
       "  <thead>\n",
       "    <tr style=\"text-align: right;\">\n",
       "      <th></th>\n",
       "      <th>userId</th>\n",
       "      <th>movieId</th>\n",
       "      <th>score</th>\n",
       "    </tr>\n",
       "  </thead>\n",
       "  <tbody>\n",
       "    <tr>\n",
       "      <th>0</th>\n",
       "      <td>0</td>\n",
       "      <td>0</td>\n",
       "      <td>3.863712</td>\n",
       "    </tr>\n",
       "    <tr>\n",
       "      <th>1</th>\n",
       "      <td>0</td>\n",
       "      <td>5</td>\n",
       "      <td>4.159026</td>\n",
       "    </tr>\n",
       "    <tr>\n",
       "      <th>2</th>\n",
       "      <td>1</td>\n",
       "      <td>13</td>\n",
       "      <td>3.631619</td>\n",
       "    </tr>\n",
       "    <tr>\n",
       "      <th>3</th>\n",
       "      <td>1</td>\n",
       "      <td>14</td>\n",
       "      <td>3.782424</td>\n",
       "    </tr>\n",
       "    <tr>\n",
       "      <th>4</th>\n",
       "      <td>1</td>\n",
       "      <td>16</td>\n",
       "      <td>3.188857</td>\n",
       "    </tr>\n",
       "    <tr>\n",
       "      <th>...</th>\n",
       "      <td>...</td>\n",
       "      <td>...</td>\n",
       "      <td>...</td>\n",
       "    </tr>\n",
       "    <tr>\n",
       "      <th>38120</th>\n",
       "      <td>11088</td>\n",
       "      <td>21</td>\n",
       "      <td>3.676758</td>\n",
       "    </tr>\n",
       "    <tr>\n",
       "      <th>38121</th>\n",
       "      <td>11089</td>\n",
       "      <td>12</td>\n",
       "      <td>4.391416</td>\n",
       "    </tr>\n",
       "    <tr>\n",
       "      <th>38122</th>\n",
       "      <td>11089</td>\n",
       "      <td>21</td>\n",
       "      <td>3.416535</td>\n",
       "    </tr>\n",
       "    <tr>\n",
       "      <th>38123</th>\n",
       "      <td>11089</td>\n",
       "      <td>57</td>\n",
       "      <td>2.899903</td>\n",
       "    </tr>\n",
       "    <tr>\n",
       "      <th>38124</th>\n",
       "      <td>11089</td>\n",
       "      <td>108</td>\n",
       "      <td>4.001485</td>\n",
       "    </tr>\n",
       "  </tbody>\n",
       "</table>\n",
       "<p>38125 rows × 3 columns</p>\n",
       "</div>"
      ],
      "text/plain": [
       "       userId  movieId     score\n",
       "0           0        0  3.863712\n",
       "1           0        5  4.159026\n",
       "2           1       13  3.631619\n",
       "3           1       14  3.782424\n",
       "4           1       16  3.188857\n",
       "...       ...      ...       ...\n",
       "38120   11088       21  3.676758\n",
       "38121   11089       12  4.391416\n",
       "38122   11089       21  3.416535\n",
       "38123   11089       57  2.899903\n",
       "38124   11089      108  4.001485\n",
       "\n",
       "[38125 rows x 3 columns]"
      ]
     },
     "execution_count": 47,
     "metadata": {},
     "output_type": "execute_result"
    }
   ],
   "source": [
    "recs_item_attribute"
   ]
  },
  {
   "cell_type": "code",
   "execution_count": 48,
   "id": "96dcc764-74d7-4f4f-a896-6103e9e8ef91",
   "metadata": {},
   "outputs": [],
   "source": [
    "recs_item_knn = pd.read_csv('./item_knn.dat', sep='\\t', names=['userId', 'movieId', 'score'])"
   ]
  },
  {
   "cell_type": "code",
   "execution_count": 49,
   "id": "b3261203-1c10-4ba7-abf9-f1d000db972f",
   "metadata": {},
   "outputs": [
    {
     "data": {
      "text/html": [
       "<div>\n",
       "<style scoped>\n",
       "    .dataframe tbody tr th:only-of-type {\n",
       "        vertical-align: middle;\n",
       "    }\n",
       "\n",
       "    .dataframe tbody tr th {\n",
       "        vertical-align: top;\n",
       "    }\n",
       "\n",
       "    .dataframe thead th {\n",
       "        text-align: right;\n",
       "    }\n",
       "</style>\n",
       "<table border=\"1\" class=\"dataframe\">\n",
       "  <thead>\n",
       "    <tr style=\"text-align: right;\">\n",
       "      <th></th>\n",
       "      <th>userId</th>\n",
       "      <th>movieId</th>\n",
       "      <th>score</th>\n",
       "    </tr>\n",
       "  </thead>\n",
       "  <tbody>\n",
       "    <tr>\n",
       "      <th>0</th>\n",
       "      <td>0</td>\n",
       "      <td>0</td>\n",
       "      <td>4.499334</td>\n",
       "    </tr>\n",
       "    <tr>\n",
       "      <th>1</th>\n",
       "      <td>0</td>\n",
       "      <td>5</td>\n",
       "      <td>4.159026</td>\n",
       "    </tr>\n",
       "    <tr>\n",
       "      <th>2</th>\n",
       "      <td>1</td>\n",
       "      <td>13</td>\n",
       "      <td>4.891167</td>\n",
       "    </tr>\n",
       "    <tr>\n",
       "      <th>3</th>\n",
       "      <td>1</td>\n",
       "      <td>14</td>\n",
       "      <td>4.764759</td>\n",
       "    </tr>\n",
       "    <tr>\n",
       "      <th>4</th>\n",
       "      <td>1</td>\n",
       "      <td>16</td>\n",
       "      <td>3.885790</td>\n",
       "    </tr>\n",
       "    <tr>\n",
       "      <th>...</th>\n",
       "      <td>...</td>\n",
       "      <td>...</td>\n",
       "      <td>...</td>\n",
       "    </tr>\n",
       "    <tr>\n",
       "      <th>38120</th>\n",
       "      <td>11088</td>\n",
       "      <td>21</td>\n",
       "      <td>4.330219</td>\n",
       "    </tr>\n",
       "    <tr>\n",
       "      <th>38121</th>\n",
       "      <td>11089</td>\n",
       "      <td>12</td>\n",
       "      <td>5.000000</td>\n",
       "    </tr>\n",
       "    <tr>\n",
       "      <th>38122</th>\n",
       "      <td>11089</td>\n",
       "      <td>21</td>\n",
       "      <td>3.416535</td>\n",
       "    </tr>\n",
       "    <tr>\n",
       "      <th>38123</th>\n",
       "      <td>11089</td>\n",
       "      <td>57</td>\n",
       "      <td>2.899903</td>\n",
       "    </tr>\n",
       "    <tr>\n",
       "      <th>38124</th>\n",
       "      <td>11089</td>\n",
       "      <td>108</td>\n",
       "      <td>4.001485</td>\n",
       "    </tr>\n",
       "  </tbody>\n",
       "</table>\n",
       "<p>38125 rows × 3 columns</p>\n",
       "</div>"
      ],
      "text/plain": [
       "       userId  movieId     score\n",
       "0           0        0  4.499334\n",
       "1           0        5  4.159026\n",
       "2           1       13  4.891167\n",
       "3           1       14  4.764759\n",
       "4           1       16  3.885790\n",
       "...       ...      ...       ...\n",
       "38120   11088       21  4.330219\n",
       "38121   11089       12  5.000000\n",
       "38122   11089       21  3.416535\n",
       "38123   11089       57  2.899903\n",
       "38124   11089      108  4.001485\n",
       "\n",
       "[38125 rows x 3 columns]"
      ]
     },
     "execution_count": 49,
     "metadata": {},
     "output_type": "execute_result"
    }
   ],
   "source": [
    "recs_item_knn"
   ]
  },
  {
   "cell_type": "code",
   "execution_count": 50,
   "id": "5950001c-ba88-480a-b4ea-035da06c1cd2",
   "metadata": {},
   "outputs": [],
   "source": [
    "recs = pd.read_csv('./ir_bprmf.dat', sep='\\t', names=['userId', 'movieId', 'score'])"
   ]
  },
  {
   "cell_type": "markdown",
   "id": "0a9740f4-8210-4fe4-b0af-1f042a8c3395",
   "metadata": {},
   "source": [
    "Recupera o genero de cada filme"
   ]
  },
  {
   "cell_type": "code",
   "execution_count": 51,
   "id": "8475335b-63fa-4236-a008-2d80f5c2ecb1",
   "metadata": {},
   "outputs": [],
   "source": [
    "genres_per_user_item_attribute = get_genres_recommended_per_user(recs_item_attribute)"
   ]
  },
  {
   "cell_type": "code",
   "execution_count": 52,
   "id": "1c0123a2-3edd-4695-a0db-60e76a05dd4d",
   "metadata": {},
   "outputs": [],
   "source": [
    "genres_per_user_item_knn = get_genres_recommended_per_user(recs_item_knn)"
   ]
  },
  {
   "cell_type": "code",
   "execution_count": 53,
   "id": "d9d8fe21-53d7-4398-ad4d-ffd09222feb3",
   "metadata": {},
   "outputs": [],
   "source": [
    "genres_per_user =  get_genres_recommended_per_user(recs)"
   ]
  },
  {
   "cell_type": "markdown",
   "id": "c9824df8-d762-4c84-9a2e-45e24c8518fa",
   "metadata": {},
   "source": [
    "Calcula o ILS e AP por usuário"
   ]
  },
  {
   "cell_type": "code",
   "execution_count": 54,
   "id": "6c4e5126-5b85-4b47-990b-572116846428",
   "metadata": {},
   "outputs": [],
   "source": [
    "item_attribute_metrics = create_AP_col(\n",
    "                                metrics_df=get_ils_metric(genres_per_user_item_attribute), recs_df=recs_item_attribute\n",
    ")"
   ]
  },
  {
   "cell_type": "code",
   "execution_count": 55,
   "id": "8c35fa76-be25-40a1-a7b6-9f48d47b5efc",
   "metadata": {},
   "outputs": [],
   "source": [
    "item_knn_metrics = create_AP_col(\n",
    "                                metrics_df=get_ils_metric(genres_per_user_item_knn), recs_df=recs_item_knn\n",
    ")"
   ]
  },
  {
   "cell_type": "code",
   "execution_count": 56,
   "id": "fc13ba73-01d7-489e-aa9b-59b2ed83893a",
   "metadata": {},
   "outputs": [],
   "source": [
    "BPR_metrics = create_AP_col(\n",
    "                                metrics_df=get_ils_metric(genres_per_user), recs_df=recs\n",
    ")"
   ]
  },
  {
   "cell_type": "code",
   "execution_count": 57,
   "id": "6f10ecf3-795a-4f93-84ba-30a158cda121",
   "metadata": {},
   "outputs": [
    {
     "data": {
      "text/html": [
       "<div>\n",
       "<style scoped>\n",
       "    .dataframe tbody tr th:only-of-type {\n",
       "        vertical-align: middle;\n",
       "    }\n",
       "\n",
       "    .dataframe tbody tr th {\n",
       "        vertical-align: top;\n",
       "    }\n",
       "\n",
       "    .dataframe thead th {\n",
       "        text-align: right;\n",
       "    }\n",
       "</style>\n",
       "<table border=\"1\" class=\"dataframe\">\n",
       "  <thead>\n",
       "    <tr style=\"text-align: right;\">\n",
       "      <th></th>\n",
       "      <th>userId</th>\n",
       "      <th>genre</th>\n",
       "      <th>ILS</th>\n",
       "      <th>AP</th>\n",
       "    </tr>\n",
       "  </thead>\n",
       "  <tbody>\n",
       "    <tr>\n",
       "      <th>0</th>\n",
       "      <td>0</td>\n",
       "      <td>[[Crime, Mystery, Thriller], [Action, Crime, T...</td>\n",
       "      <td>0.233466</td>\n",
       "      <td>0.266667</td>\n",
       "    </tr>\n",
       "    <tr>\n",
       "      <th>1</th>\n",
       "      <td>1</td>\n",
       "      <td>[[Crime, Mystery, Thriller], [Drama, Romance],...</td>\n",
       "      <td>0.222963</td>\n",
       "      <td>0.634921</td>\n",
       "    </tr>\n",
       "    <tr>\n",
       "      <th>2</th>\n",
       "      <td>2</td>\n",
       "      <td>[[Adventure, Film-Noir, Sci-Fi, Thriller], [Ac...</td>\n",
       "      <td>0.085926</td>\n",
       "      <td>0.250000</td>\n",
       "    </tr>\n",
       "    <tr>\n",
       "      <th>3</th>\n",
       "      <td>3</td>\n",
       "      <td>[[Action, Adventure, Sci-Fi], [Action, Crime, ...</td>\n",
       "      <td>0.151508</td>\n",
       "      <td>0.492857</td>\n",
       "    </tr>\n",
       "    <tr>\n",
       "      <th>4</th>\n",
       "      <td>4</td>\n",
       "      <td>[[Action, Crime, Thriller], [Action, Adventure...</td>\n",
       "      <td>0.235185</td>\n",
       "      <td>0.111111</td>\n",
       "    </tr>\n",
       "    <tr>\n",
       "      <th>...</th>\n",
       "      <td>...</td>\n",
       "      <td>...</td>\n",
       "      <td>...</td>\n",
       "      <td>...</td>\n",
       "    </tr>\n",
       "    <tr>\n",
       "      <th>11085</th>\n",
       "      <td>11085</td>\n",
       "      <td>[[Action, Adventure, Sci-Fi], [Crime, Mystery,...</td>\n",
       "      <td>0.157249</td>\n",
       "      <td>0.866667</td>\n",
       "    </tr>\n",
       "    <tr>\n",
       "      <th>11086</th>\n",
       "      <td>11086</td>\n",
       "      <td>[[Action, Adventure, Sci-Fi], [Action, Adventu...</td>\n",
       "      <td>0.188148</td>\n",
       "      <td>0.111111</td>\n",
       "    </tr>\n",
       "    <tr>\n",
       "      <th>11087</th>\n",
       "      <td>11087</td>\n",
       "      <td>[[Documentary], [Comedy, Drama, Romance, War],...</td>\n",
       "      <td>0.133915</td>\n",
       "      <td>0.777778</td>\n",
       "    </tr>\n",
       "    <tr>\n",
       "      <th>11088</th>\n",
       "      <td>11088</td>\n",
       "      <td>[[Crime, Mystery, Thriller], [Comedy], [Comedy...</td>\n",
       "      <td>0.326296</td>\n",
       "      <td>0.277778</td>\n",
       "    </tr>\n",
       "    <tr>\n",
       "      <th>11089</th>\n",
       "      <td>11089</td>\n",
       "      <td>[[Action, Adventure, Sci-Fi], [Crime, Mystery,...</td>\n",
       "      <td>0.175000</td>\n",
       "      <td>0.625000</td>\n",
       "    </tr>\n",
       "  </tbody>\n",
       "</table>\n",
       "<p>11090 rows × 4 columns</p>\n",
       "</div>"
      ],
      "text/plain": [
       "       userId                                              genre       ILS  \\\n",
       "0           0  [[Crime, Mystery, Thriller], [Action, Crime, T...  0.233466   \n",
       "1           1  [[Crime, Mystery, Thriller], [Drama, Romance],...  0.222963   \n",
       "2           2  [[Adventure, Film-Noir, Sci-Fi, Thriller], [Ac...  0.085926   \n",
       "3           3  [[Action, Adventure, Sci-Fi], [Action, Crime, ...  0.151508   \n",
       "4           4  [[Action, Crime, Thriller], [Action, Adventure...  0.235185   \n",
       "...       ...                                                ...       ...   \n",
       "11085   11085  [[Action, Adventure, Sci-Fi], [Crime, Mystery,...  0.157249   \n",
       "11086   11086  [[Action, Adventure, Sci-Fi], [Action, Adventu...  0.188148   \n",
       "11087   11087  [[Documentary], [Comedy, Drama, Romance, War],...  0.133915   \n",
       "11088   11088  [[Crime, Mystery, Thriller], [Comedy], [Comedy...  0.326296   \n",
       "11089   11089  [[Action, Adventure, Sci-Fi], [Crime, Mystery,...  0.175000   \n",
       "\n",
       "             AP  \n",
       "0      0.266667  \n",
       "1      0.634921  \n",
       "2      0.250000  \n",
       "3      0.492857  \n",
       "4      0.111111  \n",
       "...         ...  \n",
       "11085  0.866667  \n",
       "11086  0.111111  \n",
       "11087  0.777778  \n",
       "11088  0.277778  \n",
       "11089  0.625000  \n",
       "\n",
       "[11090 rows x 4 columns]"
      ]
     },
     "execution_count": 57,
     "metadata": {},
     "output_type": "execute_result"
    }
   ],
   "source": [
    "BPR_metrics"
   ]
  },
  {
   "cell_type": "code",
   "execution_count": 58,
   "id": "47cb415e-21d1-49f9-93fe-fb7870091102",
   "metadata": {},
   "outputs": [
    {
     "data": {
      "text/html": [
       "<div>\n",
       "<style scoped>\n",
       "    .dataframe tbody tr th:only-of-type {\n",
       "        vertical-align: middle;\n",
       "    }\n",
       "\n",
       "    .dataframe tbody tr th {\n",
       "        vertical-align: top;\n",
       "    }\n",
       "\n",
       "    .dataframe thead th {\n",
       "        text-align: right;\n",
       "    }\n",
       "</style>\n",
       "<table border=\"1\" class=\"dataframe\">\n",
       "  <thead>\n",
       "    <tr style=\"text-align: right;\">\n",
       "      <th></th>\n",
       "      <th>userId</th>\n",
       "      <th>genre</th>\n",
       "      <th>ILS</th>\n",
       "      <th>AP</th>\n",
       "    </tr>\n",
       "  </thead>\n",
       "  <tbody>\n",
       "    <tr>\n",
       "      <th>0</th>\n",
       "      <td>0</td>\n",
       "      <td>[[Adventure, Drama, Sci-Fi], [Action, Adventur...</td>\n",
       "      <td>0.233466</td>\n",
       "      <td>1.0</td>\n",
       "    </tr>\n",
       "    <tr>\n",
       "      <th>1</th>\n",
       "      <td>1</td>\n",
       "      <td>[[Drama, Romance], [Comedy, Crime], [Action, C...</td>\n",
       "      <td>0.222963</td>\n",
       "      <td>1.0</td>\n",
       "    </tr>\n",
       "    <tr>\n",
       "      <th>2</th>\n",
       "      <td>2</td>\n",
       "      <td>[[Drama, Mystery, Romance, Thriller]]</td>\n",
       "      <td>0.085926</td>\n",
       "      <td>1.0</td>\n",
       "    </tr>\n",
       "    <tr>\n",
       "      <th>3</th>\n",
       "      <td>3</td>\n",
       "      <td>[[Action, Adventure, Sci-Fi, Thriller], [Actio...</td>\n",
       "      <td>0.151508</td>\n",
       "      <td>1.0</td>\n",
       "    </tr>\n",
       "    <tr>\n",
       "      <th>4</th>\n",
       "      <td>4</td>\n",
       "      <td>[[Comedy, Drama]]</td>\n",
       "      <td>0.235185</td>\n",
       "      <td>1.0</td>\n",
       "    </tr>\n",
       "    <tr>\n",
       "      <th>...</th>\n",
       "      <td>...</td>\n",
       "      <td>...</td>\n",
       "      <td>...</td>\n",
       "      <td>...</td>\n",
       "    </tr>\n",
       "    <tr>\n",
       "      <th>10566</th>\n",
       "      <td>11085</td>\n",
       "      <td>[[Adventure, Film-Noir, Sci-Fi, Thriller], [Ac...</td>\n",
       "      <td>0.157249</td>\n",
       "      <td>1.0</td>\n",
       "    </tr>\n",
       "    <tr>\n",
       "      <th>10567</th>\n",
       "      <td>11086</td>\n",
       "      <td>[[Drama], [Comedy, Drama, Romance]]</td>\n",
       "      <td>0.188148</td>\n",
       "      <td>1.0</td>\n",
       "    </tr>\n",
       "    <tr>\n",
       "      <th>10568</th>\n",
       "      <td>11087</td>\n",
       "      <td>[[Documentary], [Adventure, Film-Noir, Sci-Fi,...</td>\n",
       "      <td>0.133915</td>\n",
       "      <td>1.0</td>\n",
       "    </tr>\n",
       "    <tr>\n",
       "      <th>10569</th>\n",
       "      <td>11088</td>\n",
       "      <td>[[Drama], [Comedy, Romance], [Drama, Mystery, ...</td>\n",
       "      <td>0.326296</td>\n",
       "      <td>1.0</td>\n",
       "    </tr>\n",
       "    <tr>\n",
       "      <th>10570</th>\n",
       "      <td>11089</td>\n",
       "      <td>[[Action, Adventure, Sci-Fi], [Drama, Mystery,...</td>\n",
       "      <td>0.175000</td>\n",
       "      <td>1.0</td>\n",
       "    </tr>\n",
       "  </tbody>\n",
       "</table>\n",
       "<p>10571 rows × 4 columns</p>\n",
       "</div>"
      ],
      "text/plain": [
       "       userId                                              genre       ILS  \\\n",
       "0           0  [[Adventure, Drama, Sci-Fi], [Action, Adventur...  0.233466   \n",
       "1           1  [[Drama, Romance], [Comedy, Crime], [Action, C...  0.222963   \n",
       "2           2              [[Drama, Mystery, Romance, Thriller]]  0.085926   \n",
       "3           3  [[Action, Adventure, Sci-Fi, Thriller], [Actio...  0.151508   \n",
       "4           4                                  [[Comedy, Drama]]  0.235185   \n",
       "...       ...                                                ...       ...   \n",
       "10566   11085  [[Adventure, Film-Noir, Sci-Fi, Thriller], [Ac...  0.157249   \n",
       "10567   11086                [[Drama], [Comedy, Drama, Romance]]  0.188148   \n",
       "10568   11087  [[Documentary], [Adventure, Film-Noir, Sci-Fi,...  0.133915   \n",
       "10569   11088  [[Drama], [Comedy, Romance], [Drama, Mystery, ...  0.326296   \n",
       "10570   11089  [[Action, Adventure, Sci-Fi], [Drama, Mystery,...  0.175000   \n",
       "\n",
       "        AP  \n",
       "0      1.0  \n",
       "1      1.0  \n",
       "2      1.0  \n",
       "3      1.0  \n",
       "4      1.0  \n",
       "...    ...  \n",
       "10566  1.0  \n",
       "10567  1.0  \n",
       "10568  1.0  \n",
       "10569  1.0  \n",
       "10570  1.0  \n",
       "\n",
       "[10571 rows x 4 columns]"
      ]
     },
     "execution_count": 58,
     "metadata": {},
     "output_type": "execute_result"
    }
   ],
   "source": [
    "item_knn_metrics"
   ]
  },
  {
   "cell_type": "code",
   "execution_count": 59,
   "id": "eb95f54e-b994-4175-a4e4-c2ae6b675d44",
   "metadata": {},
   "outputs": [
    {
     "data": {
      "text/html": [
       "<div>\n",
       "<style scoped>\n",
       "    .dataframe tbody tr th:only-of-type {\n",
       "        vertical-align: middle;\n",
       "    }\n",
       "\n",
       "    .dataframe tbody tr th {\n",
       "        vertical-align: top;\n",
       "    }\n",
       "\n",
       "    .dataframe thead th {\n",
       "        text-align: right;\n",
       "    }\n",
       "</style>\n",
       "<table border=\"1\" class=\"dataframe\">\n",
       "  <thead>\n",
       "    <tr style=\"text-align: right;\">\n",
       "      <th></th>\n",
       "      <th>userId</th>\n",
       "      <th>genre</th>\n",
       "      <th>ILS</th>\n",
       "      <th>AP</th>\n",
       "    </tr>\n",
       "  </thead>\n",
       "  <tbody>\n",
       "    <tr>\n",
       "      <th>0</th>\n",
       "      <td>0</td>\n",
       "      <td>[[Adventure, Drama, Sci-Fi], [Action, Adventur...</td>\n",
       "      <td>0.233466</td>\n",
       "      <td>1.0</td>\n",
       "    </tr>\n",
       "    <tr>\n",
       "      <th>1</th>\n",
       "      <td>1</td>\n",
       "      <td>[[Drama, Romance], [Comedy, Crime], [Action, C...</td>\n",
       "      <td>0.222963</td>\n",
       "      <td>1.0</td>\n",
       "    </tr>\n",
       "    <tr>\n",
       "      <th>2</th>\n",
       "      <td>2</td>\n",
       "      <td>[[Drama, Mystery, Romance, Thriller]]</td>\n",
       "      <td>0.085926</td>\n",
       "      <td>1.0</td>\n",
       "    </tr>\n",
       "    <tr>\n",
       "      <th>3</th>\n",
       "      <td>3</td>\n",
       "      <td>[[Action, Adventure, Sci-Fi, Thriller], [Actio...</td>\n",
       "      <td>0.151508</td>\n",
       "      <td>1.0</td>\n",
       "    </tr>\n",
       "    <tr>\n",
       "      <th>4</th>\n",
       "      <td>4</td>\n",
       "      <td>[[Comedy, Drama]]</td>\n",
       "      <td>0.235185</td>\n",
       "      <td>1.0</td>\n",
       "    </tr>\n",
       "    <tr>\n",
       "      <th>...</th>\n",
       "      <td>...</td>\n",
       "      <td>...</td>\n",
       "      <td>...</td>\n",
       "      <td>...</td>\n",
       "    </tr>\n",
       "    <tr>\n",
       "      <th>10566</th>\n",
       "      <td>11085</td>\n",
       "      <td>[[Adventure, Film-Noir, Sci-Fi, Thriller], [Ac...</td>\n",
       "      <td>0.157249</td>\n",
       "      <td>1.0</td>\n",
       "    </tr>\n",
       "    <tr>\n",
       "      <th>10567</th>\n",
       "      <td>11086</td>\n",
       "      <td>[[Drama], [Comedy, Drama, Romance]]</td>\n",
       "      <td>0.188148</td>\n",
       "      <td>1.0</td>\n",
       "    </tr>\n",
       "    <tr>\n",
       "      <th>10568</th>\n",
       "      <td>11087</td>\n",
       "      <td>[[Documentary], [Adventure, Film-Noir, Sci-Fi,...</td>\n",
       "      <td>0.133915</td>\n",
       "      <td>1.0</td>\n",
       "    </tr>\n",
       "    <tr>\n",
       "      <th>10569</th>\n",
       "      <td>11088</td>\n",
       "      <td>[[Drama], [Comedy, Romance], [Drama, Mystery, ...</td>\n",
       "      <td>0.326296</td>\n",
       "      <td>1.0</td>\n",
       "    </tr>\n",
       "    <tr>\n",
       "      <th>10570</th>\n",
       "      <td>11089</td>\n",
       "      <td>[[Action, Adventure, Sci-Fi], [Drama, Mystery,...</td>\n",
       "      <td>0.175000</td>\n",
       "      <td>1.0</td>\n",
       "    </tr>\n",
       "  </tbody>\n",
       "</table>\n",
       "<p>10571 rows × 4 columns</p>\n",
       "</div>"
      ],
      "text/plain": [
       "       userId                                              genre       ILS  \\\n",
       "0           0  [[Adventure, Drama, Sci-Fi], [Action, Adventur...  0.233466   \n",
       "1           1  [[Drama, Romance], [Comedy, Crime], [Action, C...  0.222963   \n",
       "2           2              [[Drama, Mystery, Romance, Thriller]]  0.085926   \n",
       "3           3  [[Action, Adventure, Sci-Fi, Thriller], [Actio...  0.151508   \n",
       "4           4                                  [[Comedy, Drama]]  0.235185   \n",
       "...       ...                                                ...       ...   \n",
       "10566   11085  [[Adventure, Film-Noir, Sci-Fi, Thriller], [Ac...  0.157249   \n",
       "10567   11086                [[Drama], [Comedy, Drama, Romance]]  0.188148   \n",
       "10568   11087  [[Documentary], [Adventure, Film-Noir, Sci-Fi,...  0.133915   \n",
       "10569   11088  [[Drama], [Comedy, Romance], [Drama, Mystery, ...  0.326296   \n",
       "10570   11089  [[Action, Adventure, Sci-Fi], [Drama, Mystery,...  0.175000   \n",
       "\n",
       "        AP  \n",
       "0      1.0  \n",
       "1      1.0  \n",
       "2      1.0  \n",
       "3      1.0  \n",
       "4      1.0  \n",
       "...    ...  \n",
       "10566  1.0  \n",
       "10567  1.0  \n",
       "10568  1.0  \n",
       "10569  1.0  \n",
       "10570  1.0  \n",
       "\n",
       "[10571 rows x 4 columns]"
      ]
     },
     "execution_count": 59,
     "metadata": {},
     "output_type": "execute_result"
    }
   ],
   "source": [
    "item_attribute_metrics"
   ]
  },
  {
   "cell_type": "code",
   "execution_count": 60,
   "id": "ce276d49-e625-442f-b476-7e2d83e49572",
   "metadata": {},
   "outputs": [
    {
     "data": {
      "text/plain": [
       "(1.0, 0.17415343915343917)"
      ]
     },
     "execution_count": 60,
     "metadata": {},
     "output_type": "execute_result"
    }
   ],
   "source": [
    "MAP(item_attribute_metrics), median_ILS(item_attribute_metrics)"
   ]
  },
  {
   "cell_type": "code",
   "execution_count": 61,
   "id": "beca2b79-136c-4768-bd39-233f7143f3d4",
   "metadata": {},
   "outputs": [
    {
     "data": {
      "text/plain": [
       "(1.0, 0.17415343915343917)"
      ]
     },
     "execution_count": 61,
     "metadata": {},
     "output_type": "execute_result"
    }
   ],
   "source": [
    "MAP(item_knn_metrics), median_ILS(item_knn_metrics)"
   ]
  },
  {
   "cell_type": "code",
   "execution_count": 62,
   "id": "cba15b5a-2b91-4998-8064-101ddd460bab",
   "metadata": {},
   "outputs": [
    {
     "data": {
      "text/plain": [
       "(0.43017751365065277, 0.17428571428571427)"
      ]
     },
     "execution_count": 62,
     "metadata": {},
     "output_type": "execute_result"
    }
   ],
   "source": [
    "MAP(BPR_metrics), median_ILS(BPR_metrics)"
   ]
  },
  {
   "cell_type": "code",
   "execution_count": 63,
   "id": "821013f0-f22e-4695-a412-3704bdd3bfdc",
   "metadata": {},
   "outputs": [
    {
     "data": {
      "text/html": [
       "<div>\n",
       "<style scoped>\n",
       "    .dataframe tbody tr th:only-of-type {\n",
       "        vertical-align: middle;\n",
       "    }\n",
       "\n",
       "    .dataframe tbody tr th {\n",
       "        vertical-align: top;\n",
       "    }\n",
       "\n",
       "    .dataframe thead th {\n",
       "        text-align: right;\n",
       "    }\n",
       "</style>\n",
       "<table border=\"1\" class=\"dataframe\">\n",
       "  <thead>\n",
       "    <tr style=\"text-align: right;\">\n",
       "      <th></th>\n",
       "      <th>ILS</th>\n",
       "      <th>AP</th>\n",
       "    </tr>\n",
       "  </thead>\n",
       "  <tbody>\n",
       "    <tr>\n",
       "      <th>ILS</th>\n",
       "      <td>1.000000</td>\n",
       "      <td>-0.044418</td>\n",
       "    </tr>\n",
       "    <tr>\n",
       "      <th>AP</th>\n",
       "      <td>-0.044418</td>\n",
       "      <td>1.000000</td>\n",
       "    </tr>\n",
       "  </tbody>\n",
       "</table>\n",
       "</div>"
      ],
      "text/plain": [
       "          ILS        AP\n",
       "ILS  1.000000 -0.044418\n",
       "AP  -0.044418  1.000000"
      ]
     },
     "execution_count": 63,
     "metadata": {},
     "output_type": "execute_result"
    }
   ],
   "source": [
    "BPR_metrics[[\"ILS\", \"AP\"]].corr()"
   ]
  },
  {
   "cell_type": "code",
   "execution_count": 64,
   "id": "bf3091d9-2671-4df1-9c69-4417ec83fb00",
   "metadata": {},
   "outputs": [
    {
     "data": {
      "text/html": [
       "<div>\n",
       "<style scoped>\n",
       "    .dataframe tbody tr th:only-of-type {\n",
       "        vertical-align: middle;\n",
       "    }\n",
       "\n",
       "    .dataframe tbody tr th {\n",
       "        vertical-align: top;\n",
       "    }\n",
       "\n",
       "    .dataframe thead th {\n",
       "        text-align: right;\n",
       "    }\n",
       "</style>\n",
       "<table border=\"1\" class=\"dataframe\">\n",
       "  <thead>\n",
       "    <tr style=\"text-align: right;\">\n",
       "      <th></th>\n",
       "      <th>ILS</th>\n",
       "      <th>AP</th>\n",
       "    </tr>\n",
       "  </thead>\n",
       "  <tbody>\n",
       "    <tr>\n",
       "      <th>ILS</th>\n",
       "      <td>1.0</td>\n",
       "      <td>NaN</td>\n",
       "    </tr>\n",
       "    <tr>\n",
       "      <th>AP</th>\n",
       "      <td>NaN</td>\n",
       "      <td>NaN</td>\n",
       "    </tr>\n",
       "  </tbody>\n",
       "</table>\n",
       "</div>"
      ],
      "text/plain": [
       "     ILS  AP\n",
       "ILS  1.0 NaN\n",
       "AP   NaN NaN"
      ]
     },
     "execution_count": 64,
     "metadata": {},
     "output_type": "execute_result"
    }
   ],
   "source": [
    "item_attribute_metrics[[\"ILS\", \"AP\"]].corr()"
   ]
  },
  {
   "cell_type": "code",
   "execution_count": 65,
   "id": "a1775a07-cbf9-4590-a225-c36463704e02",
   "metadata": {},
   "outputs": [
    {
     "data": {
      "text/html": [
       "<div>\n",
       "<style scoped>\n",
       "    .dataframe tbody tr th:only-of-type {\n",
       "        vertical-align: middle;\n",
       "    }\n",
       "\n",
       "    .dataframe tbody tr th {\n",
       "        vertical-align: top;\n",
       "    }\n",
       "\n",
       "    .dataframe thead th {\n",
       "        text-align: right;\n",
       "    }\n",
       "</style>\n",
       "<table border=\"1\" class=\"dataframe\">\n",
       "  <thead>\n",
       "    <tr style=\"text-align: right;\">\n",
       "      <th></th>\n",
       "      <th>ILS</th>\n",
       "      <th>AP</th>\n",
       "    </tr>\n",
       "  </thead>\n",
       "  <tbody>\n",
       "    <tr>\n",
       "      <th>ILS</th>\n",
       "      <td>1.0</td>\n",
       "      <td>NaN</td>\n",
       "    </tr>\n",
       "    <tr>\n",
       "      <th>AP</th>\n",
       "      <td>NaN</td>\n",
       "      <td>NaN</td>\n",
       "    </tr>\n",
       "  </tbody>\n",
       "</table>\n",
       "</div>"
      ],
      "text/plain": [
       "     ILS  AP\n",
       "ILS  1.0 NaN\n",
       "AP   NaN NaN"
      ]
     },
     "execution_count": 65,
     "metadata": {},
     "output_type": "execute_result"
    }
   ],
   "source": [
    "item_knn_metrics[[\"ILS\", \"AP\"]].corr()"
   ]
  }
 ],
 "metadata": {
  "kernelspec": {
   "display_name": "Python 3 (ipykernel)",
   "language": "python",
   "name": "python3"
  },
  "language_info": {
   "codemirror_mode": {
    "name": "ipython",
    "version": 3
   },
   "file_extension": ".py",
   "mimetype": "text/x-python",
   "name": "python",
   "nbconvert_exporter": "python",
   "pygments_lexer": "ipython3",
   "version": "3.10.12"
  }
 },
 "nbformat": 4,
 "nbformat_minor": 5
}
