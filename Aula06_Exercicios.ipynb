{
 "cells": [
  {
   "cell_type": "markdown",
   "id": "58dbcadb",
   "metadata": {},
   "source": [
    "## Aula 06 - Filtragem Híbrida - Exercícios"
   ]
  },
  {
   "cell_type": "code",
   "execution_count": 1,
   "id": "bc39da2a",
   "metadata": {},
   "outputs": [],
   "source": [
    "import pandas as pd\n",
    "import numpy as np"
   ]
  },
  {
   "cell_type": "markdown",
   "id": "6af07eb8",
   "metadata": {},
   "source": [
    "### Importar base de dados"
   ]
  },
  {
   "cell_type": "code",
   "execution_count": 2,
   "id": "e2652d5c",
   "metadata": {},
   "outputs": [
    {
     "name": "stdout",
     "output_type": "stream",
     "text": [
      "100% [....................................................] 65019041 / 65019041\n",
      "Saved under ml-20m-compact.tar (2).gz\n",
      "dataset/\n",
      "dataset/tags_sample.csv\n",
      "dataset/._.DS_Store\n",
      "dataset/.DS_Store\n",
      "dataset/movies_sample.csv\n",
      "dataset/._genome-tags.csv\n",
      "dataset/genome-tags.csv\n",
      "dataset/._ml-youtube.csv\n",
      "dataset/ml-youtube.csv\n",
      "dataset/._genome-scores.csv\n",
      "dataset/genome-scores.csv\n",
      "dataset/ratings_sample.csv\n"
     ]
    }
   ],
   "source": [
    "import wget\n",
    "!python3 -m wget https://github.com/mmanzato/MBABigData/raw/master/ml-20m-compact.tar.gz\n",
    "!tar -xvzf ml-20m-compact.tar.gz"
   ]
  },
  {
   "cell_type": "code",
   "execution_count": 3,
   "id": "283e7b81",
   "metadata": {
    "scrolled": true
   },
   "outputs": [
    {
     "name": "stdout",
     "output_type": "stream",
     "text": [
      "100% [......................................................] 5996435 / 5996435\n",
      "Saved under ml-20m-features.tar (2).gz\n",
      "features/\n",
      "features/._m4infus_max_histogram_300_sn.arq\n",
      "features/m4infus_max_histogram_300_sn.arq\n",
      "features/._mm_avg_histogram_100_sn.arq\n",
      "features/mm_avg_histogram_100_sn.arq\n",
      "features/._visual_histogram_100_sn.arq\n",
      "features/visual_histogram_100_sn.arq\n",
      "features/._visual_histogram_50_sn.arq\n",
      "features/visual_histogram_50_sn.arq\n",
      "features/._aural_histogram_50.arq\n",
      "features/aural_histogram_50.arq\n",
      "features/._mm_max_histogram_300.arq\n",
      "features/mm_max_histogram_300.arq\n",
      "features/._m4infus_max_histogram_50.arq\n",
      "features/m4infus_max_histogram_50.arq\n",
      "features/._mm_max_histogram_100.arq\n",
      "features/mm_max_histogram_100.arq\n",
      "features/._mm_max_histogram_50_sn.arq\n",
      "features/mm_max_histogram_50_sn.arq\n",
      "features/._visual_histogram_100.arq\n",
      "features/visual_histogram_100.arq\n",
      "features/._visual_histogram_300.arq\n",
      "features/visual_histogram_300.arq\n",
      "features/._aural_histogram_100_sn.arq\n",
      "features/aural_histogram_100_sn.arq\n",
      "features/._mm_avg_histogram_100.arq\n",
      "features/mm_avg_histogram_100.arq\n",
      "features/._mm_max_histogram_100_sn.arq\n",
      "features/mm_max_histogram_100_sn.arq\n",
      "features/._mm_sum_histogram_100_sn.arq\n",
      "features/mm_sum_histogram_100_sn.arq\n",
      "features/._mm_avg_histogram_300.arq\n",
      "features/mm_avg_histogram_300.arq\n",
      "features/._visual_histogram_300_sn.arq\n",
      "features/visual_histogram_300_sn.arq\n",
      "features/._mm_avg_histogram_300_sn.arq\n",
      "features/mm_avg_histogram_300_sn.arq\n",
      "features/._m4infus_max_histogram_100.arq\n",
      "features/m4infus_max_histogram_100.arq\n",
      "features/._m4infus_max_histogram_100_sn.arq\n",
      "features/m4infus_max_histogram_100_sn.arq\n",
      "features/._mm_sum_histogram_50_sn.arq\n",
      "features/mm_sum_histogram_50_sn.arq\n",
      "features/._m4infus_max_histogram_300.arq\n",
      "features/m4infus_max_histogram_300.arq\n",
      "features/._mm_avg_histogram_50_sn.arq\n",
      "features/mm_avg_histogram_50_sn.arq\n",
      "features/._mm_sum_histogram_50.arq\n",
      "features/mm_sum_histogram_50.arq\n",
      "features/._visual_histogram_50.arq\n",
      "features/visual_histogram_50.arq\n",
      "features/._aural_histogram_50_sn.arq\n",
      "features/aural_histogram_50_sn.arq\n",
      "features/._mm_sum_histogram_300.arq\n",
      "features/mm_sum_histogram_300.arq\n",
      "features/._m4infus_max_histogram_50_sn.arq\n",
      "features/m4infus_max_histogram_50_sn.arq\n",
      "features/._mm_max_histogram_50.arq\n",
      "features/mm_max_histogram_50.arq\n",
      "features/._mm_avg_histogram_50.arq\n",
      "features/mm_avg_histogram_50.arq\n",
      "features/._mm_max_histogram_300_sn.arq\n",
      "features/mm_max_histogram_300_sn.arq\n",
      "features/._mm_sum_histogram_300_sn.arq\n",
      "features/mm_sum_histogram_300_sn.arq\n",
      "features/._mm_sum_histogram_100.arq\n",
      "features/mm_sum_histogram_100.arq\n",
      "features/._aural_histogram_300.arq\n",
      "features/aural_histogram_300.arq\n",
      "features/._aural_histogram_300_sn.arq\n",
      "features/aural_histogram_300_sn.arq\n",
      "features/._aural_histogram_100.arq\n",
      "features/aural_histogram_100.arq\n"
     ]
    }
   ],
   "source": [
    "!python3 -m wget https://github.com/mmanzato/MBABigData/raw/master/ml-20m-features.tar.gz\n",
    "! tar -xvzf ml-20m-features.tar.gz"
   ]
  },
  {
   "cell_type": "markdown",
   "id": "8beefa07-ac4a-4ce9-b1f2-1c08ecf544db",
   "metadata": {},
   "source": [
    "### Preparação dos dados"
   ]
  },
  {
   "cell_type": "code",
   "execution_count": 4,
   "id": "faf9a6b8-c043-460b-9eb6-b3c45117a12f",
   "metadata": {},
   "outputs": [
    {
     "data": {
      "text/html": [
       "<div>\n",
       "<style scoped>\n",
       "    .dataframe tbody tr th:only-of-type {\n",
       "        vertical-align: middle;\n",
       "    }\n",
       "\n",
       "    .dataframe tbody tr th {\n",
       "        vertical-align: top;\n",
       "    }\n",
       "\n",
       "    .dataframe thead th {\n",
       "        text-align: right;\n",
       "    }\n",
       "</style>\n",
       "<table border=\"1\" class=\"dataframe\">\n",
       "  <thead>\n",
       "    <tr style=\"text-align: right;\">\n",
       "      <th></th>\n",
       "      <th>userId</th>\n",
       "      <th>movieId</th>\n",
       "      <th>rating</th>\n",
       "      <th>title</th>\n",
       "    </tr>\n",
       "  </thead>\n",
       "  <tbody>\n",
       "    <tr>\n",
       "      <th>0</th>\n",
       "      <td>11</td>\n",
       "      <td>7481</td>\n",
       "      <td>5.0</td>\n",
       "      <td>Enemy Mine (1985)</td>\n",
       "    </tr>\n",
       "    <tr>\n",
       "      <th>1</th>\n",
       "      <td>11</td>\n",
       "      <td>1046</td>\n",
       "      <td>4.5</td>\n",
       "      <td>Beautiful Thing (1996)</td>\n",
       "    </tr>\n",
       "    <tr>\n",
       "      <th>2</th>\n",
       "      <td>11</td>\n",
       "      <td>616</td>\n",
       "      <td>4.0</td>\n",
       "      <td>Aristocats, The (1970)</td>\n",
       "    </tr>\n",
       "    <tr>\n",
       "      <th>3</th>\n",
       "      <td>11</td>\n",
       "      <td>3535</td>\n",
       "      <td>2.0</td>\n",
       "      <td>American Psycho (2000)</td>\n",
       "    </tr>\n",
       "    <tr>\n",
       "      <th>4</th>\n",
       "      <td>11</td>\n",
       "      <td>5669</td>\n",
       "      <td>5.0</td>\n",
       "      <td>Bowling for Columbine (2002)</td>\n",
       "    </tr>\n",
       "    <tr>\n",
       "      <th>...</th>\n",
       "      <td>...</td>\n",
       "      <td>...</td>\n",
       "      <td>...</td>\n",
       "      <td>...</td>\n",
       "    </tr>\n",
       "    <tr>\n",
       "      <th>190616</th>\n",
       "      <td>138493</td>\n",
       "      <td>288</td>\n",
       "      <td>5.0</td>\n",
       "      <td>Natural Born Killers (1994)</td>\n",
       "    </tr>\n",
       "    <tr>\n",
       "      <th>190617</th>\n",
       "      <td>138493</td>\n",
       "      <td>1748</td>\n",
       "      <td>5.0</td>\n",
       "      <td>Dark City (1998)</td>\n",
       "    </tr>\n",
       "    <tr>\n",
       "      <th>190618</th>\n",
       "      <td>138493</td>\n",
       "      <td>616</td>\n",
       "      <td>4.0</td>\n",
       "      <td>Aristocats, The (1970)</td>\n",
       "    </tr>\n",
       "    <tr>\n",
       "      <th>190619</th>\n",
       "      <td>138493</td>\n",
       "      <td>1597</td>\n",
       "      <td>4.5</td>\n",
       "      <td>Conspiracy Theory (1997)</td>\n",
       "    </tr>\n",
       "    <tr>\n",
       "      <th>190620</th>\n",
       "      <td>138493</td>\n",
       "      <td>7371</td>\n",
       "      <td>5.0</td>\n",
       "      <td>Dogville (2003)</td>\n",
       "    </tr>\n",
       "  </tbody>\n",
       "</table>\n",
       "<p>190621 rows × 4 columns</p>\n",
       "</div>"
      ],
      "text/plain": [
       "        userId  movieId  rating                         title\n",
       "0           11     7481     5.0             Enemy Mine (1985)\n",
       "1           11     1046     4.5        Beautiful Thing (1996)\n",
       "2           11      616     4.0        Aristocats, The (1970)\n",
       "3           11     3535     2.0        American Psycho (2000)\n",
       "4           11     5669     5.0  Bowling for Columbine (2002)\n",
       "...        ...      ...     ...                           ...\n",
       "190616  138493      288     5.0   Natural Born Killers (1994)\n",
       "190617  138493     1748     5.0              Dark City (1998)\n",
       "190618  138493      616     4.0        Aristocats, The (1970)\n",
       "190619  138493     1597     4.5      Conspiracy Theory (1997)\n",
       "190620  138493     7371     5.0               Dogville (2003)\n",
       "\n",
       "[190621 rows x 4 columns]"
      ]
     },
     "execution_count": 4,
     "metadata": {},
     "output_type": "execute_result"
    }
   ],
   "source": [
    "movies = pd.read_csv('./dataset/movies_sample.csv')\n",
    "ratings = pd.read_csv('./dataset/ratings_sample.csv')\n",
    "df = ratings[['userId', 'movieId', 'rating']]\n",
    "df = df.merge(movies[['movieId', 'title']])\n",
    "df"
   ]
  },
  {
   "cell_type": "code",
   "execution_count": 5,
   "id": "8736155d-39c3-4764-bda1-c7028a12f4c8",
   "metadata": {},
   "outputs": [
    {
     "data": {
      "text/html": [
       "<div>\n",
       "<style scoped>\n",
       "    .dataframe tbody tr th:only-of-type {\n",
       "        vertical-align: middle;\n",
       "    }\n",
       "\n",
       "    .dataframe tbody tr th {\n",
       "        vertical-align: top;\n",
       "    }\n",
       "\n",
       "    .dataframe thead th {\n",
       "        text-align: right;\n",
       "    }\n",
       "</style>\n",
       "<table border=\"1\" class=\"dataframe\">\n",
       "  <thead>\n",
       "    <tr style=\"text-align: right;\">\n",
       "      <th></th>\n",
       "      <th>movieId</th>\n",
       "      <th>title</th>\n",
       "      <th>genre</th>\n",
       "    </tr>\n",
       "  </thead>\n",
       "  <tbody>\n",
       "    <tr>\n",
       "      <th>0</th>\n",
       "      <td>30</td>\n",
       "      <td>Shanghai Triad (Yao a yao yao dao waipo qiao) ...</td>\n",
       "      <td>Crime</td>\n",
       "    </tr>\n",
       "    <tr>\n",
       "      <th>0</th>\n",
       "      <td>30</td>\n",
       "      <td>Shanghai Triad (Yao a yao yao dao waipo qiao) ...</td>\n",
       "      <td>Drama</td>\n",
       "    </tr>\n",
       "    <tr>\n",
       "      <th>1</th>\n",
       "      <td>31</td>\n",
       "      <td>Dangerous Minds (1995)</td>\n",
       "      <td>Drama</td>\n",
       "    </tr>\n",
       "    <tr>\n",
       "      <th>2</th>\n",
       "      <td>37</td>\n",
       "      <td>Across the Sea of Time (1995)</td>\n",
       "      <td>Documentary</td>\n",
       "    </tr>\n",
       "    <tr>\n",
       "      <th>2</th>\n",
       "      <td>37</td>\n",
       "      <td>Across the Sea of Time (1995)</td>\n",
       "      <td>IMAX</td>\n",
       "    </tr>\n",
       "  </tbody>\n",
       "</table>\n",
       "</div>"
      ],
      "text/plain": [
       "   movieId                                              title        genre\n",
       "0       30  Shanghai Triad (Yao a yao yao dao waipo qiao) ...        Crime\n",
       "0       30  Shanghai Triad (Yao a yao yao dao waipo qiao) ...        Drama\n",
       "1       31                             Dangerous Minds (1995)        Drama\n",
       "2       37                      Across the Sea of Time (1995)  Documentary\n",
       "2       37                      Across the Sea of Time (1995)         IMAX"
      ]
     },
     "execution_count": 5,
     "metadata": {},
     "output_type": "execute_result"
    }
   ],
   "source": [
    "movies_genres = movies.drop('genres', axis=1).join(movies.genres.str.split('|', expand=True)\n",
    "             .stack().reset_index(drop=True, level=1).rename('genre'))\n",
    "movies_genres.head()"
   ]
  },
  {
   "cell_type": "code",
   "execution_count": 6,
   "id": "5c3adc63-8c02-4798-8f1c-dbdddbcd3b29",
   "metadata": {},
   "outputs": [
    {
     "data": {
      "text/html": [
       "<div>\n",
       "<style scoped>\n",
       "    .dataframe tbody tr th:only-of-type {\n",
       "        vertical-align: middle;\n",
       "    }\n",
       "\n",
       "    .dataframe tbody tr th {\n",
       "        vertical-align: top;\n",
       "    }\n",
       "\n",
       "    .dataframe thead th {\n",
       "        text-align: right;\n",
       "    }\n",
       "</style>\n",
       "<table border=\"1\" class=\"dataframe\">\n",
       "  <thead>\n",
       "    <tr style=\"text-align: right;\">\n",
       "      <th></th>\n",
       "      <th>userId</th>\n",
       "      <th>movieId</th>\n",
       "      <th>tag</th>\n",
       "      <th>timestamp_y</th>\n",
       "    </tr>\n",
       "  </thead>\n",
       "  <tbody>\n",
       "    <tr>\n",
       "      <th>0</th>\n",
       "      <td>279</td>\n",
       "      <td>916</td>\n",
       "      <td>Gregory Peck</td>\n",
       "      <td>1329962459</td>\n",
       "    </tr>\n",
       "    <tr>\n",
       "      <th>1</th>\n",
       "      <td>279</td>\n",
       "      <td>916</td>\n",
       "      <td>need to own</td>\n",
       "      <td>1329962471</td>\n",
       "    </tr>\n",
       "    <tr>\n",
       "      <th>2</th>\n",
       "      <td>279</td>\n",
       "      <td>916</td>\n",
       "      <td>romantic comedy</td>\n",
       "      <td>1329962476</td>\n",
       "    </tr>\n",
       "    <tr>\n",
       "      <th>3</th>\n",
       "      <td>279</td>\n",
       "      <td>916</td>\n",
       "      <td>Rome</td>\n",
       "      <td>1329962490</td>\n",
       "    </tr>\n",
       "    <tr>\n",
       "      <th>4</th>\n",
       "      <td>279</td>\n",
       "      <td>916</td>\n",
       "      <td>royalty</td>\n",
       "      <td>1329962474</td>\n",
       "    </tr>\n",
       "  </tbody>\n",
       "</table>\n",
       "</div>"
      ],
      "text/plain": [
       "   userId  movieId              tag  timestamp_y\n",
       "0     279      916     Gregory Peck   1329962459\n",
       "1     279      916      need to own   1329962471\n",
       "2     279      916  romantic comedy   1329962476\n",
       "3     279      916             Rome   1329962490\n",
       "4     279      916          royalty   1329962474"
      ]
     },
     "execution_count": 6,
     "metadata": {},
     "output_type": "execute_result"
    }
   ],
   "source": [
    "movies_tags = pd.read_csv('./dataset/tags_sample.csv')\n",
    "movies_tags.head()"
   ]
  },
  {
   "cell_type": "code",
   "execution_count": 7,
   "id": "07993715-5331-4dce-aff8-3a6b03e98121",
   "metadata": {},
   "outputs": [],
   "source": [
    "map_users = {user: idx for idx, user in enumerate(df.userId.unique())}\n",
    "map_items = {item: idx for idx, item in enumerate(df.movieId.unique())}\n",
    "\n",
    "df['userId'] = df['userId'].map(map_users)\n",
    "df['movieId'] = df['movieId'].map(map_items)\n",
    "\n",
    "movies_tags['userId'] = movies_tags['userId'].map(map_users)\n",
    "movies_tags['movieId'] = movies_tags['movieId'].map(map_items)\n",
    "movies_tags.dropna(inplace=True)\n",
    "movies_tags['movieId'] = movies_tags.movieId.astype(int)\n",
    "movies_tags['userId'] = movies_tags.userId.astype(int)\n",
    "\n",
    "movies_genres['movieId'] = movies_genres['movieId'].map(map_items)\n",
    "movies_genres.dropna(inplace=True)\n",
    "movies_genres['movieId'] = movies_genres.movieId.astype(int)\n",
    "\n",
    "map_title = {}\n",
    "for _, row in df.iterrows():\n",
    "    map_title[row.movieId] = row.title\n"
   ]
  },
  {
   "cell_type": "markdown",
   "id": "12d064d3-764e-4738-9c18-9e3109634b6b",
   "metadata": {},
   "source": [
    "### Divisão da base em treino/teste"
   ]
  },
  {
   "cell_type": "code",
   "execution_count": 58,
   "id": "52033627-3215-443a-8c73-0ea6802d57a3",
   "metadata": {},
   "outputs": [],
   "source": [
    "from sklearn.model_selection import train_test_split\n",
    "train, test = train_test_split(df, test_size=.2, random_state=2)\n",
    "train.to_csv('train.dat', index=False, header=False, sep='\\t')\n",
    "test.to_csv('test.dat', index=False, header=False, sep='\\t')"
   ]
  },
  {
   "cell_type": "markdown",
   "id": "1cd603c8-3cba-4254-9951-3039d1ed5e0b",
   "metadata": {},
   "source": [
    "### Download de dados multimidia"
   ]
  },
  {
   "cell_type": "code",
   "execution_count": 9,
   "id": "0f90c563-3ac5-4621-9ef8-5a8a042caa4d",
   "metadata": {},
   "outputs": [],
   "source": [
    "import pickle\n",
    "\n",
    "with open('./features/visual_histogram_50.arq', 'rb') as arq_visualHistograms:\n",
    "    visualHistograms = pickle.load(arq_visualHistograms)\n",
    "\n",
    "with open('./features/aural_histogram_50.arq', 'rb') as arq_auralHistograms:\n",
    "    auralHistograms = pickle.load(arq_auralHistograms)"
   ]
  },
  {
   "cell_type": "code",
   "execution_count": 10,
   "id": "91a1ffe3-dd51-43ed-bf31-bdc70b6d2241",
   "metadata": {},
   "outputs": [
    {
     "data": {
      "text/html": [
       "<div>\n",
       "<style scoped>\n",
       "    .dataframe tbody tr th:only-of-type {\n",
       "        vertical-align: middle;\n",
       "    }\n",
       "\n",
       "    .dataframe tbody tr th {\n",
       "        vertical-align: top;\n",
       "    }\n",
       "\n",
       "    .dataframe thead th {\n",
       "        text-align: right;\n",
       "    }\n",
       "</style>\n",
       "<table border=\"1\" class=\"dataframe\">\n",
       "  <thead>\n",
       "    <tr style=\"text-align: right;\">\n",
       "      <th></th>\n",
       "      <th>movieId</th>\n",
       "      <th>title</th>\n",
       "      <th>genres</th>\n",
       "    </tr>\n",
       "  </thead>\n",
       "  <tbody>\n",
       "    <tr>\n",
       "      <th>0</th>\n",
       "      <td>30</td>\n",
       "      <td>Shanghai Triad (Yao a yao yao dao waipo qiao) ...</td>\n",
       "      <td>Crime|Drama</td>\n",
       "    </tr>\n",
       "    <tr>\n",
       "      <th>1</th>\n",
       "      <td>31</td>\n",
       "      <td>Dangerous Minds (1995)</td>\n",
       "      <td>Drama</td>\n",
       "    </tr>\n",
       "    <tr>\n",
       "      <th>2</th>\n",
       "      <td>37</td>\n",
       "      <td>Across the Sea of Time (1995)</td>\n",
       "      <td>Documentary|IMAX</td>\n",
       "    </tr>\n",
       "    <tr>\n",
       "      <th>3</th>\n",
       "      <td>161</td>\n",
       "      <td>Crimson Tide (1995)</td>\n",
       "      <td>Drama|Thriller|War</td>\n",
       "    </tr>\n",
       "    <tr>\n",
       "      <th>4</th>\n",
       "      <td>193</td>\n",
       "      <td>Showgirls (1995)</td>\n",
       "      <td>Drama</td>\n",
       "    </tr>\n",
       "    <tr>\n",
       "      <th>...</th>\n",
       "      <td>...</td>\n",
       "      <td>...</td>\n",
       "      <td>...</td>\n",
       "    </tr>\n",
       "    <tr>\n",
       "      <th>428</th>\n",
       "      <td>129857</td>\n",
       "      <td>Bright Days Ahead (2013)</td>\n",
       "      <td>Drama|Romance</td>\n",
       "    </tr>\n",
       "    <tr>\n",
       "      <th>429</th>\n",
       "      <td>130344</td>\n",
       "      <td>Coast of Death (2013)</td>\n",
       "      <td>Children|Documentary|Drama</td>\n",
       "    </tr>\n",
       "    <tr>\n",
       "      <th>430</th>\n",
       "      <td>130408</td>\n",
       "      <td>A Rumor Of War (1980)</td>\n",
       "      <td>(no genres listed)</td>\n",
       "    </tr>\n",
       "    <tr>\n",
       "      <th>431</th>\n",
       "      <td>130510</td>\n",
       "      <td>Berserk: The Golden Age Arc 3 - Descent (2013)</td>\n",
       "      <td>Action|Animation|Fantasy</td>\n",
       "    </tr>\n",
       "    <tr>\n",
       "      <th>432</th>\n",
       "      <td>131239</td>\n",
       "      <td>Three Quarter Moon (2011)</td>\n",
       "      <td>Comedy|Drama</td>\n",
       "    </tr>\n",
       "  </tbody>\n",
       "</table>\n",
       "<p>433 rows × 3 columns</p>\n",
       "</div>"
      ],
      "text/plain": [
       "     movieId                                              title  \\\n",
       "0         30  Shanghai Triad (Yao a yao yao dao waipo qiao) ...   \n",
       "1         31                             Dangerous Minds (1995)   \n",
       "2         37                      Across the Sea of Time (1995)   \n",
       "3        161                                Crimson Tide (1995)   \n",
       "4        193                                   Showgirls (1995)   \n",
       "..       ...                                                ...   \n",
       "428   129857                           Bright Days Ahead (2013)   \n",
       "429   130344                              Coast of Death (2013)   \n",
       "430   130408                              A Rumor Of War (1980)   \n",
       "431   130510     Berserk: The Golden Age Arc 3 - Descent (2013)   \n",
       "432   131239                          Three Quarter Moon (2011)   \n",
       "\n",
       "                         genres  \n",
       "0                   Crime|Drama  \n",
       "1                         Drama  \n",
       "2              Documentary|IMAX  \n",
       "3            Drama|Thriller|War  \n",
       "4                         Drama  \n",
       "..                          ...  \n",
       "428               Drama|Romance  \n",
       "429  Children|Documentary|Drama  \n",
       "430          (no genres listed)  \n",
       "431    Action|Animation|Fantasy  \n",
       "432                Comedy|Drama  \n",
       "\n",
       "[433 rows x 3 columns]"
      ]
     },
     "execution_count": 10,
     "metadata": {},
     "output_type": "execute_result"
    }
   ],
   "source": [
    "movies"
   ]
  },
  {
   "cell_type": "code",
   "execution_count": 11,
   "id": "a7777538-da7d-419f-bbf4-3715c7c3bb44",
   "metadata": {},
   "outputs": [
    {
     "data": {
      "text/plain": [
       "433"
      ]
     },
     "execution_count": 11,
     "metadata": {},
     "output_type": "execute_result"
    }
   ],
   "source": [
    "len(auralHistograms)"
   ]
  },
  {
   "cell_type": "code",
   "execution_count": 12,
   "id": "c430b855-2d83-484e-af43-9e3f591ed18b",
   "metadata": {},
   "outputs": [
    {
     "data": {
      "text/html": [
       "<div>\n",
       "<style scoped>\n",
       "    .dataframe tbody tr th:only-of-type {\n",
       "        vertical-align: middle;\n",
       "    }\n",
       "\n",
       "    .dataframe tbody tr th {\n",
       "        vertical-align: top;\n",
       "    }\n",
       "\n",
       "    .dataframe thead th {\n",
       "        text-align: right;\n",
       "    }\n",
       "</style>\n",
       "<table border=\"1\" class=\"dataframe\">\n",
       "  <thead>\n",
       "    <tr style=\"text-align: right;\">\n",
       "      <th></th>\n",
       "      <th>movieId</th>\n",
       "      <th>title</th>\n",
       "      <th>genres</th>\n",
       "    </tr>\n",
       "  </thead>\n",
       "  <tbody>\n",
       "    <tr>\n",
       "      <th>0</th>\n",
       "      <td>30</td>\n",
       "      <td>Shanghai Triad (Yao a yao yao dao waipo qiao) ...</td>\n",
       "      <td>Crime|Drama</td>\n",
       "    </tr>\n",
       "    <tr>\n",
       "      <th>1</th>\n",
       "      <td>31</td>\n",
       "      <td>Dangerous Minds (1995)</td>\n",
       "      <td>Drama</td>\n",
       "    </tr>\n",
       "    <tr>\n",
       "      <th>2</th>\n",
       "      <td>37</td>\n",
       "      <td>Across the Sea of Time (1995)</td>\n",
       "      <td>Documentary|IMAX</td>\n",
       "    </tr>\n",
       "    <tr>\n",
       "      <th>3</th>\n",
       "      <td>161</td>\n",
       "      <td>Crimson Tide (1995)</td>\n",
       "      <td>Drama|Thriller|War</td>\n",
       "    </tr>\n",
       "    <tr>\n",
       "      <th>4</th>\n",
       "      <td>193</td>\n",
       "      <td>Showgirls (1995)</td>\n",
       "      <td>Drama</td>\n",
       "    </tr>\n",
       "    <tr>\n",
       "      <th>...</th>\n",
       "      <td>...</td>\n",
       "      <td>...</td>\n",
       "      <td>...</td>\n",
       "    </tr>\n",
       "    <tr>\n",
       "      <th>428</th>\n",
       "      <td>129857</td>\n",
       "      <td>Bright Days Ahead (2013)</td>\n",
       "      <td>Drama|Romance</td>\n",
       "    </tr>\n",
       "    <tr>\n",
       "      <th>429</th>\n",
       "      <td>130344</td>\n",
       "      <td>Coast of Death (2013)</td>\n",
       "      <td>Children|Documentary|Drama</td>\n",
       "    </tr>\n",
       "    <tr>\n",
       "      <th>430</th>\n",
       "      <td>130408</td>\n",
       "      <td>A Rumor Of War (1980)</td>\n",
       "      <td>(no genres listed)</td>\n",
       "    </tr>\n",
       "    <tr>\n",
       "      <th>431</th>\n",
       "      <td>130510</td>\n",
       "      <td>Berserk: The Golden Age Arc 3 - Descent (2013)</td>\n",
       "      <td>Action|Animation|Fantasy</td>\n",
       "    </tr>\n",
       "    <tr>\n",
       "      <th>432</th>\n",
       "      <td>131239</td>\n",
       "      <td>Three Quarter Moon (2011)</td>\n",
       "      <td>Comedy|Drama</td>\n",
       "    </tr>\n",
       "  </tbody>\n",
       "</table>\n",
       "<p>433 rows × 3 columns</p>\n",
       "</div>"
      ],
      "text/plain": [
       "     movieId                                              title  \\\n",
       "0         30  Shanghai Triad (Yao a yao yao dao waipo qiao) ...   \n",
       "1         31                             Dangerous Minds (1995)   \n",
       "2         37                      Across the Sea of Time (1995)   \n",
       "3        161                                Crimson Tide (1995)   \n",
       "4        193                                   Showgirls (1995)   \n",
       "..       ...                                                ...   \n",
       "428   129857                           Bright Days Ahead (2013)   \n",
       "429   130344                              Coast of Death (2013)   \n",
       "430   130408                              A Rumor Of War (1980)   \n",
       "431   130510     Berserk: The Golden Age Arc 3 - Descent (2013)   \n",
       "432   131239                          Three Quarter Moon (2011)   \n",
       "\n",
       "                         genres  \n",
       "0                   Crime|Drama  \n",
       "1                         Drama  \n",
       "2              Documentary|IMAX  \n",
       "3            Drama|Thriller|War  \n",
       "4                         Drama  \n",
       "..                          ...  \n",
       "428               Drama|Romance  \n",
       "429  Children|Documentary|Drama  \n",
       "430          (no genres listed)  \n",
       "431    Action|Animation|Fantasy  \n",
       "432                Comedy|Drama  \n",
       "\n",
       "[433 rows x 3 columns]"
      ]
     },
     "execution_count": 12,
     "metadata": {},
     "output_type": "execute_result"
    }
   ],
   "source": [
    "movies"
   ]
  },
  {
   "cell_type": "code",
   "execution_count": 13,
   "id": "74a62daa-21a7-4263-859a-9d920364978b",
   "metadata": {},
   "outputs": [],
   "source": [
    "tag_by_movie = movies_tags.groupby(\"movieId\").agg({\"tag\": list}).reset_index()"
   ]
  },
  {
   "cell_type": "markdown",
   "id": "6d8a8961",
   "metadata": {},
   "source": [
    "## ***Exercício 01:*** Implemente uma hibridização monolítica/combinação usando a seguinte heurística:\n",
    "- Uso do algoritmo ItemAtributeKNN, sendo a hibridização feita no cálculo das similaridades entre os itens.\n",
    "- Se a quantidade de usuários que avaliaram ambos os itens for maior que um limiar L1, calcule a similaridade entre esses itens usando cosseno aplicado à representação baseada em notas.\n",
    "- Caso contrário, calcule a similaridade entre os itens usando tags, características visuais e características aurais. Pondere cada uma das modalidades via pesos passados por parâmetro. \n",
    "\n",
    "Compare os resultados do algoritmo híbrido com as versões isoladas do mesmo algoritmo."
   ]
  },
  {
   "cell_type": "code",
   "execution_count": 14,
   "id": "628170d0-22e5-4074-a00c-373aeb20791e",
   "metadata": {},
   "outputs": [],
   "source": [
    "def get_tags(tag_by_movie_df, movie_id):\n",
    "    tags = tag_by_movie_df[tag_by_movie_df.movieId == movie_id].tag.tolist()\n",
    "    if (len(tags) > 0):\n",
    "        return tags[0]\n",
    "    else:\n",
    "        return []\n",
    "    "
   ]
  },
  {
   "cell_type": "code",
   "execution_count": 15,
   "id": "ec84d2b1-5ef8-43d0-b756-95e26633a24e",
   "metadata": {},
   "outputs": [],
   "source": [
    "def users_who_rated(item, df):\n",
    "    return set(df[df[\"movieId\"] == item].userId.tolist())"
   ]
  },
  {
   "cell_type": "code",
   "execution_count": 16,
   "id": "9fcf93df-87c1-476a-9c98-1b4497404c32",
   "metadata": {},
   "outputs": [],
   "source": [
    "def get_movies_ratings(movie_id, user_list, df):\n",
    "    users_ratings = df[df[\"userId\"].isin(user_list)]\n",
    "    return users_ratings[users_ratings[\"movieId\"] == movie_id].rating.tolist()"
   ]
  },
  {
   "cell_type": "code",
   "execution_count": 17,
   "id": "f503f4ff-65c2-4212-a740-31e58333ce10",
   "metadata": {},
   "outputs": [],
   "source": [
    "def jaccard(list1, list2):\n",
    "    union_s = len(set(list1).union(set(list2)))\n",
    "    inter_s = len(set(list1) & set(list2))\n",
    "\n",
    "    if (union_s > 0):\n",
    "        return inter_s/union_s\n",
    "    else:\n",
    "        return 0"
   ]
  },
  {
   "cell_type": "code",
   "execution_count": 18,
   "id": "95435179-d3db-43ff-b67c-9537ffadaaed",
   "metadata": {},
   "outputs": [],
   "source": [
    "def multimedia_sim(i,j, visual_w=0.6, aural_w=0.2, tag_w=0.2):\n",
    "    visual_sim = cossine_sim(visualHistograms[i], visualHistograms[j])\n",
    "    aural_sim = cossine_sim(auralHistograms[i], auralHistograms[j])\n",
    "\n",
    "    tag_sim = jaccard(get_tags(tag_by_movie, i), get_tags(tag_by_movie, j))\n",
    "    return visual_w * visual_sim + aural_w * aural_sim + tag_w * tag_sim"
   ]
  },
  {
   "cell_type": "code",
   "execution_count": 19,
   "id": "184ca620-06c9-48a8-9c3c-966cfe9e2c42",
   "metadata": {},
   "outputs": [],
   "source": [
    "from itertools import combinations\n",
    "\n",
    "def build_hybrid_rec_sim_matrix(df, L1=10):\n",
    "    movies_ids = sorted(df.movieId.unique())\n",
    "    sim_matrix = []\n",
    "    for i, j in combinations(movies_ids, 2):\n",
    "            inter_users = get_users_who_rated(i, j)\n",
    "            n_inter_users = len(inter_users)\n",
    "            if (n_inter_users >= L1):\n",
    "                vec_1 = get_movies_ratings(i, inter_users, df)\n",
    "                vec_2 = get_movies_ratings(j, inter_users, df)\n",
    "                sim = cossine_sim(vec_1,vec_2)\n",
    "            else:\n",
    "                sim = multimedia_sim(i,j)\n",
    "            sim_matrix.append([i, j, sim])\n",
    "    return pd.DataFrame(sim_matrix, columns=['item1', 'item2', 'similarity'])"
   ]
  },
  {
   "cell_type": "code",
   "execution_count": 20,
   "id": "0707b80c-4e88-47b9-9d67-a1a9a99bdd76",
   "metadata": {},
   "outputs": [],
   "source": [
    "def get_users_who_rated(item1, item2):\n",
    "    rated_1 = users_who_rated(item1, train)\n",
    "    rated_2 = users_who_rated(item2, train)\n",
    "\n",
    "    return list(rated_1 & rated_2)"
   ]
  },
  {
   "cell_type": "code",
   "execution_count": 21,
   "id": "f4c59846-b0ad-4ee3-b750-73b80706dc6a",
   "metadata": {},
   "outputs": [],
   "source": [
    "from numpy.linalg import norm\n",
    "\n",
    "\n",
    "def cossine_sim(a,b):\n",
    "    numerator = np.dot(a,b)\n",
    "    denominator = norm(a) *norm(b)\n",
    "    if (denominator != 0):\n",
    "        return numerator / denominator \n",
    "    else:\n",
    "        return 0"
   ]
  },
  {
   "cell_type": "code",
   "execution_count": 22,
   "id": "60a55862-9cc0-4d68-bc3a-3a1a4f6114de",
   "metadata": {},
   "outputs": [],
   "source": [
    "def get_movies_rated_by_user(user_id, df):\n",
    "    return df[df[\"userId\"] == user_id].movieId.tolist()"
   ]
  },
  {
   "cell_type": "code",
   "execution_count": 23,
   "id": "40b81194-92f7-4853-85b0-d8d745b4721d",
   "metadata": {
    "scrolled": true
   },
   "outputs": [
    {
     "name": "stdout",
     "output_type": "stream",
     "text": [
      "CPU times: user 3min 7s, sys: 112 ms, total: 3min 8s\n",
      "Wall time: 3min 8s\n"
     ]
    }
   ],
   "source": [
    "%%time\n",
    "sim_matrix = build_hybrid_rec_sim_matrix(train)"
   ]
  },
  {
   "cell_type": "code",
   "execution_count": 24,
   "id": "571ab3c3-39d4-4e7c-a92e-09002fa51ebf",
   "metadata": {},
   "outputs": [
    {
     "data": {
      "text/html": [
       "<div>\n",
       "<style scoped>\n",
       "    .dataframe tbody tr th:only-of-type {\n",
       "        vertical-align: middle;\n",
       "    }\n",
       "\n",
       "    .dataframe tbody tr th {\n",
       "        vertical-align: top;\n",
       "    }\n",
       "\n",
       "    .dataframe thead th {\n",
       "        text-align: right;\n",
       "    }\n",
       "</style>\n",
       "<table border=\"1\" class=\"dataframe\">\n",
       "  <thead>\n",
       "    <tr style=\"text-align: right;\">\n",
       "      <th></th>\n",
       "      <th>item1</th>\n",
       "      <th>item2</th>\n",
       "      <th>similarity</th>\n",
       "    </tr>\n",
       "  </thead>\n",
       "  <tbody>\n",
       "    <tr>\n",
       "      <th>0</th>\n",
       "      <td>0</td>\n",
       "      <td>1</td>\n",
       "      <td>0.958886</td>\n",
       "    </tr>\n",
       "    <tr>\n",
       "      <th>1</th>\n",
       "      <td>0</td>\n",
       "      <td>2</td>\n",
       "      <td>0.939329</td>\n",
       "    </tr>\n",
       "    <tr>\n",
       "      <th>2</th>\n",
       "      <td>0</td>\n",
       "      <td>3</td>\n",
       "      <td>0.939921</td>\n",
       "    </tr>\n",
       "    <tr>\n",
       "      <th>3</th>\n",
       "      <td>0</td>\n",
       "      <td>4</td>\n",
       "      <td>0.933063</td>\n",
       "    </tr>\n",
       "    <tr>\n",
       "      <th>4</th>\n",
       "      <td>0</td>\n",
       "      <td>5</td>\n",
       "      <td>0.946121</td>\n",
       "    </tr>\n",
       "    <tr>\n",
       "      <th>...</th>\n",
       "      <td>...</td>\n",
       "      <td>...</td>\n",
       "      <td>...</td>\n",
       "    </tr>\n",
       "    <tr>\n",
       "      <th>81805</th>\n",
       "      <td>413</td>\n",
       "      <td>415</td>\n",
       "      <td>0.154522</td>\n",
       "    </tr>\n",
       "    <tr>\n",
       "      <th>81806</th>\n",
       "      <td>413</td>\n",
       "      <td>416</td>\n",
       "      <td>0.313138</td>\n",
       "    </tr>\n",
       "    <tr>\n",
       "      <th>81807</th>\n",
       "      <td>414</td>\n",
       "      <td>415</td>\n",
       "      <td>0.426510</td>\n",
       "    </tr>\n",
       "    <tr>\n",
       "      <th>81808</th>\n",
       "      <td>414</td>\n",
       "      <td>416</td>\n",
       "      <td>0.303420</td>\n",
       "    </tr>\n",
       "    <tr>\n",
       "      <th>81809</th>\n",
       "      <td>415</td>\n",
       "      <td>416</td>\n",
       "      <td>0.162412</td>\n",
       "    </tr>\n",
       "  </tbody>\n",
       "</table>\n",
       "<p>81810 rows × 3 columns</p>\n",
       "</div>"
      ],
      "text/plain": [
       "       item1  item2  similarity\n",
       "0          0      1    0.958886\n",
       "1          0      2    0.939329\n",
       "2          0      3    0.939921\n",
       "3          0      4    0.933063\n",
       "4          0      5    0.946121\n",
       "...      ...    ...         ...\n",
       "81805    413    415    0.154522\n",
       "81806    413    416    0.313138\n",
       "81807    414    415    0.426510\n",
       "81808    414    416    0.303420\n",
       "81809    415    416    0.162412\n",
       "\n",
       "[81810 rows x 3 columns]"
      ]
     },
     "execution_count": 24,
     "metadata": {},
     "output_type": "execute_result"
    }
   ],
   "source": [
    "sim_matrix"
   ]
  },
  {
   "cell_type": "code",
   "execution_count": 25,
   "id": "b68776b9-6b97-4dd2-95ca-ace04cd1b077",
   "metadata": {},
   "outputs": [],
   "source": [
    "sim_matrix.to_csv('sim_matrix.dat', index=False, sep='\\t', header=False)"
   ]
  },
  {
   "cell_type": "code",
   "execution_count": 26,
   "id": "882925b2-2b70-4b40-801d-247923b1e459",
   "metadata": {},
   "outputs": [],
   "source": [
    "tag_by_movie[[\"movieId\", \"tag\"]].to_csv('items_genres.dat', index=False, sep='\\t', header=False)"
   ]
  },
  {
   "cell_type": "code",
   "execution_count": 27,
   "id": "607fa0de-8589-47ad-b8fe-888fc9f1dbc1",
   "metadata": {},
   "outputs": [],
   "source": [
    "from caserec.recommenders.rating_prediction.item_attribute_knn import ItemAttributeKNN\n",
    "from caserec.recommenders.rating_prediction.itemknn import ItemKNN"
   ]
  },
  {
   "cell_type": "code",
   "execution_count": 28,
   "id": "50eb2032-f3cc-4c2e-b133-186bf14a6556",
   "metadata": {},
   "outputs": [
    {
     "name": "stdout",
     "output_type": "stream",
     "text": [
      "[Case Recommender: Rating Prediction > Item Attribute KNN Algorithm]\n",
      "\n",
      "train data:: 11090 users and 405 items (152496 interactions) | sparsity:: 96.60%\n",
      "test data:: 10571 users and 331 items (38125 interactions) | sparsity:: 98.91%\n",
      "\n",
      "training_time:: 4.148838 sec\n",
      "prediction_time:: 0.181696 sec\n",
      "Eval:: MAE: 0.667807 RMSE: 0.871053 \n"
     ]
    }
   ],
   "source": [
    "ItemAttributeKNN('train.dat', 'test.dat', similarity_file='sim_matrix.dat', k_neighbors=5, as_similar_first=True).compute()"
   ]
  },
  {
   "cell_type": "code",
   "execution_count": 29,
   "id": "b3de1d4b-fbaa-4d6f-9200-9725b9b56f25",
   "metadata": {},
   "outputs": [
    {
     "name": "stdout",
     "output_type": "stream",
     "text": [
      "[Case Recommender: Rating Prediction > Item Attribute KNN Algorithm]\n",
      "\n",
      "train data:: 11090 users and 405 items (152496 interactions) | sparsity:: 96.60%\n",
      "test data:: 10571 users and 331 items (38125 interactions) | sparsity:: 98.91%\n",
      "\n",
      "training_time:: 4.203471 sec\n",
      ">> metadata:: 231 items and 229 metadata (231 interactions) | sparsity:: 99.56%\n",
      "prediction_time:: 0.351337 sec\n",
      "Eval:: MAE: 0.931913 RMSE: 1.184732 \n"
     ]
    }
   ],
   "source": [
    "ItemAttributeKNN('train.dat', 'test.dat', metadata_file='items_genres.dat', similarity_metric=\"jaccard\", k_neighbors=5, as_similar_first=True).compute()"
   ]
  },
  {
   "cell_type": "code",
   "execution_count": 30,
   "id": "4ca633b0-4863-45f0-9416-6d2a37694bd4",
   "metadata": {},
   "outputs": [
    {
     "name": "stdout",
     "output_type": "stream",
     "text": [
      "[Case Recommender: Rating Prediction > ItemKNN Algorithm]\n",
      "\n",
      "train data:: 11090 users and 405 items (152496 interactions) | sparsity:: 96.60%\n",
      "test data:: 10571 users and 331 items (38125 interactions) | sparsity:: 98.91%\n",
      "\n",
      "training_time:: 4.092275 sec\n",
      "prediction_time:: 0.878774 sec\n",
      "Eval:: MAE: 0.72067 RMSE: 0.952334 \n"
     ]
    }
   ],
   "source": [
    "ItemKNN('train.dat', 'test.dat', k_neighbors=5, as_similar_first=True).compute()"
   ]
  },
  {
   "cell_type": "markdown",
   "id": "119b3ba1-394c-4613-b1ba-a2119878db24",
   "metadata": {},
   "source": [
    "Por padrão, itemKNN usa distancia de cossenos como metrica de similaridade. \n",
    "\n",
    "Note que utilizando os mesmos conjuntos de dados e mesmo numero de vizinhos, o uso de metadados aparentemente auxiliou a versão hibrida: o MAE ( e, em consequencia, o RMSE) da versão hibrida é menor se comparada à versão puramente colaborativa.\n",
    "\n",
    "A conclusão é a mesma para a variante que utiliza metadados isoladamente (por simplicidade, apenas avaliei o desempenho com generos  como metadado)"
   ]
  },
  {
   "cell_type": "markdown",
   "id": "a07c9b0b",
   "metadata": {},
   "source": [
    "## ***Exercício 02:*** \n",
    "\n",
    "Vamos implementar um recomendador híbrido canalizado em cascata, no cenário de ranqueamento. A ideia é que um primeiro algoritmo gere uma lista C1 de N=50 itens candidatos à recomendação para cada usuário. Em seguida, um outro recomendador irá gerar uma outra lista C2 também de N=50 itens candidatos à rcomendação para cada usuário. Por fim, o ranking final será a intersecção entre C1 e C2, sendo o score de cada itens formado pela média aritmética dos scores de cada lista. Avalie o desempenho.\n",
    "\n",
    "Dica 1: utilize o parâmetro rank_length disponível nos algoritmos de ranqueamento do CaseRecommender para especificar o tamanho N de recomendações para cada usuário.\n",
    "\n",
    "Dica 2: você pode gravar num arquivo os rankings gerados por um algoritmo para cada usuário especificando o nome do arquivo no parâmetro output_file.\n",
    "\n",
    "Dica 3: consulte a Aula 04 que contém algumas métricas de avaliação de ranqueamento. Como você irá gerar o ranking final externamente ao CaseRecommender, será necessário avaliá-lo usando funções próprias."
   ]
  },
  {
   "cell_type": "code",
   "execution_count": 31,
   "id": "fb2f4976-73af-427f-a91e-69637b1f052e",
   "metadata": {},
   "outputs": [],
   "source": [
    "from caserec.recommenders.item_recommendation.bprmf import BprMF\n",
    "from caserec.recommenders.item_recommendation.itemknn import ItemKNN"
   ]
  },
  {
   "cell_type": "code",
   "execution_count": 32,
   "id": "96c1b0fe-4c9b-487e-b432-1a4e0a3aaca0",
   "metadata": {},
   "outputs": [
    {
     "name": "stdout",
     "output_type": "stream",
     "text": [
      "[Case Recommender: Item Recommendation > BPRMF]\n",
      "\n",
      "train data:: 11090 users and 405 items (152496 interactions) | sparsity:: 96.60%\n",
      "test data:: 10571 users and 331 items (38125 interactions) | sparsity:: 98.91%\n",
      "\n",
      "training_time:: 107.618554 sec\n",
      "prediction_time:: 2.518494 sec\n",
      "\n",
      "\n",
      "Eval:: PREC@1: 0.338568 PREC@3: 0.26661 PREC@5: 0.228985 PREC@10: 0.175338 RECALL@1: 0.110442 RECALL@3: 0.248186 RECALL@5: 0.347878 RECALL@10: 0.516436 MAP@1: 0.338568 MAP@3: 0.443272 MAP@5: 0.454412 MAP@10: 0.436206 NDCG@1: 0.338568 NDCG@3: 0.541322 NDCG@5: 0.568167 NDCG@10: 0.57226 \n"
     ]
    }
   ],
   "source": [
    "BprMF('train.dat', 'test.dat', 'first_pass.dat', factors=10, rank_length=50).compute()"
   ]
  },
  {
   "cell_type": "code",
   "execution_count": 33,
   "id": "5507be91-9e1b-4825-a3d9-24c2c43b33d1",
   "metadata": {},
   "outputs": [],
   "source": [
    "recs_bpmrf = pd.read_csv('./first_pass.dat', sep='\\t', names=['userId', 'movieId', 'score'])"
   ]
  },
  {
   "cell_type": "code",
   "execution_count": 34,
   "id": "e2300384-1eeb-427d-bf65-cd42fc9d4fc6",
   "metadata": {},
   "outputs": [
    {
     "data": {
      "text/html": [
       "<div>\n",
       "<style scoped>\n",
       "    .dataframe tbody tr th:only-of-type {\n",
       "        vertical-align: middle;\n",
       "    }\n",
       "\n",
       "    .dataframe tbody tr th {\n",
       "        vertical-align: top;\n",
       "    }\n",
       "\n",
       "    .dataframe thead th {\n",
       "        text-align: right;\n",
       "    }\n",
       "</style>\n",
       "<table border=\"1\" class=\"dataframe\">\n",
       "  <thead>\n",
       "    <tr style=\"text-align: right;\">\n",
       "      <th></th>\n",
       "      <th>userId</th>\n",
       "      <th>movieId</th>\n",
       "      <th>score</th>\n",
       "    </tr>\n",
       "  </thead>\n",
       "  <tbody>\n",
       "    <tr>\n",
       "      <th>0</th>\n",
       "      <td>0</td>\n",
       "      <td>19</td>\n",
       "      <td>7.303155</td>\n",
       "    </tr>\n",
       "    <tr>\n",
       "      <th>1</th>\n",
       "      <td>0</td>\n",
       "      <td>18</td>\n",
       "      <td>6.923294</td>\n",
       "    </tr>\n",
       "    <tr>\n",
       "      <th>2</th>\n",
       "      <td>0</td>\n",
       "      <td>22</td>\n",
       "      <td>6.841151</td>\n",
       "    </tr>\n",
       "    <tr>\n",
       "      <th>3</th>\n",
       "      <td>0</td>\n",
       "      <td>15</td>\n",
       "      <td>6.763995</td>\n",
       "    </tr>\n",
       "    <tr>\n",
       "      <th>4</th>\n",
       "      <td>0</td>\n",
       "      <td>17</td>\n",
       "      <td>6.683874</td>\n",
       "    </tr>\n",
       "    <tr>\n",
       "      <th>...</th>\n",
       "      <td>...</td>\n",
       "      <td>...</td>\n",
       "      <td>...</td>\n",
       "    </tr>\n",
       "    <tr>\n",
       "      <th>554495</th>\n",
       "      <td>11089</td>\n",
       "      <td>55</td>\n",
       "      <td>3.249647</td>\n",
       "    </tr>\n",
       "    <tr>\n",
       "      <th>554496</th>\n",
       "      <td>11089</td>\n",
       "      <td>170</td>\n",
       "      <td>3.242107</td>\n",
       "    </tr>\n",
       "    <tr>\n",
       "      <th>554497</th>\n",
       "      <td>11089</td>\n",
       "      <td>9</td>\n",
       "      <td>3.215977</td>\n",
       "    </tr>\n",
       "    <tr>\n",
       "      <th>554498</th>\n",
       "      <td>11089</td>\n",
       "      <td>80</td>\n",
       "      <td>3.196204</td>\n",
       "    </tr>\n",
       "    <tr>\n",
       "      <th>554499</th>\n",
       "      <td>11089</td>\n",
       "      <td>86</td>\n",
       "      <td>3.081889</td>\n",
       "    </tr>\n",
       "  </tbody>\n",
       "</table>\n",
       "<p>554500 rows × 3 columns</p>\n",
       "</div>"
      ],
      "text/plain": [
       "        userId  movieId     score\n",
       "0            0       19  7.303155\n",
       "1            0       18  6.923294\n",
       "2            0       22  6.841151\n",
       "3            0       15  6.763995\n",
       "4            0       17  6.683874\n",
       "...        ...      ...       ...\n",
       "554495   11089       55  3.249647\n",
       "554496   11089      170  3.242107\n",
       "554497   11089        9  3.215977\n",
       "554498   11089       80  3.196204\n",
       "554499   11089       86  3.081889\n",
       "\n",
       "[554500 rows x 3 columns]"
      ]
     },
     "execution_count": 34,
     "metadata": {},
     "output_type": "execute_result"
    }
   ],
   "source": [
    "recs_bpmrf"
   ]
  },
  {
   "cell_type": "code",
   "execution_count": 35,
   "id": "0ad9d896-a351-41ca-b6d7-8372a8b6e394",
   "metadata": {},
   "outputs": [
    {
     "name": "stdout",
     "output_type": "stream",
     "text": [
      "[Case Recommender: Item Recommendation > ItemKNN Algorithm]\n",
      "\n",
      "train data:: 11090 users and 405 items (152496 interactions) | sparsity:: 96.60%\n",
      "test data:: 10571 users and 331 items (38125 interactions) | sparsity:: 98.91%\n",
      "\n",
      "training_time:: 0.879432 sec\n",
      "prediction_time:: 34.853605 sec\n",
      "\n",
      "\n",
      "Eval:: PREC@1: 0.338 PREC@3: 0.262479 PREC@5: 0.223214 PREC@10: 0.17215 RECALL@1: 0.109669 RECALL@3: 0.244771 RECALL@5: 0.340091 RECALL@10: 0.510392 MAP@1: 0.338 MAP@3: 0.441585 MAP@5: 0.45211 MAP@10: 0.432388 NDCG@1: 0.338 NDCG@3: 0.538688 NDCG@5: 0.564177 NDCG@10: 0.568101 \n"
     ]
    }
   ],
   "source": [
    "ItemKNN('train.dat', 'test.dat', rank_length=50, output_file=\"second_pass.dat\", k_neighbors=5, as_similar_first=True).compute()"
   ]
  },
  {
   "cell_type": "code",
   "execution_count": 36,
   "id": "0dc923e3-9745-4d97-85dd-ed9cced71c6d",
   "metadata": {},
   "outputs": [],
   "source": [
    "def intersect_and_average(list1, list2):\n",
    "    dict1 = {item1: item2 for item1, item2 in list1}\n",
    "    dict2 = {item1: item2 for item1, item2 in list2}\n",
    "    \n",
    "    common_keys = set(dict1.keys()).intersection(dict2.keys())\n",
    "    result = [(key, (dict1[key] + dict2[key]) / 2) for key in common_keys]\n",
    "    \n",
    "    return result\n"
   ]
  },
  {
   "cell_type": "code",
   "execution_count": 37,
   "id": "fc0b759e-4d7b-475a-a940-d5cfcd842aa2",
   "metadata": {},
   "outputs": [],
   "source": [
    "def sort_recs(rec):\n",
    "    sorted_rec_with_score = sorted(rec, key=lambda x: x[1], reverse=True)\n",
    "    return [l[0] for l in sorted_rec_with_score]"
   ]
  },
  {
   "cell_type": "code",
   "execution_count": 38,
   "id": "24cefd82-084f-4cfc-84fc-ccdd70ed1bc9",
   "metadata": {},
   "outputs": [],
   "source": [
    "def preprocess_recommendation(rec_df):\n",
    "    grouped = rec_df.groupby(\"userId\").agg({\"movieId\": list, \"score\": list})\n",
    "    grouped[\"movie_with_rating\"] = grouped.apply(lambda r: create_tuples(r), axis=1)\n",
    "    return grouped.reset_index()[[\"userId\", \"movie_with_rating\"]]"
   ]
  },
  {
   "cell_type": "code",
   "execution_count": 64,
   "id": "b5b19301-e5d0-4af1-afc3-2397855cb068",
   "metadata": {},
   "outputs": [],
   "source": [
    "def merge_recommendations(recdf_1, recdf2):\n",
    "    merged = pd.concat([recs_bpmrf_processed, recs_itemKNN_processed], axis=1).drop(columns=[\"userId_itemknn\"])\n",
    "    merged[\"merged_list\"] = merged.apply(lambda r: intersect_and_average(r.movie_with_rating_bpmrf, r.movie_with_rating_itemknn), axis=1)\n",
    "    merged_clean = merged.drop(columns=[\"movie_with_rating_bpmrf\", \"movie_with_rating_itemknn\"])\n",
    "    merged_clean[\"movieId\"] = merged_clean.apply(lambda r: sort_recs(r.merged_list), axis=1)\n",
    "\n",
    "    \n",
    "    merged_sorted_clean = merged_clean.drop(columns=[\"merged_list\"]).rename(columns={'userId_bpmrf': 'userId'})\n",
    "    return merged_sorted_clean"
   ]
  },
  {
   "cell_type": "code",
   "execution_count": 40,
   "id": "48e10871",
   "metadata": {},
   "outputs": [],
   "source": [
    "recs_itemKNN = pd.read_csv('./second_pass.dat', sep='\\t', names=['userId', 'movieId', 'score'])"
   ]
  },
  {
   "cell_type": "code",
   "execution_count": 41,
   "id": "8b65ed0e-c5ba-4c9f-b515-b17f4c4c4912",
   "metadata": {},
   "outputs": [],
   "source": [
    "def create_tuples(row):\n",
    "    return list(zip(row['movieId'], row['score']))"
   ]
  },
  {
   "cell_type": "code",
   "execution_count": 42,
   "id": "f8eb2653-bc2d-4c5f-8804-e261a63c59be",
   "metadata": {
    "scrolled": true
   },
   "outputs": [],
   "source": [
    "recs_bpmrf_processed =  preprocess_recommendation(recs_bpmrf).add_suffix('_bpmrf')"
   ]
  },
  {
   "cell_type": "code",
   "execution_count": 43,
   "id": "fd1cfaaf-ff06-427e-b2eb-2daeca0fb36c",
   "metadata": {
    "scrolled": true
   },
   "outputs": [],
   "source": [
    "recs_itemKNN_processed = preprocess_recommendation(recs_itemKNN).add_suffix('_itemknn')"
   ]
  },
  {
   "cell_type": "code",
   "execution_count": 65,
   "id": "365b9bcb-8a16-4909-ac91-7f5de1663c58",
   "metadata": {},
   "outputs": [],
   "source": [
    "merged_recs = merge_recommendations(recs_bpmrf_processed, recs_itemKNN_processed)"
   ]
  },
  {
   "cell_type": "code",
   "execution_count": 69,
   "id": "3c48102f-b141-46bd-9541-f3a846e22314",
   "metadata": {},
   "outputs": [],
   "source": [
    "ideal_ranking = test.groupby(\"userId\").agg({\"movieId\": list})"
   ]
  },
  {
   "cell_type": "code",
   "execution_count": 97,
   "id": "c529f3d0-7baf-497f-9fed-c4b125a13d1c",
   "metadata": {},
   "outputs": [],
   "source": [
    "merged_recs_with_label = merged_recs.join(ideal_ranking, on=\"userId\", lsuffix=\"_prediction\", rsuffix=\"_true\").dropna()"
   ]
  },
  {
   "cell_type": "code",
   "execution_count": 98,
   "id": "350f3b26-aa32-497b-87b7-7f9726eafed4",
   "metadata": {},
   "outputs": [
    {
     "data": {
      "text/html": [
       "<div>\n",
       "<style scoped>\n",
       "    .dataframe tbody tr th:only-of-type {\n",
       "        vertical-align: middle;\n",
       "    }\n",
       "\n",
       "    .dataframe tbody tr th {\n",
       "        vertical-align: top;\n",
       "    }\n",
       "\n",
       "    .dataframe thead th {\n",
       "        text-align: right;\n",
       "    }\n",
       "</style>\n",
       "<table border=\"1\" class=\"dataframe\">\n",
       "  <thead>\n",
       "    <tr style=\"text-align: right;\">\n",
       "      <th></th>\n",
       "      <th>userId</th>\n",
       "      <th>movieId_prediction</th>\n",
       "      <th>movieId_true</th>\n",
       "    </tr>\n",
       "  </thead>\n",
       "  <tbody>\n",
       "    <tr>\n",
       "      <th>0</th>\n",
       "      <td>0</td>\n",
       "      <td>[19, 22, 18, 17, 14, 5, 43, 30, 21, 29, 23, 28...</td>\n",
       "      <td>[5, 0]</td>\n",
       "    </tr>\n",
       "    <tr>\n",
       "      <th>1</th>\n",
       "      <td>1</td>\n",
       "      <td>[19, 10, 8, 20, 28, 4, 14, 33, 13, 31, 5, 43, ...</td>\n",
       "      <td>[13, 16, 14, 19, 24, 20]</td>\n",
       "    </tr>\n",
       "    <tr>\n",
       "      <th>2</th>\n",
       "      <td>2</td>\n",
       "      <td>[10, 21, 33, 4, 14, 3, 31, 43, 56, 34, 81, 30,...</td>\n",
       "      <td>[21]</td>\n",
       "    </tr>\n",
       "    <tr>\n",
       "      <th>3</th>\n",
       "      <td>3</td>\n",
       "      <td>[12, 22, 18, 33, 23, 4, 14, 81, 28, 46, 20, 56...</td>\n",
       "      <td>[33, 22, 5, 23]</td>\n",
       "    </tr>\n",
       "    <tr>\n",
       "      <th>4</th>\n",
       "      <td>4</td>\n",
       "      <td>[17, 22, 33, 3, 21, 30, 28, 13, 31, 5, 27, 26,...</td>\n",
       "      <td>[26]</td>\n",
       "    </tr>\n",
       "    <tr>\n",
       "      <th>...</th>\n",
       "      <td>...</td>\n",
       "      <td>...</td>\n",
       "      <td>...</td>\n",
       "    </tr>\n",
       "    <tr>\n",
       "      <th>11085</th>\n",
       "      <td>11085</td>\n",
       "      <td>[19, 12, 18, 22, 10, 39, 108, 28, 8, 16, 20, 8...</td>\n",
       "      <td>[39, 10, 12, 19]</td>\n",
       "    </tr>\n",
       "    <tr>\n",
       "      <th>11086</th>\n",
       "      <td>11086</td>\n",
       "      <td>[12, 22, 23, 8, 10, 4, 2, 5, 25, 91, 55, 33, 1...</td>\n",
       "      <td>[8, 52]</td>\n",
       "    </tr>\n",
       "    <tr>\n",
       "      <th>11087</th>\n",
       "      <td>11087</td>\n",
       "      <td>[4, 18, 3, 6, 10, 22, 57, 16, 85, 17, 82, 131,...</td>\n",
       "      <td>[10, 107, 4, 18]</td>\n",
       "    </tr>\n",
       "    <tr>\n",
       "      <th>11088</th>\n",
       "      <td>11088</td>\n",
       "      <td>[19, 8, 17, 22, 20, 21, 18, 28, 3, 57, 95, 4, ...</td>\n",
       "      <td>[21, 20, 8]</td>\n",
       "    </tr>\n",
       "    <tr>\n",
       "      <th>11089</th>\n",
       "      <td>11089</td>\n",
       "      <td>[12, 19, 17, 3, 4, 5, 18, 30, 16, 43, 23, 20, ...</td>\n",
       "      <td>[12, 21, 57, 108]</td>\n",
       "    </tr>\n",
       "  </tbody>\n",
       "</table>\n",
       "<p>10571 rows × 3 columns</p>\n",
       "</div>"
      ],
      "text/plain": [
       "       userId                                 movieId_prediction  \\\n",
       "0           0  [19, 22, 18, 17, 14, 5, 43, 30, 21, 29, 23, 28...   \n",
       "1           1  [19, 10, 8, 20, 28, 4, 14, 33, 13, 31, 5, 43, ...   \n",
       "2           2  [10, 21, 33, 4, 14, 3, 31, 43, 56, 34, 81, 30,...   \n",
       "3           3  [12, 22, 18, 33, 23, 4, 14, 81, 28, 46, 20, 56...   \n",
       "4           4  [17, 22, 33, 3, 21, 30, 28, 13, 31, 5, 27, 26,...   \n",
       "...       ...                                                ...   \n",
       "11085   11085  [19, 12, 18, 22, 10, 39, 108, 28, 8, 16, 20, 8...   \n",
       "11086   11086  [12, 22, 23, 8, 10, 4, 2, 5, 25, 91, 55, 33, 1...   \n",
       "11087   11087  [4, 18, 3, 6, 10, 22, 57, 16, 85, 17, 82, 131,...   \n",
       "11088   11088  [19, 8, 17, 22, 20, 21, 18, 28, 3, 57, 95, 4, ...   \n",
       "11089   11089  [12, 19, 17, 3, 4, 5, 18, 30, 16, 43, 23, 20, ...   \n",
       "\n",
       "                   movieId_true  \n",
       "0                        [5, 0]  \n",
       "1      [13, 16, 14, 19, 24, 20]  \n",
       "2                          [21]  \n",
       "3               [33, 22, 5, 23]  \n",
       "4                          [26]  \n",
       "...                         ...  \n",
       "11085          [39, 10, 12, 19]  \n",
       "11086                   [8, 52]  \n",
       "11087          [10, 107, 4, 18]  \n",
       "11088               [21, 20, 8]  \n",
       "11089         [12, 21, 57, 108]  \n",
       "\n",
       "[10571 rows x 3 columns]"
      ]
     },
     "execution_count": 98,
     "metadata": {},
     "output_type": "execute_result"
    }
   ],
   "source": [
    "merged_recs_with_label"
   ]
  },
  {
   "cell_type": "code",
   "execution_count": 55,
   "id": "a710a911-5287-4a0c-87ff-0d143cc984ee",
   "metadata": {},
   "outputs": [],
   "source": [
    "def precision_at_k(rec_list, ground_truth, k):\n",
    "    \"\"\"\n",
    "        Dada uma lista contendo as recomendações realizadas ao usuario `rec_list`\n",
    "        e uma lista ground_truth, retorna a precisão até a posição k\n",
    "    \"\"\"\n",
    "    focus_list = rec_list[:k]\n",
    "    relevant_list = [1 if item in ground_truth else 0 for item in focus_list]\n",
    "    n_relevants = sum(relevant_list)\n",
    "    return n_relevants / k\n"
   ]
  },
  {
   "cell_type": "code",
   "execution_count": 103,
   "id": "d0c4da97-44f2-4fa6-ab1b-ddda5bef017a",
   "metadata": {},
   "outputs": [],
   "source": [
    "def average_precision(recs_user, ground_truth,  max_k, verbose=False):\n",
    "    \"\"\"\n",
    "        Dado um user_id, um dataframe de recomendações, um dataframe de teste,\n",
    "        retorna a average precision para o usuario user_id\n",
    "    \"\"\"\n",
    "\n",
    "    if (max_k is None):\n",
    "        max_k = len(recs_user)\n",
    "    precisions = 0\n",
    "    relevant_list = [1 if item in ground_truth else 0 for item in recs_user]\n",
    "    n_relevants = sum(relevant_list)\n",
    "    \n",
    "    if (n_relevants == 0):\n",
    "        return 0\n",
    "\n",
    "    num_recs = max_k\n",
    "    for i in range(num_recs):\n",
    "        if (relevant_list[i] == 1):\n",
    "            # only consider relevant documents\n",
    "            k=i+1\n",
    "            precision = precision_at_k(recs_user, ground_truth,k=k)\n",
    "            precisions += precision\n",
    "            if (verbose):\n",
    "                print(f\"iter {i}; k={i+1}, list@k: {recs_user[:k]}, precision@k: {precision}; AP so far: {precisions/n_relevants}\")\n",
    "    return precisions/(n_relevants)\n"
   ]
  },
  {
   "cell_type": "code",
   "execution_count": 104,
   "id": "0ae48277-61b7-4b47-b919-84f7edc39e68",
   "metadata": {},
   "outputs": [],
   "source": [
    "merged_recs_with_label['AP'] = merged_recs_with_label.apply(lambda r: average_precision(r.movieId_prediction, r.movieId_true, max_k=10), axis=1)"
   ]
  },
  {
   "cell_type": "code",
   "execution_count": 105,
   "id": "0c3618db-3e24-4c0c-b0f2-a4eaafd1bc71",
   "metadata": {},
   "outputs": [
    {
     "data": {
      "text/html": [
       "<div>\n",
       "<style scoped>\n",
       "    .dataframe tbody tr th:only-of-type {\n",
       "        vertical-align: middle;\n",
       "    }\n",
       "\n",
       "    .dataframe tbody tr th {\n",
       "        vertical-align: top;\n",
       "    }\n",
       "\n",
       "    .dataframe thead th {\n",
       "        text-align: right;\n",
       "    }\n",
       "</style>\n",
       "<table border=\"1\" class=\"dataframe\">\n",
       "  <thead>\n",
       "    <tr style=\"text-align: right;\">\n",
       "      <th></th>\n",
       "      <th>userId</th>\n",
       "      <th>movieId_prediction</th>\n",
       "      <th>movieId_true</th>\n",
       "      <th>AP</th>\n",
       "    </tr>\n",
       "  </thead>\n",
       "  <tbody>\n",
       "    <tr>\n",
       "      <th>0</th>\n",
       "      <td>0</td>\n",
       "      <td>[19, 22, 18, 17, 14, 5, 43, 30, 21, 29, 23, 28...</td>\n",
       "      <td>[5, 0]</td>\n",
       "      <td>0.083333</td>\n",
       "    </tr>\n",
       "    <tr>\n",
       "      <th>1</th>\n",
       "      <td>1</td>\n",
       "      <td>[19, 10, 8, 20, 28, 4, 14, 33, 13, 31, 5, 43, ...</td>\n",
       "      <td>[13, 16, 14, 19, 24, 20]</td>\n",
       "      <td>0.474603</td>\n",
       "    </tr>\n",
       "    <tr>\n",
       "      <th>2</th>\n",
       "      <td>2</td>\n",
       "      <td>[10, 21, 33, 4, 14, 3, 31, 43, 56, 34, 81, 30,...</td>\n",
       "      <td>[21]</td>\n",
       "      <td>0.500000</td>\n",
       "    </tr>\n",
       "    <tr>\n",
       "      <th>3</th>\n",
       "      <td>3</td>\n",
       "      <td>[12, 22, 18, 33, 23, 4, 14, 81, 28, 46, 20, 56...</td>\n",
       "      <td>[33, 22, 5, 23]</td>\n",
       "      <td>0.400000</td>\n",
       "    </tr>\n",
       "    <tr>\n",
       "      <th>4</th>\n",
       "      <td>4</td>\n",
       "      <td>[17, 22, 33, 3, 21, 30, 28, 13, 31, 5, 27, 26,...</td>\n",
       "      <td>[26]</td>\n",
       "      <td>0.000000</td>\n",
       "    </tr>\n",
       "    <tr>\n",
       "      <th>...</th>\n",
       "      <td>...</td>\n",
       "      <td>...</td>\n",
       "      <td>...</td>\n",
       "      <td>...</td>\n",
       "    </tr>\n",
       "    <tr>\n",
       "      <th>11085</th>\n",
       "      <td>11085</td>\n",
       "      <td>[19, 12, 18, 22, 10, 39, 108, 28, 8, 16, 20, 8...</td>\n",
       "      <td>[39, 10, 12, 19]</td>\n",
       "      <td>0.816667</td>\n",
       "    </tr>\n",
       "    <tr>\n",
       "      <th>11086</th>\n",
       "      <td>11086</td>\n",
       "      <td>[12, 22, 23, 8, 10, 4, 2, 5, 25, 91, 55, 33, 1...</td>\n",
       "      <td>[8, 52]</td>\n",
       "      <td>0.125000</td>\n",
       "    </tr>\n",
       "    <tr>\n",
       "      <th>11087</th>\n",
       "      <td>11087</td>\n",
       "      <td>[4, 18, 3, 6, 10, 22, 57, 16, 85, 17, 82, 131,...</td>\n",
       "      <td>[10, 107, 4, 18]</td>\n",
       "      <td>0.866667</td>\n",
       "    </tr>\n",
       "    <tr>\n",
       "      <th>11088</th>\n",
       "      <td>11088</td>\n",
       "      <td>[19, 8, 17, 22, 20, 21, 18, 28, 3, 57, 95, 4, ...</td>\n",
       "      <td>[21, 20, 8]</td>\n",
       "      <td>0.466667</td>\n",
       "    </tr>\n",
       "    <tr>\n",
       "      <th>11089</th>\n",
       "      <td>11089</td>\n",
       "      <td>[12, 19, 17, 3, 4, 5, 18, 30, 16, 43, 23, 20, ...</td>\n",
       "      <td>[12, 21, 57, 108]</td>\n",
       "      <td>0.500000</td>\n",
       "    </tr>\n",
       "  </tbody>\n",
       "</table>\n",
       "<p>10571 rows × 4 columns</p>\n",
       "</div>"
      ],
      "text/plain": [
       "       userId                                 movieId_prediction  \\\n",
       "0           0  [19, 22, 18, 17, 14, 5, 43, 30, 21, 29, 23, 28...   \n",
       "1           1  [19, 10, 8, 20, 28, 4, 14, 33, 13, 31, 5, 43, ...   \n",
       "2           2  [10, 21, 33, 4, 14, 3, 31, 43, 56, 34, 81, 30,...   \n",
       "3           3  [12, 22, 18, 33, 23, 4, 14, 81, 28, 46, 20, 56...   \n",
       "4           4  [17, 22, 33, 3, 21, 30, 28, 13, 31, 5, 27, 26,...   \n",
       "...       ...                                                ...   \n",
       "11085   11085  [19, 12, 18, 22, 10, 39, 108, 28, 8, 16, 20, 8...   \n",
       "11086   11086  [12, 22, 23, 8, 10, 4, 2, 5, 25, 91, 55, 33, 1...   \n",
       "11087   11087  [4, 18, 3, 6, 10, 22, 57, 16, 85, 17, 82, 131,...   \n",
       "11088   11088  [19, 8, 17, 22, 20, 21, 18, 28, 3, 57, 95, 4, ...   \n",
       "11089   11089  [12, 19, 17, 3, 4, 5, 18, 30, 16, 43, 23, 20, ...   \n",
       "\n",
       "                   movieId_true        AP  \n",
       "0                        [5, 0]  0.083333  \n",
       "1      [13, 16, 14, 19, 24, 20]  0.474603  \n",
       "2                          [21]  0.500000  \n",
       "3               [33, 22, 5, 23]  0.400000  \n",
       "4                          [26]  0.000000  \n",
       "...                         ...       ...  \n",
       "11085          [39, 10, 12, 19]  0.816667  \n",
       "11086                   [8, 52]  0.125000  \n",
       "11087          [10, 107, 4, 18]  0.866667  \n",
       "11088               [21, 20, 8]  0.466667  \n",
       "11089         [12, 21, 57, 108]  0.500000  \n",
       "\n",
       "[10571 rows x 4 columns]"
      ]
     },
     "execution_count": 105,
     "metadata": {},
     "output_type": "execute_result"
    }
   ],
   "source": [
    "merged_recs_with_label"
   ]
  },
  {
   "cell_type": "code",
   "execution_count": 61,
   "id": "a156d120-dfc7-49b2-be7a-43ea91313026",
   "metadata": {},
   "outputs": [],
   "source": [
    "def create_AP_col(recs_df):\n",
    "    df_copy = recs_df.copy()\n",
    "    df_copy['AP'] = recs_df.apply(lambda r: average_precision(r.userId, recs_df=recs_df, test_df=test), axis=1)\n",
    "    return df_copy"
   ]
  },
  {
   "cell_type": "code",
   "execution_count": 101,
   "id": "8015cc2c-9d9d-4fcf-8e62-d68370719a46",
   "metadata": {},
   "outputs": [],
   "source": [
    "def MAP(recs_df):\n",
    "    return np.mean(recs_df['AP'])"
   ]
  },
  {
   "cell_type": "code",
   "execution_count": 106,
   "id": "6b6dcfbb-8239-4cd5-8fc5-099edd3f4a48",
   "metadata": {},
   "outputs": [
    {
     "data": {
      "text/plain": [
       "0.34955807216965823"
      ]
     },
     "execution_count": 106,
     "metadata": {},
     "output_type": "execute_result"
    }
   ],
   "source": [
    "MAP(merged_recs_with_label)"
   ]
  },
  {
   "cell_type": "markdown",
   "id": "921c2c89-13aa-4034-9562-158c24c42c18",
   "metadata": {},
   "source": [
    "Considerando que o BPRMF obteve um MAP@10 > 0.4 e o itemKNN também, o nosso método teve um desempenho (MAP@10= 0.34) inferior aos metodos baseline ao realizar a reordenação.\n",
    "\n",
    "Talvez uma média das duas avaliações não seja tão interessante para a reordenação. O BPRMF é otimizado para avaliações implicitas, isso pode ter impactado a performance também."
   ]
  }
 ],
 "metadata": {
  "kernelspec": {
   "display_name": "Python 3 (ipykernel)",
   "language": "python",
   "name": "python3"
  },
  "language_info": {
   "codemirror_mode": {
    "name": "ipython",
    "version": 3
   },
   "file_extension": ".py",
   "mimetype": "text/x-python",
   "name": "python",
   "nbconvert_exporter": "python",
   "pygments_lexer": "ipython3",
   "version": "3.10.12"
  }
 },
 "nbformat": 4,
 "nbformat_minor": 5
}
