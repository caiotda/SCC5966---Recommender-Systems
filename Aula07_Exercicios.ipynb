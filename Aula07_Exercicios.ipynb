{
 "cells": [
  {
   "cell_type": "markdown",
   "id": "8576766d",
   "metadata": {},
   "source": [
    "# Aula 07 - Filtragem Baseada em Conhecimento - Exercícios"
   ]
  },
  {
   "cell_type": "markdown",
   "id": "1a3700b7",
   "metadata": {},
   "source": [
    "## Importação dos dados (MovieLens 100k)"
   ]
  },
  {
   "cell_type": "code",
   "execution_count": 26,
   "id": "2ae5a1b4",
   "metadata": {},
   "outputs": [],
   "source": [
    "import pandas as pd\n",
    "import numpy as np"
   ]
  },
  {
   "cell_type": "code",
   "execution_count": 27,
   "id": "8deb19ff",
   "metadata": {},
   "outputs": [
    {
     "name": "stdout",
     "output_type": "stream",
     "text": [
      "100% [......................................................] 4924029 / 4924029\n",
      "Saved under ml-100k.zip\n",
      "Archive:  ml-100k.zip\n",
      "   creating: ml-100k/\n",
      "  inflating: ml-100k/allbut.pl       \n",
      "  inflating: ml-100k/mku.sh          \n",
      "  inflating: ml-100k/README          \n",
      "  inflating: ml-100k/u.data          \n",
      "  inflating: ml-100k/u.genre         \n",
      "  inflating: ml-100k/u.info          \n",
      "  inflating: ml-100k/u.item          \n",
      "  inflating: ml-100k/u.occupation    \n",
      "  inflating: ml-100k/u.user          \n",
      "  inflating: ml-100k/u1.base         \n",
      "  inflating: ml-100k/u1.test         \n",
      "  inflating: ml-100k/u2.base         \n",
      "  inflating: ml-100k/u2.test         \n",
      "  inflating: ml-100k/u3.base         \n",
      "  inflating: ml-100k/u3.test         \n",
      "  inflating: ml-100k/u4.base         \n",
      "  inflating: ml-100k/u4.test         \n",
      "  inflating: ml-100k/u5.base         \n",
      "  inflating: ml-100k/u5.test         \n",
      "  inflating: ml-100k/ua.base         \n",
      "  inflating: ml-100k/ua.test         \n",
      "  inflating: ml-100k/ub.base         \n",
      "  inflating: ml-100k/ub.test         \n"
     ]
    }
   ],
   "source": [
    "import wget\n",
    "!python3 -m wget https://files.grouplens.org/datasets/movielens/ml-100k.zip\n",
    "!unzip ml-100k.zip\n"
   ]
  },
  {
   "cell_type": "code",
   "execution_count": 28,
   "id": "2f2102be",
   "metadata": {},
   "outputs": [
    {
     "data": {
      "text/plain": [
       "['unknown',\n",
       " 'Action',\n",
       " 'Adventure',\n",
       " 'Animation',\n",
       " \"Children's\",\n",
       " 'Comedy',\n",
       " 'Crime',\n",
       " 'Documentary',\n",
       " 'Drama',\n",
       " 'Fantasy',\n",
       " 'Film-Noir',\n",
       " 'Horror',\n",
       " 'Musical',\n",
       " 'Mystery',\n",
       " 'Romance',\n",
       " 'Sci-Fi',\n",
       " 'Thriller',\n",
       " 'War',\n",
       " 'Western']"
      ]
     },
     "execution_count": 28,
     "metadata": {},
     "output_type": "execute_result"
    }
   ],
   "source": [
    "#Types of genres\n",
    "genre = pd.read_csv('./ml-100k/u.genre', sep=\"|\", encoding='latin-1', header=None)\n",
    "genre.drop(genre.columns[1], axis=1, inplace=True)\n",
    "genre.columns = ['Genres']\n",
    "genre_list = list(genre['Genres'])\n",
    "genre_list"
   ]
  },
  {
   "cell_type": "code",
   "execution_count": 29,
   "id": "cf04c12a",
   "metadata": {},
   "outputs": [
    {
     "data": {
      "text/plain": [
       "['administrator',\n",
       " 'artist',\n",
       " 'doctor',\n",
       " 'educator',\n",
       " 'engineer',\n",
       " 'entertainment',\n",
       " 'executive',\n",
       " 'healthcare',\n",
       " 'homemaker',\n",
       " 'lawyer',\n",
       " 'librarian',\n",
       " 'marketing',\n",
       " 'none',\n",
       " 'other',\n",
       " 'programmer',\n",
       " 'retired',\n",
       " 'salesman',\n",
       " 'scientist',\n",
       " 'student',\n",
       " 'technician',\n",
       " 'writer']"
      ]
     },
     "execution_count": 29,
     "metadata": {},
     "output_type": "execute_result"
    }
   ],
   "source": [
    "#Types of occupations\n",
    "occupation = pd.read_csv('./ml-100k/u.occupation', sep=\"|\", encoding='latin-1', header=None)\n",
    "occupation.columns = ['Occupations']\n",
    "occupation_list = list(occupation['Occupations'])\n",
    "occupation_list"
   ]
  },
  {
   "cell_type": "code",
   "execution_count": 30,
   "id": "b361233a",
   "metadata": {},
   "outputs": [
    {
     "data": {
      "text/html": [
       "<div>\n",
       "<style scoped>\n",
       "    .dataframe tbody tr th:only-of-type {\n",
       "        vertical-align: middle;\n",
       "    }\n",
       "\n",
       "    .dataframe tbody tr th {\n",
       "        vertical-align: top;\n",
       "    }\n",
       "\n",
       "    .dataframe thead th {\n",
       "        text-align: right;\n",
       "    }\n",
       "</style>\n",
       "<table border=\"1\" class=\"dataframe\">\n",
       "  <thead>\n",
       "    <tr style=\"text-align: right;\">\n",
       "      <th></th>\n",
       "      <th>userId</th>\n",
       "      <th>movieId</th>\n",
       "      <th>rating</th>\n",
       "      <th>timestamp</th>\n",
       "    </tr>\n",
       "  </thead>\n",
       "  <tbody>\n",
       "    <tr>\n",
       "      <th>0</th>\n",
       "      <td>196</td>\n",
       "      <td>242</td>\n",
       "      <td>3</td>\n",
       "      <td>881250949</td>\n",
       "    </tr>\n",
       "    <tr>\n",
       "      <th>1</th>\n",
       "      <td>186</td>\n",
       "      <td>302</td>\n",
       "      <td>3</td>\n",
       "      <td>891717742</td>\n",
       "    </tr>\n",
       "    <tr>\n",
       "      <th>2</th>\n",
       "      <td>22</td>\n",
       "      <td>377</td>\n",
       "      <td>1</td>\n",
       "      <td>878887116</td>\n",
       "    </tr>\n",
       "    <tr>\n",
       "      <th>3</th>\n",
       "      <td>244</td>\n",
       "      <td>51</td>\n",
       "      <td>2</td>\n",
       "      <td>880606923</td>\n",
       "    </tr>\n",
       "    <tr>\n",
       "      <th>4</th>\n",
       "      <td>166</td>\n",
       "      <td>346</td>\n",
       "      <td>1</td>\n",
       "      <td>886397596</td>\n",
       "    </tr>\n",
       "  </tbody>\n",
       "</table>\n",
       "</div>"
      ],
      "text/plain": [
       "   userId  movieId  rating  timestamp\n",
       "0     196      242       3  881250949\n",
       "1     186      302       3  891717742\n",
       "2      22      377       1  878887116\n",
       "3     244       51       2  880606923\n",
       "4     166      346       1  886397596"
      ]
     },
     "execution_count": 30,
     "metadata": {},
     "output_type": "execute_result"
    }
   ],
   "source": [
    "#Load the Ratings data\n",
    "data = pd.read_csv('./ml-100k/u.data', sep=\"\\t\", header=None)\n",
    "data.columns = ['userId', 'movieId', 'rating', 'timestamp']\n",
    "data.head()"
   ]
  },
  {
   "cell_type": "code",
   "execution_count": 31,
   "id": "c083849c",
   "metadata": {},
   "outputs": [
    {
     "data": {
      "text/html": [
       "<div>\n",
       "<style scoped>\n",
       "    .dataframe tbody tr th:only-of-type {\n",
       "        vertical-align: middle;\n",
       "    }\n",
       "\n",
       "    .dataframe tbody tr th {\n",
       "        vertical-align: top;\n",
       "    }\n",
       "\n",
       "    .dataframe thead th {\n",
       "        text-align: right;\n",
       "    }\n",
       "</style>\n",
       "<table border=\"1\" class=\"dataframe\">\n",
       "  <thead>\n",
       "    <tr style=\"text-align: right;\">\n",
       "      <th></th>\n",
       "      <th>movieId</th>\n",
       "      <th>title</th>\n",
       "      <th>unknown</th>\n",
       "      <th>Action</th>\n",
       "      <th>Adventure</th>\n",
       "      <th>Animation</th>\n",
       "      <th>Children's</th>\n",
       "      <th>Comedy</th>\n",
       "      <th>Crime</th>\n",
       "      <th>Documentary</th>\n",
       "      <th>...</th>\n",
       "      <th>Film-Noir</th>\n",
       "      <th>Horror</th>\n",
       "      <th>Musical</th>\n",
       "      <th>Mystery</th>\n",
       "      <th>Romance</th>\n",
       "      <th>Sci-Fi</th>\n",
       "      <th>Thriller</th>\n",
       "      <th>War</th>\n",
       "      <th>Western</th>\n",
       "      <th>year</th>\n",
       "    </tr>\n",
       "  </thead>\n",
       "  <tbody>\n",
       "    <tr>\n",
       "      <th>0</th>\n",
       "      <td>1</td>\n",
       "      <td>Toy Story (1995)</td>\n",
       "      <td>0</td>\n",
       "      <td>0</td>\n",
       "      <td>0</td>\n",
       "      <td>1</td>\n",
       "      <td>1</td>\n",
       "      <td>1</td>\n",
       "      <td>0</td>\n",
       "      <td>0</td>\n",
       "      <td>...</td>\n",
       "      <td>0</td>\n",
       "      <td>0</td>\n",
       "      <td>0</td>\n",
       "      <td>0</td>\n",
       "      <td>0</td>\n",
       "      <td>0</td>\n",
       "      <td>0</td>\n",
       "      <td>0</td>\n",
       "      <td>0</td>\n",
       "      <td>1995</td>\n",
       "    </tr>\n",
       "    <tr>\n",
       "      <th>1</th>\n",
       "      <td>2</td>\n",
       "      <td>GoldenEye (1995)</td>\n",
       "      <td>0</td>\n",
       "      <td>1</td>\n",
       "      <td>1</td>\n",
       "      <td>0</td>\n",
       "      <td>0</td>\n",
       "      <td>0</td>\n",
       "      <td>0</td>\n",
       "      <td>0</td>\n",
       "      <td>...</td>\n",
       "      <td>0</td>\n",
       "      <td>0</td>\n",
       "      <td>0</td>\n",
       "      <td>0</td>\n",
       "      <td>0</td>\n",
       "      <td>0</td>\n",
       "      <td>1</td>\n",
       "      <td>0</td>\n",
       "      <td>0</td>\n",
       "      <td>1995</td>\n",
       "    </tr>\n",
       "    <tr>\n",
       "      <th>2</th>\n",
       "      <td>3</td>\n",
       "      <td>Four Rooms (1995)</td>\n",
       "      <td>0</td>\n",
       "      <td>0</td>\n",
       "      <td>0</td>\n",
       "      <td>0</td>\n",
       "      <td>0</td>\n",
       "      <td>0</td>\n",
       "      <td>0</td>\n",
       "      <td>0</td>\n",
       "      <td>...</td>\n",
       "      <td>0</td>\n",
       "      <td>0</td>\n",
       "      <td>0</td>\n",
       "      <td>0</td>\n",
       "      <td>0</td>\n",
       "      <td>0</td>\n",
       "      <td>1</td>\n",
       "      <td>0</td>\n",
       "      <td>0</td>\n",
       "      <td>1995</td>\n",
       "    </tr>\n",
       "    <tr>\n",
       "      <th>3</th>\n",
       "      <td>4</td>\n",
       "      <td>Get Shorty (1995)</td>\n",
       "      <td>0</td>\n",
       "      <td>1</td>\n",
       "      <td>0</td>\n",
       "      <td>0</td>\n",
       "      <td>0</td>\n",
       "      <td>1</td>\n",
       "      <td>0</td>\n",
       "      <td>0</td>\n",
       "      <td>...</td>\n",
       "      <td>0</td>\n",
       "      <td>0</td>\n",
       "      <td>0</td>\n",
       "      <td>0</td>\n",
       "      <td>0</td>\n",
       "      <td>0</td>\n",
       "      <td>0</td>\n",
       "      <td>0</td>\n",
       "      <td>0</td>\n",
       "      <td>1995</td>\n",
       "    </tr>\n",
       "    <tr>\n",
       "      <th>4</th>\n",
       "      <td>5</td>\n",
       "      <td>Copycat (1995)</td>\n",
       "      <td>0</td>\n",
       "      <td>0</td>\n",
       "      <td>0</td>\n",
       "      <td>0</td>\n",
       "      <td>0</td>\n",
       "      <td>0</td>\n",
       "      <td>1</td>\n",
       "      <td>0</td>\n",
       "      <td>...</td>\n",
       "      <td>0</td>\n",
       "      <td>0</td>\n",
       "      <td>0</td>\n",
       "      <td>0</td>\n",
       "      <td>0</td>\n",
       "      <td>0</td>\n",
       "      <td>1</td>\n",
       "      <td>0</td>\n",
       "      <td>0</td>\n",
       "      <td>1995</td>\n",
       "    </tr>\n",
       "  </tbody>\n",
       "</table>\n",
       "<p>5 rows × 22 columns</p>\n",
       "</div>"
      ],
      "text/plain": [
       "   movieId              title  unknown  Action  Adventure  Animation  \\\n",
       "0        1   Toy Story (1995)        0       0          0          1   \n",
       "1        2   GoldenEye (1995)        0       1          1          0   \n",
       "2        3  Four Rooms (1995)        0       0          0          0   \n",
       "3        4  Get Shorty (1995)        0       1          0          0   \n",
       "4        5     Copycat (1995)        0       0          0          0   \n",
       "\n",
       "   Children's  Comedy  Crime  Documentary  ...  Film-Noir  Horror  Musical  \\\n",
       "0           1       1      0            0  ...          0       0        0   \n",
       "1           0       0      0            0  ...          0       0        0   \n",
       "2           0       0      0            0  ...          0       0        0   \n",
       "3           0       1      0            0  ...          0       0        0   \n",
       "4           0       0      1            0  ...          0       0        0   \n",
       "\n",
       "   Mystery  Romance  Sci-Fi  Thriller  War  Western  year  \n",
       "0        0        0       0         0    0        0  1995  \n",
       "1        0        0       0         1    0        0  1995  \n",
       "2        0        0       0         1    0        0  1995  \n",
       "3        0        0       0         0    0        0  1995  \n",
       "4        0        0       0         1    0        0  1995  \n",
       "\n",
       "[5 rows x 22 columns]"
      ]
     },
     "execution_count": 31,
     "metadata": {},
     "output_type": "execute_result"
    }
   ],
   "source": [
    "#Load the Movies data\n",
    "item = pd.read_csv('./ml-100k/u.item', sep=\"|\", encoding='latin-1', header=None)\n",
    "item.columns = ['movieId', 'title' ,'release','video release date', 'IMDb URL', 'unknown', 'Action', \n",
    "                'Adventure', 'Animation', 'Children\\'s', 'Comedy', 'Crime', 'Documentary', 'Drama', 'Fantasy', 'Film-Noir', \n",
    "                'Horror', 'Musical', 'Mystery', 'Romance', 'Sci-Fi', 'Thriller', 'War', 'Western']\n",
    "item['release'] = pd.to_datetime(item['release'])\n",
    "item = item[pd.notnull(item['release'])]\n",
    "item['year'] = item['release'].dt.year.astype(int)\n",
    "item.drop(columns=['release', 'video release date', 'IMDb URL'], inplace=True)\n",
    "item.head()"
   ]
  },
  {
   "cell_type": "code",
   "execution_count": 32,
   "id": "38a4a04d",
   "metadata": {},
   "outputs": [
    {
     "data": {
      "text/html": [
       "<div>\n",
       "<style scoped>\n",
       "    .dataframe tbody tr th:only-of-type {\n",
       "        vertical-align: middle;\n",
       "    }\n",
       "\n",
       "    .dataframe tbody tr th {\n",
       "        vertical-align: top;\n",
       "    }\n",
       "\n",
       "    .dataframe thead th {\n",
       "        text-align: right;\n",
       "    }\n",
       "</style>\n",
       "<table border=\"1\" class=\"dataframe\">\n",
       "  <thead>\n",
       "    <tr style=\"text-align: right;\">\n",
       "      <th></th>\n",
       "      <th>movieId</th>\n",
       "      <th>title</th>\n",
       "      <th>genre</th>\n",
       "    </tr>\n",
       "  </thead>\n",
       "  <tbody>\n",
       "    <tr>\n",
       "      <th>1371</th>\n",
       "      <td>1373</td>\n",
       "      <td>Good Morning (1971)</td>\n",
       "      <td>unknown</td>\n",
       "    </tr>\n",
       "    <tr>\n",
       "      <th>1682</th>\n",
       "      <td>2</td>\n",
       "      <td>GoldenEye (1995)</td>\n",
       "      <td>Action</td>\n",
       "    </tr>\n",
       "    <tr>\n",
       "      <th>1684</th>\n",
       "      <td>4</td>\n",
       "      <td>Get Shorty (1995)</td>\n",
       "      <td>Action</td>\n",
       "    </tr>\n",
       "    <tr>\n",
       "      <th>1697</th>\n",
       "      <td>17</td>\n",
       "      <td>From Dusk Till Dawn (1996)</td>\n",
       "      <td>Action</td>\n",
       "    </tr>\n",
       "    <tr>\n",
       "      <th>1701</th>\n",
       "      <td>21</td>\n",
       "      <td>Muppet Treasure Island (1996)</td>\n",
       "      <td>Action</td>\n",
       "    </tr>\n",
       "  </tbody>\n",
       "</table>\n",
       "</div>"
      ],
      "text/plain": [
       "      movieId                          title    genre\n",
       "1371     1373            Good Morning (1971)  unknown\n",
       "1682        2               GoldenEye (1995)   Action\n",
       "1684        4              Get Shorty (1995)   Action\n",
       "1697       17     From Dusk Till Dawn (1996)   Action\n",
       "1701       21  Muppet Treasure Island (1996)   Action"
      ]
     },
     "execution_count": 32,
     "metadata": {},
     "output_type": "execute_result"
    }
   ],
   "source": [
    "df_meta = item.melt(id_vars=['movieId', 'title'], var_name='genre')\n",
    "df_meta = df_meta[df_meta.value == 1]\n",
    "df_meta.drop(columns=['value'], inplace=True)\n",
    "# df_meta[df_meta['movieId']==1]\n",
    "df_meta.head()"
   ]
  },
  {
   "cell_type": "code",
   "execution_count": 33,
   "id": "bfc11c98",
   "metadata": {},
   "outputs": [
    {
     "data": {
      "text/plain": [
       "['Animation', \"Children's\", 'Comedy']"
      ]
     },
     "execution_count": 33,
     "metadata": {},
     "output_type": "execute_result"
    }
   ],
   "source": [
    "# Obter a lista de gêneros de um item\n",
    "def get_genres(df, movieId):\n",
    "    if movieId not in df['movieId'].values:\n",
    "        return []\n",
    "    return df.loc[(df.movieId==movieId),'genre'].tolist()\n",
    "\n",
    "get_genres(df_meta, 1)"
   ]
  },
  {
   "cell_type": "code",
   "execution_count": 34,
   "id": "f7ce2044",
   "metadata": {},
   "outputs": [
    {
     "data": {
      "text/html": [
       "<div>\n",
       "<style scoped>\n",
       "    .dataframe tbody tr th:only-of-type {\n",
       "        vertical-align: middle;\n",
       "    }\n",
       "\n",
       "    .dataframe tbody tr th {\n",
       "        vertical-align: top;\n",
       "    }\n",
       "\n",
       "    .dataframe thead th {\n",
       "        text-align: right;\n",
       "    }\n",
       "</style>\n",
       "<table border=\"1\" class=\"dataframe\">\n",
       "  <thead>\n",
       "    <tr style=\"text-align: right;\">\n",
       "      <th></th>\n",
       "      <th>userId</th>\n",
       "      <th>age</th>\n",
       "      <th>gender</th>\n",
       "      <th>occupation</th>\n",
       "      <th>zip code</th>\n",
       "    </tr>\n",
       "  </thead>\n",
       "  <tbody>\n",
       "    <tr>\n",
       "      <th>0</th>\n",
       "      <td>1</td>\n",
       "      <td>24</td>\n",
       "      <td>M</td>\n",
       "      <td>technician</td>\n",
       "      <td>85711</td>\n",
       "    </tr>\n",
       "    <tr>\n",
       "      <th>1</th>\n",
       "      <td>2</td>\n",
       "      <td>53</td>\n",
       "      <td>F</td>\n",
       "      <td>other</td>\n",
       "      <td>94043</td>\n",
       "    </tr>\n",
       "    <tr>\n",
       "      <th>2</th>\n",
       "      <td>3</td>\n",
       "      <td>23</td>\n",
       "      <td>M</td>\n",
       "      <td>writer</td>\n",
       "      <td>32067</td>\n",
       "    </tr>\n",
       "    <tr>\n",
       "      <th>3</th>\n",
       "      <td>4</td>\n",
       "      <td>24</td>\n",
       "      <td>M</td>\n",
       "      <td>technician</td>\n",
       "      <td>43537</td>\n",
       "    </tr>\n",
       "    <tr>\n",
       "      <th>4</th>\n",
       "      <td>5</td>\n",
       "      <td>33</td>\n",
       "      <td>F</td>\n",
       "      <td>other</td>\n",
       "      <td>15213</td>\n",
       "    </tr>\n",
       "  </tbody>\n",
       "</table>\n",
       "</div>"
      ],
      "text/plain": [
       "   userId  age gender  occupation zip code\n",
       "0       1   24      M  technician    85711\n",
       "1       2   53      F       other    94043\n",
       "2       3   23      M      writer    32067\n",
       "3       4   24      M  technician    43537\n",
       "4       5   33      F       other    15213"
      ]
     },
     "execution_count": 34,
     "metadata": {},
     "output_type": "execute_result"
    }
   ],
   "source": [
    "#Load the User data\n",
    "user = pd.read_csv('./ml-100k/u.user', sep=\"|\", encoding='latin-1', header=None)\n",
    "user.columns = ['userId', 'age', 'gender', 'occupation', 'zip code']\n",
    "user.head()"
   ]
  },
  {
   "cell_type": "markdown",
   "id": "5757f5b6",
   "metadata": {},
   "source": [
    "***Exercício 01:*** Implemente um sistema de recomendação baseado em casos que permite as seguintes restrições definidas pelo usuário:\n",
    "- Escolher entre filmes mais antigos ou mais recentes\n",
    "- Determinar os gêneors de maior preferência (mas não restrito a eles)\n",
    "- Escolher os filmes mais populares ou os menos populares dentre os usuários de uma dada profissão.\n",
    "- Atribuir importância maior ou menor para cada uma das restrições anteriores.\n",
    "\n",
    "Recomende uma lista de 10 filmes com base nos critérios definidos pelo usuário.\n",
    "\n",
    "Exemplo: usuário define:\n",
    "- filmes_mais_recentes = True\n",
    "- generos_preferidos = ['Drama']\n",
    "- filmes_mais_populares = True\n",
    "- profissão = 'writer'\n",
    "- pesos = [0.33, 0.33, 0.33]"
   ]
  },
  {
   "cell_type": "markdown",
   "id": "233b3829-4b1d-4014-b495-7381940d3055",
   "metadata": {},
   "source": [
    "Genero: tirar a similaridade jaccard entre a lista de generos providenciada e a lista de generos de um cado filme\n",
    "\n",
    "Recencia de filme: determinar distancia entre data atual e filme. Se forem filmes mais antigos, inverter o calculo\n",
    "\n",
    "Popularidade: maximiza ou minimiza popularidade para cada profissao\n"
   ]
  },
  {
   "cell_type": "code",
   "execution_count": 35,
   "id": "4c80b8ba-af0d-4eb6-a45d-3b79685f4715",
   "metadata": {},
   "outputs": [],
   "source": [
    "popularity_by_occupation_df = (\n",
    "    data.join(user, on=\"userId\", lsuffix=\"_l\", rsuffix=\"_r\")\n",
    "    .groupby([\"occupation\", \"movieId\"]).size()\n",
    "    .reset_index()\n",
    "    .rename(columns={0: 'popularity'})\n",
    ")"
   ]
  },
  {
   "cell_type": "code",
   "execution_count": 36,
   "id": "1e3a325f-c5af-4496-8dad-3334e3910737",
   "metadata": {},
   "outputs": [
    {
     "data": {
      "text/html": [
       "<div>\n",
       "<style scoped>\n",
       "    .dataframe tbody tr th:only-of-type {\n",
       "        vertical-align: middle;\n",
       "    }\n",
       "\n",
       "    .dataframe tbody tr th {\n",
       "        vertical-align: top;\n",
       "    }\n",
       "\n",
       "    .dataframe thead th {\n",
       "        text-align: right;\n",
       "    }\n",
       "</style>\n",
       "<table border=\"1\" class=\"dataframe\">\n",
       "  <thead>\n",
       "    <tr style=\"text-align: right;\">\n",
       "      <th></th>\n",
       "      <th>occupation</th>\n",
       "      <th>movieId</th>\n",
       "      <th>popularity</th>\n",
       "    </tr>\n",
       "  </thead>\n",
       "  <tbody>\n",
       "    <tr>\n",
       "      <th>0</th>\n",
       "      <td>administrator</td>\n",
       "      <td>1</td>\n",
       "      <td>37</td>\n",
       "    </tr>\n",
       "    <tr>\n",
       "      <th>1</th>\n",
       "      <td>administrator</td>\n",
       "      <td>2</td>\n",
       "      <td>14</td>\n",
       "    </tr>\n",
       "    <tr>\n",
       "      <th>2</th>\n",
       "      <td>administrator</td>\n",
       "      <td>3</td>\n",
       "      <td>6</td>\n",
       "    </tr>\n",
       "    <tr>\n",
       "      <th>3</th>\n",
       "      <td>administrator</td>\n",
       "      <td>4</td>\n",
       "      <td>20</td>\n",
       "    </tr>\n",
       "    <tr>\n",
       "      <th>4</th>\n",
       "      <td>administrator</td>\n",
       "      <td>5</td>\n",
       "      <td>8</td>\n",
       "    </tr>\n",
       "    <tr>\n",
       "      <th>...</th>\n",
       "      <td>...</td>\n",
       "      <td>...</td>\n",
       "      <td>...</td>\n",
       "    </tr>\n",
       "    <tr>\n",
       "      <th>19285</th>\n",
       "      <td>writer</td>\n",
       "      <td>1608</td>\n",
       "      <td>1</td>\n",
       "    </tr>\n",
       "    <tr>\n",
       "      <th>19286</th>\n",
       "      <td>writer</td>\n",
       "      <td>1615</td>\n",
       "      <td>2</td>\n",
       "    </tr>\n",
       "    <tr>\n",
       "      <th>19287</th>\n",
       "      <td>writer</td>\n",
       "      <td>1622</td>\n",
       "      <td>1</td>\n",
       "    </tr>\n",
       "    <tr>\n",
       "      <th>19288</th>\n",
       "      <td>writer</td>\n",
       "      <td>1646</td>\n",
       "      <td>1</td>\n",
       "    </tr>\n",
       "    <tr>\n",
       "      <th>19289</th>\n",
       "      <td>writer</td>\n",
       "      <td>1672</td>\n",
       "      <td>1</td>\n",
       "    </tr>\n",
       "  </tbody>\n",
       "</table>\n",
       "<p>19290 rows × 3 columns</p>\n",
       "</div>"
      ],
      "text/plain": [
       "          occupation  movieId  popularity\n",
       "0      administrator        1          37\n",
       "1      administrator        2          14\n",
       "2      administrator        3           6\n",
       "3      administrator        4          20\n",
       "4      administrator        5           8\n",
       "...              ...      ...         ...\n",
       "19285         writer     1608           1\n",
       "19286         writer     1615           2\n",
       "19287         writer     1622           1\n",
       "19288         writer     1646           1\n",
       "19289         writer     1672           1\n",
       "\n",
       "[19290 rows x 3 columns]"
      ]
     },
     "execution_count": 36,
     "metadata": {},
     "output_type": "execute_result"
    }
   ],
   "source": [
    "popularity_by_occupation_df"
   ]
  },
  {
   "cell_type": "code",
   "execution_count": 37,
   "id": "6a5eaa40-6e02-415e-8b45-b340db286cfc",
   "metadata": {},
   "outputs": [],
   "source": [
    "def jaccard(list1, list2):\n",
    "    union_s = len(set(list1).union(set(list2)))\n",
    "    inter_s = len(set(list1) & set(list2))\n",
    "\n",
    "    if (union_s > 0):\n",
    "        return inter_s/union_s\n",
    "    else:\n",
    "        return 0"
   ]
  },
  {
   "cell_type": "code",
   "execution_count": 38,
   "id": "6f895115-3aed-46a6-bd83-a2eb72be8257",
   "metadata": {},
   "outputs": [],
   "source": [
    "def gender_sim(df, movie, req):\n",
    "    \"\"\"\n",
    "        Função que calcula a similaridade entre os generos de um filme e um requisito,\n",
    "        definindo os genêros desejados pelo usuário\n",
    "    \"\"\"\n",
    "\n",
    "    movie_genres = get_genres(df, movie)\n",
    "    return jaccard(req, movie_genres)"
   ]
  },
  {
   "cell_type": "code",
   "execution_count": 39,
   "id": "1018e42f-c778-4b61-8f45-41ea64bba30a",
   "metadata": {},
   "outputs": [],
   "source": [
    "def sim_min_max(df, movie, req, maximize=True):\n",
    "    \"\"\"\n",
    "        Função de similaridade que visa maximizar ou minimizar\n",
    "        o valor de um requisito definito por req.\n",
    "\n",
    "        Exemplo: se req='Year' e maximize=True, \n",
    "        maximiza diferenca entre o ano de lançamento\n",
    "        do filme e o valor mínimo, valorizando filmes antigos.\n",
    "\n",
    "        Se req='year' e maximize=False, maximiza a diferença entre o ano\n",
    "        de lançamento do filme e o valor máximo. Valorizando assim filmes\n",
    "        recentes\n",
    "    \"\"\"\n",
    "\n",
    "    target_attributes = df[req]\n",
    "    max_val = target_attributes.max()\n",
    "    min_val = target_attributes.min()\n",
    "    movie_df = df[df[\"movieId\"] == movie]\n",
    "    if (max_val == min_val or movie_df.empty):\n",
    "        return 0\n",
    "    item_attribute = movie_df[req].item()\n",
    "    if (maximize):\n",
    "        return (item_attribute - min_val)/(max_val - min_val)\n",
    "    else:\n",
    "        return (item_attribute - max_val)/(max_val - min_val)"
   ]
  },
  {
   "cell_type": "code",
   "execution_count": 40,
   "id": "f1dd3515-6f22-4e2d-9f9a-c8973d6c99ca",
   "metadata": {},
   "outputs": [],
   "source": [
    "def sim_popularity_by_occupation(df, movie, req, most_popular=True):\n",
    "    \"\"\"\n",
    "        Função de similaridade que visa maximizar ou minimizar \n",
    "        a popularidade de um filme, dado o requisito da ocupação profissional\n",
    "        de quem assistiu o filme.\n",
    "\n",
    "        Se most_popular=True, valoriza mais filmes populares para o requisito\n",
    "        Se most_popular=False, valoriza filmes menos populares para o requisito\n",
    "    \"\"\"\n",
    "\n",
    "    popularity_in_occupation = df[df[\"occupation\"] == req]\n",
    "    if (len(popularity_in_occupation) == 0):\n",
    "        return 0\n",
    "\n",
    "    if (most_popular):\n",
    "        return sim_min_max(df=popularity_in_occupation, movie=movie, req='popularity', maximize=True)\n",
    "    else:\n",
    "        return sim_min_max(df=popularity_in_occupation, movie=movie, req='popularity', maximize=False)\n",
    "        \n",
    "\n"
   ]
  },
  {
   "cell_type": "code",
   "execution_count": 41,
   "id": "93c40b43-431f-4b21-a336-d25c07bb6731",
   "metadata": {
    "scrolled": true
   },
   "outputs": [
    {
     "data": {
      "text/plain": [
       "-0.2653061224489796"
      ]
     },
     "execution_count": 41,
     "metadata": {},
     "output_type": "execute_result"
    }
   ],
   "source": [
    "sim_popularity_by_occupation(popularity_by_occupation_df, 1, \"administrator\", most_popular=False)"
   ]
  },
  {
   "cell_type": "code",
   "execution_count": 42,
   "id": "d5268411-7610-44d5-9d4f-fcbf9c9ed6c7",
   "metadata": {},
   "outputs": [
    {
     "data": {
      "text/plain": [
       "0.3333333333333333"
      ]
     },
     "execution_count": 42,
     "metadata": {},
     "output_type": "execute_result"
    }
   ],
   "source": [
    "gender_sim(df_meta, 1, [\"Comedy\"])"
   ]
  },
  {
   "cell_type": "code",
   "execution_count": 43,
   "id": "bc443094-8a3c-4bb5-8756-ecf9f9c3d217",
   "metadata": {},
   "outputs": [
    {
     "data": {
      "text/plain": [
       "-0.039473684210526314"
      ]
     },
     "execution_count": 43,
     "metadata": {},
     "output_type": "execute_result"
    }
   ],
   "source": [
    "sim_min_max(item, 1, \"year\", maximize=False)"
   ]
  },
  {
   "cell_type": "code",
   "execution_count": 98,
   "id": "86179998-cb0e-46f5-af16-09a286933b8d",
   "metadata": {},
   "outputs": [
    {
     "data": {
      "text/plain": [
       "0.9605263157894737"
      ]
     },
     "execution_count": 98,
     "metadata": {},
     "output_type": "execute_result"
    }
   ],
   "source": [
    "sim_min_max(item, 1, \"year\", maximize=True)"
   ]
  },
  {
   "cell_type": "code",
   "execution_count": 44,
   "id": "c64c1e89-0697-418a-91a3-82145366dfbc",
   "metadata": {},
   "outputs": [],
   "source": [
    "def knowledge_based_recommendation(movie, most_recent, most_popular, genre, occupation, weights):\n",
    "    \"\"\"\n",
    "        Dadas as restrições most_recent, most_popular, genre e occupation, calcula a similaridade do filme\n",
    "        movie, ponderando casa similaridade pelo vetor de pesos weights.\n",
    "\n",
    "        Convenciono que weights é um vetor com 3 pesos entre 0 e 1, onde:\n",
    "\n",
    "        O 0-esimo peso controla a similaridade por genero de filme\n",
    "        O 1-esimo peso controla a similaridade por recencia\n",
    "        O 2-esimo peso controla a similaridade por popularidade em ocupação\n",
    "    \"\"\"\n",
    "\n",
    "    weight_sum = np.sum(weights)\n",
    "\n",
    "    assert weight_sum == 1\n",
    "\n",
    "    score = (\n",
    "            weights[0] * gender_sim(df_meta, movie, genre) +\n",
    "            # Se most_recent -> minimizamos; Do contrario, maximizamos. Por isso tomamos a negação de most_recent\n",
    "            weights[1] * sim_min_max(item, movie, \"year\", maximize = not most_recent) + \n",
    "            weights[2] * sim_popularity_by_occupation(popularity_by_occupation_df, movie, occupation, most_popular=most_popular)\n",
    "    )\n",
    "\n",
    "    return movie, score/weight_sum\n",
    "\n",
    "    \n",
    "\n",
    "    "
   ]
  },
  {
   "cell_type": "code",
   "execution_count": 45,
   "id": "44ef1a30-6464-4474-93a6-15cd81cea2ae",
   "metadata": {},
   "outputs": [
    {
     "data": {
      "text/plain": [
       "(1, 0.4539622866690536)"
      ]
     },
     "execution_count": 45,
     "metadata": {},
     "output_type": "execute_result"
    }
   ],
   "source": [
    "knowledge_based_recommendation(movie=1, most_recent=True, most_popular=True, genre=['Comedy', 'Animation'], occupation='administrator', weights=[1/3, 1/3, 1/3])"
   ]
  },
  {
   "cell_type": "code",
   "execution_count": 46,
   "id": "0a034b1d-df64-4ae5-afff-df33d90b768f",
   "metadata": {},
   "outputs": [],
   "source": [
    "def validate_requisites(genres, occupation):\n",
    "    print(\"Validando requisitos...\")\n",
    "    try:\n",
    "        for genre in genres:\n",
    "            assert genre in genre_list\n",
    "    except AssertionError:\n",
    "        print(\"Um dos generos não é conhecido\")\n",
    "        return False\n",
    "    try:\n",
    "        assert occupation in occupation_list\n",
    "    except AssertionError:\n",
    "        print(\"A ocupação profissional informada não é conhecida\")\n",
    "        return False\n",
    "    print(\"Requisitos validos!\")\n",
    "    return True"
   ]
  },
  {
   "cell_type": "code",
   "execution_count": 47,
   "id": "ff9ed73c-7c19-40dc-9a1e-ab766e7ff0cd",
   "metadata": {},
   "outputs": [
    {
     "name": "stdout",
     "output_type": "stream",
     "text": [
      "Validando requisitos...\n",
      "Um dos generos não é conhecido\n"
     ]
    },
    {
     "data": {
      "text/plain": [
       "False"
      ]
     },
     "execution_count": 47,
     "metadata": {},
     "output_type": "execute_result"
    }
   ],
   "source": [
    "validate_requisites([\"Comedy\",\"Açaum\"], \"administrator\")"
   ]
  },
  {
   "cell_type": "code",
   "execution_count": 48,
   "id": "be43cb91-9694-4d56-bd46-7fb7e7fe83c1",
   "metadata": {},
   "outputs": [
    {
     "name": "stdout",
     "output_type": "stream",
     "text": [
      "Validando requisitos...\n",
      "Requisitos validos!\n"
     ]
    },
    {
     "data": {
      "text/plain": [
       "True"
      ]
     },
     "execution_count": 48,
     "metadata": {},
     "output_type": "execute_result"
    }
   ],
   "source": [
    "validate_requisites([\"Comedy\", \"Action\"], \"administrator\")"
   ]
  },
  {
   "cell_type": "code",
   "execution_count": 49,
   "id": "a2da003d-39af-4e09-a326-086140d0cb8a",
   "metadata": {},
   "outputs": [],
   "source": [
    "def generate_recommendations(movies_df, most_recent, most_popular, genre, occupation, weights):\n",
    "    \"\"\"\n",
    "        Gera 10 recomendações baseado nos requisitos especificados pelo usuário\n",
    "    \"\"\"\n",
    "    are_valid = validate_requisites(genre, occupation)\n",
    "    if (not are_valid):\n",
    "        return\n",
    "    movies = list(movies_df.movieId.unique())\n",
    "\n",
    "    recs = []\n",
    "    for movie in movies:\n",
    "        movie, score = knowledge_based_recommendation(movie, most_recent, most_popular, genre, occupation, weights)\n",
    "        recs.append((movie, score))\n",
    "    sorted_recs = sorted(recs, key=lambda rec: rec[1], reverse=True)\n",
    "\n",
    "    return pd.DataFrame(sorted_recs[:10], columns=[\"movieId\", \"score\"]).merge(df_meta[[\"movieId\", \"title\"]], on=\"movieId\").drop_duplicates()\n",
    "    \n",
    "    "
   ]
  },
  {
   "cell_type": "code",
   "execution_count": 50,
   "id": "af00a332-2fca-4f59-b4ad-f0c4bcbb380e",
   "metadata": {
    "scrolled": true
   },
   "outputs": [
    {
     "name": "stdout",
     "output_type": "stream",
     "text": [
      "Validando requisitos...\n",
      "Requisitos validos!\n"
     ]
    },
    {
     "data": {
      "text/html": [
       "<div>\n",
       "<style scoped>\n",
       "    .dataframe tbody tr th:only-of-type {\n",
       "        vertical-align: middle;\n",
       "    }\n",
       "\n",
       "    .dataframe tbody tr th {\n",
       "        vertical-align: top;\n",
       "    }\n",
       "\n",
       "    .dataframe thead th {\n",
       "        text-align: right;\n",
       "    }\n",
       "</style>\n",
       "<table border=\"1\" class=\"dataframe\">\n",
       "  <thead>\n",
       "    <tr style=\"text-align: right;\">\n",
       "      <th></th>\n",
       "      <th>movieId</th>\n",
       "      <th>score</th>\n",
       "      <th>title</th>\n",
       "    </tr>\n",
       "  </thead>\n",
       "  <tbody>\n",
       "    <tr>\n",
       "      <th>0</th>\n",
       "      <td>9</td>\n",
       "      <td>0.451489</td>\n",
       "      <td>Dead Man Walking (1995)</td>\n",
       "    </tr>\n",
       "    <tr>\n",
       "      <th>1</th>\n",
       "      <td>475</td>\n",
       "      <td>0.445774</td>\n",
       "      <td>Trainspotting (1996)</td>\n",
       "    </tr>\n",
       "    <tr>\n",
       "      <th>2</th>\n",
       "      <td>15</td>\n",
       "      <td>0.425572</td>\n",
       "      <td>Mr. Holland's Opus (1995)</td>\n",
       "    </tr>\n",
       "    <tr>\n",
       "      <th>3</th>\n",
       "      <td>508</td>\n",
       "      <td>0.425572</td>\n",
       "      <td>People vs. Larry Flynt, The (1996)</td>\n",
       "    </tr>\n",
       "    <tr>\n",
       "      <th>4</th>\n",
       "      <td>58</td>\n",
       "      <td>0.406699</td>\n",
       "      <td>Quiz Show (1994)</td>\n",
       "    </tr>\n",
       "    <tr>\n",
       "      <th>5</th>\n",
       "      <td>137</td>\n",
       "      <td>0.405369</td>\n",
       "      <td>Big Night (1996)</td>\n",
       "    </tr>\n",
       "    <tr>\n",
       "      <th>6</th>\n",
       "      <td>258</td>\n",
       "      <td>0.404705</td>\n",
       "      <td>Contact (1997)</td>\n",
       "    </tr>\n",
       "    <tr>\n",
       "      <th>8</th>\n",
       "      <td>292</td>\n",
       "      <td>0.399654</td>\n",
       "      <td>Rosewood (1997)</td>\n",
       "    </tr>\n",
       "    <tr>\n",
       "      <th>9</th>\n",
       "      <td>285</td>\n",
       "      <td>0.395268</td>\n",
       "      <td>Secrets &amp; Lies (1996)</td>\n",
       "    </tr>\n",
       "    <tr>\n",
       "      <th>10</th>\n",
       "      <td>86</td>\n",
       "      <td>0.392212</td>\n",
       "      <td>Remains of the Day, The (1993)</td>\n",
       "    </tr>\n",
       "  </tbody>\n",
       "</table>\n",
       "</div>"
      ],
      "text/plain": [
       "    movieId     score                               title\n",
       "0         9  0.451489             Dead Man Walking (1995)\n",
       "1       475  0.445774                Trainspotting (1996)\n",
       "2        15  0.425572           Mr. Holland's Opus (1995)\n",
       "3       508  0.425572  People vs. Larry Flynt, The (1996)\n",
       "4        58  0.406699                    Quiz Show (1994)\n",
       "5       137  0.405369                    Big Night (1996)\n",
       "6       258  0.404705                      Contact (1997)\n",
       "8       292  0.399654                     Rosewood (1997)\n",
       "9       285  0.395268               Secrets & Lies (1996)\n",
       "10       86  0.392212      Remains of the Day, The (1993)"
      ]
     },
     "execution_count": 50,
     "metadata": {},
     "output_type": "execute_result"
    }
   ],
   "source": [
    "generate_recommendations(df_meta, most_recent=True, most_popular=True, genre=['Drama'], occupation='writer', weights=[1/3, 1/3, 1/3]) "
   ]
  },
  {
   "cell_type": "markdown",
   "id": "6dada37f",
   "metadata": {},
   "source": [
    "***Exercício 02:*** Considere um CSP definido como uma tripla (V, D, C) onde:\n",
    "- V = V_usuario U V_filme : variáveis relacionadas com o usuário e o filme, respectivamente\n",
    "- C = C_usuario U C_filme U C_ui: restrições do usuário, filme e compatibilidade usuário/filme\n",
    "- D = conjunto de domínios finitos para as variáveis\n",
    "\n",
    "Podemos definir as variáveis e restrições como:\n",
    "- V_usuario : {companhia(sozinho, casal, familia), filme_popular(sim, nao), filme_classico(sim, nao)}\n",
    "- V_filme : {ano_lancamento(int), generos(list), n_avaliacoes(int)}\n",
    "- C_usuario : {companhia=casal -> filme_popular=sim ^ companhia=sozinho -> filme_classico=nao}\n",
    "- C_filme : {lista de itens do catalogo}\n",
    "- C_ui : {companhia=casal -> generos=[Romance, Drama, Comedy], companhia=familia -> generos=[Children's], filme_classico=sim -> ano_lancamento < 1990, filme_classico=nao -> ano_lancamento > 1993, filme_popular=sim -> n_avaliacoes > 100, companhia=sozinho -> generos=[Horror, War]}\n",
    "\n",
    "Dada a requisição: REQ={companhia=sozinho, filme_popular=sim}, recomende uma lista de 10 filmes para o usuário."
   ]
  },
  {
   "cell_type": "markdown",
   "id": "919d96fc-f399-4cda-81bf-181d928a879a",
   "metadata": {},
   "source": [
    "* De C_usuario: companhia=sozinho -> filme_classico=nao;\n",
    "* De C_ui: filme_popular=sim -> n_avaliacoes > 100; companhia=sozinho -> generos=[Horror, War]; filme_classico=nao -> ano_lancamento > 1993\n",
    "\n",
    "Sendo assim, o sistema deve recomendar filmes com mais de 100 avaliacoes, apos 1993 e de Generos Horror e War"
   ]
  },
  {
   "cell_type": "code",
   "execution_count": 58,
   "id": "ffc9f1d1-9807-4e0f-8877-5cae453d7920",
   "metadata": {},
   "outputs": [],
   "source": [
    "# Filmes de genero Horror e War\n",
    "horror_war_movies = df_meta[df_meta[\"genre\"].isin([\"Horror\", \"War\"])]"
   ]
  },
  {
   "cell_type": "code",
   "execution_count": 96,
   "id": "112b05f2-871c-4b99-a022-4d45e8069b15",
   "metadata": {},
   "outputs": [],
   "source": [
    "# Selecionar os filmes com mais de 100 avaliacoes\n",
    "num_ratings_per_movie = data.groupby(\"movieId\").size().reset_index().rename(columns={0: \"frequency\"})\n",
    "df_with_num_ratings = horror_war_movies.merge(num_ratings_per_movie[[\"movieId\", \"frequency\"]], on=\"movieId\")\n",
    "popular_movies_by_year = df_with_num_ratings[df_with_num_ratings[\"frequency\"] > 100].merge(item[[\"movieId\", \"year\"]], on=\"movieId\")"
   ]
  },
  {
   "cell_type": "code",
   "execution_count": 90,
   "id": "42c3d365-8998-4837-b3f9-0a70f28d1047",
   "metadata": {},
   "outputs": [],
   "source": [
    "# Filmes lancados apos 1995\n",
    "possible_recs = popular_movies_by_year[popular_movies_by_year[\"year\"] > 1995]"
   ]
  },
  {
   "cell_type": "code",
   "execution_count": 97,
   "id": "ecd92704-dbb3-4860-a911-69e3916db2e3",
   "metadata": {},
   "outputs": [
    {
     "data": {
      "text/html": [
       "<div>\n",
       "<style scoped>\n",
       "    .dataframe tbody tr th:only-of-type {\n",
       "        vertical-align: middle;\n",
       "    }\n",
       "\n",
       "    .dataframe tbody tr th {\n",
       "        vertical-align: top;\n",
       "    }\n",
       "\n",
       "    .dataframe thead th {\n",
       "        text-align: right;\n",
       "    }\n",
       "</style>\n",
       "<table border=\"1\" class=\"dataframe\">\n",
       "  <thead>\n",
       "    <tr style=\"text-align: right;\">\n",
       "      <th></th>\n",
       "      <th>movieId</th>\n",
       "      <th>title</th>\n",
       "      <th>genre</th>\n",
       "      <th>frequency</th>\n",
       "      <th>year</th>\n",
       "    </tr>\n",
       "  </thead>\n",
       "  <tbody>\n",
       "    <tr>\n",
       "      <th>21</th>\n",
       "      <td>121</td>\n",
       "      <td>Independence Day (ID4) (1996)</td>\n",
       "      <td>War</td>\n",
       "      <td>429</td>\n",
       "      <td>1996</td>\n",
       "    </tr>\n",
       "    <tr>\n",
       "      <th>9</th>\n",
       "      <td>288</td>\n",
       "      <td>Scream (1996)</td>\n",
       "      <td>Horror</td>\n",
       "      <td>478</td>\n",
       "      <td>1996</td>\n",
       "    </tr>\n",
       "    <tr>\n",
       "      <th>11</th>\n",
       "      <td>343</td>\n",
       "      <td>Alien: Resurrection (1997)</td>\n",
       "      <td>Horror</td>\n",
       "      <td>124</td>\n",
       "      <td>1997</td>\n",
       "    </tr>\n",
       "    <tr>\n",
       "      <th>41</th>\n",
       "      <td>471</td>\n",
       "      <td>Courage Under Fire (1996)</td>\n",
       "      <td>War</td>\n",
       "      <td>221</td>\n",
       "      <td>1996</td>\n",
       "    </tr>\n",
       "    <tr>\n",
       "      <th>27</th>\n",
       "      <td>181</td>\n",
       "      <td>Return of the Jedi (1983)</td>\n",
       "      <td>War</td>\n",
       "      <td>507</td>\n",
       "      <td>1997</td>\n",
       "    </tr>\n",
       "    <tr>\n",
       "      <th>0</th>\n",
       "      <td>123</td>\n",
       "      <td>Frighteners, The (1996)</td>\n",
       "      <td>Horror</td>\n",
       "      <td>115</td>\n",
       "      <td>1996</td>\n",
       "    </tr>\n",
       "    <tr>\n",
       "      <th>46</th>\n",
       "      <td>515</td>\n",
       "      <td>Boot, Das (1981)</td>\n",
       "      <td>War</td>\n",
       "      <td>201</td>\n",
       "      <td>1997</td>\n",
       "    </tr>\n",
       "    <tr>\n",
       "      <th>53</th>\n",
       "      <td>879</td>\n",
       "      <td>Peacemaker, The (1997)</td>\n",
       "      <td>War</td>\n",
       "      <td>136</td>\n",
       "      <td>1997</td>\n",
       "    </tr>\n",
       "    <tr>\n",
       "      <th>36</th>\n",
       "      <td>245</td>\n",
       "      <td>Devil's Own, The (1997)</td>\n",
       "      <td>War</td>\n",
       "      <td>240</td>\n",
       "      <td>1997</td>\n",
       "    </tr>\n",
       "    <tr>\n",
       "      <th>15</th>\n",
       "      <td>895</td>\n",
       "      <td>Scream 2 (1997)</td>\n",
       "      <td>Horror</td>\n",
       "      <td>106</td>\n",
       "      <td>1997</td>\n",
       "    </tr>\n",
       "  </tbody>\n",
       "</table>\n",
       "</div>"
      ],
      "text/plain": [
       "    movieId                          title   genre  frequency  year\n",
       "21      121  Independence Day (ID4) (1996)     War        429  1996\n",
       "9       288                  Scream (1996)  Horror        478  1996\n",
       "11      343     Alien: Resurrection (1997)  Horror        124  1997\n",
       "41      471      Courage Under Fire (1996)     War        221  1996\n",
       "27      181      Return of the Jedi (1983)     War        507  1997\n",
       "0       123        Frighteners, The (1996)  Horror        115  1996\n",
       "46      515               Boot, Das (1981)     War        201  1997\n",
       "53      879         Peacemaker, The (1997)     War        136  1997\n",
       "36      245        Devil's Own, The (1997)     War        240  1997\n",
       "15      895                Scream 2 (1997)  Horror        106  1997"
      ]
     },
     "execution_count": 97,
     "metadata": {},
     "output_type": "execute_result"
    }
   ],
   "source": [
    "# Amostra aleatoriamente 10 entradas, já que não definimos uma metodologia de seleção dos 10 melhores candidatos\n",
    "possible_recs.sample(10)"
   ]
  }
 ],
 "metadata": {
  "kernelspec": {
   "display_name": "Python 3 (ipykernel)",
   "language": "python",
   "name": "python3"
  },
  "language_info": {
   "codemirror_mode": {
    "name": "ipython",
    "version": 3
   },
   "file_extension": ".py",
   "mimetype": "text/x-python",
   "name": "python",
   "nbconvert_exporter": "python",
   "pygments_lexer": "ipython3",
   "version": "3.10.12"
  }
 },
 "nbformat": 4,
 "nbformat_minor": 5
}
