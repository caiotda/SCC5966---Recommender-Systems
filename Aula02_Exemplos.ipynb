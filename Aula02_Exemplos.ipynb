{
 "cells": [
  {
   "cell_type": "markdown",
   "id": "6ba277aa",
   "metadata": {},
   "source": [
    "# Sugestão de tutoriais sobre Pandas:\n",
    "### https://pandas.pydata.org/docs/user_guide/10min.html\n",
    "### https://www.kaggle.com/learn/pandas"
   ]
  },
  {
   "cell_type": "markdown",
   "id": "073a99cf",
   "metadata": {},
   "source": [
    "## Criando dataframe do exemplo da aula"
   ]
  },
  {
   "cell_type": "code",
   "execution_count": 1,
   "id": "cb54a360",
   "metadata": {},
   "outputs": [
    {
     "data": {
      "text/html": [
       "<div>\n",
       "<style scoped>\n",
       "    .dataframe tbody tr th:only-of-type {\n",
       "        vertical-align: middle;\n",
       "    }\n",
       "\n",
       "    .dataframe tbody tr th {\n",
       "        vertical-align: top;\n",
       "    }\n",
       "\n",
       "    .dataframe thead th {\n",
       "        text-align: right;\n",
       "    }\n",
       "</style>\n",
       "<table border=\"1\" class=\"dataframe\">\n",
       "  <thead>\n",
       "    <tr style=\"text-align: right;\">\n",
       "      <th></th>\n",
       "      <th>user</th>\n",
       "      <th>item</th>\n",
       "      <th>rating</th>\n",
       "    </tr>\n",
       "  </thead>\n",
       "  <tbody>\n",
       "    <tr>\n",
       "      <th>0</th>\n",
       "      <td>Alice</td>\n",
       "      <td>Item 1</td>\n",
       "      <td>4</td>\n",
       "    </tr>\n",
       "    <tr>\n",
       "      <th>1</th>\n",
       "      <td>Alice</td>\n",
       "      <td>Item 3</td>\n",
       "      <td>3</td>\n",
       "    </tr>\n",
       "    <tr>\n",
       "      <th>2</th>\n",
       "      <td>Alice</td>\n",
       "      <td>Item 4</td>\n",
       "      <td>4</td>\n",
       "    </tr>\n",
       "    <tr>\n",
       "      <th>3</th>\n",
       "      <td>Bob</td>\n",
       "      <td>Item 1</td>\n",
       "      <td>1</td>\n",
       "    </tr>\n",
       "    <tr>\n",
       "      <th>4</th>\n",
       "      <td>Bob</td>\n",
       "      <td>Item 2</td>\n",
       "      <td>2</td>\n",
       "    </tr>\n",
       "    <tr>\n",
       "      <th>5</th>\n",
       "      <td>Bob</td>\n",
       "      <td>Item 3</td>\n",
       "      <td>5</td>\n",
       "    </tr>\n",
       "    <tr>\n",
       "      <th>6</th>\n",
       "      <td>Bob</td>\n",
       "      <td>Item 5</td>\n",
       "      <td>3</td>\n",
       "    </tr>\n",
       "    <tr>\n",
       "      <th>7</th>\n",
       "      <td>Carlos</td>\n",
       "      <td>Item 1</td>\n",
       "      <td>1</td>\n",
       "    </tr>\n",
       "    <tr>\n",
       "      <th>8</th>\n",
       "      <td>Carlos</td>\n",
       "      <td>Item 4</td>\n",
       "      <td>5</td>\n",
       "    </tr>\n",
       "    <tr>\n",
       "      <th>9</th>\n",
       "      <td>Debora</td>\n",
       "      <td>Item 2</td>\n",
       "      <td>3</td>\n",
       "    </tr>\n",
       "    <tr>\n",
       "      <th>10</th>\n",
       "      <td>Debora</td>\n",
       "      <td>Item 3</td>\n",
       "      <td>4</td>\n",
       "    </tr>\n",
       "    <tr>\n",
       "      <th>11</th>\n",
       "      <td>Debora</td>\n",
       "      <td>Item 4</td>\n",
       "      <td>5</td>\n",
       "    </tr>\n",
       "    <tr>\n",
       "      <th>12</th>\n",
       "      <td>Debora</td>\n",
       "      <td>Item 5</td>\n",
       "      <td>3</td>\n",
       "    </tr>\n",
       "    <tr>\n",
       "      <th>13</th>\n",
       "      <td>Erica</td>\n",
       "      <td>Item 1</td>\n",
       "      <td>2</td>\n",
       "    </tr>\n",
       "    <tr>\n",
       "      <th>14</th>\n",
       "      <td>Erica</td>\n",
       "      <td>Item 3</td>\n",
       "      <td>5</td>\n",
       "    </tr>\n",
       "    <tr>\n",
       "      <th>15</th>\n",
       "      <td>Erica</td>\n",
       "      <td>Item 4</td>\n",
       "      <td>4</td>\n",
       "    </tr>\n",
       "    <tr>\n",
       "      <th>16</th>\n",
       "      <td>Erica</td>\n",
       "      <td>Item 5</td>\n",
       "      <td>5</td>\n",
       "    </tr>\n",
       "  </tbody>\n",
       "</table>\n",
       "</div>"
      ],
      "text/plain": [
       "      user    item  rating\n",
       "0    Alice  Item 1       4\n",
       "1    Alice  Item 3       3\n",
       "2    Alice  Item 4       4\n",
       "3      Bob  Item 1       1\n",
       "4      Bob  Item 2       2\n",
       "5      Bob  Item 3       5\n",
       "6      Bob  Item 5       3\n",
       "7   Carlos  Item 1       1\n",
       "8   Carlos  Item 4       5\n",
       "9   Debora  Item 2       3\n",
       "10  Debora  Item 3       4\n",
       "11  Debora  Item 4       5\n",
       "12  Debora  Item 5       3\n",
       "13   Erica  Item 1       2\n",
       "14   Erica  Item 3       5\n",
       "15   Erica  Item 4       4\n",
       "16   Erica  Item 5       5"
      ]
     },
     "execution_count": 1,
     "metadata": {},
     "output_type": "execute_result"
    }
   ],
   "source": [
    "import pandas as pd\n",
    "\n",
    "data = [['Alice', 'Item 1', 4], ['Alice', 'Item 3', 3], ['Alice', 'Item 4', 4], \n",
    "      ['Bob', 'Item 1', 1], ['Bob', 'Item 2', 2], ['Bob', 'Item 3', 5], ['Bob', 'Item 5', 3],\n",
    "      ['Carlos', 'Item 1', 1], ['Carlos', 'Item 4', 5],\n",
    "      ['Debora', 'Item 2', 3], ['Debora', 'Item 3', 4], ['Debora', 'Item 4', 5], ['Debora', 'Item 5', 3],\n",
    "      ['Erica', 'Item 1', 2], ['Erica', 'Item 3', 5], ['Erica', 'Item 4', 4], ['Erica', 'Item 5', 5]]\n",
    "\n",
    "df = pd.DataFrame(data, columns=['user','item', 'rating'])\n",
    "df"
   ]
  },
  {
   "cell_type": "markdown",
   "id": "eb115bbe",
   "metadata": {},
   "source": [
    "## Mapeando usuários e itens para ids"
   ]
  },
  {
   "cell_type": "code",
   "execution_count": 2,
   "id": "1e488aa3",
   "metadata": {},
   "outputs": [
    {
     "data": {
      "text/html": [
       "<div>\n",
       "<style scoped>\n",
       "    .dataframe tbody tr th:only-of-type {\n",
       "        vertical-align: middle;\n",
       "    }\n",
       "\n",
       "    .dataframe tbody tr th {\n",
       "        vertical-align: top;\n",
       "    }\n",
       "\n",
       "    .dataframe thead th {\n",
       "        text-align: right;\n",
       "    }\n",
       "</style>\n",
       "<table border=\"1\" class=\"dataframe\">\n",
       "  <thead>\n",
       "    <tr style=\"text-align: right;\">\n",
       "      <th></th>\n",
       "      <th>user</th>\n",
       "      <th>item</th>\n",
       "      <th>rating</th>\n",
       "      <th>userId</th>\n",
       "      <th>itemId</th>\n",
       "    </tr>\n",
       "  </thead>\n",
       "  <tbody>\n",
       "    <tr>\n",
       "      <th>0</th>\n",
       "      <td>Alice</td>\n",
       "      <td>Item 1</td>\n",
       "      <td>4</td>\n",
       "      <td>0</td>\n",
       "      <td>0</td>\n",
       "    </tr>\n",
       "    <tr>\n",
       "      <th>1</th>\n",
       "      <td>Alice</td>\n",
       "      <td>Item 3</td>\n",
       "      <td>3</td>\n",
       "      <td>0</td>\n",
       "      <td>1</td>\n",
       "    </tr>\n",
       "    <tr>\n",
       "      <th>2</th>\n",
       "      <td>Alice</td>\n",
       "      <td>Item 4</td>\n",
       "      <td>4</td>\n",
       "      <td>0</td>\n",
       "      <td>2</td>\n",
       "    </tr>\n",
       "    <tr>\n",
       "      <th>3</th>\n",
       "      <td>Bob</td>\n",
       "      <td>Item 1</td>\n",
       "      <td>1</td>\n",
       "      <td>1</td>\n",
       "      <td>0</td>\n",
       "    </tr>\n",
       "    <tr>\n",
       "      <th>4</th>\n",
       "      <td>Bob</td>\n",
       "      <td>Item 2</td>\n",
       "      <td>2</td>\n",
       "      <td>1</td>\n",
       "      <td>3</td>\n",
       "    </tr>\n",
       "    <tr>\n",
       "      <th>5</th>\n",
       "      <td>Bob</td>\n",
       "      <td>Item 3</td>\n",
       "      <td>5</td>\n",
       "      <td>1</td>\n",
       "      <td>1</td>\n",
       "    </tr>\n",
       "    <tr>\n",
       "      <th>6</th>\n",
       "      <td>Bob</td>\n",
       "      <td>Item 5</td>\n",
       "      <td>3</td>\n",
       "      <td>1</td>\n",
       "      <td>4</td>\n",
       "    </tr>\n",
       "    <tr>\n",
       "      <th>7</th>\n",
       "      <td>Carlos</td>\n",
       "      <td>Item 1</td>\n",
       "      <td>1</td>\n",
       "      <td>2</td>\n",
       "      <td>0</td>\n",
       "    </tr>\n",
       "    <tr>\n",
       "      <th>8</th>\n",
       "      <td>Carlos</td>\n",
       "      <td>Item 4</td>\n",
       "      <td>5</td>\n",
       "      <td>2</td>\n",
       "      <td>2</td>\n",
       "    </tr>\n",
       "    <tr>\n",
       "      <th>9</th>\n",
       "      <td>Debora</td>\n",
       "      <td>Item 2</td>\n",
       "      <td>3</td>\n",
       "      <td>3</td>\n",
       "      <td>3</td>\n",
       "    </tr>\n",
       "    <tr>\n",
       "      <th>10</th>\n",
       "      <td>Debora</td>\n",
       "      <td>Item 3</td>\n",
       "      <td>4</td>\n",
       "      <td>3</td>\n",
       "      <td>1</td>\n",
       "    </tr>\n",
       "    <tr>\n",
       "      <th>11</th>\n",
       "      <td>Debora</td>\n",
       "      <td>Item 4</td>\n",
       "      <td>5</td>\n",
       "      <td>3</td>\n",
       "      <td>2</td>\n",
       "    </tr>\n",
       "    <tr>\n",
       "      <th>12</th>\n",
       "      <td>Debora</td>\n",
       "      <td>Item 5</td>\n",
       "      <td>3</td>\n",
       "      <td>3</td>\n",
       "      <td>4</td>\n",
       "    </tr>\n",
       "    <tr>\n",
       "      <th>13</th>\n",
       "      <td>Erica</td>\n",
       "      <td>Item 1</td>\n",
       "      <td>2</td>\n",
       "      <td>4</td>\n",
       "      <td>0</td>\n",
       "    </tr>\n",
       "    <tr>\n",
       "      <th>14</th>\n",
       "      <td>Erica</td>\n",
       "      <td>Item 3</td>\n",
       "      <td>5</td>\n",
       "      <td>4</td>\n",
       "      <td>1</td>\n",
       "    </tr>\n",
       "    <tr>\n",
       "      <th>15</th>\n",
       "      <td>Erica</td>\n",
       "      <td>Item 4</td>\n",
       "      <td>4</td>\n",
       "      <td>4</td>\n",
       "      <td>2</td>\n",
       "    </tr>\n",
       "    <tr>\n",
       "      <th>16</th>\n",
       "      <td>Erica</td>\n",
       "      <td>Item 5</td>\n",
       "      <td>5</td>\n",
       "      <td>4</td>\n",
       "      <td>4</td>\n",
       "    </tr>\n",
       "  </tbody>\n",
       "</table>\n",
       "</div>"
      ],
      "text/plain": [
       "      user    item  rating  userId  itemId\n",
       "0    Alice  Item 1       4       0       0\n",
       "1    Alice  Item 3       3       0       1\n",
       "2    Alice  Item 4       4       0       2\n",
       "3      Bob  Item 1       1       1       0\n",
       "4      Bob  Item 2       2       1       3\n",
       "5      Bob  Item 3       5       1       1\n",
       "6      Bob  Item 5       3       1       4\n",
       "7   Carlos  Item 1       1       2       0\n",
       "8   Carlos  Item 4       5       2       2\n",
       "9   Debora  Item 2       3       3       3\n",
       "10  Debora  Item 3       4       3       1\n",
       "11  Debora  Item 4       5       3       2\n",
       "12  Debora  Item 5       3       3       4\n",
       "13   Erica  Item 1       2       4       0\n",
       "14   Erica  Item 3       5       4       1\n",
       "15   Erica  Item 4       4       4       2\n",
       "16   Erica  Item 5       5       4       4"
      ]
     },
     "execution_count": 2,
     "metadata": {},
     "output_type": "execute_result"
    }
   ],
   "source": [
    "map_users = {user: idx for idx, user in enumerate(df.user.unique())}\n",
    "map_items = {item: idx for idx, item in enumerate(df.item.unique())}\n",
    "df['userId'] = df['user'].map(map_users)\n",
    "df['itemId'] = df['item'].map(map_items)\n",
    "df"
   ]
  },
  {
   "cell_type": "markdown",
   "id": "b682194d",
   "metadata": {},
   "source": [
    "### Funções para obter informações específicas do DataFrame"
   ]
  },
  {
   "cell_type": "code",
   "execution_count": 4,
   "id": "fbf74e3b",
   "metadata": {},
   "outputs": [
    {
     "data": {
      "text/plain": [
       "3"
      ]
     },
     "execution_count": 4,
     "metadata": {},
     "output_type": "execute_result"
    }
   ],
   "source": [
    "# Obter a nota que um usuário deu para um item.\n",
    "def get_rating(userId,itemId):\n",
    "    if len(df[(df['userId']==userId)&(df['itemId']==itemId)]) == 0:\n",
    "        return 0\n",
    "    return (df.loc[(df.userId==userId) & (df.itemId == itemId),'rating'].iloc[0])\n",
    "\n",
    "get_rating(1, 5)"
   ]
  },
  {
   "cell_type": "code",
   "execution_count": 9,
   "id": "971b8566",
   "metadata": {},
   "outputs": [
    {
     "data": {
      "text/plain": [
       "[]"
      ]
     },
     "execution_count": 9,
     "metadata": {},
     "output_type": "execute_result"
    }
   ],
   "source": [
    "# Obter a lista de todos os itens que um usuário avaliou.\n",
    "def get_item_ids(userId):\n",
    "    if userId not in df['userId'].values:\n",
    "        return []\n",
    "    return (df.loc[(df.userId==userId),'itemId'].tolist())\n",
    "\n",
    "get_item_ids(7)"
   ]
  },
  {
   "cell_type": "code",
   "execution_count": 95,
   "id": "1623fa9e",
   "metadata": {},
   "outputs": [
    {
     "data": {
      "text/plain": [
       "'Item 1'"
      ]
     },
     "execution_count": 95,
     "metadata": {},
     "output_type": "execute_result"
    }
   ],
   "source": [
    "# Obter o título do item dado o seu id.\n",
    "def get_item_title(itemId):\n",
    "    if itemId not in df['itemId'].values:\n",
    "        return ''\n",
    "    return (df.loc[(df.itemId == itemId),'item'].iloc[0])\n",
    "\n",
    "get_item_title(0)"
   ]
  },
  {
   "cell_type": "code",
   "execution_count": 10,
   "id": "9506d7fa",
   "metadata": {},
   "outputs": [
    {
     "data": {
      "text/plain": [
       "[4, 3, 4]"
      ]
     },
     "execution_count": 10,
     "metadata": {},
     "output_type": "execute_result"
    }
   ],
   "source": [
    "# Obter a lista de ratings de um usuário.\n",
    "def get_ratings(userId):\n",
    "    if userId not in df['userId'].values:\n",
    "        return []\n",
    "    return (df.loc[(df.userId==userId),'rating'].tolist())\n",
    "\n",
    "get_ratings(0)"
   ]
  },
  {
   "cell_type": "code",
   "execution_count": 12,
   "id": "dfe93608",
   "metadata": {},
   "outputs": [
    {
     "data": {
      "text/plain": [
       "2.75"
      ]
     },
     "execution_count": 12,
     "metadata": {},
     "output_type": "execute_result"
    }
   ],
   "source": [
    "import numpy as np \n",
    "\n",
    "# Obter a média de ratings de um usuário\n",
    "def get_user_mean(userId):\n",
    "    return np.mean(get_ratings(userId))\n",
    "\n",
    "get_user_mean(1)"
   ]
  },
  {
   "cell_type": "markdown",
   "id": "9f257dc8",
   "metadata": {},
   "source": [
    "### Computar a similaridade de usuários usando Pearson"
   ]
  },
  {
   "cell_type": "code",
   "execution_count": 13,
   "id": "31d86d82",
   "metadata": {},
   "outputs": [
    {
     "data": {
      "text/plain": [
       "-0.7302967433402215"
      ]
     },
     "execution_count": 13,
     "metadata": {},
     "output_type": "execute_result"
    }
   ],
   "source": [
    "from statistics import mean\n",
    "from math import pow, sqrt\n",
    "\n",
    "def similarity_score(userId1, userId2):\n",
    "    '''\n",
    "    userId1 & userId2 : ids dos dois usuários cuja similaridade será computada\n",
    "    '''\n",
    "    # Contar quantos itens ambos usuários avaliaram em comum.\n",
    "    user_list1 = get_item_ids(userId1)\n",
    "    user_list2 = get_item_ids(userId2)\n",
    "    common_items = list(set(user_list1) & set(user_list2))\n",
    "    if len(common_items) == 0:\n",
    "        return 0\n",
    "    \n",
    "    # Calcular a média de cada usuário\n",
    "    user1_mean = get_user_mean(userId1)\n",
    "    user2_mean = get_user_mean(userId2)\n",
    "    \n",
    "    # Cálculo da similaridade.\n",
    "    sim = []\n",
    "    norm1 = []\n",
    "    norm2 = []\n",
    "    for item in common_items:\n",
    "        rating1 = get_rating(userId1, item)\n",
    "        rating2 = get_rating(userId2, item)\n",
    "        sim.append((rating1 - user1_mean)*(rating2 - user2_mean))\n",
    "        norm1.append(pow(rating1 - user1_mean, 2))\n",
    "        norm2.append(pow(rating2 - user2_mean, 2))\n",
    "    \n",
    "    return sum(sim) / (sqrt(sum(norm1)) * sqrt(sum(norm2)))\n",
    "\n",
    "similarity_score(0, 4)"
   ]
  },
  {
   "cell_type": "markdown",
   "id": "ba38cabc",
   "metadata": {},
   "source": [
    "### Obter os usuários mais similares"
   ]
  },
  {
   "cell_type": "code",
   "execution_count": 16,
   "id": "9375431d",
   "metadata": {},
   "outputs": [
    {
     "name": "stdout",
     "output_type": "stream",
     "text": [
      "[(0.263117405792109, 3), (0.0, 2)]\n"
     ]
    }
   ],
   "source": [
    "def most_similar_users(userId, k):\n",
    "    '''\n",
    "    userId : Targeted User\n",
    "    k : qtde de vizinhos\n",
    "    '''\n",
    "    # Obter lista de usuários.\n",
    "    user_ids = df.userId.unique().tolist()\n",
    "    \n",
    "    # Obter a similaridade entre o usuário alvo e os demais usuários\n",
    "    sim = [(similarity_score(userId, u), u) for u in user_ids if u != userId]\n",
    "    \n",
    "    # Ordenação inversa.\n",
    "    sim.sort()\n",
    "    sim.reverse()\n",
    "    \n",
    "    # Retornando os usuários mais similares. \n",
    "    return sim[:k]\n",
    "\n",
    "print(most_similar_users(0,2))"
   ]
  },
  {
   "cell_type": "markdown",
   "id": "6142ab5c",
   "metadata": {},
   "source": [
    "### Calcular a nota"
   ]
  },
  {
   "cell_type": "code",
   "execution_count": 17,
   "id": "15680d42",
   "metadata": {},
   "outputs": [
    {
     "data": {
      "text/plain": [
       "2.9166666666666665"
      ]
     },
     "execution_count": 17,
     "metadata": {},
     "output_type": "execute_result"
    }
   ],
   "source": [
    "def get_prediction(userId, itemId, k):\n",
    "    user_mean = get_user_mean(userId)\n",
    "    similar_users = most_similar_users(userId, k)\n",
    "    num = []\n",
    "    den = []\n",
    "    \n",
    "    for s, v in similar_users:\n",
    "        rv = get_rating(v, itemId)\n",
    "        if rv == 0:\n",
    "            continue\n",
    "        num.append(s * (rv - get_user_mean(v)))\n",
    "        den.append(s)\n",
    "    \n",
    "    return user_mean + sum(num) / sum(den)\n",
    "\n",
    "get_prediction(0, 4, 2)"
   ]
  }
 ],
 "metadata": {
  "kernelspec": {
   "display_name": "Python 3 (ipykernel)",
   "language": "python",
   "name": "python3"
  },
  "language_info": {
   "codemirror_mode": {
    "name": "ipython",
    "version": 3
   },
   "file_extension": ".py",
   "mimetype": "text/x-python",
   "name": "python",
   "nbconvert_exporter": "python",
   "pygments_lexer": "ipython3",
   "version": "3.10.12"
  }
 },
 "nbformat": 4,
 "nbformat_minor": 5
}
