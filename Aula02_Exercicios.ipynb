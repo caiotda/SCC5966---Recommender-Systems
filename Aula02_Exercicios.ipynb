{
 "cells": [
  {
   "cell_type": "markdown",
   "metadata": {
    "id": "y0xocXpOp2QB"
   },
   "source": [
    "### Importar base de dados e instalar framework de recomendação"
   ]
  },
  {
   "cell_type": "markdown",
   "metadata": {
    "id": "aYRhN3GYp2QO"
   },
   "source": [
    "### Importar bibliotecas"
   ]
  },
  {
   "cell_type": "code",
   "execution_count": 5,
   "metadata": {},
   "outputs": [
    {
     "name": "stdout",
     "output_type": "stream",
     "text": [
      "100% [....................................................] 65019041 / 65019041\n",
      "Saved under ml-20m-compact.tar.gz\n"
     ]
    }
   ],
   "source": [
    "import wget\n",
    "!python3 -m wget https://github.com/mmanzato/MBABigData/raw/master/ml-20m-compact.tar.gz\n",
    "!tar -xvzf ml-20m-compact.tar.gz"
   ]
  },
  {
   "cell_type": "code",
   "execution_count": 13,
   "metadata": {},
   "outputs": [
    {
     "name": "stdout",
     "output_type": "stream",
     "text": [
      "Defaulting to user installation because normal site-packages is not writeable\n",
      "Requirement already satisfied: caserecommender in /usr/local/lib/python3.8/site-packages (1.1.0)\n",
      "Requirement already satisfied: numpy in /usr/local/lib/python3.8/site-packages (from caserecommender) (1.20.2)\n",
      "Requirement already satisfied: scikit-learn in /usr/local/lib/python3.8/site-packages (from caserecommender) (1.0.1)\n",
      "Requirement already satisfied: scipy in /usr/local/lib/python3.8/site-packages (from caserecommender) (1.7.2)\n",
      "Requirement already satisfied: pandas in /usr/local/lib/python3.8/site-packages (from caserecommender) (1.3.4)\n",
      "Requirement already satisfied: python-dateutil>=2.7.3 in /usr/local/lib/python3.8/site-packages (from pandas->caserecommender) (2.8.2)\n",
      "Requirement already satisfied: pytz>=2017.3 in /usr/local/lib/python3.8/site-packages (from pandas->caserecommender) (2021.1)\n",
      "Requirement already satisfied: joblib>=0.11 in /usr/local/lib/python3.8/site-packages (from scikit-learn->caserecommender) (1.0.1)\n",
      "Requirement already satisfied: threadpoolctl>=2.0.0 in /usr/local/lib/python3.8/site-packages (from scikit-learn->caserecommender) (3.0.0)\n",
      "Requirement already satisfied: six>=1.5 in /usr/local/lib/python3.8/site-packages (from python-dateutil>=2.7.3->pandas->caserecommender) (1.15.0)\n"
     ]
    }
   ],
   "source": [
    "import sys\n",
    "!{sys.executable} -m pip install caserecommender"
   ]
  },
  {
   "cell_type": "code",
   "execution_count": 1,
   "metadata": {
    "executionInfo": {
     "elapsed": 26,
     "status": "ok",
     "timestamp": 1651265264070,
     "user": {
      "displayName": "Marcelo Manzato",
      "userId": "04825752819034907940"
     },
     "user_tz": 180
    },
    "id": "MqgnlqsLp2QP"
   },
   "outputs": [],
   "source": [
    "import pandas as pd\n",
    "import numpy as np"
   ]
  },
  {
   "cell_type": "markdown",
   "metadata": {
    "id": "LQODRAP5p2QY"
   },
   "source": [
    "### Explorar Dados"
   ]
  },
  {
   "cell_type": "code",
   "execution_count": 2,
   "metadata": {
    "colab": {
     "base_uri": "https://localhost:8080/",
     "height": 206
    },
    "executionInfo": {
     "elapsed": 14,
     "status": "ok",
     "timestamp": 1651265269193,
     "user": {
      "displayName": "Marcelo Manzato",
      "userId": "04825752819034907940"
     },
     "user_tz": 180
    },
    "id": "vraDuP8Hp2QZ",
    "outputId": "b4070cdf-edfc-42b0-be21-d9056d125f36"
   },
   "outputs": [
    {
     "data": {
      "text/html": [
       "<div>\n",
       "<style scoped>\n",
       "    .dataframe tbody tr th:only-of-type {\n",
       "        vertical-align: middle;\n",
       "    }\n",
       "\n",
       "    .dataframe tbody tr th {\n",
       "        vertical-align: top;\n",
       "    }\n",
       "\n",
       "    .dataframe thead th {\n",
       "        text-align: right;\n",
       "    }\n",
       "</style>\n",
       "<table border=\"1\" class=\"dataframe\">\n",
       "  <thead>\n",
       "    <tr style=\"text-align: right;\">\n",
       "      <th></th>\n",
       "      <th>movieId</th>\n",
       "      <th>title</th>\n",
       "      <th>genres</th>\n",
       "    </tr>\n",
       "  </thead>\n",
       "  <tbody>\n",
       "    <tr>\n",
       "      <th>428</th>\n",
       "      <td>129857</td>\n",
       "      <td>Bright Days Ahead (2013)</td>\n",
       "      <td>Drama|Romance</td>\n",
       "    </tr>\n",
       "    <tr>\n",
       "      <th>429</th>\n",
       "      <td>130344</td>\n",
       "      <td>Coast of Death (2013)</td>\n",
       "      <td>Children|Documentary|Drama</td>\n",
       "    </tr>\n",
       "    <tr>\n",
       "      <th>430</th>\n",
       "      <td>130408</td>\n",
       "      <td>A Rumor Of War (1980)</td>\n",
       "      <td>(no genres listed)</td>\n",
       "    </tr>\n",
       "    <tr>\n",
       "      <th>431</th>\n",
       "      <td>130510</td>\n",
       "      <td>Berserk: The Golden Age Arc 3 - Descent (2013)</td>\n",
       "      <td>Action|Animation|Fantasy</td>\n",
       "    </tr>\n",
       "    <tr>\n",
       "      <th>432</th>\n",
       "      <td>131239</td>\n",
       "      <td>Three Quarter Moon (2011)</td>\n",
       "      <td>Comedy|Drama</td>\n",
       "    </tr>\n",
       "  </tbody>\n",
       "</table>\n",
       "</div>"
      ],
      "text/plain": [
       "     movieId                                           title  \\\n",
       "428   129857                        Bright Days Ahead (2013)   \n",
       "429   130344                           Coast of Death (2013)   \n",
       "430   130408                           A Rumor Of War (1980)   \n",
       "431   130510  Berserk: The Golden Age Arc 3 - Descent (2013)   \n",
       "432   131239                       Three Quarter Moon (2011)   \n",
       "\n",
       "                         genres  \n",
       "428               Drama|Romance  \n",
       "429  Children|Documentary|Drama  \n",
       "430          (no genres listed)  \n",
       "431    Action|Animation|Fantasy  \n",
       "432                Comedy|Drama  "
      ]
     },
     "execution_count": 2,
     "metadata": {},
     "output_type": "execute_result"
    }
   ],
   "source": [
    "movies = pd.read_csv('./dataset/movies_sample.csv')\n",
    "movies.tail()"
   ]
  },
  {
   "cell_type": "code",
   "execution_count": 4,
   "metadata": {
    "colab": {
     "base_uri": "https://localhost:8080/",
     "height": 206
    },
    "executionInfo": {
     "elapsed": 463,
     "status": "ok",
     "timestamp": 1651265273880,
     "user": {
      "displayName": "Marcelo Manzato",
      "userId": "04825752819034907940"
     },
     "user_tz": 180
    },
    "id": "Y3GWuHwSp2Qg",
    "outputId": "732f7d86-6431-4ea3-f4ea-5d74dffc313e"
   },
   "outputs": [
    {
     "data": {
      "text/html": [
       "<div>\n",
       "<style scoped>\n",
       "    .dataframe tbody tr th:only-of-type {\n",
       "        vertical-align: middle;\n",
       "    }\n",
       "\n",
       "    .dataframe tbody tr th {\n",
       "        vertical-align: top;\n",
       "    }\n",
       "\n",
       "    .dataframe thead th {\n",
       "        text-align: right;\n",
       "    }\n",
       "</style>\n",
       "<table border=\"1\" class=\"dataframe\">\n",
       "  <thead>\n",
       "    <tr style=\"text-align: right;\">\n",
       "      <th></th>\n",
       "      <th>userId</th>\n",
       "      <th>movieId</th>\n",
       "      <th>rating</th>\n",
       "      <th>timestamp</th>\n",
       "    </tr>\n",
       "  </thead>\n",
       "  <tbody>\n",
       "    <tr>\n",
       "      <th>0</th>\n",
       "      <td>11</td>\n",
       "      <td>7481</td>\n",
       "      <td>5.0</td>\n",
       "      <td>1230788624</td>\n",
       "    </tr>\n",
       "    <tr>\n",
       "      <th>1</th>\n",
       "      <td>11</td>\n",
       "      <td>1046</td>\n",
       "      <td>4.5</td>\n",
       "      <td>1251144145</td>\n",
       "    </tr>\n",
       "    <tr>\n",
       "      <th>2</th>\n",
       "      <td>11</td>\n",
       "      <td>616</td>\n",
       "      <td>4.0</td>\n",
       "      <td>1230782542</td>\n",
       "    </tr>\n",
       "    <tr>\n",
       "      <th>3</th>\n",
       "      <td>11</td>\n",
       "      <td>3535</td>\n",
       "      <td>2.0</td>\n",
       "      <td>1230784884</td>\n",
       "    </tr>\n",
       "    <tr>\n",
       "      <th>4</th>\n",
       "      <td>11</td>\n",
       "      <td>5669</td>\n",
       "      <td>5.0</td>\n",
       "      <td>1230853788</td>\n",
       "    </tr>\n",
       "  </tbody>\n",
       "</table>\n",
       "</div>"
      ],
      "text/plain": [
       "   userId  movieId  rating   timestamp\n",
       "0      11     7481     5.0  1230788624\n",
       "1      11     1046     4.5  1251144145\n",
       "2      11      616     4.0  1230782542\n",
       "3      11     3535     2.0  1230784884\n",
       "4      11     5669     5.0  1230853788"
      ]
     },
     "execution_count": 4,
     "metadata": {},
     "output_type": "execute_result"
    }
   ],
   "source": [
    "ratings = pd.read_csv('./dataset/ratings_sample.csv')\n",
    "ratings.head()"
   ]
  },
  {
   "cell_type": "code",
   "execution_count": 5,
   "metadata": {
    "colab": {
     "base_uri": "https://localhost:8080/",
     "height": 271
    },
    "executionInfo": {
     "elapsed": 497,
     "status": "ok",
     "timestamp": 1651262423975,
     "user": {
      "displayName": "Marcelo Manzato",
      "userId": "04825752819034907940"
     },
     "user_tz": 180
    },
    "id": "QdmnQ42Ep2Ql",
    "outputId": "6c629ef0-6232-4112-c575-4b38ed769372"
   },
   "outputs": [
    {
     "data": {
      "image/png": "[encoded data removed]",
      "text/plain": [
       "<Figure size 640x480 with 1 Axes>"
      ]
     },
     "metadata": {},
     "output_type": "display_data"
    }
   ],
   "source": [
    "import matplotlib.pyplot as plt\n",
    "ratings.rating.value_counts().plot(kind='bar', color=['r', 'g', 'y', 'c', 'b']);\n",
    "plt.show()"
   ]
  },
  {
   "cell_type": "code",
   "execution_count": 6,
   "metadata": {
    "colab": {
     "base_uri": "https://localhost:8080/",
     "height": 206
    },
    "executionInfo": {
     "elapsed": 1669,
     "status": "ok",
     "timestamp": 1651265283090,
     "user": {
      "displayName": "Marcelo Manzato",
      "userId": "04825752819034907940"
     },
     "user_tz": 180
    },
    "id": "1VK8tadsp2Qp",
    "outputId": "63852d92-1b62-4f8a-a6e8-975c2f724a57"
   },
   "outputs": [
    {
     "data": {
      "text/html": [
       "<div>\n",
       "<style scoped>\n",
       "    .dataframe tbody tr th:only-of-type {\n",
       "        vertical-align: middle;\n",
       "    }\n",
       "\n",
       "    .dataframe tbody tr th {\n",
       "        vertical-align: top;\n",
       "    }\n",
       "\n",
       "    .dataframe thead th {\n",
       "        text-align: right;\n",
       "    }\n",
       "</style>\n",
       "<table border=\"1\" class=\"dataframe\">\n",
       "  <thead>\n",
       "    <tr style=\"text-align: right;\">\n",
       "      <th></th>\n",
       "      <th>userId</th>\n",
       "      <th>movieId</th>\n",
       "      <th>rating</th>\n",
       "    </tr>\n",
       "  </thead>\n",
       "  <tbody>\n",
       "    <tr>\n",
       "      <th>190616</th>\n",
       "      <td>138493</td>\n",
       "      <td>288</td>\n",
       "      <td>5.0</td>\n",
       "    </tr>\n",
       "    <tr>\n",
       "      <th>190617</th>\n",
       "      <td>138493</td>\n",
       "      <td>1748</td>\n",
       "      <td>5.0</td>\n",
       "    </tr>\n",
       "    <tr>\n",
       "      <th>190618</th>\n",
       "      <td>138493</td>\n",
       "      <td>616</td>\n",
       "      <td>4.0</td>\n",
       "    </tr>\n",
       "    <tr>\n",
       "      <th>190619</th>\n",
       "      <td>138493</td>\n",
       "      <td>1597</td>\n",
       "      <td>4.5</td>\n",
       "    </tr>\n",
       "    <tr>\n",
       "      <th>190620</th>\n",
       "      <td>138493</td>\n",
       "      <td>7371</td>\n",
       "      <td>5.0</td>\n",
       "    </tr>\n",
       "  </tbody>\n",
       "</table>\n",
       "</div>"
      ],
      "text/plain": [
       "        userId  movieId  rating\n",
       "190616  138493      288     5.0\n",
       "190617  138493     1748     5.0\n",
       "190618  138493      616     4.0\n",
       "190619  138493     1597     4.5\n",
       "190620  138493     7371     5.0"
      ]
     },
     "execution_count": 6,
     "metadata": {},
     "output_type": "execute_result"
    }
   ],
   "source": [
    "df = ratings[['userId', 'movieId', 'rating']]\n",
    "df.tail()"
   ]
  },
  {
   "cell_type": "code",
   "execution_count": 7,
   "metadata": {
    "colab": {
     "base_uri": "https://localhost:8080/",
     "height": 206
    },
    "executionInfo": {
     "elapsed": 523,
     "status": "ok",
     "timestamp": 1651265294728,
     "user": {
      "displayName": "Marcelo Manzato",
      "userId": "04825752819034907940"
     },
     "user_tz": 180
    },
    "id": "qmfmBkdep2Qs",
    "outputId": "bc56067b-e248-4ee3-e286-9cf831a6ce1c"
   },
   "outputs": [
    {
     "data": {
      "text/html": [
       "<div>\n",
       "<style scoped>\n",
       "    .dataframe tbody tr th:only-of-type {\n",
       "        vertical-align: middle;\n",
       "    }\n",
       "\n",
       "    .dataframe tbody tr th {\n",
       "        vertical-align: top;\n",
       "    }\n",
       "\n",
       "    .dataframe thead th {\n",
       "        text-align: right;\n",
       "    }\n",
       "</style>\n",
       "<table border=\"1\" class=\"dataframe\">\n",
       "  <thead>\n",
       "    <tr style=\"text-align: right;\">\n",
       "      <th></th>\n",
       "      <th>userId</th>\n",
       "      <th>movieId</th>\n",
       "      <th>rating</th>\n",
       "      <th>title</th>\n",
       "    </tr>\n",
       "  </thead>\n",
       "  <tbody>\n",
       "    <tr>\n",
       "      <th>0</th>\n",
       "      <td>11</td>\n",
       "      <td>7481</td>\n",
       "      <td>5.0</td>\n",
       "      <td>Enemy Mine (1985)</td>\n",
       "    </tr>\n",
       "    <tr>\n",
       "      <th>1</th>\n",
       "      <td>359</td>\n",
       "      <td>7481</td>\n",
       "      <td>4.0</td>\n",
       "      <td>Enemy Mine (1985)</td>\n",
       "    </tr>\n",
       "    <tr>\n",
       "      <th>2</th>\n",
       "      <td>422</td>\n",
       "      <td>7481</td>\n",
       "      <td>3.0</td>\n",
       "      <td>Enemy Mine (1985)</td>\n",
       "    </tr>\n",
       "    <tr>\n",
       "      <th>3</th>\n",
       "      <td>424</td>\n",
       "      <td>7481</td>\n",
       "      <td>3.0</td>\n",
       "      <td>Enemy Mine (1985)</td>\n",
       "    </tr>\n",
       "    <tr>\n",
       "      <th>4</th>\n",
       "      <td>744</td>\n",
       "      <td>7481</td>\n",
       "      <td>3.0</td>\n",
       "      <td>Enemy Mine (1985)</td>\n",
       "    </tr>\n",
       "  </tbody>\n",
       "</table>\n",
       "</div>"
      ],
      "text/plain": [
       "   userId  movieId  rating              title\n",
       "0      11     7481     5.0  Enemy Mine (1985)\n",
       "1     359     7481     4.0  Enemy Mine (1985)\n",
       "2     422     7481     3.0  Enemy Mine (1985)\n",
       "3     424     7481     3.0  Enemy Mine (1985)\n",
       "4     744     7481     3.0  Enemy Mine (1985)"
      ]
     },
     "execution_count": 7,
     "metadata": {},
     "output_type": "execute_result"
    }
   ],
   "source": [
    "df = df.merge(movies[['movieId', 'title']])\n",
    "df.head()"
   ]
  },
  {
   "cell_type": "markdown",
   "metadata": {
    "id": "vkgi6EY8p2Q0"
   },
   "source": [
    "### Números de usuários e número de itens"
   ]
  },
  {
   "cell_type": "code",
   "execution_count": 8,
   "metadata": {
    "colab": {
     "base_uri": "https://localhost:8080/"
    },
    "executionInfo": {
     "elapsed": 582,
     "status": "ok",
     "timestamp": 1651262596720,
     "user": {
      "displayName": "Marcelo Manzato",
      "userId": "04825752819034907940"
     },
     "user_tz": 180
    },
    "id": "Oqm9TqFUp2Q0",
    "outputId": "b79494d4-37e4-43fa-de7e-9bf123c17fec"
   },
   "outputs": [
    {
     "name": "stdout",
     "output_type": "stream",
     "text": [
      "\n",
      "Número de usuários: 11090\n",
      "Número de itens: 417\n",
      "Número de interações: 190621\n",
      "\n"
     ]
    }
   ],
   "source": [
    "print(\n",
    "\"\"\"\n",
    "Número de usuários: {}\n",
    "Número de itens: {}\n",
    "Número de interações: {}\n",
    "\"\"\".format(\n",
    "    df.userId.nunique(),\n",
    "    df.movieId.nunique(),\n",
    "    df.shape[0]\n",
    ")\n",
    ")"
   ]
  },
  {
   "cell_type": "markdown",
   "metadata": {
    "id": "9oUxIUefp2Q4"
   },
   "source": [
    "### Mapeamento em idx"
   ]
  },
  {
   "cell_type": "code",
   "execution_count": 9,
   "metadata": {
    "executionInfo": {
     "elapsed": 307,
     "status": "ok",
     "timestamp": 1651265300657,
     "user": {
      "displayName": "Marcelo Manzato",
      "userId": "04825752819034907940"
     },
     "user_tz": 180
    },
    "id": "_xDUH3kbp2Q4"
   },
   "outputs": [],
   "source": [
    "map_users = {user: idx for idx, user in enumerate(df.userId.unique())}\n",
    "map_items = {item: idx for idx, item in enumerate(df.movieId.unique())}"
   ]
  },
  {
   "cell_type": "code",
   "execution_count": 10,
   "metadata": {
    "colab": {
     "base_uri": "https://localhost:8080/",
     "height": 206
    },
    "executionInfo": {
     "elapsed": 10,
     "status": "ok",
     "timestamp": 1651265302515,
     "user": {
      "displayName": "Marcelo Manzato",
      "userId": "04825752819034907940"
     },
     "user_tz": 180
    },
    "id": "kqkGY2php2Q8",
    "outputId": "864b78bd-cf41-415f-a0aa-7199a9439616"
   },
   "outputs": [
    {
     "data": {
      "text/html": [
       "<div>\n",
       "<style scoped>\n",
       "    .dataframe tbody tr th:only-of-type {\n",
       "        vertical-align: middle;\n",
       "    }\n",
       "\n",
       "    .dataframe tbody tr th {\n",
       "        vertical-align: top;\n",
       "    }\n",
       "\n",
       "    .dataframe thead th {\n",
       "        text-align: right;\n",
       "    }\n",
       "</style>\n",
       "<table border=\"1\" class=\"dataframe\">\n",
       "  <thead>\n",
       "    <tr style=\"text-align: right;\">\n",
       "      <th></th>\n",
       "      <th>userId</th>\n",
       "      <th>movieId</th>\n",
       "      <th>rating</th>\n",
       "      <th>title</th>\n",
       "    </tr>\n",
       "  </thead>\n",
       "  <tbody>\n",
       "    <tr>\n",
       "      <th>0</th>\n",
       "      <td>0</td>\n",
       "      <td>0</td>\n",
       "      <td>5.0</td>\n",
       "      <td>Enemy Mine (1985)</td>\n",
       "    </tr>\n",
       "    <tr>\n",
       "      <th>1</th>\n",
       "      <td>1</td>\n",
       "      <td>0</td>\n",
       "      <td>4.0</td>\n",
       "      <td>Enemy Mine (1985)</td>\n",
       "    </tr>\n",
       "    <tr>\n",
       "      <th>2</th>\n",
       "      <td>2</td>\n",
       "      <td>0</td>\n",
       "      <td>3.0</td>\n",
       "      <td>Enemy Mine (1985)</td>\n",
       "    </tr>\n",
       "    <tr>\n",
       "      <th>3</th>\n",
       "      <td>3</td>\n",
       "      <td>0</td>\n",
       "      <td>3.0</td>\n",
       "      <td>Enemy Mine (1985)</td>\n",
       "    </tr>\n",
       "    <tr>\n",
       "      <th>4</th>\n",
       "      <td>4</td>\n",
       "      <td>0</td>\n",
       "      <td>3.0</td>\n",
       "      <td>Enemy Mine (1985)</td>\n",
       "    </tr>\n",
       "  </tbody>\n",
       "</table>\n",
       "</div>"
      ],
      "text/plain": [
       "   userId  movieId  rating              title\n",
       "0       0        0     5.0  Enemy Mine (1985)\n",
       "1       1        0     4.0  Enemy Mine (1985)\n",
       "2       2        0     3.0  Enemy Mine (1985)\n",
       "3       3        0     3.0  Enemy Mine (1985)\n",
       "4       4        0     3.0  Enemy Mine (1985)"
      ]
     },
     "execution_count": 10,
     "metadata": {},
     "output_type": "execute_result"
    }
   ],
   "source": [
    "df['userId'] = df['userId'].map(map_users)\n",
    "df['movieId'] = df['movieId'].map(map_items)\n",
    "df.head()"
   ]
  },
  {
   "cell_type": "code",
   "execution_count": 11,
   "metadata": {
    "executionInfo": {
     "elapsed": 12498,
     "status": "ok",
     "timestamp": 1651265319355,
     "user": {
      "displayName": "Marcelo Manzato",
      "userId": "04825752819034907940"
     },
     "user_tz": 180
    },
    "id": "StWvDa5Gp2Q_"
   },
   "outputs": [],
   "source": [
    "map_title = {}\n",
    "\n",
    "for _, row in df.iterrows():\n",
    "    map_title[row.movieId] = row.title"
   ]
  },
  {
   "cell_type": "code",
   "execution_count": 12,
   "metadata": {
    "colab": {
     "base_uri": "https://localhost:8080/"
    },
    "executionInfo": {
     "elapsed": 6819,
     "status": "ok",
     "timestamp": 1651262789120,
     "user": {
      "displayName": "Marcelo Manzato",
      "userId": "04825752819034907940"
     },
     "user_tz": 180
    },
    "id": "XLTWg-F9p2RD",
    "outputId": "91b07036-55df-40d1-a532-e341b0d869c1"
   },
   "outputs": [
    {
     "name": "stdout",
     "output_type": "stream",
     "text": [
      "417\n",
      "Send Me No Flowers (1964)\n"
     ]
    }
   ],
   "source": [
    "print(len(map_title))\n",
    "print(map_title[100])"
   ]
  },
  {
   "cell_type": "code",
   "execution_count": 13,
   "metadata": {
    "colab": {
     "base_uri": "https://localhost:8080/",
     "height": 455
    },
    "executionInfo": {
     "elapsed": 642,
     "status": "ok",
     "timestamp": 1651262829829,
     "user": {
      "displayName": "Marcelo Manzato",
      "userId": "04825752819034907940"
     },
     "user_tz": 180
    },
    "id": "35C82h7op2RH",
    "outputId": "3fd426c1-238b-45b9-ebfe-00a5b16d008a"
   },
   "outputs": [
    {
     "data": {
      "text/html": [
       "<div>\n",
       "<style scoped>\n",
       "    .dataframe tbody tr th:only-of-type {\n",
       "        vertical-align: middle;\n",
       "    }\n",
       "\n",
       "    .dataframe tbody tr th {\n",
       "        vertical-align: top;\n",
       "    }\n",
       "\n",
       "    .dataframe thead th {\n",
       "        text-align: right;\n",
       "    }\n",
       "</style>\n",
       "<table border=\"1\" class=\"dataframe\">\n",
       "  <thead>\n",
       "    <tr style=\"text-align: right;\">\n",
       "      <th></th>\n",
       "      <th>movieId</th>\n",
       "      <th>rating</th>\n",
       "      <th>title</th>\n",
       "    </tr>\n",
       "    <tr>\n",
       "      <th>userId</th>\n",
       "      <th></th>\n",
       "      <th></th>\n",
       "      <th></th>\n",
       "    </tr>\n",
       "  </thead>\n",
       "  <tbody>\n",
       "    <tr>\n",
       "      <th>0</th>\n",
       "      <td>13</td>\n",
       "      <td>13</td>\n",
       "      <td>13</td>\n",
       "    </tr>\n",
       "    <tr>\n",
       "      <th>1</th>\n",
       "      <td>25</td>\n",
       "      <td>25</td>\n",
       "      <td>25</td>\n",
       "    </tr>\n",
       "    <tr>\n",
       "      <th>2</th>\n",
       "      <td>14</td>\n",
       "      <td>14</td>\n",
       "      <td>14</td>\n",
       "    </tr>\n",
       "    <tr>\n",
       "      <th>3</th>\n",
       "      <td>25</td>\n",
       "      <td>25</td>\n",
       "      <td>25</td>\n",
       "    </tr>\n",
       "    <tr>\n",
       "      <th>4</th>\n",
       "      <td>11</td>\n",
       "      <td>11</td>\n",
       "      <td>11</td>\n",
       "    </tr>\n",
       "    <tr>\n",
       "      <th>...</th>\n",
       "      <td>...</td>\n",
       "      <td>...</td>\n",
       "      <td>...</td>\n",
       "    </tr>\n",
       "    <tr>\n",
       "      <th>11085</th>\n",
       "      <td>11</td>\n",
       "      <td>11</td>\n",
       "      <td>11</td>\n",
       "    </tr>\n",
       "    <tr>\n",
       "      <th>11086</th>\n",
       "      <td>10</td>\n",
       "      <td>10</td>\n",
       "      <td>10</td>\n",
       "    </tr>\n",
       "    <tr>\n",
       "      <th>11087</th>\n",
       "      <td>25</td>\n",
       "      <td>25</td>\n",
       "      <td>25</td>\n",
       "    </tr>\n",
       "    <tr>\n",
       "      <th>11088</th>\n",
       "      <td>10</td>\n",
       "      <td>10</td>\n",
       "      <td>10</td>\n",
       "    </tr>\n",
       "    <tr>\n",
       "      <th>11089</th>\n",
       "      <td>11</td>\n",
       "      <td>11</td>\n",
       "      <td>11</td>\n",
       "    </tr>\n",
       "  </tbody>\n",
       "</table>\n",
       "<p>11090 rows × 3 columns</p>\n",
       "</div>"
      ],
      "text/plain": [
       "        movieId  rating  title\n",
       "userId                        \n",
       "0            13      13     13\n",
       "1            25      25     25\n",
       "2            14      14     14\n",
       "3            25      25     25\n",
       "4            11      11     11\n",
       "...         ...     ...    ...\n",
       "11085        11      11     11\n",
       "11086        10      10     10\n",
       "11087        25      25     25\n",
       "11088        10      10     10\n",
       "11089        11      11     11\n",
       "\n",
       "[11090 rows x 3 columns]"
      ]
     },
     "execution_count": 13,
     "metadata": {},
     "output_type": "execute_result"
    }
   ],
   "source": [
    "# qtd interações dos usuários\n",
    "df.groupby('userId').count()"
   ]
  },
  {
   "cell_type": "markdown",
   "metadata": {
    "id": "x8Ln0a1vp2RL"
   },
   "source": [
    "### Divisão do dataset"
   ]
  },
  {
   "cell_type": "code",
   "execution_count": 14,
   "metadata": {
    "executionInfo": {
     "elapsed": 878,
     "status": "ok",
     "timestamp": 1651265328100,
     "user": {
      "displayName": "Marcelo Manzato",
      "userId": "04825752819034907940"
     },
     "user_tz": 180
    },
    "id": "9MsDESQ_p2RM"
   },
   "outputs": [],
   "source": [
    "from sklearn.model_selection import train_test_split\n",
    "train, test = train_test_split(df, test_size=.2, random_state=2)\n",
    "train.to_csv('train.txt', index=False, header=False, sep='\\t')\n",
    "test.to_csv('test.txt', index=False, header=False, sep='\\t')"
   ]
  },
  {
   "cell_type": "code",
   "execution_count": 15,
   "metadata": {
    "colab": {
     "base_uri": "https://localhost:8080/"
    },
    "executionInfo": {
     "elapsed": 744,
     "status": "ok",
     "timestamp": 1651262977544,
     "user": {
      "displayName": "Marcelo Manzato",
      "userId": "04825752819034907940"
     },
     "user_tz": 180
    },
    "id": "n6HTzcwsp2RX",
    "outputId": "831acd8f-11dc-4864-ce08-a8a4fa05daa5"
   },
   "outputs": [
    {
     "name": "stdout",
     "output_type": "stream",
     "text": [
      "total 150656\r\n",
      "-rw-r--r--@ 1 manzato  staff     19168 Aug 16 17:10 Aula01_Exemplos.ipynb\r\n",
      "-rw-r--r--@ 1 manzato  staff    101135 Aug 16 17:18 Aula01_Exercicios.ipynb\r\n",
      "-rw-r--r--@ 1 manzato  staff    107522 Aug 16 10:22 Aula01_Exercicios_Respostas.ipynb\r\n",
      "drwxr-xr-x  9 manzato  staff       288 Mar 17 10:51 \u001b[34mdataset\u001b[m\u001b[m\r\n",
      "-rw-r--r--  1 manzato  staff  65019041 Aug  2 14:47 ml-20m-compact.tar.gz\r\n",
      "-rw-r--r--  1 manzato  staff    644050 Aug 16 09:56 out_mp_pred.txt\r\n",
      "-rw-r--r--  1 manzato  staff   2188701 Aug  2 16:50 out_mp_pred_binary.txt\r\n",
      "-rw-r--r--  1 manzato  staff    644050 Aug  2 16:58 rp_iknn.txt\r\n",
      "-rw-r--r--  1 manzato  staff   1490769 Aug 16 17:19 test.txt\r\n",
      "-rw-r--r--  1 manzato  staff   5951786 Aug 16 17:19 train.txt\r\n"
     ]
    }
   ],
   "source": [
    "! ls -l"
   ]
  },
  {
   "cell_type": "code",
   "execution_count": 16,
   "metadata": {
    "colab": {
     "base_uri": "https://localhost:8080/"
    },
    "executionInfo": {
     "elapsed": 689,
     "status": "ok",
     "timestamp": 1651262986486,
     "user": {
      "displayName": "Marcelo Manzato",
      "userId": "04825752819034907940"
     },
     "user_tz": 180
    },
    "id": "RFZhUjCnp2Rb",
    "outputId": "cdcd5ef0-bc8f-436f-9f20-ab7f5269ba45"
   },
   "outputs": [
    {
     "name": "stdout",
     "output_type": "stream",
     "text": [
      "No. items: 403\n",
      "No. users: 11090\n"
     ]
    }
   ],
   "source": [
    "print('No. items: ' + str(train['movieId'].nunique()))\n",
    "print('No. users: ' + str(train['userId'].nunique()))"
   ]
  },
  {
   "cell_type": "markdown",
   "metadata": {
    "id": "VVWZRptBp2Re"
   },
   "source": [
    "### Recomendadores"
   ]
  },
  {
   "cell_type": "markdown",
   "metadata": {
    "id": "ajH3hUALp2Re"
   },
   "source": [
    "## Prever notas"
   ]
  },
  {
   "cell_type": "code",
   "execution_count": 18,
   "metadata": {
    "executionInfo": {
     "elapsed": 56,
     "status": "ok",
     "timestamp": 1651263041227,
     "user": {
      "displayName": "Marcelo Manzato",
      "userId": "04825752819034907940"
     },
     "user_tz": 180
    },
    "id": "foa1ePfOp2Rf"
   },
   "outputs": [],
   "source": [
    "from caserec.recommenders.rating_prediction.most_popular import MostPopular"
   ]
  },
  {
   "cell_type": "code",
   "execution_count": 19,
   "metadata": {
    "colab": {
     "base_uri": "https://localhost:8080/"
    },
    "executionInfo": {
     "elapsed": 74143,
     "status": "ok",
     "timestamp": 1651263246545,
     "user": {
      "displayName": "Marcelo Manzato",
      "userId": "04825752819034907940"
     },
     "user_tz": 180
    },
    "id": "2ud84_kMp2Rh",
    "outputId": "17aaee62-e965-4a33-875f-51aa9432a3eb"
   },
   "outputs": [
    {
     "name": "stdout",
     "output_type": "stream",
     "text": [
      "[Case Recommender: Rating Prediction > Most Popular]\n",
      "\n",
      "train data:: 11090 users and 403 items (152496 interactions) | sparsity:: 96.59%\n",
      "test data:: 10503 users and 340 items (38125 interactions) | sparsity:: 98.93%\n",
      "\n",
      "prediction_time:: 22.501840 sec\n",
      "\n",
      "\n",
      "Eval:: MAE: 0.703266 RMSE: 0.910252 \n"
     ]
    }
   ],
   "source": [
    "MostPopular('train.txt', 'test.txt', 'out_mp_pred.txt').compute()"
   ]
  },
  {
   "cell_type": "code",
   "execution_count": 22,
   "metadata": {
    "colab": {
     "base_uri": "https://localhost:8080/",
     "height": 206
    },
    "executionInfo": {
     "elapsed": 2096,
     "status": "ok",
     "timestamp": 1651263311989,
     "user": {
      "displayName": "Marcelo Manzato",
      "userId": "04825752819034907940"
     },
     "user_tz": 180
    },
    "id": "wESMpB0kp2Rk",
    "outputId": "847827ef-03a9-45dc-cc48-d5ad72bc3e79"
   },
   "outputs": [
    {
     "data": {
      "text/html": [
       "<div>\n",
       "<style scoped>\n",
       "    .dataframe tbody tr th:only-of-type {\n",
       "        vertical-align: middle;\n",
       "    }\n",
       "\n",
       "    .dataframe tbody tr th {\n",
       "        vertical-align: top;\n",
       "    }\n",
       "\n",
       "    .dataframe thead th {\n",
       "        text-align: right;\n",
       "    }\n",
       "</style>\n",
       "<table border=\"1\" class=\"dataframe\">\n",
       "  <thead>\n",
       "    <tr style=\"text-align: right;\">\n",
       "      <th></th>\n",
       "      <th>userId</th>\n",
       "      <th>movieId</th>\n",
       "      <th>pred</th>\n",
       "    </tr>\n",
       "  </thead>\n",
       "  <tbody>\n",
       "    <tr>\n",
       "      <th>0</th>\n",
       "      <td>0</td>\n",
       "      <td>0</td>\n",
       "      <td>3.443980</td>\n",
       "    </tr>\n",
       "    <tr>\n",
       "      <th>1</th>\n",
       "      <td>0</td>\n",
       "      <td>5</td>\n",
       "      <td>3.333857</td>\n",
       "    </tr>\n",
       "    <tr>\n",
       "      <th>2</th>\n",
       "      <td>1</td>\n",
       "      <td>6</td>\n",
       "      <td>3.573171</td>\n",
       "    </tr>\n",
       "    <tr>\n",
       "      <th>3</th>\n",
       "      <td>1</td>\n",
       "      <td>106</td>\n",
       "      <td>3.290084</td>\n",
       "    </tr>\n",
       "    <tr>\n",
       "      <th>4</th>\n",
       "      <td>1</td>\n",
       "      <td>21</td>\n",
       "      <td>3.211811</td>\n",
       "    </tr>\n",
       "    <tr>\n",
       "      <th>5</th>\n",
       "      <td>1</td>\n",
       "      <td>30</td>\n",
       "      <td>3.651042</td>\n",
       "    </tr>\n",
       "    <tr>\n",
       "      <th>6</th>\n",
       "      <td>1</td>\n",
       "      <td>12</td>\n",
       "      <td>4.176005</td>\n",
       "    </tr>\n",
       "    <tr>\n",
       "      <th>7</th>\n",
       "      <td>2</td>\n",
       "      <td>30</td>\n",
       "      <td>3.651042</td>\n",
       "    </tr>\n",
       "    <tr>\n",
       "      <th>8</th>\n",
       "      <td>2</td>\n",
       "      <td>42</td>\n",
       "      <td>3.513158</td>\n",
       "    </tr>\n",
       "    <tr>\n",
       "      <th>9</th>\n",
       "      <td>2</td>\n",
       "      <td>69</td>\n",
       "      <td>2.475379</td>\n",
       "    </tr>\n",
       "  </tbody>\n",
       "</table>\n",
       "</div>"
      ],
      "text/plain": [
       "   userId  movieId      pred\n",
       "0       0        0  3.443980\n",
       "1       0        5  3.333857\n",
       "2       1        6  3.573171\n",
       "3       1      106  3.290084\n",
       "4       1       21  3.211811\n",
       "5       1       30  3.651042\n",
       "6       1       12  4.176005\n",
       "7       2       30  3.651042\n",
       "8       2       42  3.513158\n",
       "9       2       69  2.475379"
      ]
     },
     "execution_count": 22,
     "metadata": {},
     "output_type": "execute_result"
    }
   ],
   "source": [
    "df_pred = pd.read_csv('out_mp_pred.txt', sep='\\t', names=['userId', 'movieId', 'pred'])\n",
    "df_pred.head(10)"
   ]
  },
  {
   "cell_type": "code",
   "execution_count": 23,
   "metadata": {
    "colab": {
     "base_uri": "https://localhost:8080/",
     "height": 112
    },
    "executionInfo": {
     "elapsed": 461,
     "status": "ok",
     "timestamp": 1651263359987,
     "user": {
      "displayName": "Marcelo Manzato",
      "userId": "04825752819034907940"
     },
     "user_tz": 180
    },
    "id": "aGUl8yVyp2Rn",
    "outputId": "9c0ba999-c3ee-403d-e956-515619cc7f5b"
   },
   "outputs": [
    {
     "data": {
      "text/html": [
       "<div>\n",
       "<style scoped>\n",
       "    .dataframe tbody tr th:only-of-type {\n",
       "        vertical-align: middle;\n",
       "    }\n",
       "\n",
       "    .dataframe tbody tr th {\n",
       "        vertical-align: top;\n",
       "    }\n",
       "\n",
       "    .dataframe thead th {\n",
       "        text-align: right;\n",
       "    }\n",
       "</style>\n",
       "<table border=\"1\" class=\"dataframe\">\n",
       "  <thead>\n",
       "    <tr style=\"text-align: right;\">\n",
       "      <th></th>\n",
       "      <th>userId</th>\n",
       "      <th>movieId</th>\n",
       "      <th>rating</th>\n",
       "      <th>title</th>\n",
       "    </tr>\n",
       "  </thead>\n",
       "  <tbody>\n",
       "    <tr>\n",
       "      <th>17476</th>\n",
       "      <td>1</td>\n",
       "      <td>6</td>\n",
       "      <td>4.5</td>\n",
       "      <td>Apocalypto (2006)</td>\n",
       "    </tr>\n",
       "    <tr>\n",
       "      <th>172435</th>\n",
       "      <td>1</td>\n",
       "      <td>106</td>\n",
       "      <td>2.5</td>\n",
       "      <td>Shopgirl (2005)</td>\n",
       "    </tr>\n",
       "    <tr>\n",
       "      <th>75352</th>\n",
       "      <td>1</td>\n",
       "      <td>21</td>\n",
       "      <td>2.5</td>\n",
       "      <td>Conspiracy Theory (1997)</td>\n",
       "    </tr>\n",
       "    <tr>\n",
       "      <th>103814</th>\n",
       "      <td>1</td>\n",
       "      <td>30</td>\n",
       "      <td>3.5</td>\n",
       "      <td>Collateral (2004)</td>\n",
       "    </tr>\n",
       "    <tr>\n",
       "      <th>31545</th>\n",
       "      <td>1</td>\n",
       "      <td>12</td>\n",
       "      <td>4.0</td>\n",
       "      <td>Star Wars: Episode V - The Empire Strikes Back...</td>\n",
       "    </tr>\n",
       "  </tbody>\n",
       "</table>\n",
       "</div>"
      ],
      "text/plain": [
       "        userId  movieId  rating  \\\n",
       "17476        1        6     4.5   \n",
       "172435       1      106     2.5   \n",
       "75352        1       21     2.5   \n",
       "103814       1       30     3.5   \n",
       "31545        1       12     4.0   \n",
       "\n",
       "                                                    title  \n",
       "17476                                   Apocalypto (2006)  \n",
       "172435                                    Shopgirl (2005)  \n",
       "75352                            Conspiracy Theory (1997)  \n",
       "103814                                  Collateral (2004)  \n",
       "31545   Star Wars: Episode V - The Empire Strikes Back...  "
      ]
     },
     "execution_count": 23,
     "metadata": {},
     "output_type": "execute_result"
    }
   ],
   "source": [
    "test[test.userId == 1]"
   ]
  },
  {
   "cell_type": "code",
   "execution_count": 24,
   "metadata": {
    "executionInfo": {
     "elapsed": 665,
     "status": "ok",
     "timestamp": 1651263424777,
     "user": {
      "displayName": "Marcelo Manzato",
      "userId": "04825752819034907940"
     },
     "user_tz": 180
    },
    "id": "x-VuIIi3p2Rp"
   },
   "outputs": [],
   "source": [
    "df_pred = df_pred.merge(test)"
   ]
  },
  {
   "cell_type": "code",
   "execution_count": 25,
   "metadata": {
    "colab": {
     "base_uri": "https://localhost:8080/",
     "height": 289
    },
    "executionInfo": {
     "elapsed": 922,
     "status": "ok",
     "timestamp": 1651263432823,
     "user": {
      "displayName": "Marcelo Manzato",
      "userId": "04825752819034907940"
     },
     "user_tz": 180
    },
    "id": "PNYXk7pfp2Rs",
    "outputId": "81838e01-e340-47fe-c513-00eefb0fd778"
   },
   "outputs": [
    {
     "data": {
      "image/png": "[encoded data removed]",
      "text/plain": [
       "<Figure size 640x480 with 1 Axes>"
      ]
     },
     "metadata": {},
     "output_type": "display_data"
    }
   ],
   "source": [
    "df_pred.rating.value_counts().plot(kind='bar')\n",
    "plt.show()"
   ]
  },
  {
   "cell_type": "code",
   "execution_count": 26,
   "metadata": {
    "colab": {
     "base_uri": "https://localhost:8080/",
     "height": 271
    },
    "executionInfo": {
     "elapsed": 664,
     "status": "ok",
     "timestamp": 1651263494984,
     "user": {
      "displayName": "Marcelo Manzato",
      "userId": "04825752819034907940"
     },
     "user_tz": 180
    },
    "id": "WCQJA5q8p2Rv",
    "outputId": "d645310b-f083-441a-a09b-9e74de1df795"
   },
   "outputs": [
    {
     "data": {
      "image/png": "[encoded data removed]",
      "text/plain": [
       "<Figure size 640x480 with 1 Axes>"
      ]
     },
     "metadata": {},
     "output_type": "display_data"
    }
   ],
   "source": [
    "df_pred['pred'] = round(df_pred['pred']*2)/2\n",
    "df_pred.pred.value_counts().plot(kind='bar');\n",
    "plt.show()"
   ]
  },
  {
   "cell_type": "markdown",
   "metadata": {
    "id": "PwB7U14up2Ry"
   },
   "source": [
    "### Top N"
   ]
  },
  {
   "cell_type": "code",
   "execution_count": 27,
   "metadata": {
    "executionInfo": {
     "elapsed": 285,
     "status": "ok",
     "timestamp": 1651265412256,
     "user": {
      "displayName": "Marcelo Manzato",
      "userId": "04825752819034907940"
     },
     "user_tz": 180
    },
    "id": "uOuJBF2lp2Rz"
   },
   "outputs": [],
   "source": [
    "from caserec.recommenders.item_recommendation.most_popular import MostPopular as MPR"
   ]
  },
  {
   "cell_type": "code",
   "execution_count": 28,
   "metadata": {
    "colab": {
     "base_uri": "https://localhost:8080/"
    },
    "executionInfo": {
     "elapsed": 7097,
     "status": "ok",
     "timestamp": 1651265426652,
     "user": {
      "displayName": "Marcelo Manzato",
      "userId": "04825752819034907940"
     },
     "user_tz": 180
    },
    "id": "3-ir7MKYp2R4",
    "outputId": "66ee974f-4661-4728-ff8f-4d04534101e3"
   },
   "outputs": [
    {
     "name": "stdout",
     "output_type": "stream",
     "text": [
      "[Case Recommender: Item Recommendation > Most Popular]\n",
      "\n",
      "train data:: 11090 users and 403 items (152496 interactions) | sparsity:: 96.59%\n",
      "test data:: 10503 users and 340 items (38125 interactions) | sparsity:: 98.93%\n",
      "\n",
      "prediction_time:: 1.348061 sec\n",
      "\n",
      "\n",
      "Eval:: PREC@1: 0.390555 PREC@3: 0.253801 PREC@5: 0.21312 PREC@10: 0.167009 RECALL@1: 0.123509 RECALL@3: 0.227113 RECALL@5: 0.311363 RECALL@10: 0.481113 MAP@1: 0.390555 MAP@3: 0.458313 MAP@5: 0.463942 MAP@10: 0.437594 NDCG@1: 0.390555 NDCG@3: 0.523907 NDCG@5: 0.549345 NDCG@10: 0.552196 \n"
     ]
    }
   ],
   "source": [
    "MPR('train.txt', 'test.txt', 'out_mp_pred_binary.txt', as_binary=True).compute()"
   ]
  },
  {
   "cell_type": "code",
   "execution_count": 29,
   "metadata": {},
   "outputs": [
    {
     "data": {
      "text/html": [
       "<div>\n",
       "<style scoped>\n",
       "    .dataframe tbody tr th:only-of-type {\n",
       "        vertical-align: middle;\n",
       "    }\n",
       "\n",
       "    .dataframe tbody tr th {\n",
       "        vertical-align: top;\n",
       "    }\n",
       "\n",
       "    .dataframe thead th {\n",
       "        text-align: right;\n",
       "    }\n",
       "</style>\n",
       "<table border=\"1\" class=\"dataframe\">\n",
       "  <thead>\n",
       "    <tr style=\"text-align: right;\">\n",
       "      <th></th>\n",
       "      <th>userId</th>\n",
       "      <th>movieId</th>\n",
       "      <th>score</th>\n",
       "      <th>title</th>\n",
       "    </tr>\n",
       "  </thead>\n",
       "  <tbody>\n",
       "    <tr>\n",
       "      <th>0</th>\n",
       "      <td>0</td>\n",
       "      <td>19</td>\n",
       "      <td>6379.0</td>\n",
       "      <td>Reservoir Dogs (1992)</td>\n",
       "    </tr>\n",
       "    <tr>\n",
       "      <th>1</th>\n",
       "      <td>0</td>\n",
       "      <td>22</td>\n",
       "      <td>4562.0</td>\n",
       "      <td>Natural Born Killers (1994)</td>\n",
       "    </tr>\n",
       "    <tr>\n",
       "      <th>2</th>\n",
       "      <td>0</td>\n",
       "      <td>17</td>\n",
       "      <td>4461.0</td>\n",
       "      <td>Chasing Amy (1997)</td>\n",
       "    </tr>\n",
       "    <tr>\n",
       "      <th>3</th>\n",
       "      <td>0</td>\n",
       "      <td>18</td>\n",
       "      <td>4279.0</td>\n",
       "      <td>Life Is Beautiful (La Vita è bella) (1997)</td>\n",
       "    </tr>\n",
       "    <tr>\n",
       "      <th>4</th>\n",
       "      <td>0</td>\n",
       "      <td>33</td>\n",
       "      <td>3860.0</td>\n",
       "      <td>North by Northwest (1959)</td>\n",
       "    </tr>\n",
       "    <tr>\n",
       "      <th>5</th>\n",
       "      <td>0</td>\n",
       "      <td>21</td>\n",
       "      <td>3666.0</td>\n",
       "      <td>Conspiracy Theory (1997)</td>\n",
       "    </tr>\n",
       "    <tr>\n",
       "      <th>6</th>\n",
       "      <td>0</td>\n",
       "      <td>5</td>\n",
       "      <td>3503.0</td>\n",
       "      <td>I, Robot (2004)</td>\n",
       "    </tr>\n",
       "    <tr>\n",
       "      <th>7</th>\n",
       "      <td>0</td>\n",
       "      <td>20</td>\n",
       "      <td>3471.0</td>\n",
       "      <td>While You Were Sleeping (1995)</td>\n",
       "    </tr>\n",
       "    <tr>\n",
       "      <th>8</th>\n",
       "      <td>0</td>\n",
       "      <td>23</td>\n",
       "      <td>3466.0</td>\n",
       "      <td>Crimson Tide (1995)</td>\n",
       "    </tr>\n",
       "    <tr>\n",
       "      <th>9</th>\n",
       "      <td>0</td>\n",
       "      <td>28</td>\n",
       "      <td>3344.0</td>\n",
       "      <td>My Best Friend's Wedding (1997)</td>\n",
       "    </tr>\n",
       "    <tr>\n",
       "      <th>10</th>\n",
       "      <td>1</td>\n",
       "      <td>12</td>\n",
       "      <td>7639.0</td>\n",
       "      <td>Star Wars: Episode V - The Empire Strikes Back...</td>\n",
       "    </tr>\n",
       "    <tr>\n",
       "      <th>11</th>\n",
       "      <td>1</td>\n",
       "      <td>22</td>\n",
       "      <td>4562.0</td>\n",
       "      <td>Natural Born Killers (1994)</td>\n",
       "    </tr>\n",
       "    <tr>\n",
       "      <th>12</th>\n",
       "      <td>1</td>\n",
       "      <td>17</td>\n",
       "      <td>4461.0</td>\n",
       "      <td>Chasing Amy (1997)</td>\n",
       "    </tr>\n",
       "    <tr>\n",
       "      <th>13</th>\n",
       "      <td>1</td>\n",
       "      <td>4</td>\n",
       "      <td>4143.0</td>\n",
       "      <td>Bowling for Columbine (2002)</td>\n",
       "    </tr>\n",
       "    <tr>\n",
       "      <th>14</th>\n",
       "      <td>1</td>\n",
       "      <td>10</td>\n",
       "      <td>4018.0</td>\n",
       "      <td>Dark City (1998)</td>\n",
       "    </tr>\n",
       "  </tbody>\n",
       "</table>\n",
       "</div>"
      ],
      "text/plain": [
       "    userId  movieId   score                                              title\n",
       "0        0       19  6379.0                              Reservoir Dogs (1992)\n",
       "1        0       22  4562.0                        Natural Born Killers (1994)\n",
       "2        0       17  4461.0                                 Chasing Amy (1997)\n",
       "3        0       18  4279.0         Life Is Beautiful (La Vita è bella) (1997)\n",
       "4        0       33  3860.0                          North by Northwest (1959)\n",
       "5        0       21  3666.0                           Conspiracy Theory (1997)\n",
       "6        0        5  3503.0                                    I, Robot (2004)\n",
       "7        0       20  3471.0                     While You Were Sleeping (1995)\n",
       "8        0       23  3466.0                                Crimson Tide (1995)\n",
       "9        0       28  3344.0                    My Best Friend's Wedding (1997)\n",
       "10       1       12  7639.0  Star Wars: Episode V - The Empire Strikes Back...\n",
       "11       1       22  4562.0                        Natural Born Killers (1994)\n",
       "12       1       17  4461.0                                 Chasing Amy (1997)\n",
       "13       1        4  4143.0                       Bowling for Columbine (2002)\n",
       "14       1       10  4018.0                                   Dark City (1998)"
      ]
     },
     "execution_count": 29,
     "metadata": {},
     "output_type": "execute_result"
    }
   ],
   "source": [
    "ranking = pd.read_csv('out_mp_pred_binary.txt', sep='\\t', names=['userId', 'movieId', 'score'])\n",
    "ranking['title'] = ranking.movieId.map(map_title)\n",
    "ranking.head(15)"
   ]
  },
  {
   "cell_type": "markdown",
   "metadata": {},
   "source": [
    "### Item KNN"
   ]
  },
  {
   "cell_type": "code",
   "execution_count": 76,
   "metadata": {},
   "outputs": [
    {
     "name": "stdout",
     "output_type": "stream",
     "text": [
      "[Case Recommender: Rating Prediction > ItemKNN Algorithm]\n",
      "\n",
      "train data:: 11090 users and 403 items (152496 interactions) | sparsity:: 96.59%\n",
      "test data:: 10503 users and 340 items (38125 interactions) | sparsity:: 98.93%\n",
      "\n",
      "training_time:: 4.184332 sec\n",
      "prediction_time:: 2.534259 sec\n",
      "Eval:: MAE: 0.665964 RMSE: 0.876739 \n"
     ]
    }
   ],
   "source": [
    "from caserec.recommenders.rating_prediction.itemknn import ItemKNN\n",
    "\n",
    "ItemKNN('train.txt', 'test.txt', 'rp_iknn.txt', as_similar_first=True).compute()"
   ]
  },
  {
   "cell_type": "markdown",
   "metadata": {},
   "source": [
    "**Exercício 01:**\n",
    "\n",
    "a) Encontrar o id do usuário que avaliou mais filmes na base. Informe o id externo (da base dados) e o interno (usado pelo recomendador)"
   ]
  },
  {
   "cell_type": "code",
   "execution_count": 1,
   "metadata": {},
   "outputs": [],
   "source": [
    "# TODO"
   ]
  },
  {
   "cell_type": "markdown",
   "metadata": {},
   "source": [
    "b) Encontrar os 5 primeiros usuários que têm maior propensão a dar notas baixas aos filmes (use a média de ratings para isso)."
   ]
  },
  {
   "cell_type": "code",
   "execution_count": 2,
   "metadata": {},
   "outputs": [],
   "source": [
    "# TODO"
   ]
  },
  {
   "cell_type": "markdown",
   "metadata": {},
   "source": [
    "c) Encontrar os 5 filmes pior avaliados pelos usuários."
   ]
  },
  {
   "cell_type": "code",
   "execution_count": 3,
   "metadata": {},
   "outputs": [],
   "source": [
    "# TODO"
   ]
  },
  {
   "cell_type": "markdown",
   "metadata": {},
   "source": [
    "**Exercício 02:** Na aula vimos uma abordagem de recomendação não personalizada que utiliza a quantidade de interações dos itens para recomendar filmes mais populares aos usuários. Quando há feedback explícito, entretanto, a mesma abordagem \"Most Popular\" pode fazer uso da média das notas disponíveis, ou seja, recomendam-se os N filmes mais bem avaliados a cada usuário. Desse modo, calcule a recomendação de 5 filmes para um usuário qualquer da base considerando essa estratégia não personalizada. Utilize a base toda como conjunto de treinamento."
   ]
  },
  {
   "cell_type": "code",
   "execution_count": 23,
   "metadata": {},
   "outputs": [],
   "source": [
    "# TODO"
   ]
  },
  {
   "cell_type": "markdown",
   "metadata": {},
   "source": [
    "**Exercício 03:** Com base no código disponível no notebook \"Aula01_Exemplos.ipynb\", implemente uma função que retorna os k filmes mais similares a um outro qualquer passado como parâmetro. "
   ]
  },
  {
   "cell_type": "code",
   "execution_count": 15,
   "metadata": {},
   "outputs": [],
   "source": [
    "# TODO"
   ]
  }
 ],
 "metadata": {
  "colab": {
   "collapsed_sections": [],
   "machine_shape": "hm",
   "name": "Recomendação Não Personalizada.ipynb",
   "provenance": []
  },
  "kernelspec": {
   "display_name": "Python 3",
   "language": "python",
   "name": "python3"
  },
  "language_info": {
   "codemirror_mode": {
    "name": "ipython",
    "version": 3
   },
   "file_extension": ".py",
   "mimetype": "text/x-python",
   "name": "python",
   "nbconvert_exporter": "python",
   "pygments_lexer": "ipython3",
   "version": "3.8.5"
  }
 },
 "nbformat": 4,
 "nbformat_minor": 1
}
