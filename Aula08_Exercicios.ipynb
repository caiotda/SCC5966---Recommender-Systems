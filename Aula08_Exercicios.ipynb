{
 "cells": [
  {
   "cell_type": "markdown",
   "id": "073a99cf",
   "metadata": {},
   "source": [
    "# Aula 08 - Aprendendo a Ranquear - Exercícios"
   ]
  },
  {
   "cell_type": "code",
   "execution_count": 1,
   "id": "cb54a360",
   "metadata": {},
   "outputs": [],
   "source": [
    "import pandas as pd\n",
    "import numpy as np\n",
    "import random"
   ]
  },
  {
   "cell_type": "markdown",
   "id": "04d68a02",
   "metadata": {},
   "source": [
    "### Importar base de dados"
   ]
  },
  {
   "cell_type": "code",
   "execution_count": 2,
   "id": "23c1ebaa",
   "metadata": {},
   "outputs": [
    {
     "name": "stdout",
     "output_type": "stream",
     "text": [
      "100% [....................................................] 65019041 / 65019041\n",
      "Saved under ml-20m-compact.tar (1).gz\n",
      "dataset/\n",
      "dataset/tags_sample.csv\n",
      "dataset/._.DS_Store\n",
      "dataset/.DS_Store\n",
      "dataset/movies_sample.csv\n",
      "dataset/._genome-tags.csv\n",
      "dataset/genome-tags.csv\n",
      "dataset/._ml-youtube.csv\n",
      "dataset/ml-youtube.csv\n",
      "dataset/._genome-scores.csv\n",
      "dataset/genome-scores.csv\n",
      "dataset/ratings_sample.csv\n"
     ]
    }
   ],
   "source": [
    "import wget\n",
    "!python3 -m wget https://github.com/mmanzato/MBABigData/raw/master/ml-20m-compact.tar.gz\n",
    "!tar -xvzf ml-20m-compact.tar.gz"
   ]
  },
  {
   "cell_type": "code",
   "execution_count": 3,
   "id": "b3e3dfb0",
   "metadata": {},
   "outputs": [
    {
     "data": {
      "text/html": [
       "<div>\n",
       "<style scoped>\n",
       "    .dataframe tbody tr th:only-of-type {\n",
       "        vertical-align: middle;\n",
       "    }\n",
       "\n",
       "    .dataframe tbody tr th {\n",
       "        vertical-align: top;\n",
       "    }\n",
       "\n",
       "    .dataframe thead th {\n",
       "        text-align: right;\n",
       "    }\n",
       "</style>\n",
       "<table border=\"1\" class=\"dataframe\">\n",
       "  <thead>\n",
       "    <tr style=\"text-align: right;\">\n",
       "      <th></th>\n",
       "      <th>userId</th>\n",
       "      <th>itemId</th>\n",
       "      <th>rating</th>\n",
       "      <th>title</th>\n",
       "    </tr>\n",
       "  </thead>\n",
       "  <tbody>\n",
       "    <tr>\n",
       "      <th>0</th>\n",
       "      <td>11</td>\n",
       "      <td>7481</td>\n",
       "      <td>5.0</td>\n",
       "      <td>Enemy Mine (1985)</td>\n",
       "    </tr>\n",
       "    <tr>\n",
       "      <th>1</th>\n",
       "      <td>11</td>\n",
       "      <td>1046</td>\n",
       "      <td>4.5</td>\n",
       "      <td>Beautiful Thing (1996)</td>\n",
       "    </tr>\n",
       "    <tr>\n",
       "      <th>2</th>\n",
       "      <td>11</td>\n",
       "      <td>616</td>\n",
       "      <td>4.0</td>\n",
       "      <td>Aristocats, The (1970)</td>\n",
       "    </tr>\n",
       "    <tr>\n",
       "      <th>3</th>\n",
       "      <td>11</td>\n",
       "      <td>3535</td>\n",
       "      <td>2.0</td>\n",
       "      <td>American Psycho (2000)</td>\n",
       "    </tr>\n",
       "    <tr>\n",
       "      <th>4</th>\n",
       "      <td>11</td>\n",
       "      <td>5669</td>\n",
       "      <td>5.0</td>\n",
       "      <td>Bowling for Columbine (2002)</td>\n",
       "    </tr>\n",
       "    <tr>\n",
       "      <th>...</th>\n",
       "      <td>...</td>\n",
       "      <td>...</td>\n",
       "      <td>...</td>\n",
       "      <td>...</td>\n",
       "    </tr>\n",
       "    <tr>\n",
       "      <th>190616</th>\n",
       "      <td>138493</td>\n",
       "      <td>288</td>\n",
       "      <td>5.0</td>\n",
       "      <td>Natural Born Killers (1994)</td>\n",
       "    </tr>\n",
       "    <tr>\n",
       "      <th>190617</th>\n",
       "      <td>138493</td>\n",
       "      <td>1748</td>\n",
       "      <td>5.0</td>\n",
       "      <td>Dark City (1998)</td>\n",
       "    </tr>\n",
       "    <tr>\n",
       "      <th>190618</th>\n",
       "      <td>138493</td>\n",
       "      <td>616</td>\n",
       "      <td>4.0</td>\n",
       "      <td>Aristocats, The (1970)</td>\n",
       "    </tr>\n",
       "    <tr>\n",
       "      <th>190619</th>\n",
       "      <td>138493</td>\n",
       "      <td>1597</td>\n",
       "      <td>4.5</td>\n",
       "      <td>Conspiracy Theory (1997)</td>\n",
       "    </tr>\n",
       "    <tr>\n",
       "      <th>190620</th>\n",
       "      <td>138493</td>\n",
       "      <td>7371</td>\n",
       "      <td>5.0</td>\n",
       "      <td>Dogville (2003)</td>\n",
       "    </tr>\n",
       "  </tbody>\n",
       "</table>\n",
       "<p>190621 rows × 4 columns</p>\n",
       "</div>"
      ],
      "text/plain": [
       "        userId  itemId  rating                         title\n",
       "0           11    7481     5.0             Enemy Mine (1985)\n",
       "1           11    1046     4.5        Beautiful Thing (1996)\n",
       "2           11     616     4.0        Aristocats, The (1970)\n",
       "3           11    3535     2.0        American Psycho (2000)\n",
       "4           11    5669     5.0  Bowling for Columbine (2002)\n",
       "...        ...     ...     ...                           ...\n",
       "190616  138493     288     5.0   Natural Born Killers (1994)\n",
       "190617  138493    1748     5.0              Dark City (1998)\n",
       "190618  138493     616     4.0        Aristocats, The (1970)\n",
       "190619  138493    1597     4.5      Conspiracy Theory (1997)\n",
       "190620  138493    7371     5.0               Dogville (2003)\n",
       "\n",
       "[190621 rows x 4 columns]"
      ]
     },
     "execution_count": 3,
     "metadata": {},
     "output_type": "execute_result"
    }
   ],
   "source": [
    "movies = pd.read_csv('./dataset/movies_sample.csv', names=['itemId', 'title', 'genre'], header=0)\n",
    "ratings = pd.read_csv('./dataset/ratings_sample.csv', names=['userId', 'itemId', 'rating', 'timestamp'], header=0)\n",
    "df = ratings[['userId', 'itemId', 'rating']]\n",
    "df = df.merge(movies[['itemId', 'title']])\n",
    "df"
   ]
  },
  {
   "cell_type": "markdown",
   "id": "f6ee831d",
   "metadata": {},
   "source": [
    "### Mapeamento de ids"
   ]
  },
  {
   "cell_type": "code",
   "execution_count": 4,
   "id": "e2964453",
   "metadata": {},
   "outputs": [],
   "source": [
    "map_users = {user: idx for idx, user in enumerate(df.userId.unique())}\n",
    "map_items = {item: idx for idx, item in enumerate(df.itemId.unique())}\n",
    "df['userId'] = df['userId'].map(map_users)\n",
    "df['itemId'] = df['itemId'].map(map_items)\n",
    "map_title = {}\n",
    "\n",
    "for _, row in df.iterrows():\n",
    "    map_title[row.itemId] = row.title\n"
   ]
  },
  {
   "cell_type": "markdown",
   "id": "8811ea00",
   "metadata": {},
   "source": [
    "### Divisão da base em treino e teste"
   ]
  },
  {
   "cell_type": "code",
   "execution_count": 5,
   "id": "79cfefac",
   "metadata": {},
   "outputs": [],
   "source": [
    "from sklearn.model_selection import train_test_split\n",
    "train, test = train_test_split(df, test_size=.2, random_state=2)"
   ]
  },
  {
   "cell_type": "markdown",
   "id": "d9670412-bc7a-41c2-8335-d57d29050e8c",
   "metadata": {},
   "source": [
    "## Funções de avaliação"
   ]
  },
  {
   "cell_type": "code",
   "execution_count": 6,
   "id": "1e362aae-2063-44b7-a5d1-3afb975158c8",
   "metadata": {},
   "outputs": [],
   "source": [
    "def precision_at_k(rec_list, ground_truth, k):\n",
    "    focus_list = rec_list[:k]\n",
    "    relevant_list = [1 if item in ground_truth else 0 for item in focus_list]\n",
    "    n_relevants = sum(relevant_list)\n",
    "    return n_relevants / k\n"
   ]
  },
  {
   "cell_type": "code",
   "execution_count": 7,
   "id": "b3a8fa16-24ad-4fa1-b4a9-ed1b01cfb381",
   "metadata": {},
   "outputs": [],
   "source": [
    "def average_precision(user_id, recs_df, test_df, verbose=False):\n",
    "    recs_user = recs_df.loc[(recs_df.userId==user_id), 'movieId'].tolist()\n",
    "    ground_truth = test_df.loc[(test_df.userId==user_id), 'movieId'].tolist()\n",
    "\n",
    "    precisions = 0\n",
    "    relevant_list = [1 if item in ground_truth else 0 for item in recs_user]\n",
    "    n_relevants = sum(relevant_list)\n",
    "    \n",
    "    if (n_relevants == 0):\n",
    "        return 0\n",
    "\n",
    "    if verbose:\n",
    "        print(f\"Ground truth: {ground_truth}\")\n",
    "    num_recs = len(recs_user)\n",
    "    for i in range(num_recs):\n",
    "        if (relevant_list[i] == 1):\n",
    "            # only consider relevant documents\n",
    "            k=i+1\n",
    "            precision = precision_at_k(recs_user, ground_truth,k=k)\n",
    "            precisions += precision\n",
    "            if (verbose):\n",
    "                print(f\"iter {i}; k={i+1}, list@k: {recs_user[:k]}, precision@k: {precision}; AP so far: {precisions/n_relevants}\")\n",
    "    return precisions/(n_relevants)\n"
   ]
  },
  {
   "cell_type": "markdown",
   "id": "d175451b",
   "metadata": {},
   "source": [
    "***Exercício 01:*** Comparação entre um algoritmo pair-wise e point-wise:\n",
    "- Utilizando o BPR implementado em aula, gere uma lista de 10 recomendações para um determinado usuário da base.\n",
    "- Calcule a precisão média dessas recomendações usando como ground-truth o conjunto de teste. \n",
    "- Utilize o algoritmo MatrixFactorization (SVD otimizado) de predição de notas para prever as notas dos itens que aquele usuário não avaliou ainda. \n",
    "- Ordene inversamente esses itens pela nota predita, e recomende os 10 primeiros filmes.\n",
    "- Calcule a precisão média dessas recomendações e compare o resultado com o resultado obtido pelo BPR. "
   ]
  },
  {
   "cell_type": "code",
   "execution_count": 8,
   "id": "57da7190-8649-4263-8077-a96d6d4dfd03",
   "metadata": {},
   "outputs": [],
   "source": [
    "train.to_csv('train.dat', index=False, header=False, sep='\\t')\n",
    "test.to_csv('test.dat', index=False, header=False, sep='\\t')"
   ]
  },
  {
   "cell_type": "code",
   "execution_count": 9,
   "id": "0a9f5cda-63e3-432d-8e10-283032859994",
   "metadata": {},
   "outputs": [],
   "source": [
    "from caserec.recommenders.item_recommendation.bprmf import BprMF\n",
    "from caserec.recommenders.rating_prediction.matrixfactorization import MatrixFactorization"
   ]
  },
  {
   "cell_type": "code",
   "execution_count": 10,
   "id": "2efd88d4",
   "metadata": {},
   "outputs": [
    {
     "name": "stdout",
     "output_type": "stream",
     "text": [
      "[Case Recommender: Item Recommendation > BPRMF]\n",
      "\n",
      "train data:: 11090 users and 405 items (152496 interactions) | sparsity:: 96.60%\n",
      "test data:: 10571 users and 331 items (38125 interactions) | sparsity:: 98.91%\n",
      "\n",
      "training_time:: 114.650816 sec\n",
      "prediction_time:: 2.574867 sec\n",
      "\n",
      "\n",
      "Eval:: PREC@1: 0.362312 PREC@3: 0.276259 PREC@5: 0.234245 PREC@10: 0.177561 RECALL@1: 0.117845 RECALL@3: 0.25583 RECALL@5: 0.35712 RECALL@10: 0.524658 MAP@1: 0.362312 MAP@3: 0.4622 MAP@5: 0.472038 MAP@10: 0.449991 NDCG@1: 0.362312 NDCG@3: 0.555708 NDCG@5: 0.581919 NDCG@10: 0.58195 \n"
     ]
    }
   ],
   "source": [
    "\n",
    "BprMF('train.dat', 'test.dat', output_file='bpr_output.csv').compute()"
   ]
  },
  {
   "cell_type": "code",
   "execution_count": 11,
   "id": "3bac1dcd-092c-4d02-8964-8f6dfe7b2bdb",
   "metadata": {},
   "outputs": [],
   "source": [
    "bpr_recs = pd.read_csv(\"bpr_output.csv\", sep='\\t', names=['userId', 'movieId', 'score'])"
   ]
  },
  {
   "cell_type": "markdown",
   "id": "f95d8ca2-8368-4004-9168-3e2a4f94ab4f",
   "metadata": {},
   "source": [
    "Vou selecionar um usuario aleatorio que possui mais de 20 exemplos no conjunto de teste"
   ]
  },
  {
   "cell_type": "code",
   "execution_count": 35,
   "id": "f2241c32-52e9-4ab0-a5e2-f64e7c000c7e",
   "metadata": {},
   "outputs": [
    {
     "data": {
      "text/plain": [
       "userId\n",
       "8322      1\n",
       "2557      1\n",
       "2560      1\n",
       "2563      1\n",
       "8456      1\n",
       "         ..\n",
       "10720    23\n",
       "5763     24\n",
       "4753     25\n",
       "10579    26\n",
       "9518     32\n",
       "Length: 10571, dtype: int64"
      ]
     },
     "execution_count": 35,
     "metadata": {},
     "output_type": "execute_result"
    }
   ],
   "source": [
    "test.groupby(\"userId\").size().sort_values()"
   ]
  },
  {
   "cell_type": "code",
   "execution_count": 36,
   "id": "0b3f01cf-9fc3-4d44-807d-7d435639a36d",
   "metadata": {},
   "outputs": [],
   "source": [
    "target_user = 4753"
   ]
  },
  {
   "cell_type": "code",
   "execution_count": 13,
   "id": "e6e3d753-2996-41e6-877b-09763021a4e1",
   "metadata": {},
   "outputs": [
    {
     "data": {
      "text/html": [
       "<div>\n",
       "<style scoped>\n",
       "    .dataframe tbody tr th:only-of-type {\n",
       "        vertical-align: middle;\n",
       "    }\n",
       "\n",
       "    .dataframe tbody tr th {\n",
       "        vertical-align: top;\n",
       "    }\n",
       "\n",
       "    .dataframe thead th {\n",
       "        text-align: right;\n",
       "    }\n",
       "</style>\n",
       "<table border=\"1\" class=\"dataframe\">\n",
       "  <thead>\n",
       "    <tr style=\"text-align: right;\">\n",
       "      <th></th>\n",
       "      <th>userId</th>\n",
       "      <th>movieId</th>\n",
       "      <th>score</th>\n",
       "    </tr>\n",
       "  </thead>\n",
       "  <tbody>\n",
       "    <tr>\n",
       "      <th>0</th>\n",
       "      <td>0</td>\n",
       "      <td>19</td>\n",
       "      <td>7.329863</td>\n",
       "    </tr>\n",
       "    <tr>\n",
       "      <th>1</th>\n",
       "      <td>0</td>\n",
       "      <td>43</td>\n",
       "      <td>7.230753</td>\n",
       "    </tr>\n",
       "    <tr>\n",
       "      <th>2</th>\n",
       "      <td>0</td>\n",
       "      <td>109</td>\n",
       "      <td>7.055868</td>\n",
       "    </tr>\n",
       "    <tr>\n",
       "      <th>3</th>\n",
       "      <td>0</td>\n",
       "      <td>5</td>\n",
       "      <td>6.630288</td>\n",
       "    </tr>\n",
       "    <tr>\n",
       "      <th>4</th>\n",
       "      <td>0</td>\n",
       "      <td>22</td>\n",
       "      <td>6.454616</td>\n",
       "    </tr>\n",
       "    <tr>\n",
       "      <th>...</th>\n",
       "      <td>...</td>\n",
       "      <td>...</td>\n",
       "      <td>...</td>\n",
       "    </tr>\n",
       "    <tr>\n",
       "      <th>110895</th>\n",
       "      <td>11089</td>\n",
       "      <td>30</td>\n",
       "      <td>6.476195</td>\n",
       "    </tr>\n",
       "    <tr>\n",
       "      <th>110896</th>\n",
       "      <td>11089</td>\n",
       "      <td>3</td>\n",
       "      <td>6.399104</td>\n",
       "    </tr>\n",
       "    <tr>\n",
       "      <th>110897</th>\n",
       "      <td>11089</td>\n",
       "      <td>39</td>\n",
       "      <td>6.323381</td>\n",
       "    </tr>\n",
       "    <tr>\n",
       "      <th>110898</th>\n",
       "      <td>11089</td>\n",
       "      <td>16</td>\n",
       "      <td>6.302886</td>\n",
       "    </tr>\n",
       "    <tr>\n",
       "      <th>110899</th>\n",
       "      <td>11089</td>\n",
       "      <td>18</td>\n",
       "      <td>6.126200</td>\n",
       "    </tr>\n",
       "  </tbody>\n",
       "</table>\n",
       "<p>110900 rows × 3 columns</p>\n",
       "</div>"
      ],
      "text/plain": [
       "        userId  movieId     score\n",
       "0            0       19  7.329863\n",
       "1            0       43  7.230753\n",
       "2            0      109  7.055868\n",
       "3            0        5  6.630288\n",
       "4            0       22  6.454616\n",
       "...        ...      ...       ...\n",
       "110895   11089       30  6.476195\n",
       "110896   11089        3  6.399104\n",
       "110897   11089       39  6.323381\n",
       "110898   11089       16  6.302886\n",
       "110899   11089       18  6.126200\n",
       "\n",
       "[110900 rows x 3 columns]"
      ]
     },
     "execution_count": 13,
     "metadata": {},
     "output_type": "execute_result"
    }
   ],
   "source": [
    "bpr_recs"
   ]
  },
  {
   "cell_type": "code",
   "execution_count": 37,
   "id": "57338c55-1180-4967-ae1c-49374011f830",
   "metadata": {},
   "outputs": [],
   "source": [
    "target_user_recs_df_bpr = bpr_recs[bpr_recs[\"userId\"] == target_user]"
   ]
  },
  {
   "cell_type": "code",
   "execution_count": 38,
   "id": "d87ea78a-00f4-4a13-8fdd-959d8bffacb7",
   "metadata": {},
   "outputs": [
    {
     "data": {
      "text/html": [
       "<div>\n",
       "<style scoped>\n",
       "    .dataframe tbody tr th:only-of-type {\n",
       "        vertical-align: middle;\n",
       "    }\n",
       "\n",
       "    .dataframe tbody tr th {\n",
       "        vertical-align: top;\n",
       "    }\n",
       "\n",
       "    .dataframe thead th {\n",
       "        text-align: right;\n",
       "    }\n",
       "</style>\n",
       "<table border=\"1\" class=\"dataframe\">\n",
       "  <thead>\n",
       "    <tr style=\"text-align: right;\">\n",
       "      <th></th>\n",
       "      <th>userId</th>\n",
       "      <th>movieId</th>\n",
       "      <th>score</th>\n",
       "    </tr>\n",
       "  </thead>\n",
       "  <tbody>\n",
       "    <tr>\n",
       "      <th>47530</th>\n",
       "      <td>4753</td>\n",
       "      <td>12</td>\n",
       "      <td>7.955726</td>\n",
       "    </tr>\n",
       "    <tr>\n",
       "      <th>47531</th>\n",
       "      <td>4753</td>\n",
       "      <td>132</td>\n",
       "      <td>7.304751</td>\n",
       "    </tr>\n",
       "    <tr>\n",
       "      <th>47532</th>\n",
       "      <td>4753</td>\n",
       "      <td>19</td>\n",
       "      <td>7.276704</td>\n",
       "    </tr>\n",
       "    <tr>\n",
       "      <th>47533</th>\n",
       "      <td>4753</td>\n",
       "      <td>47</td>\n",
       "      <td>6.731128</td>\n",
       "    </tr>\n",
       "    <tr>\n",
       "      <th>47534</th>\n",
       "      <td>4753</td>\n",
       "      <td>17</td>\n",
       "      <td>6.292420</td>\n",
       "    </tr>\n",
       "    <tr>\n",
       "      <th>47535</th>\n",
       "      <td>4753</td>\n",
       "      <td>58</td>\n",
       "      <td>5.992882</td>\n",
       "    </tr>\n",
       "    <tr>\n",
       "      <th>47536</th>\n",
       "      <td>4753</td>\n",
       "      <td>21</td>\n",
       "      <td>5.959832</td>\n",
       "    </tr>\n",
       "    <tr>\n",
       "      <th>47537</th>\n",
       "      <td>4753</td>\n",
       "      <td>38</td>\n",
       "      <td>5.718700</td>\n",
       "    </tr>\n",
       "    <tr>\n",
       "      <th>47538</th>\n",
       "      <td>4753</td>\n",
       "      <td>29</td>\n",
       "      <td>5.231916</td>\n",
       "    </tr>\n",
       "    <tr>\n",
       "      <th>47539</th>\n",
       "      <td>4753</td>\n",
       "      <td>14</td>\n",
       "      <td>5.189005</td>\n",
       "    </tr>\n",
       "  </tbody>\n",
       "</table>\n",
       "</div>"
      ],
      "text/plain": [
       "       userId  movieId     score\n",
       "47530    4753       12  7.955726\n",
       "47531    4753      132  7.304751\n",
       "47532    4753       19  7.276704\n",
       "47533    4753       47  6.731128\n",
       "47534    4753       17  6.292420\n",
       "47535    4753       58  5.992882\n",
       "47536    4753       21  5.959832\n",
       "47537    4753       38  5.718700\n",
       "47538    4753       29  5.231916\n",
       "47539    4753       14  5.189005"
      ]
     },
     "execution_count": 38,
     "metadata": {},
     "output_type": "execute_result"
    }
   ],
   "source": [
    "target_user_recs_df_bpr"
   ]
  },
  {
   "cell_type": "code",
   "execution_count": 16,
   "id": "f11878f5-e937-49d8-8407-38ead146aac2",
   "metadata": {},
   "outputs": [],
   "source": [
    "test = test.rename(columns={\"itemId\": \"movieId\"})"
   ]
  },
  {
   "cell_type": "code",
   "execution_count": 17,
   "id": "db14cec5-18a9-47a4-8b7e-c37e48be5214",
   "metadata": {},
   "outputs": [
    {
     "data": {
      "text/html": [
       "<div>\n",
       "<style scoped>\n",
       "    .dataframe tbody tr th:only-of-type {\n",
       "        vertical-align: middle;\n",
       "    }\n",
       "\n",
       "    .dataframe tbody tr th {\n",
       "        vertical-align: top;\n",
       "    }\n",
       "\n",
       "    .dataframe thead th {\n",
       "        text-align: right;\n",
       "    }\n",
       "</style>\n",
       "<table border=\"1\" class=\"dataframe\">\n",
       "  <thead>\n",
       "    <tr style=\"text-align: right;\">\n",
       "      <th></th>\n",
       "      <th>userId</th>\n",
       "      <th>movieId</th>\n",
       "      <th>rating</th>\n",
       "      <th>title</th>\n",
       "    </tr>\n",
       "  </thead>\n",
       "  <tbody>\n",
       "    <tr>\n",
       "      <th>31477</th>\n",
       "      <td>1836</td>\n",
       "      <td>60</td>\n",
       "      <td>2.5</td>\n",
       "      <td>She's the Man (2006)</td>\n",
       "    </tr>\n",
       "    <tr>\n",
       "      <th>148621</th>\n",
       "      <td>8646</td>\n",
       "      <td>33</td>\n",
       "      <td>3.5</td>\n",
       "      <td>North by Northwest (1959)</td>\n",
       "    </tr>\n",
       "    <tr>\n",
       "      <th>25190</th>\n",
       "      <td>1464</td>\n",
       "      <td>19</td>\n",
       "      <td>4.5</td>\n",
       "      <td>Reservoir Dogs (1992)</td>\n",
       "    </tr>\n",
       "    <tr>\n",
       "      <th>91518</th>\n",
       "      <td>5315</td>\n",
       "      <td>33</td>\n",
       "      <td>5.0</td>\n",
       "      <td>North by Northwest (1959)</td>\n",
       "    </tr>\n",
       "    <tr>\n",
       "      <th>113446</th>\n",
       "      <td>6571</td>\n",
       "      <td>18</td>\n",
       "      <td>4.0</td>\n",
       "      <td>Life Is Beautiful (La Vita è bella) (1997)</td>\n",
       "    </tr>\n",
       "    <tr>\n",
       "      <th>...</th>\n",
       "      <td>...</td>\n",
       "      <td>...</td>\n",
       "      <td>...</td>\n",
       "      <td>...</td>\n",
       "    </tr>\n",
       "    <tr>\n",
       "      <th>18611</th>\n",
       "      <td>1083</td>\n",
       "      <td>33</td>\n",
       "      <td>4.0</td>\n",
       "      <td>North by Northwest (1959)</td>\n",
       "    </tr>\n",
       "    <tr>\n",
       "      <th>50787</th>\n",
       "      <td>2952</td>\n",
       "      <td>80</td>\n",
       "      <td>4.5</td>\n",
       "      <td>Fog of War: Eleven Lessons from the Life of Ro...</td>\n",
       "    </tr>\n",
       "    <tr>\n",
       "      <th>141206</th>\n",
       "      <td>8216</td>\n",
       "      <td>10</td>\n",
       "      <td>4.0</td>\n",
       "      <td>Dark City (1998)</td>\n",
       "    </tr>\n",
       "    <tr>\n",
       "      <th>131571</th>\n",
       "      <td>7648</td>\n",
       "      <td>22</td>\n",
       "      <td>4.0</td>\n",
       "      <td>Natural Born Killers (1994)</td>\n",
       "    </tr>\n",
       "    <tr>\n",
       "      <th>25005</th>\n",
       "      <td>1451</td>\n",
       "      <td>28</td>\n",
       "      <td>2.5</td>\n",
       "      <td>My Best Friend's Wedding (1997)</td>\n",
       "    </tr>\n",
       "  </tbody>\n",
       "</table>\n",
       "<p>38125 rows × 4 columns</p>\n",
       "</div>"
      ],
      "text/plain": [
       "        userId  movieId  rating  \\\n",
       "31477     1836       60     2.5   \n",
       "148621    8646       33     3.5   \n",
       "25190     1464       19     4.5   \n",
       "91518     5315       33     5.0   \n",
       "113446    6571       18     4.0   \n",
       "...        ...      ...     ...   \n",
       "18611     1083       33     4.0   \n",
       "50787     2952       80     4.5   \n",
       "141206    8216       10     4.0   \n",
       "131571    7648       22     4.0   \n",
       "25005     1451       28     2.5   \n",
       "\n",
       "                                                    title  \n",
       "31477                                She's the Man (2006)  \n",
       "148621                          North by Northwest (1959)  \n",
       "25190                               Reservoir Dogs (1992)  \n",
       "91518                           North by Northwest (1959)  \n",
       "113446         Life Is Beautiful (La Vita è bella) (1997)  \n",
       "...                                                   ...  \n",
       "18611                           North by Northwest (1959)  \n",
       "50787   Fog of War: Eleven Lessons from the Life of Ro...  \n",
       "141206                                   Dark City (1998)  \n",
       "131571                        Natural Born Killers (1994)  \n",
       "25005                     My Best Friend's Wedding (1997)  \n",
       "\n",
       "[38125 rows x 4 columns]"
      ]
     },
     "execution_count": 17,
     "metadata": {},
     "output_type": "execute_result"
    }
   ],
   "source": [
    "test"
   ]
  },
  {
   "cell_type": "code",
   "execution_count": 18,
   "id": "bacd933c-2954-496a-b4ed-58238458f884",
   "metadata": {},
   "outputs": [],
   "source": [
    "mf_test_df = test.copy().rename(columns={\"movieId\": \"itemId\"})"
   ]
  },
  {
   "cell_type": "code",
   "execution_count": 19,
   "id": "fafff224-0712-4631-af6a-64c0a5184198",
   "metadata": {},
   "outputs": [],
   "source": [
    "mf_test_df.rating = 0"
   ]
  },
  {
   "cell_type": "code",
   "execution_count": 20,
   "id": "8bc15c3e-a668-4316-ba0a-67ac406840d5",
   "metadata": {},
   "outputs": [
    {
     "data": {
      "text/html": [
       "<div>\n",
       "<style scoped>\n",
       "    .dataframe tbody tr th:only-of-type {\n",
       "        vertical-align: middle;\n",
       "    }\n",
       "\n",
       "    .dataframe tbody tr th {\n",
       "        vertical-align: top;\n",
       "    }\n",
       "\n",
       "    .dataframe thead th {\n",
       "        text-align: right;\n",
       "    }\n",
       "</style>\n",
       "<table border=\"1\" class=\"dataframe\">\n",
       "  <thead>\n",
       "    <tr style=\"text-align: right;\">\n",
       "      <th></th>\n",
       "      <th>userId</th>\n",
       "      <th>itemId</th>\n",
       "      <th>rating</th>\n",
       "      <th>title</th>\n",
       "    </tr>\n",
       "  </thead>\n",
       "  <tbody>\n",
       "    <tr>\n",
       "      <th>31477</th>\n",
       "      <td>1836</td>\n",
       "      <td>60</td>\n",
       "      <td>0</td>\n",
       "      <td>She's the Man (2006)</td>\n",
       "    </tr>\n",
       "    <tr>\n",
       "      <th>148621</th>\n",
       "      <td>8646</td>\n",
       "      <td>33</td>\n",
       "      <td>0</td>\n",
       "      <td>North by Northwest (1959)</td>\n",
       "    </tr>\n",
       "    <tr>\n",
       "      <th>25190</th>\n",
       "      <td>1464</td>\n",
       "      <td>19</td>\n",
       "      <td>0</td>\n",
       "      <td>Reservoir Dogs (1992)</td>\n",
       "    </tr>\n",
       "    <tr>\n",
       "      <th>91518</th>\n",
       "      <td>5315</td>\n",
       "      <td>33</td>\n",
       "      <td>0</td>\n",
       "      <td>North by Northwest (1959)</td>\n",
       "    </tr>\n",
       "    <tr>\n",
       "      <th>113446</th>\n",
       "      <td>6571</td>\n",
       "      <td>18</td>\n",
       "      <td>0</td>\n",
       "      <td>Life Is Beautiful (La Vita è bella) (1997)</td>\n",
       "    </tr>\n",
       "    <tr>\n",
       "      <th>...</th>\n",
       "      <td>...</td>\n",
       "      <td>...</td>\n",
       "      <td>...</td>\n",
       "      <td>...</td>\n",
       "    </tr>\n",
       "    <tr>\n",
       "      <th>18611</th>\n",
       "      <td>1083</td>\n",
       "      <td>33</td>\n",
       "      <td>0</td>\n",
       "      <td>North by Northwest (1959)</td>\n",
       "    </tr>\n",
       "    <tr>\n",
       "      <th>50787</th>\n",
       "      <td>2952</td>\n",
       "      <td>80</td>\n",
       "      <td>0</td>\n",
       "      <td>Fog of War: Eleven Lessons from the Life of Ro...</td>\n",
       "    </tr>\n",
       "    <tr>\n",
       "      <th>141206</th>\n",
       "      <td>8216</td>\n",
       "      <td>10</td>\n",
       "      <td>0</td>\n",
       "      <td>Dark City (1998)</td>\n",
       "    </tr>\n",
       "    <tr>\n",
       "      <th>131571</th>\n",
       "      <td>7648</td>\n",
       "      <td>22</td>\n",
       "      <td>0</td>\n",
       "      <td>Natural Born Killers (1994)</td>\n",
       "    </tr>\n",
       "    <tr>\n",
       "      <th>25005</th>\n",
       "      <td>1451</td>\n",
       "      <td>28</td>\n",
       "      <td>0</td>\n",
       "      <td>My Best Friend's Wedding (1997)</td>\n",
       "    </tr>\n",
       "  </tbody>\n",
       "</table>\n",
       "<p>38125 rows × 4 columns</p>\n",
       "</div>"
      ],
      "text/plain": [
       "        userId  itemId  rating  \\\n",
       "31477     1836      60       0   \n",
       "148621    8646      33       0   \n",
       "25190     1464      19       0   \n",
       "91518     5315      33       0   \n",
       "113446    6571      18       0   \n",
       "...        ...     ...     ...   \n",
       "18611     1083      33       0   \n",
       "50787     2952      80       0   \n",
       "141206    8216      10       0   \n",
       "131571    7648      22       0   \n",
       "25005     1451      28       0   \n",
       "\n",
       "                                                    title  \n",
       "31477                                She's the Man (2006)  \n",
       "148621                          North by Northwest (1959)  \n",
       "25190                               Reservoir Dogs (1992)  \n",
       "91518                           North by Northwest (1959)  \n",
       "113446         Life Is Beautiful (La Vita è bella) (1997)  \n",
       "...                                                   ...  \n",
       "18611                           North by Northwest (1959)  \n",
       "50787   Fog of War: Eleven Lessons from the Life of Ro...  \n",
       "141206                                   Dark City (1998)  \n",
       "131571                        Natural Born Killers (1994)  \n",
       "25005                     My Best Friend's Wedding (1997)  \n",
       "\n",
       "[38125 rows x 4 columns]"
      ]
     },
     "execution_count": 20,
     "metadata": {},
     "output_type": "execute_result"
    }
   ],
   "source": [
    "mf_test_df"
   ]
  },
  {
   "cell_type": "code",
   "execution_count": 21,
   "id": "5bf1cf64-8fe0-49e2-9d32-bf1db8ff0aaf",
   "metadata": {},
   "outputs": [],
   "source": [
    "mf_test_df.to_csv('test_svd.dat', index=False, header=False, sep='\\t')"
   ]
  },
  {
   "cell_type": "code",
   "execution_count": 22,
   "id": "180c2098-ecc1-478d-bed5-886ec734fb1e",
   "metadata": {},
   "outputs": [
    {
     "name": "stdout",
     "output_type": "stream",
     "text": [
      "[Case Recommender: Rating Prediction > Matrix Factorization]\n",
      "\n",
      "train data:: 11090 users and 405 items (152496 interactions) | sparsity:: 96.60%\n",
      "test data:: 10571 users and 331 items (38125 interactions) | sparsity:: 98.91%\n",
      "\n",
      "training_time:: 45.568752 sec\n",
      "prediction_time:: 0.076207 sec\n",
      "\n",
      "\n",
      "Eval:: MAE: 3.432344 RMSE: 3.504682 \n"
     ]
    }
   ],
   "source": [
    "\n",
    "MatrixFactorization('train.dat', 'test_svd.dat', output_file='svdopt_output.csv').compute()"
   ]
  },
  {
   "cell_type": "code",
   "execution_count": 39,
   "id": "7f4d5fab-ff1f-4fa1-9e37-c09d9520e083",
   "metadata": {},
   "outputs": [],
   "source": [
    "svd_recs = pd.read_csv(\"svdopt_output.csv\", sep='\\t', names=['userId', 'movieId', 'score'])"
   ]
  },
  {
   "cell_type": "code",
   "execution_count": 42,
   "id": "b8cb500b-3558-4f0b-9446-47c3056a883c",
   "metadata": {},
   "outputs": [],
   "source": [
    "target_user_recs_df_svd = svd_recs[svd_recs[\"userId\"] == target_user].sort_values(by='score', ascending=False).iloc[:10]"
   ]
  },
  {
   "cell_type": "code",
   "execution_count": 43,
   "id": "9309b7d4-e22a-4279-ae5a-9df0615ac0eb",
   "metadata": {},
   "outputs": [
    {
     "data": {
      "text/html": [
       "<div>\n",
       "<style scoped>\n",
       "    .dataframe tbody tr th:only-of-type {\n",
       "        vertical-align: middle;\n",
       "    }\n",
       "\n",
       "    .dataframe tbody tr th {\n",
       "        vertical-align: top;\n",
       "    }\n",
       "\n",
       "    .dataframe thead th {\n",
       "        text-align: right;\n",
       "    }\n",
       "</style>\n",
       "<table border=\"1\" class=\"dataframe\">\n",
       "  <thead>\n",
       "    <tr style=\"text-align: right;\">\n",
       "      <th></th>\n",
       "      <th>userId</th>\n",
       "      <th>movieId</th>\n",
       "      <th>score</th>\n",
       "    </tr>\n",
       "  </thead>\n",
       "  <tbody>\n",
       "    <tr>\n",
       "      <th>16325</th>\n",
       "      <td>4753</td>\n",
       "      <td>19</td>\n",
       "      <td>3.868203</td>\n",
       "    </tr>\n",
       "    <tr>\n",
       "      <th>16318</th>\n",
       "      <td>4753</td>\n",
       "      <td>33</td>\n",
       "      <td>3.750342</td>\n",
       "    </tr>\n",
       "    <tr>\n",
       "      <th>16330</th>\n",
       "      <td>4753</td>\n",
       "      <td>26</td>\n",
       "      <td>3.603044</td>\n",
       "    </tr>\n",
       "    <tr>\n",
       "      <th>16328</th>\n",
       "      <td>4753</td>\n",
       "      <td>12</td>\n",
       "      <td>3.571476</td>\n",
       "    </tr>\n",
       "    <tr>\n",
       "      <th>16339</th>\n",
       "      <td>4753</td>\n",
       "      <td>38</td>\n",
       "      <td>3.278533</td>\n",
       "    </tr>\n",
       "    <tr>\n",
       "      <th>16332</th>\n",
       "      <td>4753</td>\n",
       "      <td>31</td>\n",
       "      <td>3.143241</td>\n",
       "    </tr>\n",
       "    <tr>\n",
       "      <th>16323</th>\n",
       "      <td>4753</td>\n",
       "      <td>240</td>\n",
       "      <td>3.139463</td>\n",
       "    </tr>\n",
       "    <tr>\n",
       "      <th>16331</th>\n",
       "      <td>4753</td>\n",
       "      <td>242</td>\n",
       "      <td>3.071372</td>\n",
       "    </tr>\n",
       "    <tr>\n",
       "      <th>16341</th>\n",
       "      <td>4753</td>\n",
       "      <td>86</td>\n",
       "      <td>3.054022</td>\n",
       "    </tr>\n",
       "    <tr>\n",
       "      <th>16342</th>\n",
       "      <td>4753</td>\n",
       "      <td>97</td>\n",
       "      <td>3.011139</td>\n",
       "    </tr>\n",
       "  </tbody>\n",
       "</table>\n",
       "</div>"
      ],
      "text/plain": [
       "       userId  movieId     score\n",
       "16325    4753       19  3.868203\n",
       "16318    4753       33  3.750342\n",
       "16330    4753       26  3.603044\n",
       "16328    4753       12  3.571476\n",
       "16339    4753       38  3.278533\n",
       "16332    4753       31  3.143241\n",
       "16323    4753      240  3.139463\n",
       "16331    4753      242  3.071372\n",
       "16341    4753       86  3.054022\n",
       "16342    4753       97  3.011139"
      ]
     },
     "execution_count": 43,
     "metadata": {},
     "output_type": "execute_result"
    }
   ],
   "source": [
    "target_user_recs_df_svd"
   ]
  },
  {
   "cell_type": "code",
   "execution_count": 44,
   "id": "5a302b3c-8b74-4950-8644-b097a8b9da1f",
   "metadata": {},
   "outputs": [
    {
     "data": {
      "text/html": [
       "<div>\n",
       "<style scoped>\n",
       "    .dataframe tbody tr th:only-of-type {\n",
       "        vertical-align: middle;\n",
       "    }\n",
       "\n",
       "    .dataframe tbody tr th {\n",
       "        vertical-align: top;\n",
       "    }\n",
       "\n",
       "    .dataframe thead th {\n",
       "        text-align: right;\n",
       "    }\n",
       "</style>\n",
       "<table border=\"1\" class=\"dataframe\">\n",
       "  <thead>\n",
       "    <tr style=\"text-align: right;\">\n",
       "      <th></th>\n",
       "      <th>userId</th>\n",
       "      <th>movieId</th>\n",
       "      <th>score</th>\n",
       "    </tr>\n",
       "  </thead>\n",
       "  <tbody>\n",
       "    <tr>\n",
       "      <th>47530</th>\n",
       "      <td>4753</td>\n",
       "      <td>12</td>\n",
       "      <td>7.955726</td>\n",
       "    </tr>\n",
       "    <tr>\n",
       "      <th>47531</th>\n",
       "      <td>4753</td>\n",
       "      <td>132</td>\n",
       "      <td>7.304751</td>\n",
       "    </tr>\n",
       "    <tr>\n",
       "      <th>47532</th>\n",
       "      <td>4753</td>\n",
       "      <td>19</td>\n",
       "      <td>7.276704</td>\n",
       "    </tr>\n",
       "    <tr>\n",
       "      <th>47533</th>\n",
       "      <td>4753</td>\n",
       "      <td>47</td>\n",
       "      <td>6.731128</td>\n",
       "    </tr>\n",
       "    <tr>\n",
       "      <th>47534</th>\n",
       "      <td>4753</td>\n",
       "      <td>17</td>\n",
       "      <td>6.292420</td>\n",
       "    </tr>\n",
       "    <tr>\n",
       "      <th>47535</th>\n",
       "      <td>4753</td>\n",
       "      <td>58</td>\n",
       "      <td>5.992882</td>\n",
       "    </tr>\n",
       "    <tr>\n",
       "      <th>47536</th>\n",
       "      <td>4753</td>\n",
       "      <td>21</td>\n",
       "      <td>5.959832</td>\n",
       "    </tr>\n",
       "    <tr>\n",
       "      <th>47537</th>\n",
       "      <td>4753</td>\n",
       "      <td>38</td>\n",
       "      <td>5.718700</td>\n",
       "    </tr>\n",
       "    <tr>\n",
       "      <th>47538</th>\n",
       "      <td>4753</td>\n",
       "      <td>29</td>\n",
       "      <td>5.231916</td>\n",
       "    </tr>\n",
       "    <tr>\n",
       "      <th>47539</th>\n",
       "      <td>4753</td>\n",
       "      <td>14</td>\n",
       "      <td>5.189005</td>\n",
       "    </tr>\n",
       "  </tbody>\n",
       "</table>\n",
       "</div>"
      ],
      "text/plain": [
       "       userId  movieId     score\n",
       "47530    4753       12  7.955726\n",
       "47531    4753      132  7.304751\n",
       "47532    4753       19  7.276704\n",
       "47533    4753       47  6.731128\n",
       "47534    4753       17  6.292420\n",
       "47535    4753       58  5.992882\n",
       "47536    4753       21  5.959832\n",
       "47537    4753       38  5.718700\n",
       "47538    4753       29  5.231916\n",
       "47539    4753       14  5.189005"
      ]
     },
     "execution_count": 44,
     "metadata": {},
     "output_type": "execute_result"
    }
   ],
   "source": [
    "target_user_recs_df_bpr"
   ]
  },
  {
   "cell_type": "code",
   "execution_count": 45,
   "id": "5b236d11-0c2b-4afe-817c-57082e187586",
   "metadata": {},
   "outputs": [
    {
     "name": "stdout",
     "output_type": "stream",
     "text": [
      "Ground truth: [33, 251, 121, 78, 7, 240, 14, 19, 55, 131, 12, 107, 26, 242, 31, 70, 163, 17, 77, 36, 25, 38, 21, 86, 97]\n",
      "iter 0; k=1, list@k: [19], precision@k: 1.0; AP so far: 0.1\n",
      "iter 1; k=2, list@k: [19, 33], precision@k: 1.0; AP so far: 0.2\n",
      "iter 2; k=3, list@k: [19, 33, 26], precision@k: 1.0; AP so far: 0.3\n",
      "iter 3; k=4, list@k: [19, 33, 26, 12], precision@k: 1.0; AP so far: 0.4\n",
      "iter 4; k=5, list@k: [19, 33, 26, 12, 38], precision@k: 1.0; AP so far: 0.5\n",
      "iter 5; k=6, list@k: [19, 33, 26, 12, 38, 31], precision@k: 1.0; AP so far: 0.6\n",
      "iter 6; k=7, list@k: [19, 33, 26, 12, 38, 31, 240], precision@k: 1.0; AP so far: 0.7\n",
      "iter 7; k=8, list@k: [19, 33, 26, 12, 38, 31, 240, 242], precision@k: 1.0; AP so far: 0.8\n",
      "iter 8; k=9, list@k: [19, 33, 26, 12, 38, 31, 240, 242, 86], precision@k: 1.0; AP so far: 0.9\n",
      "iter 9; k=10, list@k: [19, 33, 26, 12, 38, 31, 240, 242, 86, 97], precision@k: 1.0; AP so far: 1.0\n"
     ]
    },
    {
     "data": {
      "text/plain": [
       "1.0"
      ]
     },
     "execution_count": 45,
     "metadata": {},
     "output_type": "execute_result"
    }
   ],
   "source": [
    "average_precision(target_user, target_user_recs_df_svd, test, verbose=True)"
   ]
  },
  {
   "cell_type": "code",
   "execution_count": 46,
   "id": "f7033c6a-b65c-4904-90e9-68a0c04acc4e",
   "metadata": {},
   "outputs": [
    {
     "name": "stdout",
     "output_type": "stream",
     "text": [
      "Ground truth: [33, 251, 121, 78, 7, 240, 14, 19, 55, 131, 12, 107, 26, 242, 31, 70, 163, 17, 77, 36, 25, 38, 21, 86, 97]\n",
      "iter 0; k=1, list@k: [12], precision@k: 1.0; AP so far: 0.16666666666666666\n",
      "iter 2; k=3, list@k: [12, 132, 19], precision@k: 0.6666666666666666; AP so far: 0.27777777777777773\n",
      "iter 4; k=5, list@k: [12, 132, 19, 47, 17], precision@k: 0.6; AP so far: 0.37777777777777777\n",
      "iter 6; k=7, list@k: [12, 132, 19, 47, 17, 58, 21], precision@k: 0.5714285714285714; AP so far: 0.47301587301587295\n",
      "iter 7; k=8, list@k: [12, 132, 19, 47, 17, 58, 21, 38], precision@k: 0.625; AP so far: 0.5771825396825396\n",
      "iter 9; k=10, list@k: [12, 132, 19, 47, 17, 58, 21, 38, 29, 14], precision@k: 0.6; AP so far: 0.6771825396825396\n"
     ]
    },
    {
     "data": {
      "text/plain": [
       "0.6771825396825396"
      ]
     },
     "execution_count": 46,
     "metadata": {},
     "output_type": "execute_result"
    }
   ],
   "source": [
    "average_precision(target_user, target_user_recs_df_bpr, test, verbose=True)"
   ]
  },
  {
   "cell_type": "markdown",
   "id": "f20c0469-f2bc-4234-8423-b48be1e71eaf",
   "metadata": {},
   "source": [
    "Comparando os dois, o matrix factorization parece ter sempre uma AP perfeita. O que me parece que está acontecendo: o SVDOPT simplesmente prevê uma nota para cada item no conjunto de teste. Isso resulta em sempre gerar uma lista de recomendação contendo os mesmos itens que no conjunto de teste. Verificando o MAP\n",
    "\n"
   ]
  },
  {
   "cell_type": "code",
   "execution_count": 52,
   "id": "f8e3051d-6383-4c42-a1a4-6855a5774b0a",
   "metadata": {},
   "outputs": [],
   "source": [
    "svd_metrics = svd_recs.copy()\n",
    "svd_metrics['AP'] = svd_metrics.apply(lambda r: average_precision(r.userId,  svd_metrics[svd_metrics[\"userId\"] == r.userId].sort_values(by='score', ascending=False).iloc[:10], test), axis=1)"
   ]
  },
  {
   "cell_type": "code",
   "execution_count": 54,
   "id": "2edf6a83-1b00-41aa-a4c7-9f54b4ad503f",
   "metadata": {},
   "outputs": [],
   "source": [
    "bpr_metrics = bpr_recs.copy()\n",
    "bpr_metrics['AP'] = bpr_metrics.apply(lambda r: average_precision(r.userId,  bpr_metrics[bpr_metrics[\"userId\"] == r.userId].sort_values(by='score', ascending=False).iloc[:10], test), axis=1)"
   ]
  },
  {
   "cell_type": "code",
   "execution_count": 53,
   "id": "20c3eb93-cb5c-4b55-9437-711b50562147",
   "metadata": {},
   "outputs": [
    {
     "data": {
      "text/plain": [
       "1.0"
      ]
     },
     "execution_count": 53,
     "metadata": {},
     "output_type": "execute_result"
    }
   ],
   "source": [
    "np.mean(svd_metrics['AP'])"
   ]
  },
  {
   "cell_type": "code",
   "execution_count": 55,
   "id": "eb20452d-ff95-413e-84c1-722ab1cd7ac3",
   "metadata": {},
   "outputs": [
    {
     "data": {
      "text/plain": [
       "0.42893217409279455"
      ]
     },
     "execution_count": 55,
     "metadata": {},
     "output_type": "execute_result"
    }
   ],
   "source": [
    "np.mean(bpr_metrics['AP'])"
   ]
  },
  {
   "cell_type": "markdown",
   "id": "4bf55cc7-ae5b-4c82-995a-e76633811aa3",
   "metadata": {},
   "source": [
    "Porém, podemos afirmar que o BPR aprendeu um ranqueamento mais diverso do que o svd."
   ]
  },
  {
   "cell_type": "markdown",
   "id": "301b9e89",
   "metadata": {},
   "source": [
    "***Exercicio 02:*** Na aula vimos a implementação do método draw() do algoritmo BPR tradicional. Para um dado usuário, este método retorna aleatoriamente um item que ele viu (**item i**) e um outro item que ele não conhece (**item j**). O algoritmo assume que o item visto é preferível ao que ele não viu, e isso é usado para maximizar a diferença entre os scores desses itens (veja a variável **x_uij** da implementação). \n",
    "\n",
    "Um problema dessa abordagem é que os itens não vistos são necessariamente encarados como menos relevante pelo algoritmo, o que nem sempre acontece pois pode ser que o usuário não tenha interagido com aquele item pois não o conhece, mas que poderia gostar. Um outro problema é quando ambos os itens i e j foram vistos pelo usuário, o que numa estratégia com feedback exclusivamente implícito o BPR não consegue diferenciar qual item é preferível ao usuário. \n",
    "\n",
    "Você consegue pensar numa estratégia aperfeiçoada para o método draw()? Exemplos:\n",
    "- Se tivermos acesso aos metadados, podemos construir um perfil para o usuário de modo que o método draw() vai retornar itens j que estão mais distantes desse perfil.\n",
    "- Se dois itens i e j foram vistos, use os metadados (ou as notas, caso use feedback explícito) para decidir qual deles deve ser o i e qual deve ser o j. \n",
    "- Etc.\n",
    "\n",
    "Implemente pelo menos uma estratégia de aperfeiçoamento do BPR, e compare com a versão original. "
   ]
  },
  {
   "cell_type": "code",
   "execution_count": 57,
   "id": "b261a435-1e0c-436f-9640-fea864613ec2",
   "metadata": {},
   "outputs": [
    {
     "data": {
      "text/plain": [
       "[0, 1, 2, 3, 4, 5, 6, 7, 8, 9, 10, 11, 12]"
      ]
     },
     "execution_count": 57,
     "metadata": {},
     "output_type": "execute_result"
    }
   ],
   "source": [
    "# Obter a lista de todos os itens que um usuário avaliou.\n",
    "def get_item_ids(df, userId):\n",
    "    if userId not in df['userId'].values:\n",
    "        return []\n",
    "    return (df.loc[(df.userId==userId),'itemId'].tolist())\n",
    "\n",
    "get_item_ids(df, 0)"
   ]
  },
  {
   "cell_type": "markdown",
   "id": "cd44fb1d-e5b1-4f76-b292-049d25e44666",
   "metadata": {},
   "source": [
    "### Metodologia\n",
    "\n",
    "Irei treinar um modelo de fatoração de matrizes e extrair os fatores de usuario e de item. Posteriormente, verificarei qual a similaridade média de um fator entre um usario e os itens. Considerarei, para cada usuario, a similaridade mediana como um limiar: todo exemplo acima desse limiar é um exemplo positivo; todo exemplo abaixo desse limiar, negativo"
   ]
  },
  {
   "cell_type": "code",
   "execution_count": 87,
   "id": "f0bcd48e-a3a7-40e2-9b76-d0384a504794",
   "metadata": {},
   "outputs": [],
   "source": [
    "def cos(a,b):\n",
    "    num = np.dot(a, b)\n",
    "    den = np.linalg.norm(a) * np.linalg.norm(b)\n",
    "\n",
    "    if den != 0:\n",
    "        return num/den\n",
    "    return 0"
   ]
  },
  {
   "cell_type": "code",
   "execution_count": 91,
   "id": "68bca573-4da5-4b69-8320-0de86a72146a",
   "metadata": {},
   "outputs": [
    {
     "data": {
      "text/plain": [
       "1.0"
      ]
     },
     "execution_count": 91,
     "metadata": {},
     "output_type": "execute_result"
    }
   ],
   "source": [
    "cos(user_factors[0], user_factors[0])"
   ]
  },
  {
   "cell_type": "code",
   "execution_count": 58,
   "id": "762f3052",
   "metadata": {},
   "outputs": [
    {
     "data": {
      "text/plain": [
       "(20, 176)"
      ]
     },
     "execution_count": 58,
     "metadata": {},
     "output_type": "execute_result"
    }
   ],
   "source": [
    "observed = dict()\n",
    "unobserved = dict()\n",
    "all_users = df['userId'].unique().tolist() # usar conj. total\n",
    "all_items = df['itemId'].unique().tolist() # usar conj. total\n",
    "\n",
    "for u in all_users:\n",
    "    observed[u] = get_item_ids(train, u) # usar conj. de treinamento\n",
    "    unobserved[u] = list(set(all_items)-set(observed[u]))\n",
    "\n",
    "def draw(userId):    \n",
    "    i = random.choice(observed[userId])\n",
    "    j = random.choice(unobserved[userId])\n",
    "    return i, j\n",
    "\n",
    "draw(2)\n"
   ]
  },
  {
   "cell_type": "code",
   "execution_count": 71,
   "id": "b77b34ef-e5b2-49f2-b1f2-0d3495b54367",
   "metadata": {},
   "outputs": [],
   "source": [
    "model = MatrixFactorization('train.dat', 'test.dat')"
   ]
  },
  {
   "cell_type": "code",
   "execution_count": 75,
   "id": "20e3e1af-c777-4512-ad70-9d6e35c0b0d5",
   "metadata": {},
   "outputs": [],
   "source": [
    "super(MatrixFactorization, model).compute(verbose=False)"
   ]
  },
  {
   "cell_type": "code",
   "execution_count": 76,
   "id": "faafb4cb-76ca-45f6-b1a8-c4af752e0cb2",
   "metadata": {},
   "outputs": [],
   "source": [
    "model.init_model()"
   ]
  },
  {
   "cell_type": "code",
   "execution_count": 78,
   "id": "b5de165b-5a88-4020-961b-582698c977a7",
   "metadata": {},
   "outputs": [],
   "source": [
    "model.fit()"
   ]
  },
  {
   "cell_type": "code",
   "execution_count": 82,
   "id": "ea48f581-78fb-4921-b6b3-a3d135dc2a13",
   "metadata": {},
   "outputs": [],
   "source": [
    "user_factors = model.p"
   ]
  },
  {
   "cell_type": "code",
   "execution_count": 83,
   "id": "4d26261a-0040-4481-b343-d240ab4628a5",
   "metadata": {},
   "outputs": [],
   "source": [
    "item_factors = model.q"
   ]
  },
  {
   "cell_type": "code",
   "execution_count": 94,
   "id": "ae5fb4f3-92b8-4d0c-8c3e-bd99c4de0312",
   "metadata": {},
   "outputs": [],
   "source": [
    "user_thresholds = {}\n",
    "for idx, u in enumerate(user_factors):\n",
    "    distances = []\n",
    "    for i in item_factors:\n",
    "        dist = cos(u, i)\n",
    "        distances.append(dist)\n",
    "    user_thresholds[idx] = np.median(distances)"
   ]
  },
  {
   "cell_type": "code",
   "execution_count": 104,
   "id": "9a753cf2-d7bd-429a-96d0-3cea4788a8a2",
   "metadata": {},
   "outputs": [],
   "source": [
    "def draw_factors(userId):\n",
    "    i_is_above_threshold = False\n",
    "    j_is_bellow_threshold = False\n",
    "    threshold = user_thresholds[userId]\n",
    "    u_f = user_factors[userId]\n",
    "    while not (i_is_above_threshold and j_is_bellow_threshold):\n",
    "        i = random.choice(all_items)\n",
    "        i_f = item_factors[i]\n",
    "        \n",
    "        j = random.choice(all_items)\n",
    "        j_f = item_factors[j]\n",
    "        \n",
    "        dist_i = cos(u_f, i_f)\n",
    "        dist_j = cos(u_f, j_f)\n",
    "        if dist_i >= threshold:\n",
    "            i_is_above_threshold = True\n",
    "        if dist_j < threshold:\n",
    "            j_is_bellow_threshold = True\n",
    "    return i, j\n"
   ]
  },
  {
   "cell_type": "code",
   "execution_count": 110,
   "id": "8e5490ab-73fc-4ea8-a60b-805b3236325c",
   "metadata": {},
   "outputs": [],
   "source": [
    "def train_bprmf(train, n_factors, draw_func = draw, lr=0.05, reg=0.02, miter=30):    \n",
    "    n_users = df['userId'].max()+1\n",
    "    n_items = df['itemId'].max()+1    \n",
    "    item_bias = np.zeros(n_items)\n",
    "    p = np.random.normal(0, 0.1, (n_users, n_factors))\n",
    "    q = np.random.normal(0, 0.1, (n_items, n_factors))\n",
    "    \n",
    "    error = []\n",
    "    for t in range(miter):\n",
    "        print('Iter #', t)\n",
    "        sq_error = 0\n",
    "        random_users = random.choices(train['userId'].unique(), k=len(train))\n",
    "        for u in random_users:\n",
    "            i, j = draw_func(u)\n",
    "            x_uij = item_bias[i] - item_bias[j] + (np.dot(p[u], q[i]) - np.dot(p[u], q[j]))\n",
    "            sq_error += x_uij\n",
    "            \n",
    "            eps = 1 / (1 + np.exp(x_uij))\n",
    "\n",
    "            item_bias[i] += lr * (eps - reg * item_bias[i])\n",
    "            item_bias[j] += lr * (-eps - reg * item_bias[j])            \n",
    "\n",
    "            # Adjust the factors\n",
    "            u_f = p[u]\n",
    "            i_f = q[i]\n",
    "            j_f = q[j]\n",
    "\n",
    "            # Compute and apply factor updates\n",
    "            p[u] += lr * ((i_f - j_f) * eps - reg * u_f)\n",
    "            q[i] += lr * (u_f * eps - reg * i_f)\n",
    "            q[j] += lr * (-u_f * eps - reg * j_f)\n",
    "            \n",
    "        error.append(sq_error/len(random_users))\n",
    "            \n",
    "    return item_bias, p, q, error"
   ]
  },
  {
   "cell_type": "code",
   "execution_count": 113,
   "id": "21548089-5d95-4e0b-bc3d-ab08b6fbb13e",
   "metadata": {
    "scrolled": true
   },
   "outputs": [
    {
     "name": "stdout",
     "output_type": "stream",
     "text": [
      "Iter # 0\n",
      "Iter # 1\n",
      "Iter # 2\n",
      "Iter # 3\n",
      "Iter # 4\n",
      "Iter # 5\n",
      "Iter # 6\n",
      "Iter # 7\n",
      "Iter # 8\n",
      "Iter # 9\n",
      "Iter # 10\n",
      "Iter # 11\n",
      "Iter # 12\n",
      "Iter # 13\n",
      "Iter # 14\n",
      "Iter # 15\n",
      "Iter # 16\n",
      "Iter # 17\n",
      "Iter # 18\n",
      "Iter # 19\n",
      "Iter # 20\n",
      "Iter # 21\n",
      "Iter # 22\n",
      "Iter # 23\n",
      "Iter # 24\n",
      "Iter # 25\n",
      "Iter # 26\n",
      "Iter # 27\n",
      "Iter # 28\n",
      "Iter # 29\n"
     ]
    }
   ],
   "source": [
    "i_b, p, q , error = train_bprmf(train, n_factors=10, draw_func=draw)"
   ]
  },
  {
   "cell_type": "code",
   "execution_count": 114,
   "id": "50f2152a-4a17-4ff8-ba18-87aa471d287f",
   "metadata": {
    "scrolled": true
   },
   "outputs": [
    {
     "name": "stdout",
     "output_type": "stream",
     "text": [
      "Iter # 0\n",
      "Iter # 1\n",
      "Iter # 2\n",
      "Iter # 3\n",
      "Iter # 4\n",
      "Iter # 5\n",
      "Iter # 6\n",
      "Iter # 7\n",
      "Iter # 8\n",
      "Iter # 9\n",
      "Iter # 10\n",
      "Iter # 11\n",
      "Iter # 12\n",
      "Iter # 13\n",
      "Iter # 14\n",
      "Iter # 15\n",
      "Iter # 16\n",
      "Iter # 17\n",
      "Iter # 18\n",
      "Iter # 19\n",
      "Iter # 20\n",
      "Iter # 21\n",
      "Iter # 22\n",
      "Iter # 23\n",
      "Iter # 24\n",
      "Iter # 25\n",
      "Iter # 26\n",
      "Iter # 27\n",
      "Iter # 28\n",
      "Iter # 29\n"
     ]
    }
   ],
   "source": [
    "i_b_fac, p_fac, q_fac , error_fac = train_bprmf(train, n_factors=10, draw_func=draw_factors)"
   ]
  },
  {
   "cell_type": "code",
   "execution_count": 115,
   "id": "58e5a554-c265-46ba-9315-59823355e418",
   "metadata": {},
   "outputs": [
    {
     "data": {
      "image/png": "[encoded data removed]",
      "text/plain": [
       "<Figure size 1000x400 with 2 Axes>"
      ]
     },
     "metadata": {},
     "output_type": "display_data"
    }
   ],
   "source": [
    "import matplotlib.pyplot as plt\n",
    "\n",
    "\n",
    "fig, axs = plt.subplots(1, 2, figsize=(10, 4))\n",
    "\n",
    "\n",
    "axs[0].plot(error, color='b', marker='o')\n",
    "axs[0].set_title('Função aprendizado - Amostragem baseline')\n",
    "axs[0].set_xlabel('Índice')\n",
    "axs[0].set_ylabel('Valor')\n",
    "\n",
    "# Segundo gráfico (lista2)\n",
    "axs[1].plot(error_fac, color='r', marker='x')\n",
    "axs[1].set_title('Função aprendizado - Amostragem baseada em similaridade de fatores')\n",
    "axs[1].set_xlabel('Índice')\n",
    "axs[1].set_ylabel('Valor')\n",
    "\n",
    "plt.tight_layout()\n",
    "\n",
    "plt.show()"
   ]
  },
  {
   "cell_type": "markdown",
   "id": "1272d5ce-78fd-42da-8178-23d772cc74df",
   "metadata": {},
   "source": [
    "Aparentemente o aprendizado é mais lento com amostragem baseado em similaridade de fatores, mostrando que os exemplos positivos e negativos selecionados talvez não sejam tão apropriados.  Vamos avaliar as recomendações"
   ]
  },
  {
   "cell_type": "code",
   "execution_count": 116,
   "id": "f8752c29-d990-4ea2-a8e3-88bc8b024892",
   "metadata": {},
   "outputs": [],
   "source": [
    "def predict(p, q, b, N=10):\n",
    "    w = b.T + np.dot(p, q.T)\n",
    "    ranking = []\n",
    "    \n",
    "    for u, user in enumerate(all_users):\n",
    "        partial_ranking = list()\n",
    "        candidate_items = sorted(range(len(w[u])), key=lambda k: w[u][k], reverse=True)\n",
    "        \n",
    "        for i in candidate_items:\n",
    "            if i not in observed[user]:\n",
    "                partial_ranking.append((user, i, w[u][i]))\n",
    "\n",
    "            if len(partial_ranking) == N:\n",
    "                break\n",
    "\n",
    "        ranking += partial_ranking\n",
    "        \n",
    "    return pd.DataFrame(ranking, columns=['userId', 'movieId', 'score'])\n",
    "    "
   ]
  },
  {
   "cell_type": "code",
   "execution_count": 117,
   "id": "f5ebd163-7a0c-4707-97d5-353a022bbd78",
   "metadata": {},
   "outputs": [],
   "source": [
    "baseline_predictions = predict(p, q, i_b)"
   ]
  },
  {
   "cell_type": "code",
   "execution_count": 119,
   "id": "51c9c656-2672-4782-afa3-20df91b04962",
   "metadata": {},
   "outputs": [],
   "source": [
    "baseline_metrics = baseline_predictions.copy()\n",
    "baseline_metrics['AP'] = baseline_metrics.apply(lambda r: average_precision(r.userId,  baseline_metrics[baseline_metrics[\"userId\"] == r.userId].sort_values(by='score', ascending=False).iloc[:10], test), axis=1)"
   ]
  },
  {
   "cell_type": "code",
   "execution_count": 118,
   "id": "75d2ff8f-2b8c-447f-872f-8cc993e62985",
   "metadata": {},
   "outputs": [],
   "source": [
    "variant_predictions = predict(p_fac, q_fac, i_b_fac)"
   ]
  },
  {
   "cell_type": "code",
   "execution_count": 120,
   "id": "2a9484d7-ac5e-4dc2-b2fb-d49fc981f045",
   "metadata": {},
   "outputs": [],
   "source": [
    "variant_metrics = variant_predictions.copy()\n",
    "variant_metrics['AP'] = variant_metrics.apply(lambda r: average_precision(r.userId,  variant_metrics[variant_metrics[\"userId\"] == r.userId].sort_values(by='score', ascending=False).iloc[:10], test), axis=1)"
   ]
  },
  {
   "cell_type": "code",
   "execution_count": 122,
   "id": "2ef6ab02-01fd-47d2-b33d-db7049db74ba",
   "metadata": {},
   "outputs": [
    {
     "data": {
      "text/plain": [
       "0.4347932978696939"
      ]
     },
     "execution_count": 122,
     "metadata": {},
     "output_type": "execute_result"
    }
   ],
   "source": [
    "np.mean(baseline_metrics['AP'])"
   ]
  },
  {
   "cell_type": "code",
   "execution_count": 123,
   "id": "93481d2a-806e-4354-945a-65ec81a5985a",
   "metadata": {},
   "outputs": [
    {
     "data": {
      "text/plain": [
       "0.015522617974150884"
      ]
     },
     "execution_count": 123,
     "metadata": {},
     "output_type": "execute_result"
    }
   ],
   "source": [
    "np.mean(variant_metrics['AP'])"
   ]
  },
  {
   "cell_type": "markdown",
   "id": "41014291-4a81-4351-91f9-75034802dd36",
   "metadata": {},
   "source": [
    "Bem pior que o baseline hehe =) Vamos tentar repetir o experimento considerando como threshold o 70-percentil das distancias, ao inves da mediana (50-percentil)"
   ]
  },
  {
   "cell_type": "code",
   "execution_count": 124,
   "id": "dfa11b36-79bc-45b1-986f-bf7ea5f518fd",
   "metadata": {},
   "outputs": [],
   "source": [
    "user_thresholds = {}\n",
    "for idx, u in enumerate(user_factors):\n",
    "    distances = []\n",
    "    for i in item_factors:\n",
    "        dist = cos(u, i)\n",
    "        distances.append(dist)\n",
    "    user_thresholds[idx] = np.percentile(distances, 70)"
   ]
  },
  {
   "cell_type": "code",
   "execution_count": 125,
   "id": "067ff879-06a7-4d1f-b707-7afff874fce0",
   "metadata": {},
   "outputs": [
    {
     "name": "stdout",
     "output_type": "stream",
     "text": [
      "Iter # 0\n",
      "Iter # 1\n",
      "Iter # 2\n",
      "Iter # 3\n",
      "Iter # 4\n",
      "Iter # 5\n",
      "Iter # 6\n",
      "Iter # 7\n",
      "Iter # 8\n",
      "Iter # 9\n",
      "Iter # 10\n",
      "Iter # 11\n",
      "Iter # 12\n",
      "Iter # 13\n",
      "Iter # 14\n",
      "Iter # 15\n",
      "Iter # 16\n",
      "Iter # 17\n",
      "Iter # 18\n",
      "Iter # 19\n",
      "Iter # 20\n",
      "Iter # 21\n",
      "Iter # 22\n",
      "Iter # 23\n",
      "Iter # 24\n",
      "Iter # 25\n",
      "Iter # 26\n",
      "Iter # 27\n",
      "Iter # 28\n",
      "Iter # 29\n"
     ]
    }
   ],
   "source": [
    "i_b_fac, p_fac, q_fac , error_fac = train_bprmf(train, n_factors=10, draw_func=draw_factors)"
   ]
  },
  {
   "cell_type": "code",
   "execution_count": 127,
   "id": "3a60c7b5-fce0-48bc-accc-68520b683827",
   "metadata": {},
   "outputs": [],
   "source": [
    "variant_predictions_70p = predict(p_fac, q_fac, i_b_fac)"
   ]
  },
  {
   "cell_type": "code",
   "execution_count": 126,
   "id": "af9ba05c-4f59-4f92-b21f-1fdf1a0f881b",
   "metadata": {},
   "outputs": [
    {
     "data": {
      "image/png": "[encoded data removed]",
      "text/plain": [
       "<Figure size 1000x400 with 2 Axes>"
      ]
     },
     "metadata": {},
     "output_type": "display_data"
    }
   ],
   "source": [
    "import matplotlib.pyplot as plt\n",
    "\n",
    "\n",
    "fig, axs = plt.subplots(1, 2, figsize=(10, 4))\n",
    "\n",
    "\n",
    "axs[0].plot(error, color='b', marker='o')\n",
    "axs[0].set_title('Função aprendizado - Amostragem baseline')\n",
    "axs[0].set_xlabel('Índice')\n",
    "axs[0].set_ylabel('Valor')\n",
    "\n",
    "axs[1].plot(error_fac, color='r', marker='x')\n",
    "axs[1].set_title('Função aprendizado - Amostragem baseada em similaridade de fatores')\n",
    "axs[1].set_xlabel('Índice')\n",
    "axs[1].set_ylabel('Valor')\n",
    "\n",
    "plt.tight_layout()\n",
    "\n",
    "plt.show()"
   ]
  },
  {
   "cell_type": "code",
   "execution_count": 128,
   "id": "a1f6ce95-02b9-4507-9f69-4f617ff0397c",
   "metadata": {},
   "outputs": [],
   "source": [
    "variant_metrics_70p = variant_predictions_70p.copy()\n",
    "variant_metrics_70p['AP'] = variant_metrics_70p.apply(lambda r: average_precision(r.userId,  variant_metrics_70p[variant_metrics_70p[\"userId\"] == r.userId].sort_values(by='score', ascending=False).iloc[:10], test), axis=1)"
   ]
  },
  {
   "cell_type": "code",
   "execution_count": 129,
   "id": "e8ed8fa8-860f-43fb-a8cf-0dc50c4e48f2",
   "metadata": {},
   "outputs": [
    {
     "data": {
      "text/plain": [
       "0.014427054260237307"
      ]
     },
     "execution_count": 129,
     "metadata": {},
     "output_type": "execute_result"
    }
   ],
   "source": [
    "np.mean(variant_metrics_70p['AP'])"
   ]
  },
  {
   "cell_type": "markdown",
   "id": "f5d3a3c0-4d3e-49e2-90e6-d8cc3d2ee01e",
   "metadata": {},
   "source": [
    "O modelo realmente não parece ter aprendido. Parece que o modelo tem potencial para crescer mais, visto que a curva de aprendizado estava em franco crescimento na 30a iteração."
   ]
  }
 ],
 "metadata": {
  "kernelspec": {
   "display_name": "Python 3 (ipykernel)",
   "language": "python",
   "name": "python3"
  },
  "language_info": {
   "codemirror_mode": {
    "name": "ipython",
    "version": 3
   },
   "file_extension": ".py",
   "mimetype": "text/x-python",
   "name": "python",
   "nbconvert_exporter": "python",
   "pygments_lexer": "ipython3",
   "version": "3.10.12"
  }
 },
 "nbformat": 4,
 "nbformat_minor": 5
}
