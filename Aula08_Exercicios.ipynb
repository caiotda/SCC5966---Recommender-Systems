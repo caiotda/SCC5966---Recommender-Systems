{
 "cells": [
  {
   "cell_type": "markdown",
   "id": "073a99cf",
   "metadata": {},
   "source": [
    "# Aula 08 - Aprendendo a Ranquear - Exercícios"
   ]
  },
  {
   "cell_type": "code",
   "execution_count": 2,
   "id": "cb54a360",
   "metadata": {},
   "outputs": [],
   "source": [
    "import pandas as pd\n",
    "import numpy as np\n",
    "import random"
   ]
  },
  {
   "cell_type": "markdown",
   "id": "04d68a02",
   "metadata": {},
   "source": [
    "### Importar base de dados"
   ]
  },
  {
   "cell_type": "code",
   "execution_count": 3,
   "id": "23c1ebaa",
   "metadata": {},
   "outputs": [
    {
     "name": "stdout",
     "output_type": "stream",
     "text": [
      "100% [....................................................] 65019041 / 65019041\n",
      "Saved under ml-20m-compact.tar.gz\n",
      "x dataset/\n",
      "x dataset/tags_sample.csv\n",
      "x dataset/.DS_Store\n",
      "x dataset/movies_sample.csv\n",
      "x dataset/genome-tags.csv\n",
      "x dataset/ml-youtube.csv\n",
      "x dataset/genome-scores.csv\n",
      "x dataset/ratings_sample.csv\n"
     ]
    }
   ],
   "source": [
    "import wget\n",
    "!python3 -m wget https://github.com/mmanzato/MBABigData/raw/master/ml-20m-compact.tar.gz\n",
    "!tar -xvzf ml-20m-compact.tar.gz"
   ]
  },
  {
   "cell_type": "code",
   "execution_count": 3,
   "id": "b3e3dfb0",
   "metadata": {},
   "outputs": [
    {
     "data": {
      "text/html": [
       "<div>\n",
       "<style scoped>\n",
       "    .dataframe tbody tr th:only-of-type {\n",
       "        vertical-align: middle;\n",
       "    }\n",
       "\n",
       "    .dataframe tbody tr th {\n",
       "        vertical-align: top;\n",
       "    }\n",
       "\n",
       "    .dataframe thead th {\n",
       "        text-align: right;\n",
       "    }\n",
       "</style>\n",
       "<table border=\"1\" class=\"dataframe\">\n",
       "  <thead>\n",
       "    <tr style=\"text-align: right;\">\n",
       "      <th></th>\n",
       "      <th>userId</th>\n",
       "      <th>itemId</th>\n",
       "      <th>rating</th>\n",
       "      <th>title</th>\n",
       "    </tr>\n",
       "  </thead>\n",
       "  <tbody>\n",
       "    <tr>\n",
       "      <th>0</th>\n",
       "      <td>11</td>\n",
       "      <td>7481</td>\n",
       "      <td>5.0</td>\n",
       "      <td>Enemy Mine (1985)</td>\n",
       "    </tr>\n",
       "    <tr>\n",
       "      <th>1</th>\n",
       "      <td>359</td>\n",
       "      <td>7481</td>\n",
       "      <td>4.0</td>\n",
       "      <td>Enemy Mine (1985)</td>\n",
       "    </tr>\n",
       "    <tr>\n",
       "      <th>2</th>\n",
       "      <td>422</td>\n",
       "      <td>7481</td>\n",
       "      <td>3.0</td>\n",
       "      <td>Enemy Mine (1985)</td>\n",
       "    </tr>\n",
       "    <tr>\n",
       "      <th>3</th>\n",
       "      <td>424</td>\n",
       "      <td>7481</td>\n",
       "      <td>3.0</td>\n",
       "      <td>Enemy Mine (1985)</td>\n",
       "    </tr>\n",
       "    <tr>\n",
       "      <th>4</th>\n",
       "      <td>744</td>\n",
       "      <td>7481</td>\n",
       "      <td>3.0</td>\n",
       "      <td>Enemy Mine (1985)</td>\n",
       "    </tr>\n",
       "    <tr>\n",
       "      <th>...</th>\n",
       "      <td>...</td>\n",
       "      <td>...</td>\n",
       "      <td>...</td>\n",
       "      <td>...</td>\n",
       "    </tr>\n",
       "    <tr>\n",
       "      <th>190616</th>\n",
       "      <td>131651</td>\n",
       "      <td>118606</td>\n",
       "      <td>3.5</td>\n",
       "      <td>Dots (1940)</td>\n",
       "    </tr>\n",
       "    <tr>\n",
       "      <th>190617</th>\n",
       "      <td>134567</td>\n",
       "      <td>118606</td>\n",
       "      <td>3.5</td>\n",
       "      <td>Dots (1940)</td>\n",
       "    </tr>\n",
       "    <tr>\n",
       "      <th>190618</th>\n",
       "      <td>131651</td>\n",
       "      <td>96257</td>\n",
       "      <td>1.0</td>\n",
       "      <td>Heroic Purgatory (Rengoku eroica) (1970)</td>\n",
       "    </tr>\n",
       "    <tr>\n",
       "      <th>190619</th>\n",
       "      <td>131651</td>\n",
       "      <td>98337</td>\n",
       "      <td>4.0</td>\n",
       "      <td>97 Percent True (2008)</td>\n",
       "    </tr>\n",
       "    <tr>\n",
       "      <th>190620</th>\n",
       "      <td>131904</td>\n",
       "      <td>101666</td>\n",
       "      <td>2.0</td>\n",
       "      <td>Night in Heaven, A (1983)</td>\n",
       "    </tr>\n",
       "  </tbody>\n",
       "</table>\n",
       "<p>190621 rows × 4 columns</p>\n",
       "</div>"
      ],
      "text/plain": [
       "        userId  itemId  rating                                     title\n",
       "0           11    7481     5.0                         Enemy Mine (1985)\n",
       "1          359    7481     4.0                         Enemy Mine (1985)\n",
       "2          422    7481     3.0                         Enemy Mine (1985)\n",
       "3          424    7481     3.0                         Enemy Mine (1985)\n",
       "4          744    7481     3.0                         Enemy Mine (1985)\n",
       "...        ...     ...     ...                                       ...\n",
       "190616  131651  118606     3.5                               Dots (1940)\n",
       "190617  134567  118606     3.5                               Dots (1940)\n",
       "190618  131651   96257     1.0  Heroic Purgatory (Rengoku eroica) (1970)\n",
       "190619  131651   98337     4.0                    97 Percent True (2008)\n",
       "190620  131904  101666     2.0                 Night in Heaven, A (1983)\n",
       "\n",
       "[190621 rows x 4 columns]"
      ]
     },
     "execution_count": 3,
     "metadata": {},
     "output_type": "execute_result"
    }
   ],
   "source": [
    "movies = pd.read_csv('./dataset/movies_sample.csv', names=['itemId', 'title', 'genre'], header=0)\n",
    "ratings = pd.read_csv('./dataset/ratings_sample.csv', names=['userId', 'itemId', 'rating', 'timestamp'], header=0)\n",
    "df = ratings[['userId', 'itemId', 'rating']]\n",
    "df = df.merge(movies[['itemId', 'title']])\n",
    "df"
   ]
  },
  {
   "cell_type": "markdown",
   "id": "f6ee831d",
   "metadata": {},
   "source": [
    "### Mapeamento de ids"
   ]
  },
  {
   "cell_type": "code",
   "execution_count": 4,
   "id": "e2964453",
   "metadata": {},
   "outputs": [],
   "source": [
    "map_users = {user: idx for idx, user in enumerate(df.userId.unique())}\n",
    "map_items = {item: idx for idx, item in enumerate(df.itemId.unique())}\n",
    "df['userId'] = df['userId'].map(map_users)\n",
    "df['itemId'] = df['itemId'].map(map_items)\n",
    "map_title = {}\n",
    "\n",
    "for _, row in df.iterrows():\n",
    "    map_title[row.itemId] = row.title\n"
   ]
  },
  {
   "cell_type": "markdown",
   "id": "8811ea00",
   "metadata": {},
   "source": [
    "### Divisão da base em treino e teste"
   ]
  },
  {
   "cell_type": "code",
   "execution_count": 5,
   "id": "79cfefac",
   "metadata": {},
   "outputs": [],
   "source": [
    "from sklearn.model_selection import train_test_split\n",
    "train, test = train_test_split(df, test_size=.2, random_state=2)"
   ]
  },
  {
   "cell_type": "markdown",
   "id": "d175451b",
   "metadata": {},
   "source": [
    "***Exercício 01:*** Comparação entre um algoritmo pair-wise e point-wise:\n",
    "- Utilizando o BPR implementado em aula, gere uma lista de 10 recomendações para um determinado usuário da base.\n",
    "- Calcule a precisão média dessas recomendações usando como ground-truth o conjunto de teste. \n",
    "- Utilize o algoritmo MatrixFactorization (SVD otimizado) de predição de notas para prever as notas dos itens que aquele usuário não avaliou ainda. \n",
    "- Ordene inversamente esses itens pela nota predita, e recomende os 10 primeiros filmes.\n",
    "- Calcule a precisão média dessas recomendações e compare o resultado com o resultado obtido pelo BPR. "
   ]
  },
  {
   "cell_type": "code",
   "execution_count": null,
   "id": "2efd88d4",
   "metadata": {},
   "outputs": [],
   "source": [
    "# TODO"
   ]
  },
  {
   "cell_type": "markdown",
   "id": "301b9e89",
   "metadata": {},
   "source": [
    "***Exercicio 02:*** Na aula vimos a implementação do método draw() do algoritmo BPR tradicional. Para um dado usuário, este método retorna aleatoriamente um item que ele viu (**item i**) e um outro item que ele não conhece (**item j**). O algoritmo assume que o item visto é preferível ao que ele não viu, e isso é usado para maximizar a diferença entre os scores desses itens (veja a variável **x_uij** da implementação). \n",
    "\n",
    "Um problema dessa abordagem é que os itens não vistos são necessariamente encarados como menos relevante pelo algoritmo, o que nem sempre acontece pois pode ser que o usuário não tenha interagido com aquele item pois não o conhece, mas que poderia gostar. Um outro problema é quando ambos os itens i e j foram vistos pelo usuário, o que numa estratégia com feedback exclusivamente implícito o BPR não consegue diferenciar qual item é preferível ao usuário. \n",
    "\n",
    "Você consegue pensar numa estratégia aperfeiçoada para o método draw()? Exemplos:\n",
    "- Se tivermos acesso aos metadados, podemos construir um perfil para o usuário de modo que o método draw() vai retornar itens j que estão mais distantes desse perfil.\n",
    "- Se dois itens i e j foram vistos, use os metadados (ou as notas, caso use feedback explícito) para decidir qual deles deve ser o i e qual deve ser o j. \n",
    "- Etc.\n",
    "\n",
    "Implemente pelo menos uma estratégia de aperfeiçoamento do BPR, e compare com a versão original. "
   ]
  },
  {
   "cell_type": "code",
   "execution_count": null,
   "id": "762f3052",
   "metadata": {},
   "outputs": [],
   "source": [
    "# TODO"
   ]
  }
 ],
 "metadata": {
  "kernelspec": {
   "display_name": "Python 3",
   "language": "python",
   "name": "python3"
  },
  "language_info": {
   "codemirror_mode": {
    "name": "ipython",
    "version": 3
   },
   "file_extension": ".py",
   "mimetype": "text/x-python",
   "name": "python",
   "nbconvert_exporter": "python",
   "pygments_lexer": "ipython3",
   "version": "3.8.5"
  }
 },
 "nbformat": 4,
 "nbformat_minor": 5
}
